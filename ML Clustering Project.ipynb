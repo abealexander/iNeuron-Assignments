{
 "cells": [
  {
   "cell_type": "code",
   "execution_count": 1,
   "metadata": {},
   "outputs": [],
   "source": [
    "# importing necessary libraries\n",
    "import pandas as pd\n",
    "import numpy as np\n",
    "import matplotlib.pyplot as plt\n",
    "import seaborn as sns\n",
    "from sklearn.cluster import KMeans\n",
    "from sklearn.preprocessing import Normalizer"
   ]
  },
  {
   "cell_type": "code",
   "execution_count": 2,
   "metadata": {},
   "outputs": [],
   "source": [
    "# importing the dataset\n",
    "df = pd.read_csv(\"C:\\\\Users\\\\Admin\\\\Desktop\\\\iNeuron\\\\Assignments\\\\Dataset\\\\data_stocks.csv\")"
   ]
  },
  {
   "cell_type": "code",
   "execution_count": 3,
   "metadata": {},
   "outputs": [
    {
     "data": {
      "text/html": [
       "<div>\n",
       "<style scoped>\n",
       "    .dataframe tbody tr th:only-of-type {\n",
       "        vertical-align: middle;\n",
       "    }\n",
       "\n",
       "    .dataframe tbody tr th {\n",
       "        vertical-align: top;\n",
       "    }\n",
       "\n",
       "    .dataframe thead th {\n",
       "        text-align: right;\n",
       "    }\n",
       "</style>\n",
       "<table border=\"1\" class=\"dataframe\">\n",
       "  <thead>\n",
       "    <tr style=\"text-align: right;\">\n",
       "      <th></th>\n",
       "      <th>DATE</th>\n",
       "      <th>SP500</th>\n",
       "      <th>NASDAQ.AAL</th>\n",
       "      <th>NASDAQ.AAPL</th>\n",
       "      <th>NASDAQ.ADBE</th>\n",
       "      <th>NASDAQ.ADI</th>\n",
       "      <th>NASDAQ.ADP</th>\n",
       "      <th>NASDAQ.ADSK</th>\n",
       "      <th>NASDAQ.AKAM</th>\n",
       "      <th>NASDAQ.ALXN</th>\n",
       "      <th>...</th>\n",
       "      <th>NYSE.WYN</th>\n",
       "      <th>NYSE.XEC</th>\n",
       "      <th>NYSE.XEL</th>\n",
       "      <th>NYSE.XL</th>\n",
       "      <th>NYSE.XOM</th>\n",
       "      <th>NYSE.XRX</th>\n",
       "      <th>NYSE.XYL</th>\n",
       "      <th>NYSE.YUM</th>\n",
       "      <th>NYSE.ZBH</th>\n",
       "      <th>NYSE.ZTS</th>\n",
       "    </tr>\n",
       "  </thead>\n",
       "  <tbody>\n",
       "    <tr>\n",
       "      <th>0</th>\n",
       "      <td>1491226200</td>\n",
       "      <td>2363.6101</td>\n",
       "      <td>42.3300</td>\n",
       "      <td>143.6800</td>\n",
       "      <td>129.6300</td>\n",
       "      <td>82.040</td>\n",
       "      <td>102.2300</td>\n",
       "      <td>85.2200</td>\n",
       "      <td>59.760</td>\n",
       "      <td>121.52</td>\n",
       "      <td>...</td>\n",
       "      <td>84.370</td>\n",
       "      <td>119.035</td>\n",
       "      <td>44.40</td>\n",
       "      <td>39.88</td>\n",
       "      <td>82.03</td>\n",
       "      <td>7.36</td>\n",
       "      <td>50.22</td>\n",
       "      <td>63.86</td>\n",
       "      <td>122.000</td>\n",
       "      <td>53.350</td>\n",
       "    </tr>\n",
       "    <tr>\n",
       "      <th>1</th>\n",
       "      <td>1491226260</td>\n",
       "      <td>2364.1001</td>\n",
       "      <td>42.3600</td>\n",
       "      <td>143.7000</td>\n",
       "      <td>130.3200</td>\n",
       "      <td>82.080</td>\n",
       "      <td>102.1400</td>\n",
       "      <td>85.6500</td>\n",
       "      <td>59.840</td>\n",
       "      <td>121.48</td>\n",
       "      <td>...</td>\n",
       "      <td>84.370</td>\n",
       "      <td>119.035</td>\n",
       "      <td>44.11</td>\n",
       "      <td>39.88</td>\n",
       "      <td>82.03</td>\n",
       "      <td>7.38</td>\n",
       "      <td>50.22</td>\n",
       "      <td>63.74</td>\n",
       "      <td>121.770</td>\n",
       "      <td>53.350</td>\n",
       "    </tr>\n",
       "    <tr>\n",
       "      <th>2</th>\n",
       "      <td>1491226320</td>\n",
       "      <td>2362.6799</td>\n",
       "      <td>42.3100</td>\n",
       "      <td>143.6901</td>\n",
       "      <td>130.2250</td>\n",
       "      <td>82.030</td>\n",
       "      <td>102.2125</td>\n",
       "      <td>85.5100</td>\n",
       "      <td>59.795</td>\n",
       "      <td>121.93</td>\n",
       "      <td>...</td>\n",
       "      <td>84.585</td>\n",
       "      <td>119.260</td>\n",
       "      <td>44.09</td>\n",
       "      <td>39.98</td>\n",
       "      <td>82.02</td>\n",
       "      <td>7.36</td>\n",
       "      <td>50.12</td>\n",
       "      <td>63.75</td>\n",
       "      <td>121.700</td>\n",
       "      <td>53.365</td>\n",
       "    </tr>\n",
       "    <tr>\n",
       "      <th>3</th>\n",
       "      <td>1491226380</td>\n",
       "      <td>2364.3101</td>\n",
       "      <td>42.3700</td>\n",
       "      <td>143.6400</td>\n",
       "      <td>130.0729</td>\n",
       "      <td>82.000</td>\n",
       "      <td>102.1400</td>\n",
       "      <td>85.4872</td>\n",
       "      <td>59.620</td>\n",
       "      <td>121.44</td>\n",
       "      <td>...</td>\n",
       "      <td>84.460</td>\n",
       "      <td>119.260</td>\n",
       "      <td>44.25</td>\n",
       "      <td>39.99</td>\n",
       "      <td>82.02</td>\n",
       "      <td>7.35</td>\n",
       "      <td>50.16</td>\n",
       "      <td>63.88</td>\n",
       "      <td>121.700</td>\n",
       "      <td>53.380</td>\n",
       "    </tr>\n",
       "    <tr>\n",
       "      <th>4</th>\n",
       "      <td>1491226440</td>\n",
       "      <td>2364.8501</td>\n",
       "      <td>42.5378</td>\n",
       "      <td>143.6600</td>\n",
       "      <td>129.8800</td>\n",
       "      <td>82.035</td>\n",
       "      <td>102.0600</td>\n",
       "      <td>85.7001</td>\n",
       "      <td>59.620</td>\n",
       "      <td>121.60</td>\n",
       "      <td>...</td>\n",
       "      <td>84.470</td>\n",
       "      <td>119.610</td>\n",
       "      <td>44.11</td>\n",
       "      <td>39.96</td>\n",
       "      <td>82.03</td>\n",
       "      <td>7.36</td>\n",
       "      <td>50.20</td>\n",
       "      <td>63.91</td>\n",
       "      <td>121.695</td>\n",
       "      <td>53.240</td>\n",
       "    </tr>\n",
       "  </tbody>\n",
       "</table>\n",
       "<p>5 rows × 502 columns</p>\n",
       "</div>"
      ],
      "text/plain": [
       "         DATE      SP500  NASDAQ.AAL  NASDAQ.AAPL  NASDAQ.ADBE  NASDAQ.ADI  \\\n",
       "0  1491226200  2363.6101     42.3300     143.6800     129.6300      82.040   \n",
       "1  1491226260  2364.1001     42.3600     143.7000     130.3200      82.080   \n",
       "2  1491226320  2362.6799     42.3100     143.6901     130.2250      82.030   \n",
       "3  1491226380  2364.3101     42.3700     143.6400     130.0729      82.000   \n",
       "4  1491226440  2364.8501     42.5378     143.6600     129.8800      82.035   \n",
       "\n",
       "   NASDAQ.ADP  NASDAQ.ADSK  NASDAQ.AKAM  NASDAQ.ALXN  ...  NYSE.WYN  NYSE.XEC  \\\n",
       "0    102.2300      85.2200       59.760       121.52  ...    84.370   119.035   \n",
       "1    102.1400      85.6500       59.840       121.48  ...    84.370   119.035   \n",
       "2    102.2125      85.5100       59.795       121.93  ...    84.585   119.260   \n",
       "3    102.1400      85.4872       59.620       121.44  ...    84.460   119.260   \n",
       "4    102.0600      85.7001       59.620       121.60  ...    84.470   119.610   \n",
       "\n",
       "   NYSE.XEL  NYSE.XL  NYSE.XOM  NYSE.XRX  NYSE.XYL  NYSE.YUM  NYSE.ZBH  \\\n",
       "0     44.40    39.88     82.03      7.36     50.22     63.86   122.000   \n",
       "1     44.11    39.88     82.03      7.38     50.22     63.74   121.770   \n",
       "2     44.09    39.98     82.02      7.36     50.12     63.75   121.700   \n",
       "3     44.25    39.99     82.02      7.35     50.16     63.88   121.700   \n",
       "4     44.11    39.96     82.03      7.36     50.20     63.91   121.695   \n",
       "\n",
       "   NYSE.ZTS  \n",
       "0    53.350  \n",
       "1    53.350  \n",
       "2    53.365  \n",
       "3    53.380  \n",
       "4    53.240  \n",
       "\n",
       "[5 rows x 502 columns]"
      ]
     },
     "execution_count": 3,
     "metadata": {},
     "output_type": "execute_result"
    }
   ],
   "source": [
    "# first five rows of the dataset \n",
    "df.head()"
   ]
  },
  {
   "cell_type": "code",
   "execution_count": 4,
   "metadata": {},
   "outputs": [],
   "source": [
    "# converting timestamp to datetime format\n",
    "df[\"DATE\"] = pd.to_datetime(df[\"DATE\"], unit=\"s\")"
   ]
  },
  {
   "cell_type": "code",
   "execution_count": 5,
   "metadata": {},
   "outputs": [
    {
     "name": "stdout",
     "output_type": "stream",
     "text": [
      "Number of Stocks: 502\n",
      "Number of Datapoints: 41266\n"
     ]
    }
   ],
   "source": [
    "# dimensions of the dataset\n",
    "print(\"Number of Stocks:\",df.shape[1])\n",
    "print(\"Number of Datapoints:\",df.shape[0])"
   ]
  },
  {
   "cell_type": "markdown",
   "metadata": {},
   "source": [
    "### Problem 1:\n",
    "There are various stocks for which we have collected a data set, which all stocks are apparently similar in performance."
   ]
  },
  {
   "cell_type": "markdown",
   "metadata": {},
   "source": [
    "We shall measure similarity in performance by measuring the stock's returns during the given period."
   ]
  },
  {
   "cell_type": "code",
   "execution_count": 6,
   "metadata": {},
   "outputs": [],
   "source": [
    "# function to calculate stock return\n",
    "def total_return(prices):\n",
    "    return (prices.iloc[-1]/prices.iloc[0] - 1)*100"
   ]
  },
  {
   "cell_type": "code",
   "execution_count": 7,
   "metadata": {},
   "outputs": [
    {
     "data": {
      "text/html": [
       "<div>\n",
       "<style scoped>\n",
       "    .dataframe tbody tr th:only-of-type {\n",
       "        vertical-align: middle;\n",
       "    }\n",
       "\n",
       "    .dataframe tbody tr th {\n",
       "        vertical-align: top;\n",
       "    }\n",
       "\n",
       "    .dataframe thead th {\n",
       "        text-align: right;\n",
       "    }\n",
       "</style>\n",
       "<table border=\"1\" class=\"dataframe\">\n",
       "  <thead>\n",
       "    <tr style=\"text-align: right;\">\n",
       "      <th></th>\n",
       "      <th>Total Returns</th>\n",
       "    </tr>\n",
       "  </thead>\n",
       "  <tbody>\n",
       "    <tr>\n",
       "      <th>SP500</th>\n",
       "      <td>4.564200</td>\n",
       "    </tr>\n",
       "    <tr>\n",
       "      <th>NASDAQ.AAL</th>\n",
       "      <td>5.693362</td>\n",
       "    </tr>\n",
       "    <tr>\n",
       "      <th>NASDAQ.AAPL</th>\n",
       "      <td>14.128619</td>\n",
       "    </tr>\n",
       "    <tr>\n",
       "      <th>NASDAQ.ADBE</th>\n",
       "      <td>19.694515</td>\n",
       "    </tr>\n",
       "    <tr>\n",
       "      <th>NASDAQ.ADI</th>\n",
       "      <td>2.011214</td>\n",
       "    </tr>\n",
       "    <tr>\n",
       "      <th>...</th>\n",
       "      <td>...</td>\n",
       "    </tr>\n",
       "    <tr>\n",
       "      <th>NYSE.XRX</th>\n",
       "      <td>338.451087</td>\n",
       "    </tr>\n",
       "    <tr>\n",
       "      <th>NYSE.XYL</th>\n",
       "      <td>23.596177</td>\n",
       "    </tr>\n",
       "    <tr>\n",
       "      <th>NYSE.YUM</th>\n",
       "      <td>20.278735</td>\n",
       "    </tr>\n",
       "    <tr>\n",
       "      <th>NYSE.ZBH</th>\n",
       "      <td>-6.327869</td>\n",
       "    </tr>\n",
       "    <tr>\n",
       "      <th>NYSE.ZTS</th>\n",
       "      <td>17.488285</td>\n",
       "    </tr>\n",
       "  </tbody>\n",
       "</table>\n",
       "<p>501 rows × 1 columns</p>\n",
       "</div>"
      ],
      "text/plain": [
       "             Total Returns\n",
       "SP500             4.564200\n",
       "NASDAQ.AAL        5.693362\n",
       "NASDAQ.AAPL      14.128619\n",
       "NASDAQ.ADBE      19.694515\n",
       "NASDAQ.ADI        2.011214\n",
       "...                    ...\n",
       "NYSE.XRX        338.451087\n",
       "NYSE.XYL         23.596177\n",
       "NYSE.YUM         20.278735\n",
       "NYSE.ZBH         -6.327869\n",
       "NYSE.ZTS         17.488285\n",
       "\n",
       "[501 rows x 1 columns]"
      ]
     },
     "execution_count": 7,
     "metadata": {},
     "output_type": "execute_result"
    }
   ],
   "source": [
    "# calculating stock returns\n",
    "returns = pd.DataFrame(total_return(df.iloc[:,1:]), columns = [\"Total Returns\"])\n",
    "returns"
   ]
  },
  {
   "cell_type": "code",
   "execution_count": 8,
   "metadata": {},
   "outputs": [
    {
     "data": {
      "text/plain": [
       "array([[ 4.56420033e+00],\n",
       "       [ 5.69336168e+00],\n",
       "       [ 1.41286192e+01],\n",
       "       [ 1.96945152e+01],\n",
       "       [ 2.01121404e+00],\n",
       "       [ 4.14751052e+00],\n",
       "       [ 3.43111946e+01],\n",
       "       [-2.11010710e+01],\n",
       "       [ 1.71905859e+01],\n",
       "       [ 1.57219800e+01],\n",
       "       [-1.10198494e+01],\n",
       "       [ 8.01190549e+00],\n",
       "       [ 1.03595746e+01],\n",
       "       [ 3.15145436e+01],\n",
       "       [ 1.50426726e+01],\n",
       "       [-2.56910981e+01],\n",
       "       [ 1.55064215e+01],\n",
       "       [ 4.40528634e+00],\n",
       "       [ 2.45094409e+01],\n",
       "       [ 1.12859316e+01],\n",
       "       [ 1.52329140e+01],\n",
       "       [-9.12190415e+00],\n",
       "       [ 2.05031294e+01],\n",
       "       [ 6.08863730e+00],\n",
       "       [ 8.38003736e+00],\n",
       "       [ 5.37337186e+00],\n",
       "       [-6.55776797e+00],\n",
       "       [-4.49021932e+00],\n",
       "       [ 7.62139565e+00],\n",
       "       [ 6.42440486e+00],\n",
       "       [ 1.85030141e+01],\n",
       "       [-6.38017716e+00],\n",
       "       [-2.34665748e+01],\n",
       "       [-2.59428974e+01],\n",
       "       [-9.74169160e+00],\n",
       "       [ 1.50395106e+00],\n",
       "       [ 3.51501669e+01],\n",
       "       [ 8.18175013e+00],\n",
       "       [ 1.68279543e+01],\n",
       "       [-4.87583283e+00],\n",
       "       [ 1.76419966e+01],\n",
       "       [-1.24621684e-01],\n",
       "       [ 1.74291594e+01],\n",
       "       [-1.70651118e+01],\n",
       "       [ 2.11779625e+01],\n",
       "       [-1.63595600e+01],\n",
       "       [ 7.10822511e+00],\n",
       "       [ 2.31010180e+00],\n",
       "       [ 4.65436519e+00],\n",
       "       [-1.50470219e+01],\n",
       "       [-1.50554187e+01],\n",
       "       [ 2.32842415e+01],\n",
       "       [ 1.32527942e+01],\n",
       "       [ 1.26688133e+01],\n",
       "       [ 6.05587029e-01],\n",
       "       [-1.59966731e+01],\n",
       "       [-1.67133707e+00],\n",
       "       [-6.87869822e+00],\n",
       "       [-9.32581630e+00],\n",
       "       [ 2.03266361e+00],\n",
       "       [ 2.32153221e-01],\n",
       "       [ 1.95672515e+01],\n",
       "       [ 1.83799007e+00],\n",
       "       [ 1.17546484e-01],\n",
       "       [-2.98755187e+00],\n",
       "       [ 2.18871176e+01],\n",
       "       [ 3.10775373e+01],\n",
       "       [ 7.54758021e+00],\n",
       "       [-1.10780751e+01],\n",
       "       [-1.73064821e+00],\n",
       "       [ 1.80579216e+01],\n",
       "       [ 2.91371664e+01],\n",
       "       [ 9.92836296e+00],\n",
       "       [-3.67641326e+01],\n",
       "       [ 1.73924804e+01],\n",
       "       [-5.74872508e+00],\n",
       "       [ 2.06266883e+01],\n",
       "       [ 1.36149521e+01],\n",
       "       [ 1.03936464e+01],\n",
       "       [-1.85300207e+01],\n",
       "       [-1.09912340e+01],\n",
       "       [ 8.80484988e+00],\n",
       "       [ 1.90528109e+01],\n",
       "       [-7.66658706e+00],\n",
       "       [ 1.24699691e+00],\n",
       "       [ 5.54780694e+01],\n",
       "       [ 1.10701107e+00],\n",
       "       [ 3.16358025e+00],\n",
       "       [-2.62706767e+01],\n",
       "       [-2.92765957e+00],\n",
       "       [-7.73480663e+00],\n",
       "       [-1.45595008e+00],\n",
       "       [ 4.26851925e+00],\n",
       "       [-1.49171271e+01],\n",
       "       [ 4.27777778e+01],\n",
       "       [-8.69868996e+00],\n",
       "       [ 6.79696616e+00],\n",
       "       [ 2.80670103e+01],\n",
       "       [-1.15064345e+01],\n",
       "       [-5.84398867e+00],\n",
       "       [ 9.17782027e+00],\n",
       "       [ 1.10620080e+01],\n",
       "       [ 1.66095890e+01],\n",
       "       [-1.32705996e+01],\n",
       "       [-3.07032967e+01],\n",
       "       [ 7.34589913e+00],\n",
       "       [-2.31345715e+00],\n",
       "       [-1.22515025e+00],\n",
       "       [ 2.36043956e+01],\n",
       "       [-1.37161085e+01],\n",
       "       [ 2.41127736e+00],\n",
       "       [-2.25911527e+01],\n",
       "       [-3.86529387e+01],\n",
       "       [-1.23365408e-02],\n",
       "       [ 1.85849811e+01],\n",
       "       [ 4.72708926e+01],\n",
       "       [-2.20782337e+00],\n",
       "       [ 6.70938104e+00],\n",
       "       [ 4.13804714e+01],\n",
       "       [ 1.41111367e+01],\n",
       "       [ 1.81084296e+01],\n",
       "       [ 1.40341792e+01],\n",
       "       [-9.27024860e+00],\n",
       "       [ 3.95238095e+00],\n",
       "       [ 2.20252687e+01],\n",
       "       [-3.40296496e+01],\n",
       "       [ 1.51751568e+01],\n",
       "       [-9.21335597e+00],\n",
       "       [ 1.44012581e+01],\n",
       "       [ 1.07936239e+01],\n",
       "       [-1.04139575e+01],\n",
       "       [-9.44722205e+00],\n",
       "       [ 1.02554677e+01],\n",
       "       [ 1.06386176e+01],\n",
       "       [-4.19948453e-01],\n",
       "       [ 2.35234216e+01],\n",
       "       [ 1.34240176e+01],\n",
       "       [-3.93766756e+00],\n",
       "       [-3.11548935e+00],\n",
       "       [ 2.32558140e+00],\n",
       "       [-1.23147568e+00],\n",
       "       [ 2.42434967e+00],\n",
       "       [ 9.72156678e+00],\n",
       "       [-1.93388073e+01],\n",
       "       [ 1.10034347e+01],\n",
       "       [ 3.72957301e+00],\n",
       "       [ 1.67035807e+01],\n",
       "       [ 7.05540065e+00],\n",
       "       [ 6.56305301e+00],\n",
       "       [ 2.18199770e+01],\n",
       "       [-3.04748405e+00],\n",
       "       [ 1.81557933e+01],\n",
       "       [ 1.70241400e+01],\n",
       "       [-2.47432668e+01],\n",
       "       [-3.40531829e+01],\n",
       "       [ 6.83521976e+00],\n",
       "       [ 1.38877163e+01],\n",
       "       [ 1.01634135e+01],\n",
       "       [-3.84905660e+00],\n",
       "       [ 1.94021739e+00],\n",
       "       [ 1.69209775e+01],\n",
       "       [ 4.73231048e+00],\n",
       "       [ 8.75331565e+00],\n",
       "       [-1.49241512e+01],\n",
       "       [-2.66537127e+01],\n",
       "       [ 3.51564703e+01],\n",
       "       [ 6.95322377e-01],\n",
       "       [ 2.02535326e+01],\n",
       "       [ 2.67320116e+00],\n",
       "       [ 1.06218145e+01],\n",
       "       [ 2.85823293e+01],\n",
       "       [ 8.34782609e+00],\n",
       "       [ 2.32007576e+00],\n",
       "       [ 1.47306944e+01],\n",
       "       [-3.72909699e+01],\n",
       "       [ 1.06817701e+01],\n",
       "       [ 8.76427830e+00],\n",
       "       [-4.61548822e+01],\n",
       "       [ 1.06495883e+01],\n",
       "       [ 8.56920125e+00],\n",
       "       [ 1.07803701e+01],\n",
       "       [ 1.05840286e+01],\n",
       "       [-9.21275554e+00],\n",
       "       [ 1.32700633e+01],\n",
       "       [-1.96733482e+01],\n",
       "       [-1.76456222e+01],\n",
       "       [ 2.70054054e+01],\n",
       "       [ 3.72707263e+00],\n",
       "       [ 3.39541547e+00],\n",
       "       [-7.61355443e+00],\n",
       "       [ 1.42751713e+01],\n",
       "       [ 1.77427555e+01],\n",
       "       [-1.52853261e+00],\n",
       "       [-4.31581986e+00],\n",
       "       [ 3.40068014e-01],\n",
       "       [-3.94342762e+01],\n",
       "       [ 2.40695297e+01],\n",
       "       [-2.11152112e+00],\n",
       "       [ 2.44949308e+00],\n",
       "       [-7.12830957e-01],\n",
       "       [-2.95204184e+01],\n",
       "       [ 5.25064395e+00],\n",
       "       [ 8.40035746e+00],\n",
       "       [ 2.44709180e+01],\n",
       "       [ 7.63358779e+00],\n",
       "       [-8.35635359e+00],\n",
       "       [ 6.65970772e+00],\n",
       "       [ 8.71248790e-01],\n",
       "       [ 3.42178056e+01],\n",
       "       [ 2.52477725e+01],\n",
       "       [-1.24849699e+01],\n",
       "       [-9.00109769e+00],\n",
       "       [-1.92421861e+01],\n",
       "       [ 1.53804315e+01],\n",
       "       [ 8.09883322e+00],\n",
       "       [-1.62064571e+01],\n",
       "       [-1.37790253e+00],\n",
       "       [ 3.17105018e-01],\n",
       "       [-1.35378498e+01],\n",
       "       [ 1.92855294e+00],\n",
       "       [ 2.57608696e+00],\n",
       "       [ 5.27100945e+00],\n",
       "       [ 6.84540262e+00],\n",
       "       [-1.38726636e+01],\n",
       "       [ 3.90177549e+00],\n",
       "       [ 1.06898314e+01],\n",
       "       [ 8.23599880e+00],\n",
       "       [-2.65001167e+00],\n",
       "       [-1.08458150e+01],\n",
       "       [ 1.93564356e+01],\n",
       "       [ 1.10923265e+01],\n",
       "       [ 4.63453716e+00],\n",
       "       [ 3.52090538e+00],\n",
       "       [-6.93990188e+00],\n",
       "       [-1.60652200e+00],\n",
       "       [ 1.01010101e+01],\n",
       "       [ 6.58119658e+00],\n",
       "       [-1.39582721e+01],\n",
       "       [-2.47000960e+01],\n",
       "       [ 1.19025675e+01],\n",
       "       [ 5.76190476e+00],\n",
       "       [ 8.29475309e+00],\n",
       "       [ 4.19074088e+00],\n",
       "       [ 1.66761778e+00],\n",
       "       [ 2.62003067e+01],\n",
       "       [ 6.60400693e+00],\n",
       "       [-1.27090301e+00],\n",
       "       [-1.28820513e+01],\n",
       "       [ 7.73924213e+00],\n",
       "       [ 1.96302961e+00],\n",
       "       [ 8.08306161e+00],\n",
       "       [ 1.48210508e+01],\n",
       "       [-3.79560086e+00],\n",
       "       [ 4.45910290e+00],\n",
       "       [-1.46790486e+01],\n",
       "       [ 2.09193445e+01],\n",
       "       [ 5.34372391e+00],\n",
       "       [ 3.59097584e+00],\n",
       "       [-4.87068966e+00],\n",
       "       [ 2.66053539e+00],\n",
       "       [ 9.40740741e+00],\n",
       "       [ 9.04420367e+00],\n",
       "       [ 2.64650284e+00],\n",
       "       [ 1.63265306e+01],\n",
       "       [-5.28955463e+01],\n",
       "       [-2.68727480e+01],\n",
       "       [-1.92639803e+01],\n",
       "       [ 2.15221987e+01],\n",
       "       [-4.92883895e+00],\n",
       "       [-2.11954864e+01],\n",
       "       [ 8.19317236e+00],\n",
       "       [ 7.15806280e+00],\n",
       "       [-1.75205779e+01],\n",
       "       [-1.06758502e+01],\n",
       "       [-9.80524979e+00],\n",
       "       [ 5.96685083e+00],\n",
       "       [ 3.28999435e+00],\n",
       "       [-1.03970572e+01],\n",
       "       [ 1.80558991e+01],\n",
       "       [-1.74708819e+00],\n",
       "       [-2.62058158e+00],\n",
       "       [-3.04292011e+01],\n",
       "       [-2.12090578e+01],\n",
       "       [ 1.65706052e+01],\n",
       "       [-1.13190530e+01],\n",
       "       [ 3.37475289e+00],\n",
       "       [-5.04937878e+00],\n",
       "       [ 2.09809264e+00],\n",
       "       [-1.96424881e+01],\n",
       "       [ 1.24168053e+01],\n",
       "       [-2.30227608e+01],\n",
       "       [ 1.08313958e+01],\n",
       "       [-3.70596105e+01],\n",
       "       [ 4.44938821e-01],\n",
       "       [ 6.62428140e+00],\n",
       "       [ 1.47210300e+01],\n",
       "       [-1.11672927e+01],\n",
       "       [ 1.02035327e+01],\n",
       "       [-2.84182306e+00],\n",
       "       [-3.71696035e+00],\n",
       "       [ 2.43844743e+01],\n",
       "       [-1.75846969e+01],\n",
       "       [ 7.60652463e+00],\n",
       "       [ 3.08121139e+00],\n",
       "       [ 5.79453938e+00],\n",
       "       [-1.78702570e+01],\n",
       "       [ 4.72103004e+00],\n",
       "       [ 1.08579466e+01],\n",
       "       [ 9.48706310e+00],\n",
       "       [ 3.37670151e+00],\n",
       "       [ 7.07285201e+00],\n",
       "       [-6.03038936e+00],\n",
       "       [-1.62484203e+00],\n",
       "       [ 6.12768688e+00],\n",
       "       [-6.45161290e-01],\n",
       "       [ 3.22544009e+00],\n",
       "       [-4.18724501e+00],\n",
       "       [-9.93395707e+00],\n",
       "       [-3.47533632e+00],\n",
       "       [-1.00824931e+01],\n",
       "       [-6.37199058e+00],\n",
       "       [-1.11315547e+01],\n",
       "       [ 1.51748971e+01],\n",
       "       [ 6.92813527e+00],\n",
       "       [ 1.09884332e+01],\n",
       "       [-2.57889379e+01],\n",
       "       [-1.25502008e-01],\n",
       "       [ 2.04871227e+01],\n",
       "       [-4.48909791e-01],\n",
       "       [-2.30997877e+01],\n",
       "       [-9.15019763e+00],\n",
       "       [ 8.96686160e-01],\n",
       "       [ 9.86339755e+00],\n",
       "       [ 1.00964747e+01],\n",
       "       [-3.42327351e+00],\n",
       "       [ 1.40813506e+01],\n",
       "       [ 3.73031647e+00],\n",
       "       [ 7.84759021e+00],\n",
       "       [-1.11137840e+01],\n",
       "       [-9.24079755e+00],\n",
       "       [-2.94117647e+00],\n",
       "       [-4.88593654e+00],\n",
       "       [-9.94644223e-01],\n",
       "       [-2.98648649e+01],\n",
       "       [ 1.86932526e+01],\n",
       "       [ 4.66076696e+00],\n",
       "       [-1.81620615e+01],\n",
       "       [ 7.99294740e+00],\n",
       "       [ 2.34998842e+01],\n",
       "       [ 8.30632091e-01],\n",
       "       [ 1.90444474e+01],\n",
       "       [-3.58600223e-01],\n",
       "       [-1.16487455e+01],\n",
       "       [ 1.00426235e+01],\n",
       "       [-3.12627291e+00],\n",
       "       [-2.84601283e+00],\n",
       "       [ 5.43023099e+00],\n",
       "       [ 6.37234486e+00],\n",
       "       [ 2.91479821e+00],\n",
       "       [-1.13286713e+01],\n",
       "       [ 3.46958595e+00],\n",
       "       [-3.16706525e+01],\n",
       "       [ 3.30838913e+00],\n",
       "       [ 6.78019552e-01],\n",
       "       [-2.96015180e+01],\n",
       "       [ 6.30841121e+00],\n",
       "       [ 2.19206681e+00],\n",
       "       [-4.77233207e+00],\n",
       "       [-5.47038328e+00],\n",
       "       [-3.05985401e+01],\n",
       "       [ 1.81404115e+01],\n",
       "       [ 1.59503632e+01],\n",
       "       [-2.91350325e+01],\n",
       "       [ 1.32055602e+01],\n",
       "       [-5.29147982e+00],\n",
       "       [-6.02322206e+00],\n",
       "       [ 1.40676438e+01],\n",
       "       [-2.36436038e+01],\n",
       "       [ 3.40150700e+01],\n",
       "       [ 7.41334759e+00],\n",
       "       [-8.36242727e+00],\n",
       "       [ 2.15827338e+00],\n",
       "       [-3.09868643e+00],\n",
       "       [-2.48424842e+00],\n",
       "       [-1.61237974e+01],\n",
       "       [ 1.26230976e+01],\n",
       "       [-5.88235294e+00],\n",
       "       [ 6.06060606e+00],\n",
       "       [ 5.70977206e+00],\n",
       "       [ 3.37801609e+00],\n",
       "       [-5.27704485e-01],\n",
       "       [-1.26322438e+00],\n",
       "       [ 2.67082128e+00],\n",
       "       [ 1.84901811e+01],\n",
       "       [ 5.31250000e-01],\n",
       "       [ 9.13319239e+00],\n",
       "       [ 1.54402895e+01],\n",
       "       [ 2.21814672e+01],\n",
       "       [ 3.53378797e+00],\n",
       "       [ 3.61366080e+00],\n",
       "       [-1.52405144e+00],\n",
       "       [ 7.85560086e+00],\n",
       "       [-1.22274882e+00],\n",
       "       [ 4.94917068e+00],\n",
       "       [ 1.96423159e+01],\n",
       "       [-4.50973054e+00],\n",
       "       [-6.27397260e+00],\n",
       "       [ 5.86080586e+00],\n",
       "       [ 2.16273676e+01],\n",
       "       [-3.62124464e+00],\n",
       "       [ 1.02687744e+01],\n",
       "       [-3.03160611e+01],\n",
       "       [ 4.26984127e+00],\n",
       "       [ 2.65663141e+01],\n",
       "       [-3.57785779e+00],\n",
       "       [-3.35386721e+00],\n",
       "       [-7.24964161e+00],\n",
       "       [ 2.42028651e+01],\n",
       "       [-3.06741125e+01],\n",
       "       [ 2.66089920e+00],\n",
       "       [ 7.11149061e+00],\n",
       "       [ 5.55269592e+00],\n",
       "       [ 1.13527736e+01],\n",
       "       [-4.02820777e+01],\n",
       "       [ 3.73668310e+00],\n",
       "       [ 1.95729304e+01],\n",
       "       [-7.58990054e+00],\n",
       "       [-2.42112986e+00],\n",
       "       [ 1.64948454e+00],\n",
       "       [ 9.45466279e+00],\n",
       "       [-8.68558193e+00],\n",
       "       [-2.01143729e+01],\n",
       "       [-1.88792068e+01],\n",
       "       [-9.58055738e+00],\n",
       "       [-1.24005699e+01],\n",
       "       [-2.83873566e+00],\n",
       "       [-9.05137423e+00],\n",
       "       [ 1.74678144e+01],\n",
       "       [ 6.73425054e+00],\n",
       "       [-9.17266187e-01],\n",
       "       [ 1.60788252e+01],\n",
       "       [ 2.34898501e+01],\n",
       "       [ 8.15805288e+00],\n",
       "       [-1.06500290e+01],\n",
       "       [ 7.35282947e+00],\n",
       "       [ 1.17172493e+00],\n",
       "       [-9.92063492e+00],\n",
       "       [-6.35566688e+00],\n",
       "       [ 1.87659497e+01],\n",
       "       [ 6.61754856e+00],\n",
       "       [-1.28576603e+00],\n",
       "       [-4.19243266e+00],\n",
       "       [-8.50632911e+00],\n",
       "       [-1.94426442e-01],\n",
       "       [ 2.15352643e+01],\n",
       "       [ 5.05930165e-01],\n",
       "       [ 2.09677419e+00],\n",
       "       [ 2.23902619e+01],\n",
       "       [ 2.91978310e+01],\n",
       "       [ 3.23700602e+00],\n",
       "       [ 3.21698907e+00],\n",
       "       [-1.88608275e+01],\n",
       "       [-1.88541033e+01],\n",
       "       [-1.23638421e+01],\n",
       "       [ 7.00496415e+00],\n",
       "       [-1.32841328e+01],\n",
       "       [ 2.08237152e+01],\n",
       "       [ 2.44472789e+00],\n",
       "       [-9.50409335e-01],\n",
       "       [ 6.19600557e+00],\n",
       "       [-5.26534612e+00],\n",
       "       [-7.16776443e-01],\n",
       "       [ 6.53257387e+00],\n",
       "       [ 1.58701735e+01],\n",
       "       [ 1.65038955e+01],\n",
       "       [ 1.38561855e+01],\n",
       "       [ 2.26760775e+00],\n",
       "       [ 9.48971947e-01],\n",
       "       [-2.58096662e+01],\n",
       "       [ 5.08682957e+00],\n",
       "       [-1.55961420e+00],\n",
       "       [ 1.72773195e+01],\n",
       "       [ 7.88951373e+00],\n",
       "       [-8.31238779e+00],\n",
       "       [-1.33853227e-01],\n",
       "       [ 5.47345375e+00],\n",
       "       [ 4.05131668e-01],\n",
       "       [ 8.28016644e+00],\n",
       "       [ 9.08742331e+00],\n",
       "       [-6.93215339e+00],\n",
       "       [-4.08823529e+00],\n",
       "       [ 1.81344080e+01],\n",
       "       [-1.62935271e+01],\n",
       "       [ 1.14639640e+01],\n",
       "       [ 2.65797392e+00],\n",
       "       [-6.96086798e+00],\n",
       "       [ 3.38451087e+02],\n",
       "       [ 2.35961768e+01],\n",
       "       [ 2.02787347e+01],\n",
       "       [-6.32786885e+00],\n",
       "       [ 1.74882849e+01]])"
      ]
     },
     "execution_count": 8,
     "metadata": {},
     "output_type": "execute_result"
    }
   ],
   "source": [
    "# creating an array to pass it to the clustering algorithm\n",
    "X = returns.values\n",
    "X"
   ]
  },
  {
   "cell_type": "code",
   "execution_count": 9,
   "metadata": {},
   "outputs": [
    {
     "data": {
      "image/png": "[encoded data removed]",
      "text/plain": [
       "<Figure size 432x288 with 1 Axes>"
      ]
     },
     "metadata": {
      "needs_background": "light"
     },
     "output_type": "display_data"
    }
   ],
   "source": [
    "# kmeans clustering algorithm with various values of k's\n",
    "wcss = []\n",
    "for k in range(2,15):\n",
    "    \n",
    "    kmeans = KMeans(n_clusters = k)\n",
    "    kmeans.fit(X)\n",
    "    \n",
    "    wcss.append(kmeans.inertia_) \n",
    "\n",
    "# plotting a scree plot to check the best k value\n",
    "plt.plot(range(2,15), wcss)\n",
    "plt.title(\"Elbow Curve\")\n",
    "plt.xlabel('Number of clusters')\n",
    "plt.ylabel('WCSS')\n",
    "plt.show()"
   ]
  },
  {
   "cell_type": "markdown",
   "metadata": {},
   "source": [
    "We can see an elbow forming at k = 7 and the point thereafter is comparatively smoother."
   ]
  },
  {
   "cell_type": "code",
   "execution_count": 10,
   "metadata": {},
   "outputs": [
    {
     "data": {
      "text/plain": [
       "<matplotlib.collections.PathCollection at 0x1acaed27280>"
      ]
     },
     "execution_count": 10,
     "metadata": {},
     "output_type": "execute_result"
    },
    {
     "data": {
      "image/png": "[encoded data removed]",
      "text/plain": [
       "<Figure size 432x288 with 1 Axes>"
      ]
     },
     "metadata": {
      "needs_background": "light"
     },
     "output_type": "display_data"
    }
   ],
   "source": [
    "# kmeans with k = 7\n",
    "kmeans = KMeans(n_clusters = 7).fit(X)\n",
    "\n",
    "# cluster centroid location\n",
    "centroids = kmeans.cluster_centers_\n",
    "\n",
    "# plotting the clusters\n",
    "plt.scatter(X[:,0], np.zeros_like(X),c = kmeans.labels_, cmap =\"rainbow\") "
   ]
  },
  {
   "cell_type": "markdown",
   "metadata": {},
   "source": [
    "We notice an outlier far to the right. Let's delete it to better visualize the formed clusters."
   ]
  },
  {
   "cell_type": "code",
   "execution_count": 11,
   "metadata": {},
   "outputs": [],
   "source": [
    "# finding the outlier with maximum return\n",
    "returns.idxmax()\n",
    "\n",
    "# removing the outlier\n",
    "returns.drop('NYSE.XRX', inplace=True, axis=0)"
   ]
  },
  {
   "cell_type": "code",
   "execution_count": 12,
   "metadata": {},
   "outputs": [
    {
     "data": {
      "text/plain": [
       "<matplotlib.collections.PathCollection at 0x1acaed8acd0>"
      ]
     },
     "execution_count": 12,
     "metadata": {},
     "output_type": "execute_result"
    },
    {
     "data": {
      "image/png": "[encoded data removed]",
      "text/plain": [
       "<Figure size 432x288 with 1 Axes>"
      ]
     },
     "metadata": {
      "needs_background": "light"
     },
     "output_type": "display_data"
    }
   ],
   "source": [
    "# recomputing and plotting the clusters\n",
    "X = returns.values\n",
    "kmeans = KMeans(n_clusters = 6).fit(X) # reducing k as one cluster centroid was assigned to the outlier\n",
    "centroids = kmeans.cluster_centers_\n",
    "plt.scatter(X[:,0], np.zeros_like(X),c = kmeans.labels_, cmap =\"rainbow\") "
   ]
  },
  {
   "cell_type": "code",
   "execution_count": 13,
   "metadata": {},
   "outputs": [
    {
     "data": {
      "text/html": [
       "<div>\n",
       "<style scoped>\n",
       "    .dataframe tbody tr th:only-of-type {\n",
       "        vertical-align: middle;\n",
       "    }\n",
       "\n",
       "    .dataframe tbody tr th {\n",
       "        vertical-align: top;\n",
       "    }\n",
       "\n",
       "    .dataframe thead th {\n",
       "        text-align: right;\n",
       "    }\n",
       "</style>\n",
       "<table border=\"1\" class=\"dataframe\">\n",
       "  <thead>\n",
       "    <tr style=\"text-align: right;\">\n",
       "      <th></th>\n",
       "      <th>Total Returns</th>\n",
       "      <th>Cluster Number</th>\n",
       "    </tr>\n",
       "  </thead>\n",
       "  <tbody>\n",
       "    <tr>\n",
       "      <th>SP500</th>\n",
       "      <td>4.564200</td>\n",
       "      <td>1</td>\n",
       "    </tr>\n",
       "    <tr>\n",
       "      <th>NASDAQ.AAL</th>\n",
       "      <td>5.693362</td>\n",
       "      <td>1</td>\n",
       "    </tr>\n",
       "    <tr>\n",
       "      <th>NASDAQ.AAPL</th>\n",
       "      <td>14.128619</td>\n",
       "      <td>2</td>\n",
       "    </tr>\n",
       "    <tr>\n",
       "      <th>NASDAQ.ADBE</th>\n",
       "      <td>19.694515</td>\n",
       "      <td>2</td>\n",
       "    </tr>\n",
       "    <tr>\n",
       "      <th>NASDAQ.ADI</th>\n",
       "      <td>2.011214</td>\n",
       "      <td>4</td>\n",
       "    </tr>\n",
       "  </tbody>\n",
       "</table>\n",
       "</div>"
      ],
      "text/plain": [
       "             Total Returns  Cluster Number\n",
       "SP500             4.564200               1\n",
       "NASDAQ.AAL        5.693362               1\n",
       "NASDAQ.AAPL      14.128619               2\n",
       "NASDAQ.ADBE      19.694515               2\n",
       "NASDAQ.ADI        2.011214               4"
      ]
     },
     "execution_count": 13,
     "metadata": {},
     "output_type": "execute_result"
    }
   ],
   "source": [
    "# adding a new column with labels\n",
    "returns[\"Cluster Number\"] = kmeans.labels_\n",
    "returns.head()"
   ]
  },
  {
   "cell_type": "code",
   "execution_count": 14,
   "metadata": {},
   "outputs": [
    {
     "data": {
      "text/plain": [
       "Text(0.5, 1.0, 'Stocks grouped based on performance')"
      ]
     },
     "execution_count": 14,
     "metadata": {},
     "output_type": "execute_result"
    },
    {
     "data": {
      "image/png": "[encoded data removed]",
      "text/plain": [
       "<Figure size 432x288 with 1 Axes>"
      ]
     },
     "metadata": {
      "needs_background": "light"
     },
     "output_type": "display_data"
    }
   ],
   "source": [
    "sns.countplot(x = \"Cluster Number\", data = returns)\n",
    "plt.xlabel('Cluster Number',fontsize=12)\n",
    "plt.ylabel('Number of Stocks',fontsize=12)\n",
    "plt.title('Stocks grouped based on performance')"
   ]
  },
  {
   "cell_type": "code",
   "execution_count": 15,
   "metadata": {},
   "outputs": [
    {
     "data": {
      "text/html": [
       "<div>\n",
       "<style scoped>\n",
       "    .dataframe tbody tr th:only-of-type {\n",
       "        vertical-align: middle;\n",
       "    }\n",
       "\n",
       "    .dataframe tbody tr th {\n",
       "        vertical-align: top;\n",
       "    }\n",
       "\n",
       "    .dataframe thead th {\n",
       "        text-align: right;\n",
       "    }\n",
       "</style>\n",
       "<table border=\"1\" class=\"dataframe\">\n",
       "  <thead>\n",
       "    <tr style=\"text-align: right;\">\n",
       "      <th></th>\n",
       "      <th></th>\n",
       "    </tr>\n",
       "    <tr>\n",
       "      <th>Cluster Number</th>\n",
       "      <th>Stock Name</th>\n",
       "    </tr>\n",
       "  </thead>\n",
       "  <tbody>\n",
       "    <tr>\n",
       "      <th rowspan=\"5\" valign=\"top\">0</th>\n",
       "      <th>NASDAQ.BBBY</th>\n",
       "    </tr>\n",
       "    <tr>\n",
       "      <th>NASDAQ.DISCA</th>\n",
       "    </tr>\n",
       "    <tr>\n",
       "      <th>NASDAQ.DISCK</th>\n",
       "    </tr>\n",
       "    <tr>\n",
       "      <th>NASDAQ.MAT</th>\n",
       "    </tr>\n",
       "    <tr>\n",
       "      <th>NASDAQ.ORLY</th>\n",
       "    </tr>\n",
       "    <tr>\n",
       "      <th>...</th>\n",
       "      <th>...</th>\n",
       "    </tr>\n",
       "    <tr>\n",
       "      <th rowspan=\"5\" valign=\"top\">5</th>\n",
       "      <th>NYSE.BA</th>\n",
       "    </tr>\n",
       "    <tr>\n",
       "      <th>NYSE.BCR</th>\n",
       "    </tr>\n",
       "    <tr>\n",
       "      <th>NYSE.COL</th>\n",
       "    </tr>\n",
       "    <tr>\n",
       "      <th>NYSE.NRG</th>\n",
       "    </tr>\n",
       "    <tr>\n",
       "      <th>NYSE.TSS</th>\n",
       "    </tr>\n",
       "  </tbody>\n",
       "</table>\n",
       "<p>500 rows × 0 columns</p>\n",
       "</div>"
      ],
      "text/plain": [
       "Empty DataFrame\n",
       "Columns: []\n",
       "Index: [(0, NASDAQ.BBBY), (0, NASDAQ.DISCA), (0, NASDAQ.DISCK), (0, NASDAQ.MAT), (0, NASDAQ.ORLY), (0, NASDAQ.STX), (0, NASDAQ.ULTA), (0, NASDAQ.VIAB), (0, NYSE.AAP), (0, NYSE.APA), (0, NYSE.APC), (0, NYSE.AZO), (0, NYSE.BHI), (0, NYSE.BLL), (0, NYSE.CHK), (0, NYSE.CMG), (0, NYSE.DVN), (0, NYSE.FL), (0, NYSE.FLR), (0, NYSE.GWW), (0, NYSE.HOG), (0, NYSE.HP), (0, NYSE.KR), (0, NYSE.LB), (0, NYSE.M), (0, NYSE.MOS), (0, NYSE.MRO), (0, NYSE.NBL), (0, NYSE.NFX), (0, NYSE.NOV), (0, NYSE.PXD), (0, NYSE.RIG), (0, NYSE.RRC), (0, NYSE.VNO), (1, NASDAQ.AAL), (1, NASDAQ.ADP), (1, NASDAQ.AMGN), (1, NASDAQ.AMZN), (1, NASDAQ.CA), (1, NASDAQ.CELG), (1, NASDAQ.CINF), (1, NASDAQ.CMCSA), (1, NASDAQ.CME), (1, NASDAQ.CSX), (1, NASDAQ.CTAS), (1, NASDAQ.EBAY), (1, NASDAQ.FISV), (1, NASDAQ.FLIR), (1, NASDAQ.GOOGL), (1, NASDAQ.JBHT), (1, NASDAQ.MAR), (1, NASDAQ.MU), (1, NASDAQ.NDAQ), (1, NASDAQ.NWSA), (1, NASDAQ.PCLN), (1, NASDAQ.QRVO), (1, NASDAQ.SNI), (1, NASDAQ.SNPS), (1, NASDAQ.SWKS), (1, NASDAQ.WDC), (1, NASDAQ.ZION), (1, NYSE.ACN), (1, NYSE.AEE), (1, NYSE.AEP), (1, NYSE.ALB), (1, NYSE.ALL), (1, NYSE.ALLE), (1, NYSE.AMG), (1, NYSE.AMP), (1, NYSE.APD), (1, NYSE.ARE), (1, NYSE.AWK), (1, NYSE.AXP), (1, NYSE.BBY), (1, NYSE.BDX), (1, NYSE.BK), (1, NYSE.BLK), (1, NYSE.BMY), (1, NYSE.BRK.B), (1, NYSE.BSX), (1, NYSE.BWA), (1, NYSE.CB), (1, NYSE.CBG), (1, NYSE.CMI), (1, NYSE.CMS), (1, NYSE.CNP), (1, NYSE.COG), (1, NYSE.CSRA), (1, NYSE.DD), (1, NYSE.DE), (1, NYSE.DG), (1, NYSE.DGX), (1, NYSE.DHI), (1, NYSE.DLR), (1, NYSE.DOV), (1, NYSE.DOW), (1, NYSE.DTE), (1, NYSE.DUK), (1, NYSE.DXC), (1, NYSE.ECL), ...]\n",
       "\n",
       "[500 rows x 0 columns]"
      ]
     },
     "execution_count": 15,
     "metadata": {},
     "output_type": "execute_result"
    }
   ],
   "source": [
    "# stock wise cluster label\n",
    "returns.reset_index(inplace=True)\n",
    "returns.columns = [\"Stock Name\", \"Total Returns\", \"Cluster Number\"]\n",
    "returns.loc[:,[\"Stock Name\",\"Cluster Number\"]].groupby(by=[\"Cluster Number\",\"Stock Name\"]).count()"
   ]
  },
  {
   "cell_type": "markdown",
   "metadata": {},
   "source": [
    "### Problem 2:\n",
    "How many Unique patterns that exist in the historical stock data set, based on fluctuations in price."
   ]
  },
  {
   "cell_type": "markdown",
   "metadata": {},
   "source": [
    "To find stocks that are similar based on fluctutations in price we can calculate the volatility of the stock."
   ]
  },
  {
   "cell_type": "code",
   "execution_count": 16,
   "metadata": {},
   "outputs": [],
   "source": [
    "# calculating log returns \n",
    "log_returns = np.log(df.iloc[:,1:]/df.iloc[:,1:].shift(1))"
   ]
  },
  {
   "cell_type": "code",
   "execution_count": 17,
   "metadata": {},
   "outputs": [],
   "source": [
    "# filling NaN values with 0\n",
    "log_returns.fillna(0, inplace=True)"
   ]
  },
  {
   "cell_type": "code",
   "execution_count": 18,
   "metadata": {},
   "outputs": [
    {
     "data": {
      "text/plain": [
       "(41266, 501)"
      ]
     },
     "execution_count": 18,
     "metadata": {},
     "output_type": "execute_result"
    }
   ],
   "source": [
    "# calculating volatility\n",
    "volatility = log_returns.rolling(window=41266).std()*np.sqrt(252)\n",
    "volatility.shape"
   ]
  },
  {
   "cell_type": "code",
   "execution_count": 19,
   "metadata": {
    "scrolled": true
   },
   "outputs": [
    {
     "data": {
      "text/html": [
       "<div>\n",
       "<style scoped>\n",
       "    .dataframe tbody tr th:only-of-type {\n",
       "        vertical-align: middle;\n",
       "    }\n",
       "\n",
       "    .dataframe tbody tr th {\n",
       "        vertical-align: top;\n",
       "    }\n",
       "\n",
       "    .dataframe thead th {\n",
       "        text-align: right;\n",
       "    }\n",
       "</style>\n",
       "<table border=\"1\" class=\"dataframe\">\n",
       "  <thead>\n",
       "    <tr style=\"text-align: right;\">\n",
       "      <th></th>\n",
       "      <th>Price Volatility</th>\n",
       "    </tr>\n",
       "  </thead>\n",
       "  <tbody>\n",
       "    <tr>\n",
       "      <th>SP500</th>\n",
       "      <td>0.003567</td>\n",
       "    </tr>\n",
       "    <tr>\n",
       "      <th>NASDAQ.AAL</th>\n",
       "      <td>0.014348</td>\n",
       "    </tr>\n",
       "    <tr>\n",
       "      <th>NASDAQ.AAPL</th>\n",
       "      <td>0.009810</td>\n",
       "    </tr>\n",
       "    <tr>\n",
       "      <th>NASDAQ.ADBE</th>\n",
       "      <td>0.009643</td>\n",
       "    </tr>\n",
       "    <tr>\n",
       "      <th>NASDAQ.ADI</th>\n",
       "      <td>0.012357</td>\n",
       "    </tr>\n",
       "  </tbody>\n",
       "</table>\n",
       "</div>"
      ],
      "text/plain": [
       "             Price Volatility\n",
       "SP500                0.003567\n",
       "NASDAQ.AAL           0.014348\n",
       "NASDAQ.AAPL          0.009810\n",
       "NASDAQ.ADBE          0.009643\n",
       "NASDAQ.ADI           0.012357"
      ]
     },
     "execution_count": 19,
     "metadata": {},
     "output_type": "execute_result"
    }
   ],
   "source": [
    "volatility = pd.DataFrame(volatility.T.iloc[:,-1])\n",
    "volatility.columns = [\"Price Volatility\"]\n",
    "volatility.head()"
   ]
  },
  {
   "cell_type": "code",
   "execution_count": 20,
   "metadata": {},
   "outputs": [
    {
     "data": {
      "text/plain": [
       "array([[0.00356667],\n",
       "       [0.01434816],\n",
       "       [0.00980975],\n",
       "       [0.00964251],\n",
       "       [0.0123574 ]])"
      ]
     },
     "execution_count": 20,
     "metadata": {},
     "output_type": "execute_result"
    }
   ],
   "source": [
    "# creating an array to pass it to the clustering algorithm\n",
    "X = volatility.values\n",
    "X = X.reshape(-1, 1)\n",
    "X[:5]"
   ]
  },
  {
   "cell_type": "code",
   "execution_count": 21,
   "metadata": {},
   "outputs": [
    {
     "data": {
      "image/png": "[encoded data removed]",
      "text/plain": [
       "<Figure size 432x288 with 1 Axes>"
      ]
     },
     "metadata": {
      "needs_background": "light"
     },
     "output_type": "display_data"
    }
   ],
   "source": [
    "# kmeans clustering algorithm with various values of k's\n",
    "wcss = []\n",
    "for k in range(2,15):\n",
    "    \n",
    "    kmeans = KMeans(n_clusters = k)\n",
    "    kmeans.fit(X)\n",
    "    \n",
    "    wcss.append(kmeans.inertia_) \n",
    "\n",
    "# plotting a scree plot to check the best k value\n",
    "plt.plot(range(2,15), wcss)\n",
    "plt.title(\"Elbow Curve\")\n",
    "plt.xlabel('Number of clusters')\n",
    "plt.ylabel('WCSS')\n",
    "plt.show()"
   ]
  },
  {
   "cell_type": "markdown",
   "metadata": {},
   "source": [
    "We can see an elbow forming at k = 7 and the point thereafter is comparatively smoother."
   ]
  },
  {
   "cell_type": "code",
   "execution_count": 22,
   "metadata": {},
   "outputs": [
    {
     "data": {
      "text/plain": [
       "<matplotlib.collections.PathCollection at 0x1acaee0e850>"
      ]
     },
     "execution_count": 22,
     "metadata": {},
     "output_type": "execute_result"
    },
    {
     "data": {
      "image/png": "[encoded data removed]",
      "text/plain": [
       "<Figure size 432x288 with 1 Axes>"
      ]
     },
     "metadata": {
      "needs_background": "light"
     },
     "output_type": "display_data"
    }
   ],
   "source": [
    "# kmeans with k = 7\n",
    "kmeans = KMeans(n_clusters = 7).fit(X)\n",
    "\n",
    "# cluster centroid location\n",
    "centroids = kmeans.cluster_centers_\n",
    "\n",
    "# plotting the clusters\n",
    "plt.scatter(X[:,0], np.zeros_like(X),c = kmeans.labels_, cmap =\"rainbow\") "
   ]
  },
  {
   "cell_type": "markdown",
   "metadata": {},
   "source": [
    "We can see that we have two extreme outliers. Removing them to better visualize our clusters."
   ]
  },
  {
   "cell_type": "code",
   "execution_count": 23,
   "metadata": {},
   "outputs": [],
   "source": [
    "# finding the outliers\n",
    "volatility.nlargest(5, \"Price Volatility\")\n",
    "\n",
    "# removing the outliers\n",
    "volatility.drop(['NYSE.XRX', 'NYSE.BLL'] , inplace=True, axis=0)"
   ]
  },
  {
   "cell_type": "code",
   "execution_count": 24,
   "metadata": {},
   "outputs": [
    {
     "data": {
      "text/plain": [
       "<matplotlib.collections.PathCollection at 0x1acaecaf280>"
      ]
     },
     "execution_count": 24,
     "metadata": {},
     "output_type": "execute_result"
    },
    {
     "data": {
      "image/png": "[encoded data removed]",
      "text/plain": [
       "<Figure size 432x288 with 1 Axes>"
      ]
     },
     "metadata": {
      "needs_background": "light"
     },
     "output_type": "display_data"
    }
   ],
   "source": [
    "# recomputing and plotting the clusters\n",
    "X = volatility.values\n",
    "X = X.reshape(-1, 1)\n",
    "kmeans = KMeans(n_clusters = 5).fit(X) # reducing k as two cluster centroids were assigned to the outliers\n",
    "centroids = kmeans.cluster_centers_\n",
    "plt.scatter(X[:,0], np.zeros_like(X),c = kmeans.labels_, cmap =\"rainbow\") "
   ]
  },
  {
   "cell_type": "code",
   "execution_count": 25,
   "metadata": {},
   "outputs": [
    {
     "data": {
      "text/html": [
       "<div>\n",
       "<style scoped>\n",
       "    .dataframe tbody tr th:only-of-type {\n",
       "        vertical-align: middle;\n",
       "    }\n",
       "\n",
       "    .dataframe tbody tr th {\n",
       "        vertical-align: top;\n",
       "    }\n",
       "\n",
       "    .dataframe thead th {\n",
       "        text-align: right;\n",
       "    }\n",
       "</style>\n",
       "<table border=\"1\" class=\"dataframe\">\n",
       "  <thead>\n",
       "    <tr style=\"text-align: right;\">\n",
       "      <th></th>\n",
       "      <th>Price Volatility</th>\n",
       "      <th>Cluster Number</th>\n",
       "    </tr>\n",
       "  </thead>\n",
       "  <tbody>\n",
       "    <tr>\n",
       "      <th>SP500</th>\n",
       "      <td>0.003567</td>\n",
       "      <td>0</td>\n",
       "    </tr>\n",
       "    <tr>\n",
       "      <th>NASDAQ.AAL</th>\n",
       "      <td>0.014348</td>\n",
       "      <td>1</td>\n",
       "    </tr>\n",
       "    <tr>\n",
       "      <th>NASDAQ.AAPL</th>\n",
       "      <td>0.009810</td>\n",
       "      <td>3</td>\n",
       "    </tr>\n",
       "    <tr>\n",
       "      <th>NASDAQ.ADBE</th>\n",
       "      <td>0.009643</td>\n",
       "      <td>3</td>\n",
       "    </tr>\n",
       "    <tr>\n",
       "      <th>NASDAQ.ADI</th>\n",
       "      <td>0.012357</td>\n",
       "      <td>1</td>\n",
       "    </tr>\n",
       "  </tbody>\n",
       "</table>\n",
       "</div>"
      ],
      "text/plain": [
       "             Price Volatility  Cluster Number\n",
       "SP500                0.003567               0\n",
       "NASDAQ.AAL           0.014348               1\n",
       "NASDAQ.AAPL          0.009810               3\n",
       "NASDAQ.ADBE          0.009643               3\n",
       "NASDAQ.ADI           0.012357               1"
      ]
     },
     "execution_count": 25,
     "metadata": {},
     "output_type": "execute_result"
    }
   ],
   "source": [
    "# adding a new column with labels\n",
    "volatility[\"Cluster Number\"] = kmeans.labels_\n",
    "volatility.head()"
   ]
  },
  {
   "cell_type": "code",
   "execution_count": 26,
   "metadata": {},
   "outputs": [
    {
     "data": {
      "text/plain": [
       "Text(0.5, 1.0, 'Stocks grouped based on Volatility')"
      ]
     },
     "execution_count": 26,
     "metadata": {},
     "output_type": "execute_result"
    },
    {
     "data": {
      "image/png": "[encoded data removed]",
      "text/plain": [
       "<Figure size 432x288 with 1 Axes>"
      ]
     },
     "metadata": {
      "needs_background": "light"
     },
     "output_type": "display_data"
    }
   ],
   "source": [
    "sns.countplot(x = \"Cluster Number\", data = volatility)\n",
    "plt.xlabel('Cluster Number',fontsize=12)\n",
    "plt.ylabel('Number of Stocks',fontsize=12)\n",
    "plt.title('Stocks grouped based on Volatility')"
   ]
  },
  {
   "cell_type": "code",
   "execution_count": 27,
   "metadata": {},
   "outputs": [
    {
     "data": {
      "text/html": [
       "<div>\n",
       "<style scoped>\n",
       "    .dataframe tbody tr th:only-of-type {\n",
       "        vertical-align: middle;\n",
       "    }\n",
       "\n",
       "    .dataframe tbody tr th {\n",
       "        vertical-align: top;\n",
       "    }\n",
       "\n",
       "    .dataframe thead th {\n",
       "        text-align: right;\n",
       "    }\n",
       "</style>\n",
       "<table border=\"1\" class=\"dataframe\">\n",
       "  <thead>\n",
       "    <tr style=\"text-align: right;\">\n",
       "      <th></th>\n",
       "      <th></th>\n",
       "    </tr>\n",
       "    <tr>\n",
       "      <th>Cluster Number</th>\n",
       "      <th>Stock Name</th>\n",
       "    </tr>\n",
       "  </thead>\n",
       "  <tbody>\n",
       "    <tr>\n",
       "      <th rowspan=\"5\" valign=\"top\">0</th>\n",
       "      <th>NASDAQ.AMGN</th>\n",
       "    </tr>\n",
       "    <tr>\n",
       "      <th>NASDAQ.CBOE</th>\n",
       "    </tr>\n",
       "    <tr>\n",
       "      <th>NASDAQ.CME</th>\n",
       "    </tr>\n",
       "    <tr>\n",
       "      <th>NASDAQ.CTSH</th>\n",
       "    </tr>\n",
       "    <tr>\n",
       "      <th>NASDAQ.FISV</th>\n",
       "    </tr>\n",
       "    <tr>\n",
       "      <th>...</th>\n",
       "      <th>...</th>\n",
       "    </tr>\n",
       "    <tr>\n",
       "      <th rowspan=\"5\" valign=\"top\">4</th>\n",
       "      <th>NASDAQ.STX</th>\n",
       "    </tr>\n",
       "    <tr>\n",
       "      <th>NYSE.BHI</th>\n",
       "    </tr>\n",
       "    <tr>\n",
       "      <th>NYSE.CHK</th>\n",
       "    </tr>\n",
       "    <tr>\n",
       "      <th>NYSE.FL</th>\n",
       "    </tr>\n",
       "    <tr>\n",
       "      <th>NYSE.SIG</th>\n",
       "    </tr>\n",
       "  </tbody>\n",
       "</table>\n",
       "<p>499 rows × 0 columns</p>\n",
       "</div>"
      ],
      "text/plain": [
       "Empty DataFrame\n",
       "Columns: []\n",
       "Index: [(0, NASDAQ.AMGN), (0, NASDAQ.CBOE), (0, NASDAQ.CME), (0, NASDAQ.CTSH), (0, NASDAQ.FISV), (0, NASDAQ.INFO), (0, NASDAQ.INTC), (0, NASDAQ.KHC), (0, NASDAQ.MDLZ), (0, NASDAQ.MSFT), (0, NASDAQ.NDAQ), (0, NASDAQ.PAYX), (0, NYSE.ABBV), (0, NYSE.ABT), (0, NYSE.ACN), (0, NYSE.AEE), (0, NYSE.AEP), (0, NYSE.AET), (0, NYSE.AFL), (0, NYSE.AIG), (0, NYSE.AJG), (0, NYSE.ALL), (0, NYSE.AME), (0, NYSE.AON), (0, NYSE.APD), (0, NYSE.APH), (0, NYSE.ARE), (0, NYSE.AVB), (0, NYSE.AVY), (0, NYSE.AWK), (0, NYSE.AXP), (0, NYSE.BA), (0, NYSE.BAX), (0, NYSE.BK), (0, NYSE.BRK.B), (0, NYSE.BSX), (0, NYSE.CB), (0, NYSE.CCL), (0, NYSE.CHD), (0, NYSE.CI), (0, NYSE.CL), (0, NYSE.CLX), (0, NYSE.CMS), (0, NYSE.CNP), (0, NYSE.CVS), (0, NYSE.CVX), (0, NYSE.D), (0, NYSE.DD), (0, NYSE.DGX), (0, NYSE.DHR), (0, NYSE.DIS), (0, NYSE.DOW), (0, NYSE.DPS), (0, NYSE.DTE), (0, NYSE.DUK), (0, NYSE.ECL), (0, NYSE.ED), (0, NYSE.EIX), (0, NYSE.EQR), (0, NYSE.ES), (0, NYSE.ETR), (0, NYSE.EXC), (0, NYSE.FBHS), (0, NYSE.FDX), (0, NYSE.FIS), (0, NYSE.FTV), (0, NYSE.GD), (0, NYSE.GIS), (0, NYSE.HCN), (0, NYSE.HD), (0, NYSE.HIG), (0, NYSE.HON), (0, NYSE.HRS), (0, NYSE.HSY), (0, NYSE.IBM), (0, NYSE.IP), (0, NYSE.IR), (0, NYSE.ITW), (0, NYSE.JNJ), (0, NYSE.K), (0, NYSE.KMB), (0, NYSE.KO), (0, NYSE.L), (0, NYSE.LEG), (0, NYSE.LLY), (0, NYSE.LMT), (0, NYSE.LNT), (0, NYSE.LVLT), (0, NYSE.MA), (0, NYSE.MCD), (0, NYSE.MCO), (0, NYSE.MDT), (0, NYSE.MMC), (0, NYSE.MMM), (0, NYSE.MON), (0, NYSE.MRK), (0, NYSE.NEE), (0, NYSE.NI), (0, NYSE.NOC), (0, NYSE.PCG), ...]\n",
       "\n",
       "[499 rows x 0 columns]"
      ]
     },
     "execution_count": 27,
     "metadata": {},
     "output_type": "execute_result"
    }
   ],
   "source": [
    "# stock wise cluster label\n",
    "volatility.reset_index(inplace=True)\n",
    "volatility.columns = [\"Stock Name\", \"Price Volatility\", \"Cluster Number\"]\n",
    "volatility.loc[:,[\"Stock Name\",\"Cluster Number\"]].groupby(by=[\"Cluster Number\",\"Stock Name\"]).count()"
   ]
  },
  {
   "cell_type": "markdown",
   "metadata": {},
   "source": [
    "### Problem 3:\n",
    "Identify which all stocks are moving together and which all stocks are different from each other."
   ]
  },
  {
   "cell_type": "markdown",
   "metadata": {},
   "source": [
    "Using log_returns to find stocks that are moving together and stocks that are different from each other."
   ]
  },
  {
   "cell_type": "code",
   "execution_count": 28,
   "metadata": {},
   "outputs": [
    {
     "data": {
      "text/plain": [
       "(501, 41266)"
      ]
     },
     "execution_count": 28,
     "metadata": {},
     "output_type": "execute_result"
    }
   ],
   "source": [
    "X = np.array(log_returns.T)\n",
    "X.shape"
   ]
  },
  {
   "cell_type": "code",
   "execution_count": 29,
   "metadata": {},
   "outputs": [
    {
     "data": {
      "image/png": "[encoded data removed]",
      "text/plain": [
       "<Figure size 432x288 with 1 Axes>"
      ]
     },
     "metadata": {
      "needs_background": "light"
     },
     "output_type": "display_data"
    }
   ],
   "source": [
    "# kmeans clustering algorithm with various values of k's\n",
    "wcss = []\n",
    "for k in range(2,15):\n",
    "    \n",
    "    kmeans = KMeans(n_clusters = k)\n",
    "    kmeans.fit(X)\n",
    "    \n",
    "    wcss.append(kmeans.inertia_) \n",
    "\n",
    "# plotting a scree plot to check the best k value\n",
    "plt.plot(range(2,15), wcss)\n",
    "plt.title(\"Elbow Curve\")\n",
    "plt.xlabel('Number of clusters')\n",
    "plt.ylabel('WCSS')\n",
    "plt.show()"
   ]
  },
  {
   "cell_type": "markdown",
   "metadata": {},
   "source": [
    "We can see an elbow forming at k = 12 and the point thereafter is comparatively smoother."
   ]
  },
  {
   "cell_type": "code",
   "execution_count": 30,
   "metadata": {},
   "outputs": [],
   "source": [
    "# kmeans with k = 12\n",
    "kmeans = KMeans(n_clusters = 12).fit(X)"
   ]
  },
  {
   "cell_type": "code",
   "execution_count": 31,
   "metadata": {},
   "outputs": [
    {
     "data": {
      "text/html": [
       "<div>\n",
       "<style scoped>\n",
       "    .dataframe tbody tr th:only-of-type {\n",
       "        vertical-align: middle;\n",
       "    }\n",
       "\n",
       "    .dataframe tbody tr th {\n",
       "        vertical-align: top;\n",
       "    }\n",
       "\n",
       "    .dataframe thead th {\n",
       "        text-align: right;\n",
       "    }\n",
       "</style>\n",
       "<table border=\"1\" class=\"dataframe\">\n",
       "  <thead>\n",
       "    <tr style=\"text-align: right;\">\n",
       "      <th></th>\n",
       "      <th></th>\n",
       "    </tr>\n",
       "    <tr>\n",
       "      <th>Cluster Number</th>\n",
       "      <th>Stock Name</th>\n",
       "    </tr>\n",
       "  </thead>\n",
       "  <tbody>\n",
       "    <tr>\n",
       "      <th rowspan=\"5\" valign=\"top\">0</th>\n",
       "      <th>NASDAQ.AAPL</th>\n",
       "    </tr>\n",
       "    <tr>\n",
       "      <th>NASDAQ.ADBE</th>\n",
       "    </tr>\n",
       "    <tr>\n",
       "      <th>NASDAQ.ADI</th>\n",
       "    </tr>\n",
       "    <tr>\n",
       "      <th>NASDAQ.ADSK</th>\n",
       "    </tr>\n",
       "    <tr>\n",
       "      <th>NASDAQ.AMAT</th>\n",
       "    </tr>\n",
       "    <tr>\n",
       "      <th>...</th>\n",
       "      <th>...</th>\n",
       "    </tr>\n",
       "    <tr>\n",
       "      <th rowspan=\"5\" valign=\"top\">11</th>\n",
       "      <th>NYSE.STT</th>\n",
       "    </tr>\n",
       "    <tr>\n",
       "      <th>NYSE.SYF</th>\n",
       "    </tr>\n",
       "    <tr>\n",
       "      <th>NYSE.UNM</th>\n",
       "    </tr>\n",
       "    <tr>\n",
       "      <th>NYSE.USB</th>\n",
       "    </tr>\n",
       "    <tr>\n",
       "      <th>NYSE.WFC</th>\n",
       "    </tr>\n",
       "  </tbody>\n",
       "</table>\n",
       "<p>501 rows × 0 columns</p>\n",
       "</div>"
      ],
      "text/plain": [
       "Empty DataFrame\n",
       "Columns: []\n",
       "Index: [(0, NASDAQ.AAPL), (0, NASDAQ.ADBE), (0, NASDAQ.ADI), (0, NASDAQ.ADSK), (0, NASDAQ.AMAT), (0, NASDAQ.AMD), (0, NASDAQ.AMZN), (0, NASDAQ.ATVI), (0, NASDAQ.AVGO), (0, NASDAQ.EA), (0, NASDAQ.EXPE), (0, NASDAQ.FB), (0, NASDAQ.GOOG), (0, NASDAQ.GOOGL), (0, NASDAQ.KLAC), (0, NASDAQ.LRCX), (0, NASDAQ.MCHP), (0, NASDAQ.MSFT), (0, NASDAQ.MU), (0, NASDAQ.NFLX), (0, NASDAQ.NTAP), (0, NASDAQ.NVDA), (0, NASDAQ.PYPL), (0, NASDAQ.QRVO), (0, NASDAQ.STX), (0, NASDAQ.SWKS), (0, NASDAQ.SYMC), (0, NASDAQ.TXN), (0, NASDAQ.WDC), (0, NASDAQ.XLNX), (0, NYSE.CRM), (0, NYSE.RHT), (1, NYSE.XRX), (2, NASDAQ.AAL), (2, NASDAQ.ADP), (2, NASDAQ.AKAM), (2, NASDAQ.ALXN), (2, NASDAQ.AMGN), (2, NASDAQ.BIIB), (2, NASDAQ.CA), (2, NASDAQ.CBOE), (2, NASDAQ.CELG), (2, NASDAQ.CERN), (2, NASDAQ.CHRW), (2, NASDAQ.CHTR), (2, NASDAQ.CINF), (2, NASDAQ.CMCSA), (2, NASDAQ.CME), (2, NASDAQ.COST), (2, NASDAQ.CSCO), (2, NASDAQ.CSX), (2, NASDAQ.CTAS), (2, NASDAQ.CTSH), (2, NASDAQ.CTXS), (2, NASDAQ.DISCA), (2, NASDAQ.DISCK), (2, NASDAQ.DISH), (2, NASDAQ.EBAY), (2, NASDAQ.EQIX), (2, NASDAQ.EXPD), (2, NASDAQ.FAST), (2, NASDAQ.FFIV), (2, NASDAQ.FISV), (2, NASDAQ.FLIR), (2, NASDAQ.FOX), (2, NASDAQ.FOXA), (2, NASDAQ.GILD), (2, NASDAQ.GRMN), (2, NASDAQ.GT), (2, NASDAQ.HAS), (2, NASDAQ.HOLX), (2, NASDAQ.HSIC), (2, NASDAQ.IDXX), (2, NASDAQ.ILMN), (2, NASDAQ.INCY), (2, NASDAQ.INFO), (2, NASDAQ.INTC), (2, NASDAQ.INTU), (2, NASDAQ.ISRG), (2, NASDAQ.JBHT), (2, NASDAQ.KHC), (2, NASDAQ.LKQ), (2, NASDAQ.MAR), (2, NASDAQ.MAT), (2, NASDAQ.MDLZ), (2, NASDAQ.MNST), (2, NASDAQ.MYL), (2, NASDAQ.NDAQ), (2, NASDAQ.NWS), (2, NASDAQ.NWSA), (2, NASDAQ.ORLY), (2, NASDAQ.PAYX), (2, NASDAQ.PCAR), (2, NASDAQ.PCLN), (2, NASDAQ.PDCO), (2, NASDAQ.QCOM), (2, NASDAQ.REGN), (2, NASDAQ.SBUX), (2, NASDAQ.SNI), (2, NASDAQ.SNPS), ...]\n",
       "\n",
       "[501 rows x 0 columns]"
      ]
     },
     "execution_count": 31,
     "metadata": {},
     "output_type": "execute_result"
    }
   ],
   "source": [
    "# creating a new df to group similar stocks\n",
    "similar_stocks = pd.DataFrame(log_returns.T.iloc[:,0])\n",
    "similar_stocks.drop(0, inplace=True, axis = 1)\n",
    "similar_stocks[\"Cluster Number\"] = kmeans.labels_\n",
    "similar_stocks.reset_index(inplace=True)\n",
    "similar_stocks.columns = [\"Stock Name\", \"Cluster Number\"]\n",
    "similar_stocks.groupby(by=[\"Cluster Number\",\"Stock Name\"]).count()"
   ]
  },
  {
   "cell_type": "code",
   "execution_count": 32,
   "metadata": {},
   "outputs": [
    {
     "data": {
      "text/plain": [
       "Text(0.5, 1.0, 'Stocks grouped based on similar price movements')"
      ]
     },
     "execution_count": 32,
     "metadata": {},
     "output_type": "execute_result"
    },
    {
     "data": {
      "image/png": "[encoded data removed]",
      "text/plain": [
       "<Figure size 432x288 with 1 Axes>"
      ]
     },
     "metadata": {
      "needs_background": "light"
     },
     "output_type": "display_data"
    }
   ],
   "source": [
    "sns.countplot(x = \"Cluster Number\", data = similar_stocks)\n",
    "plt.xlabel('Cluster Number',fontsize=12)\n",
    "plt.ylabel('Number of Stocks',fontsize=12)\n",
    "plt.title('Stocks grouped based on similar price movements')"
   ]
  }
 ],
 "metadata": {
  "kernelspec": {
   "display_name": "Python 3",
   "language": "python",
   "name": "python3"
  },
  "language_info": {
   "codemirror_mode": {
    "name": "ipython",
    "version": 3
   },
   "file_extension": ".py",
   "mimetype": "text/x-python",
   "name": "python",
   "nbconvert_exporter": "python",
   "pygments_lexer": "ipython3",
   "version": "3.8.3"
  }
 },
 "nbformat": 4,
 "nbformat_minor": 4
}
