{
 "cells": [
  {
   "cell_type": "code",
   "execution_count": 1,
   "metadata": {},
   "outputs": [],
   "source": [
    "# importing necessary libraries\n",
    "import pandas as pd\n",
    "import numpy as np\n",
    "import matplotlib.pyplot as plt\n",
    "import seaborn as sns\n",
    "from sklearn.cluster import KMeans\n",
    "from sklearn.preprocessing import Normalizer"
   ]
  },
  {
   "cell_type": "code",
   "execution_count": 2,
   "metadata": {},
   "outputs": [],
   "source": [
    "# importing the dataset\n",
    "df = pd.read_csv(\"C:\\\\Users\\\\Admin\\\\Desktop\\\\iNeuron\\\\Assignments\\\\Dataset\\\\data_stocks.csv\")"
   ]
  },
  {
   "cell_type": "code",
   "execution_count": 3,
   "metadata": {},
   "outputs": [
    {
     "data": {
      "text/html": [
       "<div>\n",
       "<style scoped>\n",
       "    .dataframe tbody tr th:only-of-type {\n",
       "        vertical-align: middle;\n",
       "    }\n",
       "\n",
       "    .dataframe tbody tr th {\n",
       "        vertical-align: top;\n",
       "    }\n",
       "\n",
       "    .dataframe thead th {\n",
       "        text-align: right;\n",
       "    }\n",
       "</style>\n",
       "<table border=\"1\" class=\"dataframe\">\n",
       "  <thead>\n",
       "    <tr style=\"text-align: right;\">\n",
       "      <th></th>\n",
       "      <th>DATE</th>\n",
       "      <th>SP500</th>\n",
       "      <th>NASDAQ.AAL</th>\n",
       "      <th>NASDAQ.AAPL</th>\n",
       "      <th>NASDAQ.ADBE</th>\n",
       "      <th>NASDAQ.ADI</th>\n",
       "      <th>NASDAQ.ADP</th>\n",
       "      <th>NASDAQ.ADSK</th>\n",
       "      <th>NASDAQ.AKAM</th>\n",
       "      <th>NASDAQ.ALXN</th>\n",
       "      <th>...</th>\n",
       "      <th>NYSE.WYN</th>\n",
       "      <th>NYSE.XEC</th>\n",
       "      <th>NYSE.XEL</th>\n",
       "      <th>NYSE.XL</th>\n",
       "      <th>NYSE.XOM</th>\n",
       "      <th>NYSE.XRX</th>\n",
       "      <th>NYSE.XYL</th>\n",
       "      <th>NYSE.YUM</th>\n",
       "      <th>NYSE.ZBH</th>\n",
       "      <th>NYSE.ZTS</th>\n",
       "    </tr>\n",
       "  </thead>\n",
       "  <tbody>\n",
       "    <tr>\n",
       "      <th>0</th>\n",
       "      <td>1491226200</td>\n",
       "      <td>2363.6101</td>\n",
       "      <td>42.3300</td>\n",
       "      <td>143.6800</td>\n",
       "      <td>129.6300</td>\n",
       "      <td>82.040</td>\n",
       "      <td>102.2300</td>\n",
       "      <td>85.2200</td>\n",
       "      <td>59.760</td>\n",
       "      <td>121.52</td>\n",
       "      <td>...</td>\n",
       "      <td>84.370</td>\n",
       "      <td>119.035</td>\n",
       "      <td>44.40</td>\n",
       "      <td>39.88</td>\n",
       "      <td>82.03</td>\n",
       "      <td>7.36</td>\n",
       "      <td>50.22</td>\n",
       "      <td>63.86</td>\n",
       "      <td>122.000</td>\n",
       "      <td>53.350</td>\n",
       "    </tr>\n",
       "    <tr>\n",
       "      <th>1</th>\n",
       "      <td>1491226260</td>\n",
       "      <td>2364.1001</td>\n",
       "      <td>42.3600</td>\n",
       "      <td>143.7000</td>\n",
       "      <td>130.3200</td>\n",
       "      <td>82.080</td>\n",
       "      <td>102.1400</td>\n",
       "      <td>85.6500</td>\n",
       "      <td>59.840</td>\n",
       "      <td>121.48</td>\n",
       "      <td>...</td>\n",
       "      <td>84.370</td>\n",
       "      <td>119.035</td>\n",
       "      <td>44.11</td>\n",
       "      <td>39.88</td>\n",
       "      <td>82.03</td>\n",
       "      <td>7.38</td>\n",
       "      <td>50.22</td>\n",
       "      <td>63.74</td>\n",
       "      <td>121.770</td>\n",
       "      <td>53.350</td>\n",
       "    </tr>\n",
       "    <tr>\n",
       "      <th>2</th>\n",
       "      <td>1491226320</td>\n",
       "      <td>2362.6799</td>\n",
       "      <td>42.3100</td>\n",
       "      <td>143.6901</td>\n",
       "      <td>130.2250</td>\n",
       "      <td>82.030</td>\n",
       "      <td>102.2125</td>\n",
       "      <td>85.5100</td>\n",
       "      <td>59.795</td>\n",
       "      <td>121.93</td>\n",
       "      <td>...</td>\n",
       "      <td>84.585</td>\n",
       "      <td>119.260</td>\n",
       "      <td>44.09</td>\n",
       "      <td>39.98</td>\n",
       "      <td>82.02</td>\n",
       "      <td>7.36</td>\n",
       "      <td>50.12</td>\n",
       "      <td>63.75</td>\n",
       "      <td>121.700</td>\n",
       "      <td>53.365</td>\n",
       "    </tr>\n",
       "    <tr>\n",
       "      <th>3</th>\n",
       "      <td>1491226380</td>\n",
       "      <td>2364.3101</td>\n",
       "      <td>42.3700</td>\n",
       "      <td>143.6400</td>\n",
       "      <td>130.0729</td>\n",
       "      <td>82.000</td>\n",
       "      <td>102.1400</td>\n",
       "      <td>85.4872</td>\n",
       "      <td>59.620</td>\n",
       "      <td>121.44</td>\n",
       "      <td>...</td>\n",
       "      <td>84.460</td>\n",
       "      <td>119.260</td>\n",
       "      <td>44.25</td>\n",
       "      <td>39.99</td>\n",
       "      <td>82.02</td>\n",
       "      <td>7.35</td>\n",
       "      <td>50.16</td>\n",
       "      <td>63.88</td>\n",
       "      <td>121.700</td>\n",
       "      <td>53.380</td>\n",
       "    </tr>\n",
       "    <tr>\n",
       "      <th>4</th>\n",
       "      <td>1491226440</td>\n",
       "      <td>2364.8501</td>\n",
       "      <td>42.5378</td>\n",
       "      <td>143.6600</td>\n",
       "      <td>129.8800</td>\n",
       "      <td>82.035</td>\n",
       "      <td>102.0600</td>\n",
       "      <td>85.7001</td>\n",
       "      <td>59.620</td>\n",
       "      <td>121.60</td>\n",
       "      <td>...</td>\n",
       "      <td>84.470</td>\n",
       "      <td>119.610</td>\n",
       "      <td>44.11</td>\n",
       "      <td>39.96</td>\n",
       "      <td>82.03</td>\n",
       "      <td>7.36</td>\n",
       "      <td>50.20</td>\n",
       "      <td>63.91</td>\n",
       "      <td>121.695</td>\n",
       "      <td>53.240</td>\n",
       "    </tr>\n",
       "  </tbody>\n",
       "</table>\n",
       "<p>5 rows × 502 columns</p>\n",
       "</div>"
      ],
      "text/plain": [
       "         DATE      SP500  NASDAQ.AAL  NASDAQ.AAPL  NASDAQ.ADBE  NASDAQ.ADI  \\\n",
       "0  1491226200  2363.6101     42.3300     143.6800     129.6300      82.040   \n",
       "1  1491226260  2364.1001     42.3600     143.7000     130.3200      82.080   \n",
       "2  1491226320  2362.6799     42.3100     143.6901     130.2250      82.030   \n",
       "3  1491226380  2364.3101     42.3700     143.6400     130.0729      82.000   \n",
       "4  1491226440  2364.8501     42.5378     143.6600     129.8800      82.035   \n",
       "\n",
       "   NASDAQ.ADP  NASDAQ.ADSK  NASDAQ.AKAM  NASDAQ.ALXN  ...  NYSE.WYN  NYSE.XEC  \\\n",
       "0    102.2300      85.2200       59.760       121.52  ...    84.370   119.035   \n",
       "1    102.1400      85.6500       59.840       121.48  ...    84.370   119.035   \n",
       "2    102.2125      85.5100       59.795       121.93  ...    84.585   119.260   \n",
       "3    102.1400      85.4872       59.620       121.44  ...    84.460   119.260   \n",
       "4    102.0600      85.7001       59.620       121.60  ...    84.470   119.610   \n",
       "\n",
       "   NYSE.XEL  NYSE.XL  NYSE.XOM  NYSE.XRX  NYSE.XYL  NYSE.YUM  NYSE.ZBH  \\\n",
       "0     44.40    39.88     82.03      7.36     50.22     63.86   122.000   \n",
       "1     44.11    39.88     82.03      7.38     50.22     63.74   121.770   \n",
       "2     44.09    39.98     82.02      7.36     50.12     63.75   121.700   \n",
       "3     44.25    39.99     82.02      7.35     50.16     63.88   121.700   \n",
       "4     44.11    39.96     82.03      7.36     50.20     63.91   121.695   \n",
       "\n",
       "   NYSE.ZTS  \n",
       "0    53.350  \n",
       "1    53.350  \n",
       "2    53.365  \n",
       "3    53.380  \n",
       "4    53.240  \n",
       "\n",
       "[5 rows x 502 columns]"
      ]
     },
     "execution_count": 3,
     "metadata": {},
     "output_type": "execute_result"
    }
   ],
   "source": [
    "# first five rows of the dataset \n",
    "df.head()"
   ]
  },
  {
   "cell_type": "code",
   "execution_count": 4,
   "metadata": {},
   "outputs": [],
   "source": [
    "# converting timestamp to datetime format\n",
    "df[\"DATE\"] = pd.to_datetime(df[\"DATE\"], unit=\"s\")"
   ]
  },
  {
   "cell_type": "code",
   "execution_count": 5,
   "metadata": {},
   "outputs": [
    {
     "name": "stdout",
     "output_type": "stream",
     "text": [
      "Number of Stocks: 502\n",
      "Number of Datapoints: 41266\n"
     ]
    }
   ],
   "source": [
    "# dimensions of the dataset\n",
    "print(\"Number of Stocks:\",df.shape[1])\n",
    "print(\"Number of Datapoints:\",df.shape[0])"
   ]
  },
  {
   "cell_type": "markdown",
   "metadata": {},
   "source": [
    "### Problem 1:\n",
    "There are various stocks for which we have collected a data set, which all stocks are apparently similar in performance."
   ]
  },
  {
   "cell_type": "markdown",
   "metadata": {},
   "source": [
    "We shall measure similarity in performance by measuring the stock's returns during the given period."
   ]
  },
  {
   "cell_type": "code",
   "execution_count": 6,
   "metadata": {},
   "outputs": [],
   "source": [
    "# function to calculate stock return\n",
    "def total_return(prices):\n",
    "    return (prices.iloc[-1]/prices.iloc[0] - 1)*100"
   ]
  },
  {
   "cell_type": "code",
   "execution_count": 7,
   "metadata": {},
   "outputs": [
    {
     "data": {
      "text/html": [
       "<div>\n",
       "<style scoped>\n",
       "    .dataframe tbody tr th:only-of-type {\n",
       "        vertical-align: middle;\n",
       "    }\n",
       "\n",
       "    .dataframe tbody tr th {\n",
       "        vertical-align: top;\n",
       "    }\n",
       "\n",
       "    .dataframe thead th {\n",
       "        text-align: right;\n",
       "    }\n",
       "</style>\n",
       "<table border=\"1\" class=\"dataframe\">\n",
       "  <thead>\n",
       "    <tr style=\"text-align: right;\">\n",
       "      <th></th>\n",
       "      <th>Total Returns</th>\n",
       "    </tr>\n",
       "  </thead>\n",
       "  <tbody>\n",
       "    <tr>\n",
       "      <th>SP500</th>\n",
       "      <td>4.564200</td>\n",
       "    </tr>\n",
       "    <tr>\n",
       "      <th>NASDAQ.AAL</th>\n",
       "      <td>5.693362</td>\n",
       "    </tr>\n",
       "    <tr>\n",
       "      <th>NASDAQ.AAPL</th>\n",
       "      <td>14.128619</td>\n",
       "    </tr>\n",
       "    <tr>\n",
       "      <th>NASDAQ.ADBE</th>\n",
       "      <td>19.694515</td>\n",
       "    </tr>\n",
       "    <tr>\n",
       "      <th>NASDAQ.ADI</th>\n",
       "      <td>2.011214</td>\n",
       "    </tr>\n",
       "    <tr>\n",
       "      <th>...</th>\n",
       "      <td>...</td>\n",
       "    </tr>\n",
       "    <tr>\n",
       "      <th>NYSE.XRX</th>\n",
       "      <td>338.451087</td>\n",
       "    </tr>\n",
       "    <tr>\n",
       "      <th>NYSE.XYL</th>\n",
       "      <td>23.596177</td>\n",
       "    </tr>\n",
       "    <tr>\n",
       "      <th>NYSE.YUM</th>\n",
       "      <td>20.278735</td>\n",
       "    </tr>\n",
       "    <tr>\n",
       "      <th>NYSE.ZBH</th>\n",
       "      <td>-6.327869</td>\n",
       "    </tr>\n",
       "    <tr>\n",
       "      <th>NYSE.ZTS</th>\n",
       "      <td>17.488285</td>\n",
       "    </tr>\n",
       "  </tbody>\n",
       "</table>\n",
       "<p>501 rows × 1 columns</p>\n",
       "</div>"
      ],
      "text/plain": [
       "             Total Returns\n",
       "SP500             4.564200\n",
       "NASDAQ.AAL        5.693362\n",
       "NASDAQ.AAPL      14.128619\n",
       "NASDAQ.ADBE      19.694515\n",
       "NASDAQ.ADI        2.011214\n",
       "...                    ...\n",
       "NYSE.XRX        338.451087\n",
       "NYSE.XYL         23.596177\n",
       "NYSE.YUM         20.278735\n",
       "NYSE.ZBH         -6.327869\n",
       "NYSE.ZTS         17.488285\n",
       "\n",
       "[501 rows x 1 columns]"
      ]
     },
     "execution_count": 7,
     "metadata": {},
     "output_type": "execute_result"
    }
   ],
   "source": [
    "# calculating stock returns\n",
    "returns = pd.DataFrame(total_return(df.iloc[:,1:]), columns = [\"Total Returns\"])\n",
    "returns"
   ]
  },
  {
   "cell_type": "code",
   "execution_count": 8,
   "metadata": {},
   "outputs": [],
   "source": [
    "# creating an array to pass it to the clustering algorithm\n",
    "X = returns.values"
   ]
  },
  {
   "cell_type": "code",
   "execution_count": 9,
   "metadata": {},
   "outputs": [
    {
     "data": {
      "image/png": "[encoded data removed]",
      "text/plain": [
       "<Figure size 432x288 with 1 Axes>"
      ]
     },
     "metadata": {
      "needs_background": "light"
     },
     "output_type": "display_data"
    }
   ],
   "source": [
    "# kmeans clustering algorithm with various values of k's\n",
    "wcss = []\n",
    "for k in range(2,15):\n",
    "    \n",
    "    kmeans = KMeans(n_clusters = k)\n",
    "    kmeans.fit(X)\n",
    "    \n",
    "    wcss.append(kmeans.inertia_) \n",
    "\n",
    "# plotting a scree plot to check the best k value\n",
    "plt.plot(range(2,15), wcss)\n",
    "plt.title(\"Elbow Curve\")\n",
    "plt.xlabel('Number of clusters')\n",
    "plt.ylabel('WCSS')\n",
    "plt.show()"
   ]
  },
  {
   "cell_type": "markdown",
   "metadata": {},
   "source": [
    "We can see an elbow forming at k = 7 and the point thereafter is comparatively smoother."
   ]
  },
  {
   "cell_type": "code",
   "execution_count": 10,
   "metadata": {},
   "outputs": [
    {
     "data": {
      "text/plain": [
       "<matplotlib.collections.PathCollection at 0x2429f128f70>"
      ]
     },
     "execution_count": 10,
     "metadata": {},
     "output_type": "execute_result"
    },
    {
     "data": {
      "image/png": "[encoded data removed]",
      "text/plain": [
       "<Figure size 432x288 with 1 Axes>"
      ]
     },
     "metadata": {
      "needs_background": "light"
     },
     "output_type": "display_data"
    }
   ],
   "source": [
    "# kmeans with k = 7\n",
    "kmeans = KMeans(n_clusters = 7).fit(X)\n",
    "\n",
    "# cluster centroid location\n",
    "centroids = kmeans.cluster_centers_\n",
    "\n",
    "# plotting the clusters\n",
    "plt.scatter(X[:,0], np.zeros_like(X),c = kmeans.labels_, cmap =\"rainbow\") "
   ]
  },
  {
   "cell_type": "markdown",
   "metadata": {},
   "source": [
    "We notice an outlier far to the right. Let's delete it to better visualize the formed clusters."
   ]
  },
  {
   "cell_type": "code",
   "execution_count": 11,
   "metadata": {},
   "outputs": [],
   "source": [
    "# finding the outlier with maximum return\n",
    "returns.idxmax()\n",
    "\n",
    "# removing the outlier\n",
    "returns.drop('NYSE.XRX', inplace=True, axis=0)"
   ]
  },
  {
   "cell_type": "code",
   "execution_count": 12,
   "metadata": {},
   "outputs": [
    {
     "data": {
      "text/plain": [
       "<matplotlib.collections.PathCollection at 0x2429f199a90>"
      ]
     },
     "execution_count": 12,
     "metadata": {},
     "output_type": "execute_result"
    },
    {
     "data": {
      "image/png": "[encoded data removed]",
      "text/plain": [
       "<Figure size 432x288 with 1 Axes>"
      ]
     },
     "metadata": {
      "needs_background": "light"
     },
     "output_type": "display_data"
    }
   ],
   "source": [
    "# recomputing and plotting the clusters\n",
    "X = returns.values\n",
    "kmeans = KMeans(n_clusters = 6).fit(X) # reducing k as one cluster centroid was assigned to the outlier\n",
    "centroids = kmeans.cluster_centers_\n",
    "plt.scatter(X[:,0], np.zeros_like(X),c = kmeans.labels_, cmap =\"rainbow\") "
   ]
  },
  {
   "cell_type": "code",
   "execution_count": 13,
   "metadata": {},
   "outputs": [
    {
     "data": {
      "text/html": [
       "<div>\n",
       "<style scoped>\n",
       "    .dataframe tbody tr th:only-of-type {\n",
       "        vertical-align: middle;\n",
       "    }\n",
       "\n",
       "    .dataframe tbody tr th {\n",
       "        vertical-align: top;\n",
       "    }\n",
       "\n",
       "    .dataframe thead th {\n",
       "        text-align: right;\n",
       "    }\n",
       "</style>\n",
       "<table border=\"1\" class=\"dataframe\">\n",
       "  <thead>\n",
       "    <tr style=\"text-align: right;\">\n",
       "      <th></th>\n",
       "      <th>Total Returns</th>\n",
       "      <th>Cluster Number</th>\n",
       "    </tr>\n",
       "  </thead>\n",
       "  <tbody>\n",
       "    <tr>\n",
       "      <th>SP500</th>\n",
       "      <td>4.564200</td>\n",
       "      <td>3</td>\n",
       "    </tr>\n",
       "    <tr>\n",
       "      <th>NASDAQ.AAL</th>\n",
       "      <td>5.693362</td>\n",
       "      <td>3</td>\n",
       "    </tr>\n",
       "    <tr>\n",
       "      <th>NASDAQ.AAPL</th>\n",
       "      <td>14.128619</td>\n",
       "      <td>0</td>\n",
       "    </tr>\n",
       "    <tr>\n",
       "      <th>NASDAQ.ADBE</th>\n",
       "      <td>19.694515</td>\n",
       "      <td>0</td>\n",
       "    </tr>\n",
       "    <tr>\n",
       "      <th>NASDAQ.ADI</th>\n",
       "      <td>2.011214</td>\n",
       "      <td>4</td>\n",
       "    </tr>\n",
       "  </tbody>\n",
       "</table>\n",
       "</div>"
      ],
      "text/plain": [
       "             Total Returns  Cluster Number\n",
       "SP500             4.564200               3\n",
       "NASDAQ.AAL        5.693362               3\n",
       "NASDAQ.AAPL      14.128619               0\n",
       "NASDAQ.ADBE      19.694515               0\n",
       "NASDAQ.ADI        2.011214               4"
      ]
     },
     "execution_count": 13,
     "metadata": {},
     "output_type": "execute_result"
    }
   ],
   "source": [
    "# adding a new column with labels\n",
    "returns[\"Cluster Number\"] = kmeans.labels_\n",
    "returns.head()"
   ]
  },
  {
   "cell_type": "code",
   "execution_count": 14,
   "metadata": {},
   "outputs": [
    {
     "data": {
      "text/plain": [
       "Text(0.5, 1.0, 'Stocks grouped based on performance')"
      ]
     },
     "execution_count": 14,
     "metadata": {},
     "output_type": "execute_result"
    },
    {
     "data": {
      "image/png": "[encoded data removed]",
      "text/plain": [
       "<Figure size 432x288 with 1 Axes>"
      ]
     },
     "metadata": {
      "needs_background": "light"
     },
     "output_type": "display_data"
    }
   ],
   "source": [
    "sns.countplot(x = \"Cluster Number\", data = returns)\n",
    "plt.xlabel('Cluster Number',fontsize=12)\n",
    "plt.ylabel('Number of Stocks',fontsize=12)\n",
    "plt.title('Stocks grouped based on performance')"
   ]
  },
  {
   "cell_type": "code",
   "execution_count": 15,
   "metadata": {},
   "outputs": [
    {
     "data": {
      "text/html": [
       "<div>\n",
       "<style scoped>\n",
       "    .dataframe tbody tr th:only-of-type {\n",
       "        vertical-align: middle;\n",
       "    }\n",
       "\n",
       "    .dataframe tbody tr th {\n",
       "        vertical-align: top;\n",
       "    }\n",
       "\n",
       "    .dataframe thead th {\n",
       "        text-align: right;\n",
       "    }\n",
       "</style>\n",
       "<table border=\"1\" class=\"dataframe\">\n",
       "  <thead>\n",
       "    <tr style=\"text-align: right;\">\n",
       "      <th></th>\n",
       "      <th></th>\n",
       "    </tr>\n",
       "    <tr>\n",
       "      <th>Cluster Number</th>\n",
       "      <th>Stock Name</th>\n",
       "    </tr>\n",
       "  </thead>\n",
       "  <tbody>\n",
       "    <tr>\n",
       "      <th rowspan=\"5\" valign=\"top\">0</th>\n",
       "      <th>NASDAQ.AAPL</th>\n",
       "    </tr>\n",
       "    <tr>\n",
       "      <th>NASDAQ.ADBE</th>\n",
       "    </tr>\n",
       "    <tr>\n",
       "      <th>NASDAQ.ALXN</th>\n",
       "    </tr>\n",
       "    <tr>\n",
       "      <th>NASDAQ.AMAT</th>\n",
       "    </tr>\n",
       "    <tr>\n",
       "      <th>NASDAQ.AVGO</th>\n",
       "    </tr>\n",
       "    <tr>\n",
       "      <th>...</th>\n",
       "      <th>...</th>\n",
       "    </tr>\n",
       "    <tr>\n",
       "      <th rowspan=\"5\" valign=\"top\">5</th>\n",
       "      <th>NYSE.BA</th>\n",
       "    </tr>\n",
       "    <tr>\n",
       "      <th>NYSE.BCR</th>\n",
       "    </tr>\n",
       "    <tr>\n",
       "      <th>NYSE.COL</th>\n",
       "    </tr>\n",
       "    <tr>\n",
       "      <th>NYSE.NRG</th>\n",
       "    </tr>\n",
       "    <tr>\n",
       "      <th>NYSE.TSS</th>\n",
       "    </tr>\n",
       "  </tbody>\n",
       "</table>\n",
       "<p>500 rows × 0 columns</p>\n",
       "</div>"
      ],
      "text/plain": [
       "Empty DataFrame\n",
       "Columns: []\n",
       "Index: [(0, NASDAQ.AAPL), (0, NASDAQ.ADBE), (0, NASDAQ.ALXN), (0, NASDAQ.AMAT), (0, NASDAQ.AVGO), (0, NASDAQ.BIIB), (0, NASDAQ.CBOE), (0, NASDAQ.CERN), (0, NASDAQ.CHTR), (0, NASDAQ.CTSH), (0, NASDAQ.EQIX), (0, NASDAQ.ETFC), (0, NASDAQ.EXPE), (0, NASDAQ.FB), (0, NASDAQ.GILD), (0, NASDAQ.GOOG), (0, NASDAQ.ILMN), (0, NASDAQ.INTU), (0, NASDAQ.LKQ), (0, NASDAQ.MCHP), (0, NASDAQ.MNST), (0, NASDAQ.MSFT), (0, NASDAQ.NFLX), (0, NASDAQ.SPLS), (0, NASDAQ.TROW), (0, NASDAQ.VRSN), (0, NASDAQ.WLTW), (0, NASDAQ.WYNN), (0, NASDAQ.XLNX), (0, NYSE.A), (0, NYSE.ABBV), (0, NYSE.ABT), (0, NYSE.AET), (0, NYSE.AFL), (0, NYSE.AME), (0, NYSE.AMT), (0, NYSE.ANTM), (0, NYSE.AON), (0, NYSE.APH), (0, NYSE.AVY), (0, NYSE.BAX), (0, NYSE.BF.B), (0, NYSE.C), (0, NYSE.CAT), (0, NYSE.CCI), (0, NYSE.CCL), (0, NYSE.CI), (0, NYSE.CNC), (0, NYSE.COO), (0, NYSE.CRM), (0, NYSE.DLPH), (0, NYSE.EL), (0, NYSE.ESS), (0, NYSE.EW), (0, NYSE.FIS), (0, NYSE.FMC), (0, NYSE.GPN), (0, NYSE.HBI), (0, NYSE.HRB), (0, NYSE.HUM), (0, NYSE.KMX), (0, NYSE.KSU), (0, NYSE.LMT), (0, NYSE.MA), (0, NYSE.MCD), (0, NYSE.MCO), (0, NYSE.NEE), (0, NYSE.NEM), (0, NYSE.NI), (0, NYSE.NOC), (0, NYSE.PGR), (0, NYSE.PKI), (0, NYSE.PLD), (0, NYSE.PRGO), (0, NYSE.PVH), (0, NYSE.RCL), (0, NYSE.RHT), (0, NYSE.RTN), (0, NYSE.SPGI), (0, NYSE.STT), (0, NYSE.STZ), (0, NYSE.TDG), (0, NYSE.TMO), (0, NYSE.TSO), (0, NYSE.UNH), (0, NYSE.V), (0, NYSE.VAR), (0, NYSE.VFC), (0, NYSE.WAT), (0, NYSE.WYN), (0, NYSE.XYL), (0, NYSE.YUM), (0, NYSE.ZTS), (1, NASDAQ.AKAM), (1, NASDAQ.AMD), (1, NASDAQ.CHRW), (1, NASDAQ.DISH), (1, NASDAQ.FAST), (1, NASDAQ.FFIV), (1, NASDAQ.FOX), ...]\n",
       "\n",
       "[500 rows x 0 columns]"
      ]
     },
     "execution_count": 15,
     "metadata": {},
     "output_type": "execute_result"
    }
   ],
   "source": [
    "# stock wise cluster label\n",
    "returns.reset_index(inplace=True)\n",
    "returns.columns = [\"Stock Name\", \"Total Returns\", \"Cluster Number\"]\n",
    "returns.loc[:,[\"Stock Name\",\"Cluster Number\"]].groupby(by=[\"Cluster Number\",\"Stock Name\"]).count()"
   ]
  },
  {
   "cell_type": "markdown",
   "metadata": {},
   "source": [
    "### Problem 2:\n",
    "How many Unique patterns that exist in the historical stock data set, based on fluctuations in price."
   ]
  },
  {
   "cell_type": "markdown",
   "metadata": {},
   "source": [
    "To find stocks that are similar based on fluctutations in price we can calculate the volatility of the stock."
   ]
  },
  {
   "cell_type": "code",
   "execution_count": 16,
   "metadata": {},
   "outputs": [],
   "source": [
    "# calculating log returns \n",
    "log_returns = np.log(df.iloc[:,1:]/df.iloc[:,1:].shift(1))"
   ]
  },
  {
   "cell_type": "code",
   "execution_count": 17,
   "metadata": {},
   "outputs": [],
   "source": [
    "# filling NaN values with 0\n",
    "log_returns.fillna(0, inplace=True)"
   ]
  },
  {
   "cell_type": "code",
   "execution_count": 18,
   "metadata": {},
   "outputs": [
    {
     "data": {
      "text/plain": [
       "(41266, 501)"
      ]
     },
     "execution_count": 18,
     "metadata": {},
     "output_type": "execute_result"
    }
   ],
   "source": [
    "# calculating volatility\n",
    "volatility = log_returns.rolling(window=41266).std()*np.sqrt(252)\n",
    "volatility.shape"
   ]
  },
  {
   "cell_type": "code",
   "execution_count": 19,
   "metadata": {
    "scrolled": true
   },
   "outputs": [
    {
     "data": {
      "text/html": [
       "<div>\n",
       "<style scoped>\n",
       "    .dataframe tbody tr th:only-of-type {\n",
       "        vertical-align: middle;\n",
       "    }\n",
       "\n",
       "    .dataframe tbody tr th {\n",
       "        vertical-align: top;\n",
       "    }\n",
       "\n",
       "    .dataframe thead th {\n",
       "        text-align: right;\n",
       "    }\n",
       "</style>\n",
       "<table border=\"1\" class=\"dataframe\">\n",
       "  <thead>\n",
       "    <tr style=\"text-align: right;\">\n",
       "      <th></th>\n",
       "      <th>Price Volatility</th>\n",
       "    </tr>\n",
       "  </thead>\n",
       "  <tbody>\n",
       "    <tr>\n",
       "      <th>SP500</th>\n",
       "      <td>0.003567</td>\n",
       "    </tr>\n",
       "    <tr>\n",
       "      <th>NASDAQ.AAL</th>\n",
       "      <td>0.014348</td>\n",
       "    </tr>\n",
       "    <tr>\n",
       "      <th>NASDAQ.AAPL</th>\n",
       "      <td>0.009810</td>\n",
       "    </tr>\n",
       "    <tr>\n",
       "      <th>NASDAQ.ADBE</th>\n",
       "      <td>0.009643</td>\n",
       "    </tr>\n",
       "    <tr>\n",
       "      <th>NASDAQ.ADI</th>\n",
       "      <td>0.012357</td>\n",
       "    </tr>\n",
       "  </tbody>\n",
       "</table>\n",
       "</div>"
      ],
      "text/plain": [
       "             Price Volatility\n",
       "SP500                0.003567\n",
       "NASDAQ.AAL           0.014348\n",
       "NASDAQ.AAPL          0.009810\n",
       "NASDAQ.ADBE          0.009643\n",
       "NASDAQ.ADI           0.012357"
      ]
     },
     "execution_count": 19,
     "metadata": {},
     "output_type": "execute_result"
    }
   ],
   "source": [
    "volatility = pd.DataFrame(volatility.T.iloc[:,-1])\n",
    "volatility.columns = [\"Price Volatility\"]\n",
    "volatility.head()"
   ]
  },
  {
   "cell_type": "code",
   "execution_count": 20,
   "metadata": {},
   "outputs": [
    {
     "data": {
      "text/plain": [
       "array([[0.00356667],\n",
       "       [0.01434816],\n",
       "       [0.00980975],\n",
       "       [0.00964251],\n",
       "       [0.0123574 ]])"
      ]
     },
     "execution_count": 20,
     "metadata": {},
     "output_type": "execute_result"
    }
   ],
   "source": [
    "# creating an array to pass it to the clustering algorithm\n",
    "X = volatility.values\n",
    "X = X.reshape(-1, 1)\n",
    "X[:5]"
   ]
  },
  {
   "cell_type": "code",
   "execution_count": 21,
   "metadata": {},
   "outputs": [
    {
     "data": {
      "image/png": "[encoded data removed]",
      "text/plain": [
       "<Figure size 432x288 with 1 Axes>"
      ]
     },
     "metadata": {
      "needs_background": "light"
     },
     "output_type": "display_data"
    }
   ],
   "source": [
    "# kmeans clustering algorithm with various values of k's\n",
    "wcss = []\n",
    "for k in range(2,15):\n",
    "    \n",
    "    kmeans = KMeans(n_clusters = k)\n",
    "    kmeans.fit(X)\n",
    "    \n",
    "    wcss.append(kmeans.inertia_) \n",
    "\n",
    "# plotting a scree plot to check the best k value\n",
    "plt.plot(range(2,15), wcss)\n",
    "plt.title(\"Elbow Curve\")\n",
    "plt.xlabel('Number of clusters')\n",
    "plt.ylabel('WCSS')\n",
    "plt.show()"
   ]
  },
  {
   "cell_type": "markdown",
   "metadata": {},
   "source": [
    "We can see an elbow forming at k = 7 and the point thereafter is comparatively smoother."
   ]
  },
  {
   "cell_type": "code",
   "execution_count": 22,
   "metadata": {},
   "outputs": [
    {
     "data": {
      "text/plain": [
       "<matplotlib.collections.PathCollection at 0x2429f2893a0>"
      ]
     },
     "execution_count": 22,
     "metadata": {},
     "output_type": "execute_result"
    },
    {
     "data": {
      "image/png": "[encoded data removed]",
      "text/plain": [
       "<Figure size 432x288 with 1 Axes>"
      ]
     },
     "metadata": {
      "needs_background": "light"
     },
     "output_type": "display_data"
    }
   ],
   "source": [
    "# kmeans with k = 7\n",
    "kmeans = KMeans(n_clusters = 7).fit(X)\n",
    "\n",
    "# cluster centroid location\n",
    "centroids = kmeans.cluster_centers_\n",
    "\n",
    "# plotting the clusters\n",
    "plt.scatter(X[:,0], np.zeros_like(X),c = kmeans.labels_, cmap =\"rainbow\") "
   ]
  },
  {
   "cell_type": "markdown",
   "metadata": {},
   "source": [
    "We can see that we have two extreme outliers. Removing them to better visualize our clusters."
   ]
  },
  {
   "cell_type": "code",
   "execution_count": 23,
   "metadata": {},
   "outputs": [],
   "source": [
    "# finding the outliers\n",
    "volatility.nlargest(5, \"Price Volatility\")\n",
    "\n",
    "# removing the outliers\n",
    "volatility.drop(['NYSE.XRX', 'NYSE.BLL'] , inplace=True, axis=0)"
   ]
  },
  {
   "cell_type": "code",
   "execution_count": 24,
   "metadata": {},
   "outputs": [
    {
     "data": {
      "text/plain": [
       "<matplotlib.collections.PathCollection at 0x2429f0c1130>"
      ]
     },
     "execution_count": 24,
     "metadata": {},
     "output_type": "execute_result"
    },
    {
     "data": {
      "image/png": "[encoded data removed]",
      "text/plain": [
       "<Figure size 432x288 with 1 Axes>"
      ]
     },
     "metadata": {
      "needs_background": "light"
     },
     "output_type": "display_data"
    }
   ],
   "source": [
    "# recomputing and plotting the clusters\n",
    "X = volatility.values\n",
    "X = X.reshape(-1, 1)\n",
    "kmeans = KMeans(n_clusters = 5).fit(X) # reducing k as two cluster centroids were assigned to the outliers\n",
    "centroids = kmeans.cluster_centers_\n",
    "plt.scatter(X[:,0], np.zeros_like(X),c = kmeans.labels_, cmap =\"rainbow\") "
   ]
  },
  {
   "cell_type": "code",
   "execution_count": 25,
   "metadata": {},
   "outputs": [
    {
     "data": {
      "text/html": [
       "<div>\n",
       "<style scoped>\n",
       "    .dataframe tbody tr th:only-of-type {\n",
       "        vertical-align: middle;\n",
       "    }\n",
       "\n",
       "    .dataframe tbody tr th {\n",
       "        vertical-align: top;\n",
       "    }\n",
       "\n",
       "    .dataframe thead th {\n",
       "        text-align: right;\n",
       "    }\n",
       "</style>\n",
       "<table border=\"1\" class=\"dataframe\">\n",
       "  <thead>\n",
       "    <tr style=\"text-align: right;\">\n",
       "      <th></th>\n",
       "      <th>Price Volatility</th>\n",
       "      <th>Cluster Number</th>\n",
       "    </tr>\n",
       "  </thead>\n",
       "  <tbody>\n",
       "    <tr>\n",
       "      <th>SP500</th>\n",
       "      <td>0.003567</td>\n",
       "      <td>1</td>\n",
       "    </tr>\n",
       "    <tr>\n",
       "      <th>NASDAQ.AAL</th>\n",
       "      <td>0.014348</td>\n",
       "      <td>3</td>\n",
       "    </tr>\n",
       "    <tr>\n",
       "      <th>NASDAQ.AAPL</th>\n",
       "      <td>0.009810</td>\n",
       "      <td>0</td>\n",
       "    </tr>\n",
       "    <tr>\n",
       "      <th>NASDAQ.ADBE</th>\n",
       "      <td>0.009643</td>\n",
       "      <td>0</td>\n",
       "    </tr>\n",
       "    <tr>\n",
       "      <th>NASDAQ.ADI</th>\n",
       "      <td>0.012357</td>\n",
       "      <td>3</td>\n",
       "    </tr>\n",
       "  </tbody>\n",
       "</table>\n",
       "</div>"
      ],
      "text/plain": [
       "             Price Volatility  Cluster Number\n",
       "SP500                0.003567               1\n",
       "NASDAQ.AAL           0.014348               3\n",
       "NASDAQ.AAPL          0.009810               0\n",
       "NASDAQ.ADBE          0.009643               0\n",
       "NASDAQ.ADI           0.012357               3"
      ]
     },
     "execution_count": 25,
     "metadata": {},
     "output_type": "execute_result"
    }
   ],
   "source": [
    "# adding a new column with labels\n",
    "volatility[\"Cluster Number\"] = kmeans.labels_\n",
    "volatility.head()"
   ]
  },
  {
   "cell_type": "code",
   "execution_count": 26,
   "metadata": {},
   "outputs": [
    {
     "data": {
      "text/plain": [
       "Text(0.5, 1.0, 'Stocks grouped based on Volatility')"
      ]
     },
     "execution_count": 26,
     "metadata": {},
     "output_type": "execute_result"
    },
    {
     "data": {
      "image/png": "[encoded data removed]",
      "text/plain": [
       "<Figure size 432x288 with 1 Axes>"
      ]
     },
     "metadata": {
      "needs_background": "light"
     },
     "output_type": "display_data"
    }
   ],
   "source": [
    "sns.countplot(x = \"Cluster Number\", data = volatility)\n",
    "plt.xlabel('Cluster Number',fontsize=12)\n",
    "plt.ylabel('Number of Stocks',fontsize=12)\n",
    "plt.title('Stocks grouped based on Volatility')"
   ]
  },
  {
   "cell_type": "code",
   "execution_count": 27,
   "metadata": {},
   "outputs": [
    {
     "data": {
      "text/html": [
       "<div>\n",
       "<style scoped>\n",
       "    .dataframe tbody tr th:only-of-type {\n",
       "        vertical-align: middle;\n",
       "    }\n",
       "\n",
       "    .dataframe tbody tr th {\n",
       "        vertical-align: top;\n",
       "    }\n",
       "\n",
       "    .dataframe thead th {\n",
       "        text-align: right;\n",
       "    }\n",
       "</style>\n",
       "<table border=\"1\" class=\"dataframe\">\n",
       "  <thead>\n",
       "    <tr style=\"text-align: right;\">\n",
       "      <th></th>\n",
       "      <th></th>\n",
       "    </tr>\n",
       "    <tr>\n",
       "      <th>Cluster Number</th>\n",
       "      <th>Stock Name</th>\n",
       "    </tr>\n",
       "  </thead>\n",
       "  <tbody>\n",
       "    <tr>\n",
       "      <th rowspan=\"5\" valign=\"top\">0</th>\n",
       "      <th>NASDAQ.AAPL</th>\n",
       "    </tr>\n",
       "    <tr>\n",
       "      <th>NASDAQ.ADBE</th>\n",
       "    </tr>\n",
       "    <tr>\n",
       "      <th>NASDAQ.ADP</th>\n",
       "    </tr>\n",
       "    <tr>\n",
       "      <th>NASDAQ.AMZN</th>\n",
       "    </tr>\n",
       "    <tr>\n",
       "      <th>NASDAQ.BIIB</th>\n",
       "    </tr>\n",
       "    <tr>\n",
       "      <th>...</th>\n",
       "      <th>...</th>\n",
       "    </tr>\n",
       "    <tr>\n",
       "      <th rowspan=\"5\" valign=\"top\">4</th>\n",
       "      <th>NASDAQ.STX</th>\n",
       "    </tr>\n",
       "    <tr>\n",
       "      <th>NYSE.BHI</th>\n",
       "    </tr>\n",
       "    <tr>\n",
       "      <th>NYSE.CHK</th>\n",
       "    </tr>\n",
       "    <tr>\n",
       "      <th>NYSE.FL</th>\n",
       "    </tr>\n",
       "    <tr>\n",
       "      <th>NYSE.SIG</th>\n",
       "    </tr>\n",
       "  </tbody>\n",
       "</table>\n",
       "<p>499 rows × 0 columns</p>\n",
       "</div>"
      ],
      "text/plain": [
       "Empty DataFrame\n",
       "Columns: []\n",
       "Index: [(0, NASDAQ.AAPL), (0, NASDAQ.ADBE), (0, NASDAQ.ADP), (0, NASDAQ.AMZN), (0, NASDAQ.BIIB), (0, NASDAQ.CELG), (0, NASDAQ.CERN), (0, NASDAQ.CHRW), (0, NASDAQ.CINF), (0, NASDAQ.CMCSA), (0, NASDAQ.COST), (0, NASDAQ.CSCO), (0, NASDAQ.CSX), (0, NASDAQ.CTAS), (0, NASDAQ.CTXS), (0, NASDAQ.EBAY), (0, NASDAQ.EQIX), (0, NASDAQ.EXPD), (0, NASDAQ.EXPE), (0, NASDAQ.FB), (0, NASDAQ.FLIR), (0, NASDAQ.FOX), (0, NASDAQ.GILD), (0, NASDAQ.GOOG), (0, NASDAQ.GOOGL), (0, NASDAQ.GRMN), (0, NASDAQ.HAS), (0, NASDAQ.HOLX), (0, NASDAQ.HSIC), (0, NASDAQ.IDXX), (0, NASDAQ.INTU), (0, NASDAQ.ISRG), (0, NASDAQ.JBHT), (0, NASDAQ.LKQ), (0, NASDAQ.MAR), (0, NASDAQ.MCHP), (0, NASDAQ.MNST), (0, NASDAQ.NTRS), (0, NASDAQ.PBCT), (0, NASDAQ.PCAR), (0, NASDAQ.PCLN), (0, NASDAQ.PYPL), (0, NASDAQ.QCOM), (0, NASDAQ.SBUX), (0, NASDAQ.SNPS), (0, NASDAQ.SRCL), (0, NASDAQ.TROW), (0, NASDAQ.TXN), (0, NASDAQ.VRSK), (0, NASDAQ.VRSN), (0, NASDAQ.WBA), (0, NASDAQ.WLTW), (0, NASDAQ.XRAY), (0, NYSE.A), (0, NYSE.ADM), (0, NYSE.AES), (0, NYSE.AGN), (0, NYSE.AIV), (0, NYSE.AIZ), (0, NYSE.ALB), (0, NYSE.ALLE), (0, NYSE.AMP), (0, NYSE.AMT), (0, NYSE.ANTM), (0, NYSE.BBT), (0, NYSE.BDX), (0, NYSE.BEN), (0, NYSE.BLK), (0, NYSE.BMY), (0, NYSE.BXP), (0, NYSE.C), (0, NYSE.CAG), (0, NYSE.CAT), (0, NYSE.CBG), (0, NYSE.CBS), (0, NYSE.CCI), (0, NYSE.CMI), (0, NYSE.COF), (0, NYSE.COL), (0, NYSE.COO), (0, NYSE.COP), (0, NYSE.CPB), (0, NYSE.CRM), (0, NYSE.CSRA), (0, NYSE.DAL), (0, NYSE.DE), (0, NYSE.DFS), (0, NYSE.DHI), (0, NYSE.DLR), (0, NYSE.DOV), (0, NYSE.DRI), (0, NYSE.DVA), (0, NYSE.DXC), (0, NYSE.EFX), (0, NYSE.EL), (0, NYSE.EMN), (0, NYSE.EMR), (0, NYSE.EOG), (0, NYSE.ESS), (0, NYSE.ETN), ...]\n",
       "\n",
       "[499 rows x 0 columns]"
      ]
     },
     "execution_count": 27,
     "metadata": {},
     "output_type": "execute_result"
    }
   ],
   "source": [
    "# stock wise cluster label\n",
    "volatility.reset_index(inplace=True)\n",
    "volatility.columns = [\"Stock Name\", \"Price Volatility\", \"Cluster Number\"]\n",
    "volatility.loc[:,[\"Stock Name\",\"Cluster Number\"]].groupby(by=[\"Cluster Number\",\"Stock Name\"]).count()"
   ]
  },
  {
   "cell_type": "markdown",
   "metadata": {},
   "source": [
    "### Problem 3:\n",
    "Identify which all stocks are moving together and which all stocks are different from each other."
   ]
  },
  {
   "cell_type": "markdown",
   "metadata": {},
   "source": [
    "Using log_returns to find stocks that are moving together and stocks that are different from each other."
   ]
  },
  {
   "cell_type": "code",
   "execution_count": 28,
   "metadata": {},
   "outputs": [
    {
     "data": {
      "text/plain": [
       "(501, 41266)"
      ]
     },
     "execution_count": 28,
     "metadata": {},
     "output_type": "execute_result"
    }
   ],
   "source": [
    "X = np.array(log_returns.T)\n",
    "X.shape"
   ]
  },
  {
   "cell_type": "code",
   "execution_count": 29,
   "metadata": {},
   "outputs": [
    {
     "data": {
      "image/png": "[encoded data removed]",
      "text/plain": [
       "<Figure size 432x288 with 1 Axes>"
      ]
     },
     "metadata": {
      "needs_background": "light"
     },
     "output_type": "display_data"
    }
   ],
   "source": [
    "# kmeans clustering algorithm with various values of k's\n",
    "wcss = []\n",
    "for k in range(2,15):\n",
    "    \n",
    "    kmeans = KMeans(n_clusters = k)\n",
    "    kmeans.fit(X)\n",
    "    \n",
    "    wcss.append(kmeans.inertia_) \n",
    "\n",
    "# plotting a scree plot to check the best k value\n",
    "plt.plot(range(2,15), wcss)\n",
    "plt.title(\"Elbow Curve\")\n",
    "plt.xlabel('Number of clusters')\n",
    "plt.ylabel('WCSS')\n",
    "plt.show()"
   ]
  },
  {
   "cell_type": "markdown",
   "metadata": {},
   "source": [
    "We can see an elbow forming at k = 12 and the point thereafter is comparatively smoother."
   ]
  },
  {
   "cell_type": "code",
   "execution_count": 33,
   "metadata": {},
   "outputs": [],
   "source": [
    "# kmeans with k = 12\n",
    "kmeans = KMeans(n_clusters = 12).fit(X)"
   ]
  },
  {
   "cell_type": "code",
   "execution_count": 34,
   "metadata": {},
   "outputs": [
    {
     "data": {
      "text/html": [
       "<div>\n",
       "<style scoped>\n",
       "    .dataframe tbody tr th:only-of-type {\n",
       "        vertical-align: middle;\n",
       "    }\n",
       "\n",
       "    .dataframe tbody tr th {\n",
       "        vertical-align: top;\n",
       "    }\n",
       "\n",
       "    .dataframe thead th {\n",
       "        text-align: right;\n",
       "    }\n",
       "</style>\n",
       "<table border=\"1\" class=\"dataframe\">\n",
       "  <thead>\n",
       "    <tr style=\"text-align: right;\">\n",
       "      <th></th>\n",
       "      <th></th>\n",
       "    </tr>\n",
       "    <tr>\n",
       "      <th>Cluster Number</th>\n",
       "      <th>Stock Name</th>\n",
       "    </tr>\n",
       "  </thead>\n",
       "  <tbody>\n",
       "    <tr>\n",
       "      <th rowspan=\"5\" valign=\"top\">0</th>\n",
       "      <th>NASDAQ.AAL</th>\n",
       "    </tr>\n",
       "    <tr>\n",
       "      <th>NASDAQ.AAPL</th>\n",
       "    </tr>\n",
       "    <tr>\n",
       "      <th>NASDAQ.ADBE</th>\n",
       "    </tr>\n",
       "    <tr>\n",
       "      <th>NASDAQ.AKAM</th>\n",
       "    </tr>\n",
       "    <tr>\n",
       "      <th>NASDAQ.ALXN</th>\n",
       "    </tr>\n",
       "    <tr>\n",
       "      <th>...</th>\n",
       "      <th>...</th>\n",
       "    </tr>\n",
       "    <tr>\n",
       "      <th rowspan=\"5\" valign=\"top\">11</th>\n",
       "      <th>NYSE.STT</th>\n",
       "    </tr>\n",
       "    <tr>\n",
       "      <th>NYSE.SYF</th>\n",
       "    </tr>\n",
       "    <tr>\n",
       "      <th>NYSE.UNM</th>\n",
       "    </tr>\n",
       "    <tr>\n",
       "      <th>NYSE.USB</th>\n",
       "    </tr>\n",
       "    <tr>\n",
       "      <th>NYSE.WFC</th>\n",
       "    </tr>\n",
       "  </tbody>\n",
       "</table>\n",
       "<p>501 rows × 0 columns</p>\n",
       "</div>"
      ],
      "text/plain": [
       "Empty DataFrame\n",
       "Columns: []\n",
       "Index: [(0, NASDAQ.AAL), (0, NASDAQ.AAPL), (0, NASDAQ.ADBE), (0, NASDAQ.AKAM), (0, NASDAQ.ALXN), (0, NASDAQ.AMGN), (0, NASDAQ.AMZN), (0, NASDAQ.ATVI), (0, NASDAQ.BIIB), (0, NASDAQ.CA), (0, NASDAQ.CELG), (0, NASDAQ.CERN), (0, NASDAQ.CHTR), (0, NASDAQ.CMCSA), (0, NASDAQ.CSCO), (0, NASDAQ.CTSH), (0, NASDAQ.CTXS), (0, NASDAQ.DISH), (0, NASDAQ.EBAY), (0, NASDAQ.EXPE), (0, NASDAQ.FB), (0, NASDAQ.FFIV), (0, NASDAQ.GILD), (0, NASDAQ.GOOG), (0, NASDAQ.GOOGL), (0, NASDAQ.HOLX), (0, NASDAQ.IDXX), (0, NASDAQ.ILMN), (0, NASDAQ.INCY), (0, NASDAQ.INTC), (0, NASDAQ.INTU), (0, NASDAQ.MAR), (0, NASDAQ.MSFT), (0, NASDAQ.MYL), (0, NASDAQ.NFLX), (0, NASDAQ.PCLN), (0, NASDAQ.PYPL), (0, NASDAQ.QCOM), (0, NASDAQ.REGN), (0, NASDAQ.SNPS), (0, NASDAQ.SYMC), (0, NASDAQ.TRIP), (0, NASDAQ.VRSN), (0, NASDAQ.VRTX), (0, NASDAQ.WYNN), (0, NASDAQ.XRAY), (0, NYSE.ALK), (0, NYSE.CCL), (0, NYSE.CRM), (0, NYSE.DAL), (0, NYSE.GLW), (0, NYSE.GPN), (0, NYSE.HPE), (0, NYSE.HPQ), (0, NYSE.HRB), (0, NYSE.JNPR), (0, NYSE.LUV), (0, NYSE.MA), (0, NYSE.ORCL), (0, NYSE.RCL), (0, NYSE.RHT), (0, NYSE.TSS), (0, NYSE.UAL), (0, NYSE.V), (0, NYSE.WYN), (1, NYSE.XRX), (2, NYSE.APA), (2, NYSE.APC), (2, NYSE.CHK), (2, NYSE.COG), (2, NYSE.COP), (2, NYSE.CXO), (2, NYSE.DVN), (2, NYSE.EOG), (2, NYSE.EQT), (2, NYSE.FCX), (2, NYSE.FTI), (2, NYSE.HAL), (2, NYSE.HES), (2, NYSE.HP), (2, NYSE.KMI), (2, NYSE.MRO), (2, NYSE.MUR), (2, NYSE.NBL), (2, NYSE.NFX), (2, NYSE.NOV), (2, NYSE.NRG), (2, NYSE.OKE), (2, NYSE.OXY), (2, NYSE.PXD), (2, NYSE.RIG), (2, NYSE.RRC), (2, NYSE.SLB), (2, NYSE.WMB), (2, NYSE.XEC), (3, NYSE.BLL), (4, NASDAQ.ADP), (4, NASDAQ.CBOE), (4, NASDAQ.CHRW), (4, NASDAQ.CINF), ...]\n",
       "\n",
       "[501 rows x 0 columns]"
      ]
     },
     "execution_count": 34,
     "metadata": {},
     "output_type": "execute_result"
    }
   ],
   "source": [
    "# creating a new df to group similar stocks\n",
    "similar_stocks = pd.DataFrame(log_returns.T.iloc[:,0])\n",
    "similar_stocks.drop(0, inplace=True, axis = 1)\n",
    "similar_stocks[\"Cluster Number\"] = kmeans.labels_\n",
    "similar_stocks.reset_index(inplace=True)\n",
    "similar_stocks.columns = [\"Stock Name\", \"Cluster Number\"]\n",
    "similar_stocks.groupby(by=[\"Cluster Number\",\"Stock Name\"]).count()"
   ]
  },
  {
   "cell_type": "code",
   "execution_count": 35,
   "metadata": {},
   "outputs": [
    {
     "data": {
      "text/plain": [
       "Text(0.5, 1.0, 'Stocks grouped based on similar price movements')"
      ]
     },
     "execution_count": 35,
     "metadata": {},
     "output_type": "execute_result"
    },
    {
     "data": {
      "image/png": "[encoded data removed]",
      "text/plain": [
       "<Figure size 432x288 with 1 Axes>"
      ]
     },
     "metadata": {
      "needs_background": "light"
     },
     "output_type": "display_data"
    }
   ],
   "source": [
    "sns.countplot(x = \"Cluster Number\", data = similar_stocks)\n",
    "plt.xlabel('Cluster Number',fontsize=12)\n",
    "plt.ylabel('Number of Stocks',fontsize=12)\n",
    "plt.title('Stocks grouped based on similar price movements')"
   ]
  }
 ],
 "metadata": {
  "kernelspec": {
   "display_name": "Python 3",
   "language": "python",
   "name": "python3"
  },
  "language_info": {
   "codemirror_mode": {
    "name": "ipython",
    "version": 3
   },
   "file_extension": ".py",
   "mimetype": "text/x-python",
   "name": "python",
   "nbconvert_exporter": "python",
   "pygments_lexer": "ipython3",
   "version": "3.8.3"
  }
 },
 "nbformat": 4,
 "nbformat_minor": 4
}
