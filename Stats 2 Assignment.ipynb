{
 "cells": [
  {
   "cell_type": "markdown",
   "metadata": {},
   "source": [
    "### Problem Statement 1:\n",
    "\n",
    "In each of the following situations, state whether it is a correctly stated hypothesis\n",
    "testing problem and why?\n",
    "1. H0: μ = 25, H1: μ ≠ 25\n",
    "2. H0: σ > 10, H1: σ = 10\n",
    "3. H0: x = 50, H1: x ≠ 50\n",
    "4. H0: p = 0.1, H1: p = 0.5\n",
    "5. H0: s = 30, H1: s > 30"
   ]
  },
  {
   "cell_type": "markdown",
   "metadata": {},
   "source": [
    "1. Hypothesis is correctly stated as alternate hypothesis is a negation of null hypothesis.\n",
    "2. Hypothesis is incorrectly stated. The alternate hypothesis should be stated as σ <= 10.\n",
    "3. Hypothesis is incorrectly stated as hypothesis should not be for sample values.\n",
    "4. Hypothesis is incorrectly stated as both hypothesis are not related to each other.\n",
    "5. Hypothesis is incorrectly stated as hypothesis should be about the population not the sample values"
   ]
  },
  {
   "cell_type": "markdown",
   "metadata": {},
   "source": [
    "### Problem Statement 2:\n",
    "The college bookstore tells prospective students that the average cost of its\n",
    "textbooks is Rs. 52 with a standard deviation of Rs. 4.50. A group of smart statistics\n",
    "students thinks that the average cost is higher. To test the bookstore’s claim against\n",
    "their alternative, the students will select a random sample of size 100. Assume that\n",
    "the mean from their random sample is Rs. 52.80. Perform a hypothesis test at the\n",
    "5% level of significance and state your decision."
   ]
  },
  {
   "cell_type": "markdown",
   "metadata": {},
   "source": [
    "μ = 52\n",
    "\n",
    "σ = 4.50\n",
    "\n",
    "H0: μ = 52\n",
    "\n",
    "H1: μ ≠ 52\n",
    "\n",
    "Sample Size = 100\n",
    "\n",
    "Sample Mean = 52.80\n",
    "\n",
    "Significance Level = 0.05\n",
    "\n",
    "This a two tailed test. The critical value for the hypothesis at 5% significance level is +-1.96. \n",
    "\n",
    "z = Sample Mean - Population Mean / Population S.D. / sqrt(Sample Size)"
   ]
  },
  {
   "cell_type": "code",
   "execution_count": 1,
   "metadata": {},
   "outputs": [
    {
     "data": {
      "text/plain": [
       "1.7777777777777715"
      ]
     },
     "execution_count": 1,
     "metadata": {},
     "output_type": "execute_result"
    }
   ],
   "source": [
    "from math import sqrt\n",
    "z = (52.80 - 52)/(4.50/sqrt(100))\n",
    "z"
   ]
  },
  {
   "cell_type": "markdown",
   "metadata": {},
   "source": [
    "Since the computed z score lies between the acceptable range we can accept the null hypothesis of average cost of textbooks being Rs. 52"
   ]
  },
  {
   "cell_type": "markdown",
   "metadata": {},
   "source": [
    "### Problem Statement 3:\n",
    "A certain chemical pollutant in the Genesee River has been constant for several\n",
    "years with mean μ = 34 ppm (parts per million) and standard deviation σ = 8 ppm. A\n",
    "group of factory representatives whose companies discharge liquids into the river is\n",
    "now claiming that they have lowered the average with improved filtration devices. A\n",
    "group of environmentalists will test to see if this is true at the 1% level of\n",
    "significance. Assume \\ that their sample of size 50 gives a mean of 32.5 ppm.\n",
    "Perform a hypothesis test at the 1% level of significance and state your decision."
   ]
  },
  {
   "cell_type": "markdown",
   "metadata": {},
   "source": [
    "μ = 34 ppm\n",
    "\n",
    "σ = 8 ppm\n",
    "\n",
    "H0: μ >= 34 ppm\n",
    "\n",
    "H1: μ < 34 ppm\n",
    "\n",
    "Sample Size = 50\n",
    "\n",
    "Sample Mean = 32.5 ppm\n",
    "\n",
    "Significance Level = 0.01\n",
    "\n",
    "This is a one tailed test. The critical region for the hypothesis at 1% significance level is + 2.32.\n",
    "\n",
    "z = Sample Mean - Population Mean / Population S.D. / sqrt(Sample Size)"
   ]
  },
  {
   "cell_type": "code",
   "execution_count": 2,
   "metadata": {},
   "outputs": [
    {
     "data": {
      "text/plain": [
       "-1.3258252147247767"
      ]
     },
     "execution_count": 2,
     "metadata": {},
     "output_type": "execute_result"
    }
   ],
   "source": [
    "z = (32.5 - 34)/(8/sqrt(50))\n",
    "z"
   ]
  },
  {
   "cell_type": "markdown",
   "metadata": {},
   "source": [
    "p value = 0.0901\n",
    "\n",
    "p value > 0.01, we accept the null hypothesis.\n",
    "\n",
    "Since the computed z score lies within the acceptable values of our null hypothesis we can accept the null hypothesis concluding that the improved filtration devices have not reduced the pollution in the river."
   ]
  },
  {
   "cell_type": "markdown",
   "metadata": {},
   "source": [
    "### Problem Statement 4:\n",
    "Based on population figures and other general information on the U.S. population,\n",
    "suppose it has been estimated that, on average, a family of four in the U.S. spends\n",
    "about $1135 annually on dental expenditures. Suppose further that a regional dental\n",
    "association wants to test to determine if this figure is accurate for their area of\n",
    "country. To test this, 22 families of 4 are randomly selected from the population in\n",
    "that area of the country and a log is kept of the family’s dental expenditure for one\n",
    "year. The resulting data are given below. Assuming, that dental expenditure is\n",
    "normally distributed in the population, use the data and an alpha of 0.5 to test the\n",
    "dental association’s hypothesis.\n",
    "1008, 812, 1117, 1323, 1308, 1415, 831, 1021, 1287, 851, 930, 730, 699,\n",
    "872, 913, 944, 954, 987, 1695, 995, 1003, 994"
   ]
  },
  {
   "cell_type": "code",
   "execution_count": 3,
   "metadata": {},
   "outputs": [],
   "source": [
    "import statistics\n",
    "sample=[1008, 812, 1117, 1323, 1308, 1415, 831, 1021, 1287, 851, 930, 730, 699, 872, 913, 944, 954, 987, 1695, 995, 1003, 994]\n",
    "sample_mean = statistics.mean(sample)\n",
    "sample_stddev = statistics.stdev(sample)\n",
    "population_mean = 1135\n",
    "n=22"
   ]
  },
  {
   "cell_type": "markdown",
   "metadata": {},
   "source": [
    "H0: μ = $1135\n",
    "\n",
    "H1: μ ≠ $1135\n",
    "\n",
    "Significance Level = 0.05\n",
    "\n",
    "Since we do not have the population's standard deviation and the sample size is less than 30 we use T-test.\n",
    "\n",
    "t = [ X - μ ] / [ S / sqrt( n ) ]"
   ]
  },
  {
   "cell_type": "code",
   "execution_count": 4,
   "metadata": {},
   "outputs": [
    {
     "data": {
      "text/plain": [
       "0.0559738319464585"
      ]
     },
     "execution_count": 4,
     "metadata": {},
     "output_type": "execute_result"
    }
   ],
   "source": [
    "tt = (sample_mean - population_mean)/(sample_stddev/sqrt(n))\n",
    "\n",
    "from scipy.stats import t\n",
    "import numpy as np\n",
    "\n",
    "pval = t.sf(np.abs(tt), n-1)*2\n",
    "pval"
   ]
  },
  {
   "cell_type": "markdown",
   "metadata": {},
   "source": [
    "For t = -2.023 and degree of freedom = 22-1 = 21, we get a two tailed p value of 0.05597 which is greater than our significance level of 0.05. Hence we accept our null hypothesis."
   ]
  },
  {
   "cell_type": "markdown",
   "metadata": {},
   "source": [
    "### Problem Statement 5:\n",
    "In a report prepared by the Economic Research Department of a major bank the Department manager maintains that the average annual family income on Metropolis is `$` 48,432. What do you conclude about the validity of the report if a random sample of 400 families shows and average income of `$` 48,574 with a standard deviation of 2000?"
   ]
  },
  {
   "cell_type": "code",
   "execution_count": 5,
   "metadata": {},
   "outputs": [],
   "source": [
    "population_mean = 48432\n",
    "n = 400\n",
    "sample_mean = 48574\n",
    "sample_stddev = 2000"
   ]
  },
  {
   "cell_type": "markdown",
   "metadata": {},
   "source": [
    "H0: μ = $48432\n",
    "\n",
    "H1: μ ≠ $48432\n",
    "\n",
    "Since we do not have the population's standard deviation we use t-test."
   ]
  },
  {
   "cell_type": "code",
   "execution_count": 6,
   "metadata": {},
   "outputs": [
    {
     "data": {
      "text/plain": [
       "0.15638854177674044"
      ]
     },
     "execution_count": 6,
     "metadata": {},
     "output_type": "execute_result"
    }
   ],
   "source": [
    "tt = (sample_mean - population_mean)/(sample_stddev/sqrt(n))\n",
    "pval = t.sf(np.abs(tt), n-1)*2\n",
    "pval"
   ]
  },
  {
   "cell_type": "markdown",
   "metadata": {},
   "source": [
    "Assuming a significance level of 5% our p-value is well within the confidence interval we can accept the null hypothesis and conclude that the report is invalid."
   ]
  },
  {
   "cell_type": "markdown",
   "metadata": {},
   "source": [
    "### Problem Statement 6:\n",
    "Suppose that in past years the average price per square foot for warehouses in the United States has been `$` 32.28. A national real estate investor wants to determine whether that figure has changed now. The investor hires a researcher who randomly samples 19 warehouses that are for sale across the United States and finds that the mean price per square foot is `$` 31.67, with a standard deviation of `$` 1.29. assume that the prices of warehouse footage are normally distributed in population. If the researcher uses a 5% level of significance, what statistical conclusion can be reached? What are the hypotheses?"
   ]
  },
  {
   "cell_type": "code",
   "execution_count": 7,
   "metadata": {},
   "outputs": [],
   "source": [
    "population_mean = 32.38\n",
    "n = 19\n",
    "sample_mean = 31.67\n",
    "sample_stddev = 1.29\n",
    "significance_level=0.05"
   ]
  },
  {
   "cell_type": "markdown",
   "metadata": {},
   "source": [
    "H0: μ = $32.38\n",
    "\n",
    "H1: μ ≠ $31.67\n",
    "\n",
    "Significance Level = 0.05\n",
    "\n",
    "Since we do not have the population's standard deviation and the sample size is less than 30 we use T-test.\n",
    "\n",
    "t = [ X - μ ] / [ S / sqrt( n ) ]"
   ]
  },
  {
   "cell_type": "code",
   "execution_count": 8,
   "metadata": {},
   "outputs": [
    {
     "name": "stdout",
     "output_type": "stream",
     "text": [
      "0.027478482867696205 Reject Null Hypothesis\n"
     ]
    }
   ],
   "source": [
    "def find_pval_t(population_mean, sample_mean, sample_stddev, n, significance_level):\n",
    "    tt = (sample_mean - population_mean)/(sample_stddev/sqrt(n))\n",
    "    pval = t.sf(np.abs(tt), n-1)*2\n",
    "    if pval>significance_level:\n",
    "        conclusion = \"Accept Null Hypothesis\"\n",
    "    else:\n",
    "        conclusion = \"Reject Null Hypothesis\"\n",
    "    return print(pval, conclusion)\n",
    "\n",
    "find_pval_t(population_mean, sample_mean, sample_stddev, n, significance_level)"
   ]
  },
  {
   "cell_type": "markdown",
   "metadata": {},
   "source": [
    "Since computed p value is in the critical region the null hypothesis has to be rejected."
   ]
  },
  {
   "cell_type": "markdown",
   "metadata": {},
   "source": [
    "### Problem Statement 7:\n",
    "Fill in the blank spaces in the table and draw your conclusions from it."
   ]
  },
  {
   "attachments": {
    "image.png": {
     "image/png": "[encoded data removed]"
    }
   },
   "cell_type": "markdown",
   "metadata": {},
   "source": [
    "![image.png](attachment:image.png)"
   ]
  },
  {
   "cell_type": "markdown",
   "metadata": {},
   "source": [
    "How to solve this without sample standard deviation?"
   ]
  },
  {
   "cell_type": "markdown",
   "metadata": {},
   "source": [
    "### Problem Statement 8:\n",
    "Find the t-score for a sample size of 16 taken from a population with mean 10 when\n",
    "the sample mean is 12 and the sample standard deviation is 1.5."
   ]
  },
  {
   "cell_type": "code",
   "execution_count": 9,
   "metadata": {},
   "outputs": [
    {
     "name": "stdout",
     "output_type": "stream",
     "text": [
      "The t-score is  5.333333333333333\n"
     ]
    }
   ],
   "source": [
    "population_mean = 10\n",
    "n = 16\n",
    "sample_mean = 12\n",
    "sample_stddev = 1.5\n",
    "tt = (sample_mean - population_mean)/(sample_stddev/sqrt(n))\n",
    "print(\"The t-score is \",tt)"
   ]
  },
  {
   "cell_type": "markdown",
   "metadata": {},
   "source": [
    "### Problem Statement 9:\n",
    "Find the t-score below which we can expect 99% of sample means will fall if samples\n",
    "of size 16 are taken from a normally distributed population."
   ]
  },
  {
   "cell_type": "markdown",
   "metadata": {},
   "source": [
    "n = 16\n",
    "\n",
    "Degree of Freedom = 16-1 = 15\n",
    "\n",
    "Significance Level = 0.01\n",
    "\n",
    "Using the t-table at 1% significance level with df = 15, the t-score is 2.602."
   ]
  },
  {
   "cell_type": "markdown",
   "metadata": {},
   "source": [
    "### Problem Statement 10:\n",
    "If a random sample of size 25 drawn from a normal population gives a mean of 60\n",
    "and a standard deviation of 4, find the range of t-scores where we can expect to find\n",
    "the middle 95% of all sample means. Compute the probability that (−t0.05 <t<t0.10)."
   ]
  },
  {
   "cell_type": "markdown",
   "metadata": {},
   "source": [
    "n = 25\n",
    "\n",
    "Sample Mean = 60\n",
    "\n",
    "Sample Standard Deviation = 4\n",
    "\n",
    "Degree of Freedom = 25-1 = 24\n",
    "\n",
    "Significance Level = 5%\n",
    "\n",
    "Using the t-table at 5% significance level with df = 24, the range of t-scores where we can expect to find the middle 95% of all sample means are -2.064 to +2.064.\n",
    "\n",
    "P(-t0.05 < t < t0.10) = 1-0.05-0.10 = 0.85"
   ]
  },
  {
   "cell_type": "markdown",
   "metadata": {},
   "source": [
    "### Problem Statement 11:\n",
    "Two-tailed test for difference between two population means Is there evidence to conclude that the number of people travelling from Bangalore to Chennai is different from the number of people travelling from Bangalore to Hosur in\n",
    "a week, given the following:\n",
    "\n",
    "Population 1: Bangalore to Chennai n1 = 1200\n",
    "\n",
    "x1 = 452\n",
    "\n",
    "s1 = 212\n",
    "\n",
    "Population 2: Bangalore to Hosur n2 = 800\n",
    "\n",
    "x2 = 523\n",
    "\n",
    "s2 = 185"
   ]
  },
  {
   "cell_type": "markdown",
   "metadata": {},
   "source": [
    "Two Sample Z-test since n>30"
   ]
  },
  {
   "cell_type": "code",
   "execution_count": 10,
   "metadata": {},
   "outputs": [
    {
     "data": {
      "text/plain": [
       "-4.3410565250181925"
      ]
     },
     "execution_count": 10,
     "metadata": {},
     "output_type": "execute_result"
    }
   ],
   "source": [
    "n1 = 200\n",
    "x1 = 452\n",
    "s1 = 212\n",
    "n2 = 800\n",
    "x2 = 523\n",
    "s2 = 185\n",
    "\n",
    "standard_error = sqrt((s1**2/n1)+(s2**2/n2))\n",
    "z_test = (x1-x2)/standard_error\n",
    "z_test"
   ]
  },
  {
   "cell_type": "markdown",
   "metadata": {},
   "source": [
    "At 5% significance level z-score = -1.96. Since our computed z score is lower than -1.96 our null hypothesis is rejected."
   ]
  },
  {
   "cell_type": "markdown",
   "metadata": {},
   "source": [
    "### Problem Statement 12:\n",
    "Is there evidence to conclude that the number of people preferring Duracell battery is\n",
    "different from the number of people preferring Energizer battery, given the following:\n",
    "\n",
    "Population 1: Duracell\n",
    "\n",
    "n1 = 100\n",
    "\n",
    "x1 = 308\n",
    "\n",
    "s1 = 84\n",
    "\n",
    "Population 2: Energizer\n",
    "\n",
    "n2 = 100\n",
    "\n",
    "x2 = 254\n",
    "\n",
    "s2 = 67"
   ]
  },
  {
   "cell_type": "markdown",
   "metadata": {},
   "source": [
    "Two Sample Z-test since n>30"
   ]
  },
  {
   "cell_type": "code",
   "execution_count": 11,
   "metadata": {},
   "outputs": [
    {
     "data": {
      "text/plain": [
       "5.025702668336442"
      ]
     },
     "execution_count": 11,
     "metadata": {},
     "output_type": "execute_result"
    }
   ],
   "source": [
    "n1 = 100\n",
    "x1 = 308\n",
    "s1 = 84\n",
    "n2 = 100\n",
    "x2 = 254\n",
    "s2 = 67\n",
    "\n",
    "standard_error = sqrt((s1**2/n1)+(s2**2/n2))\n",
    "z_test = (x1-x2)/standard_error\n",
    "z_test"
   ]
  },
  {
   "cell_type": "markdown",
   "metadata": {},
   "source": [
    "At 5% significance level z-score = -1.96. Since our computed z score is greater than -1.96 our null hypothesis is accepted."
   ]
  },
  {
   "cell_type": "markdown",
   "metadata": {},
   "source": [
    "### Problem Statement 13:\n",
    "Pooled estimate of the population variance\n",
    "Does the data provide sufficient evidence to conclude that average percentage\n",
    "increase in the price of sugar differs when it is sold at two different prices?\n",
    "\n",
    "Population 1:\n",
    "\n",
    "Price of sugar = Rs. 27.50\n",
    "\n",
    "n1 = 14\n",
    "\n",
    "x1 = 0.317%\n",
    "\n",
    "s1 = 0.12%\n",
    "\n",
    "Population 2:\n",
    "\n",
    "Price of sugar = Rs. 20.00 \n",
    "\n",
    "n2 = 9\n",
    "\n",
    "x2 = 0.21%\n",
    "\n",
    "s2 = 0.11%"
   ]
  },
  {
   "cell_type": "markdown",
   "metadata": {},
   "source": [
    "Degree of Freedom = 14 + 9 - 2 = 21\n",
    "\n",
    "Two Sample T-test since n<30"
   ]
  },
  {
   "cell_type": "code",
   "execution_count": 12,
   "metadata": {},
   "outputs": [
    {
     "data": {
      "text/plain": [
       "2.1965113720074068"
      ]
     },
     "execution_count": 12,
     "metadata": {},
     "output_type": "execute_result"
    }
   ],
   "source": [
    "n1 = 14\n",
    "x1 = 0.317\n",
    "s1 = 0.12\n",
    "n2 = 9\n",
    "x2 = 0.21\n",
    "s2 = 0.11\n",
    "\n",
    "standard_error = sqrt((s1**2/n1)+(s2**2/n2))\n",
    "t_test = (x1-x2)/standard_error\n",
    "t_test"
   ]
  },
  {
   "cell_type": "markdown",
   "metadata": {},
   "source": [
    "At 5% significance level and df = 21 the t-score is 2.080. Since our computed t score is greater than 2.080 our null hypothesis is rejected."
   ]
  },
  {
   "cell_type": "markdown",
   "metadata": {},
   "source": [
    "### Problem Statement 14:\n",
    "The manufacturers of compact disk players want to test whether a small price\n",
    "reduction is enough to increase sales of their product. Is there evidence that the\n",
    "small price reduction is enough to increase sales of compact disk players?\n",
    "\n",
    "Population 1: Before reduction\n",
    "\n",
    "n1 = 15\n",
    "\n",
    "x1 = Rs. 6598\n",
    "\n",
    "s1 = Rs. 844\n",
    "\n",
    "Population 2: After reduction\n",
    "\n",
    "n2 = 12\n",
    "\n",
    "x2 = RS. 6870\n",
    "\n",
    "s2 = Rs. 669"
   ]
  },
  {
   "cell_type": "markdown",
   "metadata": {},
   "source": [
    "Degree of Freedom = 15 + 12 - 2 = 25\n",
    "\n",
    "Two Sample T-test since n<30"
   ]
  },
  {
   "cell_type": "code",
   "execution_count": 13,
   "metadata": {},
   "outputs": [
    {
     "data": {
      "text/plain": [
       "-0.9341299576730813"
      ]
     },
     "execution_count": 13,
     "metadata": {},
     "output_type": "execute_result"
    }
   ],
   "source": [
    "n1 = 15\n",
    "x1 = 6598\n",
    "s1 = 844\n",
    "n2 = 12\n",
    "x2 = 6870\n",
    "s2 = 669\n",
    "\n",
    "standard_error = sqrt((s1**2/n1)+(s2**2/n2))\n",
    "t_test = (x1-x2)/standard_error\n",
    "t_test"
   ]
  },
  {
   "cell_type": "markdown",
   "metadata": {},
   "source": [
    "At 5% significance level and df = 25 the t-score is -2.060. Since our computed t score is greater than -2.060 our null hypothesis is accepted."
   ]
  },
  {
   "cell_type": "markdown",
   "metadata": {},
   "source": [
    "### Problem Statement 15:\n",
    "Comparisons of two population proportions when the hypothesized difference is zero\n",
    "Carry out a two-tailed test of the equality of banks’ share of the car loan market in\n",
    "1980 and 1995.\n",
    "\n",
    "Population 1: 1980\n",
    "\n",
    "n1 = 1000\n",
    "\n",
    "x1 = 53\n",
    "\n",
    "p 1 = 0.53\n",
    "\n",
    "Population 2: 1985\n",
    "\n",
    "n2 = 100\n",
    "\n",
    "x2 = 43\n",
    "\n",
    "p 2= 0.53"
   ]
  },
  {
   "cell_type": "markdown",
   "metadata": {},
   "source": [
    "H0: No Difference \n",
    "    \n",
    "    P1 = P2\n",
    "    \n",
    "    P1-P2 = 0\n",
    "    \n",
    "H1: There is a difference \n",
    "    \n",
    "    P1 ≠ P2\n",
    "    \n",
    "    P1-P2 ≠ 0"
   ]
  },
  {
   "cell_type": "code",
   "execution_count": 14,
   "metadata": {},
   "outputs": [
    {
     "data": {
      "text/plain": [
       "0.0"
      ]
     },
     "execution_count": 14,
     "metadata": {},
     "output_type": "execute_result"
    }
   ],
   "source": [
    "n1 = 1000\n",
    "x1 = 53\n",
    "p1 = 0.53\n",
    "n2 = 100\n",
    "x2 = 43\n",
    "p2 = 0.53\n",
    "\n",
    "pooled_sample_proportion = ((p1*n1) + (p2*n2))/(n1+n2)\n",
    "standard_error = sqrt(pooled_sample_proportion*(1-pooled_sample_proportion)*((1/n1)+(1/n2)))\n",
    "z = (p1-p2)/standard_error\n",
    "z"
   ]
  },
  {
   "cell_type": "markdown",
   "metadata": {},
   "source": [
    "At 5% significance level the z score is 1.64. Since the computed z value is within the acceptable region, the null hypothesis is accepted."
   ]
  },
  {
   "cell_type": "markdown",
   "metadata": {},
   "source": [
    "### Problem Statement 16:\n",
    "Carry out a one-tailed test to determine whether the population proportion of traveler’s check buyers who buy at least $2500 in checks when sweepstakes prizes are offered as at least 10% higher than the proportion of such buyers when no sweepstakes are on.\n",
    "\n",
    "Population 1: With sweepstakes\n",
    "\n",
    "n1 = 300\n",
    "\n",
    "x1 = 120\n",
    "\n",
    "p 1= 0.40\n",
    "\n",
    "Population 2: No sweepstakes\n",
    "\n",
    "n2 = 700\n",
    "\n",
    "x2 = 140\n",
    "\n",
    "p 2= 0.20"
   ]
  },
  {
   "cell_type": "markdown",
   "metadata": {},
   "source": [
    "One Tail Test\n",
    "\n",
    "H0: No Difference\n",
    "\n",
    "P1 - P2 <= 10%\n",
    "\n",
    "H1: Difference Exists\n",
    "\n",
    "P1 - P2 > 10%"
   ]
  },
  {
   "cell_type": "code",
   "execution_count": 15,
   "metadata": {},
   "outputs": [
    {
     "data": {
      "text/plain": [
       "6.607499047222304"
      ]
     },
     "execution_count": 15,
     "metadata": {},
     "output_type": "execute_result"
    }
   ],
   "source": [
    "n1 = 300\n",
    "x1 = 120\n",
    "p1 = 0.40\n",
    "n2 = 700\n",
    "x2 = 140\n",
    "p2 = 0.20\n",
    "\n",
    "pooled_sample_proportion = ((p1*n1) + (p2*n2))/(n1+n2)\n",
    "standard_error = sqrt(pooled_sample_proportion*(1-pooled_sample_proportion)*((1/n1)+(1/n2)))\n",
    "z = (p1-p2)/standard_error\n",
    "z"
   ]
  },
  {
   "cell_type": "markdown",
   "metadata": {},
   "source": [
    "The p-value is less than 0.05. Hence the null hypothesis is rejected."
   ]
  },
  {
   "cell_type": "markdown",
   "metadata": {},
   "source": [
    "### Problem Statement 17:\n",
    "A die is thrown 132 times with the following results: Number turned up: 1, 2, 3, 4, 5, 6\n",
    "Frequency: 16, 20, 25, 14, 29, 28\n",
    "Is the die unbiased? Consider the degrees of freedom as p − 1 ."
   ]
  },
  {
   "cell_type": "markdown",
   "metadata": {},
   "source": [
    "Die has 6 sides. Expected Frequency of each die face would be 132/6 = 22\n",
    "\n",
    "Degrees of Freedom = 6-1 = 5\n",
    "\n",
    "H0: The die is unbiased\n",
    "\n",
    "H1: The die is biased"
   ]
  },
  {
   "cell_type": "code",
   "execution_count": 16,
   "metadata": {},
   "outputs": [
    {
     "name": "stdout",
     "output_type": "stream",
     "text": [
      "9.0\n"
     ]
    }
   ],
   "source": [
    "import numpy as np\n",
    "observed_frequency = [16,20,25,14,29,28]\n",
    "expected_frequency = [22,22,22,22,22,22]\n",
    "diff = list(np.array(observed_frequency) - np.array(expected_frequency))\n",
    "squared = [n**2 for n in diff]\n",
    "chi_squared = sum(squared)/22\n",
    "print(chi_squared)"
   ]
  },
  {
   "cell_type": "markdown",
   "metadata": {},
   "source": [
    "Our critical value at df = 5 and significance level of 5% is 11.070. Since our computed value is less than the critical value, the null hypothesis is accepted."
   ]
  },
  {
   "attachments": {
    "image.png": {
     "image/png": "[encoded data removed]"
    }
   },
   "cell_type": "markdown",
   "metadata": {},
   "source": [
    "### Problem Statement 18:\n",
    "In a certain town, there are about one million eligible voters. A simple random\n",
    "sample of 10,000 eligible voters was chosen to study the relationship between\n",
    "gender and participation in the last election. The results are summarized in the\n",
    "following 2X2 (read two by two) contingency table:\n",
    "![image.png](attachment:image.png)\n",
    "We would want to check whether being a man or a woman (columns) is independent of\n",
    "having voted in the last election (rows). In other words, is “gender and voting independent”?"
   ]
  },
  {
   "cell_type": "markdown",
   "metadata": {},
   "source": [
    "H0: Gender and voting independent\n",
    "\n",
    "H1: Gender and voting dependent\n",
    "\n",
    "Degree of Freedom = (2-1)(2-1) = 1"
   ]
  },
  {
   "cell_type": "code",
   "execution_count": 29,
   "metadata": {},
   "outputs": [
    {
     "data": {
      "text/html": [
       "<div>\n",
       "<style scoped>\n",
       "    .dataframe tbody tr th:only-of-type {\n",
       "        vertical-align: middle;\n",
       "    }\n",
       "\n",
       "    .dataframe tbody tr th {\n",
       "        vertical-align: top;\n",
       "    }\n",
       "\n",
       "    .dataframe thead th {\n",
       "        text-align: right;\n",
       "    }\n",
       "</style>\n",
       "<table border=\"1\" class=\"dataframe\">\n",
       "  <thead>\n",
       "    <tr style=\"text-align: right;\">\n",
       "      <th></th>\n",
       "      <th>Men</th>\n",
       "      <th>Women</th>\n",
       "      <th>Total</th>\n",
       "    </tr>\n",
       "  </thead>\n",
       "  <tbody>\n",
       "    <tr>\n",
       "      <th>Voted</th>\n",
       "      <td>2792.0</td>\n",
       "      <td>3591.0</td>\n",
       "      <td>6383.0</td>\n",
       "    </tr>\n",
       "    <tr>\n",
       "      <th>Not Voted</th>\n",
       "      <td>1486.0</td>\n",
       "      <td>2131.0</td>\n",
       "      <td>3617.0</td>\n",
       "    </tr>\n",
       "    <tr>\n",
       "      <th>Total</th>\n",
       "      <td>4278.0</td>\n",
       "      <td>5722.0</td>\n",
       "      <td>10000.0</td>\n",
       "    </tr>\n",
       "  </tbody>\n",
       "</table>\n",
       "</div>"
      ],
      "text/plain": [
       "              Men   Women    Total\n",
       "Voted      2792.0  3591.0   6383.0\n",
       "Not Voted  1486.0  2131.0   3617.0\n",
       "Total      4278.0  5722.0  10000.0"
      ]
     },
     "execution_count": 29,
     "metadata": {},
     "output_type": "execute_result"
    }
   ],
   "source": [
    "import pandas as pd\n",
    "observed = pd.DataFrame(data = [[2792,3591],[1486,2131]], columns=[\"Men\",\"Women\"], index=[\"Voted\", \"Not Voted\"])\n",
    "observed.loc['Total',:]= observed.sum(axis=0)\n",
    "observed.loc[:,'Total'] = observed.sum(axis=1)\n",
    "observed"
   ]
  },
  {
   "cell_type": "markdown",
   "metadata": {},
   "source": [
    "Calculating our expected table\n",
    "\n",
    "Expected Men who voted = Total Men * Total Voted / Grand Total = 4278*6383/10000 = 2731\n",
    "\n",
    "Expected Women who voted = Total Women * Total Voted / Grand Total = 5722*6383/10000 = 3652\n",
    "\n",
    "Expected Men who did not vote = Total Men * Total Not Voted / Grand Total = 4278*3617/10000 = 1547\n",
    "\n",
    "Expected Women who did not vote = Total Women * Total Not Voted / Grand Total = 5722*3617/10000 = 2070"
   ]
  },
  {
   "cell_type": "code",
   "execution_count": 30,
   "metadata": {},
   "outputs": [
    {
     "data": {
      "text/html": [
       "<div>\n",
       "<style scoped>\n",
       "    .dataframe tbody tr th:only-of-type {\n",
       "        vertical-align: middle;\n",
       "    }\n",
       "\n",
       "    .dataframe tbody tr th {\n",
       "        vertical-align: top;\n",
       "    }\n",
       "\n",
       "    .dataframe thead th {\n",
       "        text-align: right;\n",
       "    }\n",
       "</style>\n",
       "<table border=\"1\" class=\"dataframe\">\n",
       "  <thead>\n",
       "    <tr style=\"text-align: right;\">\n",
       "      <th></th>\n",
       "      <th>Men</th>\n",
       "      <th>Women</th>\n",
       "      <th>Total</th>\n",
       "    </tr>\n",
       "  </thead>\n",
       "  <tbody>\n",
       "    <tr>\n",
       "      <th>Voted</th>\n",
       "      <td>2731.0</td>\n",
       "      <td>3652.0</td>\n",
       "      <td>6383.0</td>\n",
       "    </tr>\n",
       "    <tr>\n",
       "      <th>Not Voted</th>\n",
       "      <td>1547.0</td>\n",
       "      <td>2070.0</td>\n",
       "      <td>3617.0</td>\n",
       "    </tr>\n",
       "    <tr>\n",
       "      <th>Total</th>\n",
       "      <td>4278.0</td>\n",
       "      <td>5722.0</td>\n",
       "      <td>10000.0</td>\n",
       "    </tr>\n",
       "  </tbody>\n",
       "</table>\n",
       "</div>"
      ],
      "text/plain": [
       "              Men   Women    Total\n",
       "Voted      2731.0  3652.0   6383.0\n",
       "Not Voted  1547.0  2070.0   3617.0\n",
       "Total      4278.0  5722.0  10000.0"
      ]
     },
     "execution_count": 30,
     "metadata": {},
     "output_type": "execute_result"
    }
   ],
   "source": [
    "expected = pd.DataFrame(data = [[2731,3652],[1547,2070]], columns=[\"Men\",\"Women\"], index=[\"Voted\", \"Not Voted\"])\n",
    "expected.loc['Total',:]= expected.sum(axis=0)\n",
    "expected.loc[:,'Total'] = expected.sum(axis=1)\n",
    "expected"
   ]
  },
  {
   "cell_type": "code",
   "execution_count": 39,
   "metadata": {},
   "outputs": [
    {
     "data": {
      "text/plain": [
       "6.584283456757529"
      ]
     },
     "execution_count": 39,
     "metadata": {},
     "output_type": "execute_result"
    }
   ],
   "source": [
    "((observed - expected)**2/expected).sum().sum()"
   ]
  },
  {
   "cell_type": "markdown",
   "metadata": {},
   "source": [
    "Our critical value at df = 1 and significance level of 5% is 3.841. Since our computed value is greater than the critical value, the null hypothesis is rejected. Gender and voting are dependent."
   ]
  },
  {
   "attachments": {
    "image.png": {
     "image/png": "[encoded data removed]"
    }
   },
   "cell_type": "markdown",
   "metadata": {},
   "source": [
    "### Problem Statement 19:\n",
    "A sample of 100 voters are asked which of four candidates they would vote for in an\n",
    "election. The number supporting each candidate is given below:\n",
    "![image.png](attachment:image.png)\n",
    "Do the data suggest that all candidates are equally popular? [Chi-Square = 14.96,\n",
    "with 3 df, p 0.05 .]"
   ]
  },
  {
   "cell_type": "markdown",
   "metadata": {},
   "source": [
    "The critical value at df = 3 and significance level of 5% is 7.815. Since our computed value is greater than the critical value the null hypothesis is rejected. The candidates are not equally popular."
   ]
  },
  {
   "attachments": {
    "image.png": {
     "image/png": "[encoded data removed]"
    }
   },
   "cell_type": "markdown",
   "metadata": {},
   "source": [
    "### Problem Statement 20:\n",
    "Children of three ages are asked to indicate their preference for three photographs of\n",
    "adults. Do the data suggest that there is a significant relationship between age and\n",
    "photograph preference? What is wrong with this study? [Chi-Square = 29.6, with 4\n",
    "df: p < 0.05].\n",
    "![image.png](attachment:image.png)"
   ]
  },
  {
   "cell_type": "markdown",
   "metadata": {},
   "source": [
    "The critical value at df = 4 and significance level of 5% is 9.488. Since our computed value is greater than the critical value the null hypothesis is rejected. There is a significant relationship between age and photography preference."
   ]
  },
  {
   "attachments": {
    "image.png": {
     "image/png": "[encoded data removed]"
    }
   },
   "cell_type": "markdown",
   "metadata": {},
   "source": [
    "### Problem Statement 21:\n",
    "\n",
    "A study of conformity using the Asch paradigm involved two conditions: one where\n",
    "one confederate supported the true judgement and another where no confederate\n",
    "gave the correct response.\n",
    "![image.png](attachment:image.png)\n",
    "Is there a significant difference between the \"support\" and \"no support\" conditions in the\n",
    "frequency with which individuals are likely to conform? [Chi-Square = 19.87, with 1 df:\n",
    "p < 0.05]."
   ]
  },
  {
   "cell_type": "markdown",
   "metadata": {},
   "source": [
    "The critical value at df = 1 and significance level of 5% is 6.635. Since our computed value is greater than the critical value the null hypothesis is rejected. There is a significant difference between the \"support\" and \"no support\" conditions in the frequency with which individuals are likely to conform."
   ]
  },
  {
   "attachments": {
    "image.png": {
     "image/png": "[encoded data removed]"
    }
   },
   "cell_type": "markdown",
   "metadata": {},
   "source": [
    "### Problem Statement 22:\n",
    "\n",
    "We want to test whether short people differ with respect to their leadership qualities\n",
    "(Genghis Khan, Adolf Hitler and Napoleon were all stature-deprived, and how many midget\n",
    "MP's are there?) The following table shows the frequencies with which 43 short people and\n",
    "52 tall people were categorized as \"leaders\", \"followers\" or as \"unclassifiable\". Is there a\n",
    "relationship between height and leadership qualities?\n",
    "[Chi-Square = 10.71, with 2 df: p < 0.01].\n",
    "![image.png](attachment:image.png)"
   ]
  },
  {
   "cell_type": "markdown",
   "metadata": {},
   "source": [
    "The critical value at df = 2 and significance level of 1% is 9.210. Since our computed value is greater than the critical value the null hypothesis is rejected. There is a relationship between heigh and leadership qualities."
   ]
  },
  {
   "attachments": {
    "image.png": {
     "image/png": "[encoded data removed]"
    }
   },
   "cell_type": "markdown",
   "metadata": {},
   "source": [
    "### Problem Statement 23:\n",
    "\n",
    "Each respondent in the Current Population Survey of March 1993 was classified as\n",
    "employed, unemployed, or outside the labor force. The results for men in California age 35-\n",
    "44 can be cross-tabulated by marital status, as follows:\n",
    "![image.png](attachment:image.png)\n",
    "Men of different marital status seem to have different distributions of labor force status. Or is\n",
    "this just chance variation? (you may assume the table results from a simple random\n",
    "sample.)"
   ]
  },
  {
   "cell_type": "markdown",
   "metadata": {},
   "source": [
    "H0: Marital Status and employment are independent\n",
    "\n",
    "H1: Marital Status and employment are dependent\n",
    "\n",
    "Degree of Freedom = (3-1)(3-1) = 4"
   ]
  },
  {
   "cell_type": "code",
   "execution_count": 55,
   "metadata": {},
   "outputs": [
    {
     "data": {
      "text/html": [
       "<div>\n",
       "<style scoped>\n",
       "    .dataframe tbody tr th:only-of-type {\n",
       "        vertical-align: middle;\n",
       "    }\n",
       "\n",
       "    .dataframe tbody tr th {\n",
       "        vertical-align: top;\n",
       "    }\n",
       "\n",
       "    .dataframe thead th {\n",
       "        text-align: right;\n",
       "    }\n",
       "</style>\n",
       "<table border=\"1\" class=\"dataframe\">\n",
       "  <thead>\n",
       "    <tr style=\"text-align: right;\">\n",
       "      <th></th>\n",
       "      <th>Married</th>\n",
       "      <th>Widowed, divorced or separated</th>\n",
       "      <th>Never married</th>\n",
       "      <th>Total</th>\n",
       "    </tr>\n",
       "  </thead>\n",
       "  <tbody>\n",
       "    <tr>\n",
       "      <th>Employed</th>\n",
       "      <td>679.0</td>\n",
       "      <td>103.0</td>\n",
       "      <td>114.0</td>\n",
       "      <td>896.0</td>\n",
       "    </tr>\n",
       "    <tr>\n",
       "      <th>Unemployed</th>\n",
       "      <td>63.0</td>\n",
       "      <td>10.0</td>\n",
       "      <td>20.0</td>\n",
       "      <td>93.0</td>\n",
       "    </tr>\n",
       "    <tr>\n",
       "      <th>Not in labor force</th>\n",
       "      <td>42.0</td>\n",
       "      <td>18.0</td>\n",
       "      <td>25.0</td>\n",
       "      <td>85.0</td>\n",
       "    </tr>\n",
       "    <tr>\n",
       "      <th>Total</th>\n",
       "      <td>784.0</td>\n",
       "      <td>131.0</td>\n",
       "      <td>159.0</td>\n",
       "      <td>1074.0</td>\n",
       "    </tr>\n",
       "  </tbody>\n",
       "</table>\n",
       "</div>"
      ],
      "text/plain": [
       "                    Married  Widowed, divorced or separated  Never married  \\\n",
       "Employed              679.0                           103.0          114.0   \n",
       "Unemployed             63.0                            10.0           20.0   \n",
       "Not in labor force     42.0                            18.0           25.0   \n",
       "Total                 784.0                           131.0          159.0   \n",
       "\n",
       "                     Total  \n",
       "Employed             896.0  \n",
       "Unemployed            93.0  \n",
       "Not in labor force    85.0  \n",
       "Total               1074.0  "
      ]
     },
     "execution_count": 55,
     "metadata": {},
     "output_type": "execute_result"
    }
   ],
   "source": [
    "import pandas as pd\n",
    "observed = pd.DataFrame(data = [[679,103,114],[63,10,20],[42,18,25]], columns=[\"Married\",\"Widowed, divorced or separated\",\"Never married\"], index=[\"Employed\", \"Unemployed\", \"Not in labor force\"])\n",
    "observed.loc['Total',:]= observed.sum(axis=0)\n",
    "observed.loc[:,'Total'] = observed.sum(axis=1)\n",
    "observed"
   ]
  },
  {
   "cell_type": "markdown",
   "metadata": {},
   "source": [
    "Calculating our expected table"
   ]
  },
  {
   "cell_type": "code",
   "execution_count": 57,
   "metadata": {},
   "outputs": [
    {
     "data": {
      "text/html": [
       "<div>\n",
       "<style scoped>\n",
       "    .dataframe tbody tr th:only-of-type {\n",
       "        vertical-align: middle;\n",
       "    }\n",
       "\n",
       "    .dataframe tbody tr th {\n",
       "        vertical-align: top;\n",
       "    }\n",
       "\n",
       "    .dataframe thead th {\n",
       "        text-align: right;\n",
       "    }\n",
       "</style>\n",
       "<table border=\"1\" class=\"dataframe\">\n",
       "  <thead>\n",
       "    <tr style=\"text-align: right;\">\n",
       "      <th></th>\n",
       "      <th>Married</th>\n",
       "      <th>Widowed, divorced or separated</th>\n",
       "      <th>Never married</th>\n",
       "      <th>Total</th>\n",
       "    </tr>\n",
       "  </thead>\n",
       "  <tbody>\n",
       "    <tr>\n",
       "      <th>Employed</th>\n",
       "      <td>654.063315</td>\n",
       "      <td>109.288641</td>\n",
       "      <td>132.648045</td>\n",
       "      <td>896.0</td>\n",
       "    </tr>\n",
       "    <tr>\n",
       "      <th>Unemployed</th>\n",
       "      <td>67.888268</td>\n",
       "      <td>11.343575</td>\n",
       "      <td>13.768156</td>\n",
       "      <td>93.0</td>\n",
       "    </tr>\n",
       "    <tr>\n",
       "      <th>Not in labor force</th>\n",
       "      <td>62.048417</td>\n",
       "      <td>10.367784</td>\n",
       "      <td>12.583799</td>\n",
       "      <td>85.0</td>\n",
       "    </tr>\n",
       "    <tr>\n",
       "      <th>Total</th>\n",
       "      <td>784.000000</td>\n",
       "      <td>131.000000</td>\n",
       "      <td>159.000000</td>\n",
       "      <td>1074.0</td>\n",
       "    </tr>\n",
       "  </tbody>\n",
       "</table>\n",
       "</div>"
      ],
      "text/plain": [
       "                       Married  Widowed, divorced or separated  Never married  \\\n",
       "Employed            654.063315                      109.288641     132.648045   \n",
       "Unemployed           67.888268                       11.343575      13.768156   \n",
       "Not in labor force   62.048417                       10.367784      12.583799   \n",
       "Total               784.000000                      131.000000     159.000000   \n",
       "\n",
       "                     Total  \n",
       "Employed             896.0  \n",
       "Unemployed            93.0  \n",
       "Not in labor force    85.0  \n",
       "Total               1074.0  "
      ]
     },
     "execution_count": 57,
     "metadata": {},
     "output_type": "execute_result"
    }
   ],
   "source": [
    "expected = pd.DataFrame(data = [[0,0,0],[0,0,0],[0,0,0]], columns=[\"Married\",\"Widowed, divorced or separated\",\"Never married\"], index=[\"Employed\", \"Unemployed\", \"Not in labor force\"])\n",
    "expected.iloc[0,0] = (observed.iloc[3,0]*observed.iloc[0,3])/observed.iloc[3,3]\n",
    "expected.iloc[0,1] = (observed.iloc[3,1]*observed.iloc[0,3])/observed.iloc[3,3]\n",
    "expected.iloc[0,2] = (observed.iloc[3,2]*observed.iloc[0,3])/observed.iloc[3,3]\n",
    "expected.iloc[1,0] = (observed.iloc[3,0]*observed.iloc[1,3])/observed.iloc[3,3]\n",
    "expected.iloc[1,1] = (observed.iloc[3,1]*observed.iloc[1,3])/observed.iloc[3,3]\n",
    "expected.iloc[1,2] = (observed.iloc[3,2]*observed.iloc[1,3])/observed.iloc[3,3]\n",
    "expected.iloc[2,0] = (observed.iloc[3,0]*observed.iloc[2,3])/observed.iloc[3,3]\n",
    "expected.iloc[2,1] = (observed.iloc[3,1]*observed.iloc[2,3])/observed.iloc[3,3]\n",
    "expected.iloc[2,2] = (observed.iloc[3,2]*observed.iloc[2,3])/observed.iloc[3,3]\n",
    "\n",
    "expected.loc['Total',:]= expected.sum(axis=0)\n",
    "expected.loc[:,'Total'] = expected.sum(axis=1)\n",
    "expected"
   ]
  },
  {
   "cell_type": "code",
   "execution_count": 58,
   "metadata": {},
   "outputs": [
    {
     "data": {
      "text/plain": [
       "31.613103194077983"
      ]
     },
     "execution_count": 58,
     "metadata": {},
     "output_type": "execute_result"
    }
   ],
   "source": [
    "Chi_Squared = ((observed - expected)**2/expected).sum().sum()\n",
    "Chi_Squared"
   ]
  },
  {
   "cell_type": "markdown",
   "metadata": {},
   "source": [
    "The critical value at df = 4 and significance level of 5% is 9.488. Since our computed value is greater than the critical value the null hypothesis is rejected. Men of different marital status do have different distributions of labor force status"
   ]
  },
  {
   "cell_type": "code",
   "execution_count": null,
   "metadata": {},
   "outputs": [],
   "source": []
  }
 ],
 "metadata": {
  "kernelspec": {
   "display_name": "Python 3",
   "language": "python",
   "name": "python3"
  },
  "language_info": {
   "codemirror_mode": {
    "name": "ipython",
    "version": 3
   },
   "file_extension": ".py",
   "mimetype": "text/x-python",
   "name": "python",
   "nbconvert_exporter": "python",
   "pygments_lexer": "ipython3",
   "version": "3.8.3"
  }
 },
 "nbformat": 4,
 "nbformat_minor": 4
}
