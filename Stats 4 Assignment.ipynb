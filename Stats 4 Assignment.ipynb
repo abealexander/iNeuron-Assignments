{
 "cells": [
  {
   "attachments": {
    "image.png": {
     "image/png": "[encoded data removed]"
    }
   },
   "cell_type": "markdown",
   "metadata": {},
   "source": [
    "### Problem Statement 1:\n",
    "Is gender independent of education level? A random sample of 395 people were\n",
    "surveyed and each person was asked to report the highest education level they\n",
    "obtained. The data that resulted from the survey is summarized in the following table:\n",
    "![image.png](attachment:image.png)\n",
    "Question: Are gender and education level dependent at 5% level of significance? In\n",
    "other words, given the data collected above, is there a relationship between the\n",
    "gender of an individual and the level of education that they have obtained?"
   ]
  },
  {
   "cell_type": "markdown",
   "metadata": {},
   "source": [
    "H0: Gender and education independent\n",
    "\n",
    "H1: Gender and education dependent\n",
    "\n",
    "Degree of Freedom = (2-1)(4-1) = 3"
   ]
  },
  {
   "cell_type": "code",
   "execution_count": 1,
   "metadata": {},
   "outputs": [
    {
     "data": {
      "text/html": [
       "<div>\n",
       "<style scoped>\n",
       "    .dataframe tbody tr th:only-of-type {\n",
       "        vertical-align: middle;\n",
       "    }\n",
       "\n",
       "    .dataframe tbody tr th {\n",
       "        vertical-align: top;\n",
       "    }\n",
       "\n",
       "    .dataframe thead th {\n",
       "        text-align: right;\n",
       "    }\n",
       "</style>\n",
       "<table border=\"1\" class=\"dataframe\">\n",
       "  <thead>\n",
       "    <tr style=\"text-align: right;\">\n",
       "      <th></th>\n",
       "      <th>High School</th>\n",
       "      <th>Bachelors</th>\n",
       "      <th>Masters</th>\n",
       "      <th>Ph.d</th>\n",
       "      <th>Total</th>\n",
       "    </tr>\n",
       "  </thead>\n",
       "  <tbody>\n",
       "    <tr>\n",
       "      <th>Male</th>\n",
       "      <td>60.0</td>\n",
       "      <td>54.0</td>\n",
       "      <td>46.0</td>\n",
       "      <td>41.0</td>\n",
       "      <td>201.0</td>\n",
       "    </tr>\n",
       "    <tr>\n",
       "      <th>Female</th>\n",
       "      <td>40.0</td>\n",
       "      <td>44.0</td>\n",
       "      <td>53.0</td>\n",
       "      <td>57.0</td>\n",
       "      <td>194.0</td>\n",
       "    </tr>\n",
       "    <tr>\n",
       "      <th>Total</th>\n",
       "      <td>100.0</td>\n",
       "      <td>98.0</td>\n",
       "      <td>99.0</td>\n",
       "      <td>98.0</td>\n",
       "      <td>395.0</td>\n",
       "    </tr>\n",
       "  </tbody>\n",
       "</table>\n",
       "</div>"
      ],
      "text/plain": [
       "        High School  Bachelors  Masters  Ph.d  Total\n",
       "Male           60.0       54.0     46.0  41.0  201.0\n",
       "Female         40.0       44.0     53.0  57.0  194.0\n",
       "Total         100.0       98.0     99.0  98.0  395.0"
      ]
     },
     "execution_count": 1,
     "metadata": {},
     "output_type": "execute_result"
    }
   ],
   "source": [
    "import pandas as pd\n",
    "observed = pd.DataFrame(data = [[60,54,46,41],[40,44,53,57]], columns=[\"High School\",\"Bachelors\",\"Masters\",\"Ph.d\"], index=[\"Male\", \"Female\"])\n",
    "observed.loc['Total',:]= observed.sum(axis=0)\n",
    "observed.loc[:,'Total'] = observed.sum(axis=1)\n",
    "observed"
   ]
  },
  {
   "cell_type": "code",
   "execution_count": 47,
   "metadata": {},
   "outputs": [
    {
     "data": {
      "text/html": [
       "<div>\n",
       "<style scoped>\n",
       "    .dataframe tbody tr th:only-of-type {\n",
       "        vertical-align: middle;\n",
       "    }\n",
       "\n",
       "    .dataframe tbody tr th {\n",
       "        vertical-align: top;\n",
       "    }\n",
       "\n",
       "    .dataframe thead th {\n",
       "        text-align: right;\n",
       "    }\n",
       "</style>\n",
       "<table border=\"1\" class=\"dataframe\">\n",
       "  <thead>\n",
       "    <tr style=\"text-align: right;\">\n",
       "      <th></th>\n",
       "      <th>High School</th>\n",
       "      <th>Bachelors</th>\n",
       "      <th>Masters</th>\n",
       "      <th>Ph.d</th>\n",
       "      <th>Total</th>\n",
       "    </tr>\n",
       "  </thead>\n",
       "  <tbody>\n",
       "    <tr>\n",
       "      <th>Male</th>\n",
       "      <td>50.886076</td>\n",
       "      <td>49.868354</td>\n",
       "      <td>50.377215</td>\n",
       "      <td>49.868354</td>\n",
       "      <td>201.0</td>\n",
       "    </tr>\n",
       "    <tr>\n",
       "      <th>Female</th>\n",
       "      <td>49.113924</td>\n",
       "      <td>48.131646</td>\n",
       "      <td>48.622785</td>\n",
       "      <td>48.131646</td>\n",
       "      <td>194.0</td>\n",
       "    </tr>\n",
       "    <tr>\n",
       "      <th>Total</th>\n",
       "      <td>100.000000</td>\n",
       "      <td>98.000000</td>\n",
       "      <td>99.000000</td>\n",
       "      <td>98.000000</td>\n",
       "      <td>395.0</td>\n",
       "    </tr>\n",
       "  </tbody>\n",
       "</table>\n",
       "</div>"
      ],
      "text/plain": [
       "        High School  Bachelors    Masters       Ph.d  Total\n",
       "Male      50.886076  49.868354  50.377215  49.868354  201.0\n",
       "Female    49.113924  48.131646  48.622785  48.131646  194.0\n",
       "Total    100.000000  98.000000  99.000000  98.000000  395.0"
      ]
     },
     "execution_count": 47,
     "metadata": {},
     "output_type": "execute_result"
    }
   ],
   "source": [
    "# Calculating our expected table\n",
    "expected = pd.DataFrame(data = [[0,0,0,0],[0,0,0,0]], columns=[\"High School\",\"Bachelors\",\"Masters\",\"Ph.d\"], index=[\"Male\", \"Female\"])\n",
    "expected.iloc[0,0] = (observed.iloc[2,0]*observed.iloc[0,4])/observed.iloc[2,4]\n",
    "expected.iloc[0,1] = (observed.iloc[2,1]*observed.iloc[0,4])/observed.iloc[2,4]\n",
    "expected.iloc[0,2] = (observed.iloc[2,2]*observed.iloc[0,4])/observed.iloc[2,4]\n",
    "expected.iloc[0,3] = (observed.iloc[2,3]*observed.iloc[0,4])/observed.iloc[2,4]\n",
    "expected.iloc[1,0] = (observed.iloc[2,0]*observed.iloc[1,4])/observed.iloc[2,4]\n",
    "expected.iloc[1,1] = (observed.iloc[2,1]*observed.iloc[1,4])/observed.iloc[2,4]\n",
    "expected.iloc[1,2] = (observed.iloc[2,2]*observed.iloc[1,4])/observed.iloc[2,4]\n",
    "expected.iloc[1,3] = (observed.iloc[2,3]*observed.iloc[1,4])/observed.iloc[2,4]\n",
    "\n",
    "expected.loc['Total',:]= expected.sum(axis=0)\n",
    "expected.loc[:,'Total'] = expected.sum(axis=1)\n",
    "expected"
   ]
  },
  {
   "cell_type": "code",
   "execution_count": 48,
   "metadata": {},
   "outputs": [
    {
     "data": {
      "text/plain": [
       "8.006066246262538"
      ]
     },
     "execution_count": 48,
     "metadata": {},
     "output_type": "execute_result"
    }
   ],
   "source": [
    "Chi_Squared = ((observed - expected)**2/expected).sum().sum()\n",
    "Chi_Squared"
   ]
  },
  {
   "cell_type": "markdown",
   "metadata": {},
   "source": [
    "The critical value at df = 3 and significance level of 5% is 7.815. Since our computed value is greater than the critical value the null hypothesis is rejected. Gender and Education are dependent."
   ]
  },
  {
   "cell_type": "markdown",
   "metadata": {},
   "source": [
    "### Problem Statement 2:\n",
    "Using the following data, perform a oneway analysis of variance using α=.05. Write\n",
    "up the results in APA format.\n",
    "\n",
    "[Group1: 51, 45, 33, 45, 67]\n",
    "\n",
    "[Group2: 23, 43, 23, 43, 45]\n",
    "\n",
    "[Group3: 56, 76, 74, 87, 56]"
   ]
  },
  {
   "cell_type": "markdown",
   "metadata": {},
   "source": [
    "H0: μ1 = μ2 = μ3\n",
    "\n",
    "H1: μ1 ≠ μ2 ≠ μ3\n",
    "\n",
    "α = 0.05"
   ]
  },
  {
   "cell_type": "code",
   "execution_count": null,
   "metadata": {},
   "outputs": [],
   "source": [
    "# Between\n",
    "SSbetween = (sum(df.groupby('group').sum()['weight']**2)/n) \\\n",
    "    - (df['weight'].sum()**2)/N\n",
    "\n",
    "# Within\n",
    "#sum_y_squared = sum([value**2 for value in df['weight'].values])\n",
    "SSwithin = sum_y_squared - sum(df.groupby('group').sum()['weight']**2)/n\n",
    "\n",
    "# Total\n",
    "SStotal = sum_y_squared - (df['weight'].sum()**2)/N\n"
   ]
  },
  {
   "cell_type": "code",
   "execution_count": 61,
   "metadata": {},
   "outputs": [],
   "source": [
    "Group1 = [51, 45, 33, 45, 67]\n",
    "Group2 = [23, 43, 23, 43, 45]\n",
    "Group3 = [56, 76, 74, 87, 56]\n",
    "\n",
    "# Number of elements in each group\n",
    "n1 = len(Group1)\n",
    "n2 = len(Group2)\n",
    "n3 = len(Group3)\n",
    "\n",
    "# Total number of elements in all groups\n",
    "n = n1 + n2 + n3\n",
    "\n",
    "# Mean of each group\n",
    "mean1 = sum(Group1)/n1\n",
    "mean2 = sum(Group2)/n2\n",
    "mean3 = sum(Group3)/n3\n",
    "\n",
    "# Mean of all groups (Average Mean can only be taken if sample size of all groups are the same)\n",
    "mean = (mean1 + mean2 + mean3) / 3\n",
    "\n",
    "# Number of groups\n",
    "k = 3"
   ]
  },
  {
   "cell_type": "code",
   "execution_count": 70,
   "metadata": {},
   "outputs": [],
   "source": [
    "# Sum of squared errors\n",
    "se1 = sum([(x-mean1)**2 for x in Group1])\n",
    "se2 = sum([(x-mean2)**2 for x in Group2])\n",
    "se3 = sum([(x-mean3)**2 for x in Group3])"
   ]
  },
  {
   "cell_type": "code",
   "execution_count": 74,
   "metadata": {},
   "outputs": [
    {
     "data": {
      "text/plain": [
       "155.06666666666666"
      ]
     },
     "execution_count": 74,
     "metadata": {},
     "output_type": "execute_result"
    }
   ],
   "source": [
    "# Sum of Squares within\n",
    "MSSw = (se1+se2+se3)/(n-k)\n",
    "MSSw"
   ]
  },
  {
   "cell_type": "code",
   "execution_count": 76,
   "metadata": {},
   "outputs": [
    {
     "data": {
      "text/plain": [
       "1511.4666666666665"
      ]
     },
     "execution_count": 76,
     "metadata": {},
     "output_type": "execute_result"
    }
   ],
   "source": [
    "# Sum of Squares between\n",
    "MSSb = ( (((mean1-mean)**2)*n1) + (((mean2-mean)**2)*n2) + (((mean3-mean)**2)*n3) ) / (k-1)\n",
    "MSSb"
   ]
  },
  {
   "cell_type": "code",
   "execution_count": 78,
   "metadata": {},
   "outputs": [
    {
     "data": {
      "text/plain": [
       "9.747205503009457"
      ]
     },
     "execution_count": 78,
     "metadata": {},
     "output_type": "execute_result"
    }
   ],
   "source": [
    "F = MSSb/MSSw\n",
    "F"
   ]
  },
  {
   "cell_type": "markdown",
   "metadata": {},
   "source": [
    "Degrees of Freedom between = k - 1 = 2\n",
    "\n",
    "Degrees of Freedom within = n - k = 12\n",
    "\n",
    "F critical value = 3.8853\n",
    "\n",
    "Since my F statistic is greater than my critical value, therefore H0 is rejected."
   ]
  },
  {
   "cell_type": "markdown",
   "metadata": {},
   "source": [
    "### Problem Statement 3:\n",
    "Calculate F Test for given 10, 20, 30, 40, 50 and 5,10,15, 20, 25."
   ]
  },
  {
   "cell_type": "code",
   "execution_count": 82,
   "metadata": {},
   "outputs": [],
   "source": [
    "import numpy as np\n",
    "\n",
    "given1 = np.array([10, 20, 30, 40, 50])\n",
    "given2 = np.array([5, 10, 15, 20, 25])"
   ]
  },
  {
   "cell_type": "code",
   "execution_count": 91,
   "metadata": {},
   "outputs": [
    {
     "data": {
      "text/plain": [
       "4.0"
      ]
     },
     "execution_count": 91,
     "metadata": {},
     "output_type": "execute_result"
    }
   ],
   "source": [
    "var1 = given1.var()\n",
    "var2 = given2.var()\n",
    "f = var1/var2\n",
    "f"
   ]
  }
 ],
 "metadata": {
  "kernelspec": {
   "display_name": "Python 3",
   "language": "python",
   "name": "python3"
  },
  "language_info": {
   "codemirror_mode": {
    "name": "ipython",
    "version": 3
   },
   "file_extension": ".py",
   "mimetype": "text/x-python",
   "name": "python",
   "nbconvert_exporter": "python",
   "pygments_lexer": "ipython3",
   "version": "3.8.3"
  }
 },
 "nbformat": 4,
 "nbformat_minor": 4
}
