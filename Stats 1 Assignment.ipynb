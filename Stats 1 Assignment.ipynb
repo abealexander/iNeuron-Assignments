{
 "cells": [
  {
   "cell_type": "markdown",
   "metadata": {},
   "source": [
    "### Problem Statement 1:\n",
    "The marks awarded for an assignment set for a Year 8 class of 20 students were as\n",
    "follows:\n",
    "6 7 5 7 7 8 7 6 9 7 4 10 6 8 8 9 5 6 4 8"
   ]
  },
  {
   "cell_type": "code",
   "execution_count": 70,
   "metadata": {},
   "outputs": [],
   "source": [
    "A = [6, 7, 5, 7, 7, 8, 7, 6, 9, 7, 4, 10, 6, 8, 8, 9, 5, 6, 4, 8]"
   ]
  },
  {
   "cell_type": "code",
   "execution_count": 73,
   "metadata": {},
   "outputs": [
    {
     "name": "stdout",
     "output_type": "stream",
     "text": [
      "The mean is 6.85\n"
     ]
    }
   ],
   "source": [
    "def find_mean(list):\n",
    "    mean=sum(list)/len(list)\n",
    "    return print(\"The mean is\",mean)\n",
    "    \n",
    "find_mean(A)"
   ]
  },
  {
   "cell_type": "code",
   "execution_count": 122,
   "metadata": {},
   "outputs": [
    {
     "name": "stdout",
     "output_type": "stream",
     "text": [
      "The median is 7.0\n"
     ]
    }
   ],
   "source": [
    "def find_median(list):\n",
    "    list.sort()\n",
    "    if len(list)%2 == 0:\n",
    "        median=(list[len(list)//2-1] + list[len(list)//2])/2\n",
    "    else:\n",
    "        median=list[len(list)//2]\n",
    "    return print(\"The median is\",median)\n",
    "\n",
    "find_median(A)"
   ]
  },
  {
   "cell_type": "code",
   "execution_count": 78,
   "metadata": {},
   "outputs": [
    {
     "name": "stdout",
     "output_type": "stream",
     "text": [
      "The mode is 7\n"
     ]
    }
   ],
   "source": [
    "def find_mode(list):\n",
    "    from collections import Counter\n",
    "    data = dict(Counter(list))\n",
    "    most_repeated_values = max(data.values())\n",
    "    mode = [a for a, b in data.items() if b == most_repeated_values]\n",
    "    if len(mode) == len(list):\n",
    "        mode = \"No Mode available\"\n",
    "    else:\n",
    "        pass\n",
    "    return print(\"The mode is\",mode[0])\n",
    "\n",
    "find_mode(A)"
   ]
  },
  {
   "cell_type": "markdown",
   "metadata": {},
   "source": [
    "### Problem Statement 2:\n",
    "The number of calls from motorists per day for roadside service was recorded for a\n",
    "particular month:\n",
    "28, 122, 217, 130, 120, 86, 80, 90, 140, 120, 70, 40, 145, 113, 90, 68, 174, 194, 170,\n",
    "100, 75, 104, 97, 75,\n",
    "123, 100, 75, 104, 97, 75, 123, 100, 89, 120, 109"
   ]
  },
  {
   "cell_type": "code",
   "execution_count": 79,
   "metadata": {},
   "outputs": [],
   "source": [
    "B = [28, 122, 217, 130, 120, 86, 80, 90, 140, 120, 70, 40, 145, 113, 90, 68, 174, 194, 170, 100, 75, 104, 97, 75, 123, 100, 75, 104, 97, 75, 123, 100, 89, 120, 109]"
   ]
  },
  {
   "cell_type": "code",
   "execution_count": 80,
   "metadata": {},
   "outputs": [
    {
     "name": "stdout",
     "output_type": "stream",
     "text": [
      "The mean is 107.51428571428572\n",
      "The mediann is 100\n",
      "The mode is 75\n"
     ]
    }
   ],
   "source": [
    "find_mean(B)\n",
    "find_median(B)\n",
    "find_mode(B)"
   ]
  },
  {
   "cell_type": "code",
   "execution_count": 92,
   "metadata": {},
   "outputs": [
    {
     "name": "stdout",
     "output_type": "stream",
     "text": [
      "107.51428571428572 \n",
      " 100 \n",
      " 75\n"
     ]
    }
   ],
   "source": [
    "import statistics\n",
    "print(statistics.mean(B),\"\\n\",\n",
    "statistics.median(B),\"\\n\",\n",
    "statistics.mode(B))"
   ]
  },
  {
   "cell_type": "markdown",
   "metadata": {},
   "source": [
    "### Problem Statement 3:\n",
    "The number of times I go to the gym in weekdays, are given below along with its\n",
    "associated probability:\n",
    "x = 0, 1, 2, 3, 4, 5\n",
    "f(x) = 0.09, 0.15, 0.40, 0.25, 0.10, 0.01\n",
    "Calculate the mean no. of workouts in a week. Also evaluate the variance involved in\n",
    "it."
   ]
  },
  {
   "cell_type": "code",
   "execution_count": 116,
   "metadata": {},
   "outputs": [],
   "source": [
    "x = [0, 1, 2, 3, 4, 5]\n",
    "function_x = [0.09, 0.15, 0.40, 0.25, 0.10, 0.01]"
   ]
  },
  {
   "cell_type": "code",
   "execution_count": 147,
   "metadata": {},
   "outputs": [
    {
     "name": "stdout",
     "output_type": "stream",
     "text": [
      "2.15\n"
     ]
    }
   ],
   "source": [
    "new_list=[]\n",
    "for i in range(len(x)):\n",
    "    new_list.append(x[i]*function_x[i])\n",
    "mean=sum(new_list)\n",
    "print(mean)"
   ]
  },
  {
   "cell_type": "code",
   "execution_count": 148,
   "metadata": {},
   "outputs": [
    {
     "name": "stdout",
     "output_type": "stream",
     "text": [
      "1.2275\n"
     ]
    },
    {
     "data": {
      "text/plain": [
       "0.20458333333333334"
      ]
     },
     "execution_count": 148,
     "metadata": {},
     "output_type": "execute_result"
    }
   ],
   "source": [
    "temp=[]\n",
    "for i in range(0,len(x)):\n",
    "    temp.append((x[i]-mean)**2*function_x[i])\n",
    "print(sum(temp))\n",
    "variance=sum(temp)/len(x)\n",
    "variance"
   ]
  },
  {
   "cell_type": "markdown",
   "metadata": {},
   "source": [
    "### Problem Statement 4:\n",
    "Let the continuous random variable D denote the diameter of the hole drilled in an\n",
    "aluminum sheet. The target diameter to be achieved is 12.5mm. Random\n",
    "disturbances in the process often result in inaccuracy.\n",
    "Historical data shows that the distribution of D can be modelled by the PDF (d) =\n",
    "20e−20(d−12.5), d ≥ 12.5. If a part with diameter > 12.6 mm needs to be scrapped,\n",
    "what is the proportion of those parts? What is the CDF when the diameter is of 11\n",
    "mm? What is your conclusion regarding the proportion of scraps?"
   ]
  },
  {
   "cell_type": "code",
   "execution_count": 6,
   "metadata": {},
   "outputs": [
    {
     "name": "stdout",
     "output_type": "stream",
     "text": [
      "The proportion of the parts with diameter greater than 12.6mm is: 0.13533528323661398\n",
      "The cdf when the diameter is of 11mm is zero\n",
      "The proportion of the parts between 12.5 and 12.6 is: 0.8646647167633718\n",
      "In other words sum of the proportion of the parts between 1.5 and 12.6 and proportion of the parts greater than 12.6 is 1,which indicates that the proportion of the parts less than 12.5 is 0\n"
     ]
    }
   ],
   "source": [
    "import numpy as np\n",
    "from scipy.integrate import quad\n",
    "def prob_func(d):\n",
    "    return (20*np.exp(-20*(d-12.5)))\n",
    "res=quad(prob_func,a=12.6,b=np.inf)[0]\n",
    "#integral(PDF(d) with limits 12.6,inf)--P(X>12.6)\n",
    "print(\"The proportion of the parts with diameter greater than 12.6mm is:\",res)\n",
    "#If d<12.5, pdf(d)=0\n",
    "print(\"The cdf when the diameter is of 11mm is zero\")\n",
    "#P(X<12.5)=0\n",
    "res1=quad(prob_func,a=12.5,b=12.6)[0]\n",
    "print(\"The proportion of the parts between 12.5 and 12.6 is:\",res1)\n",
    "print(\"In other words sum of the proportion of the parts between 1.5 and 12.6 and proportion of the parts greater than 12.6 is 1,which indicates that the proportion of the parts less than 12.5 is 0\")"
   ]
  },
  {
   "cell_type": "markdown",
   "metadata": {},
   "source": [
    "### Problem Statement 5:\n",
    "\n",
    "A company manufactures LED bulbs with a faulty rate of 30%. If I randomly select 6\n",
    "chosen LEDs, what is the probability of having 2 faulty LEDs in my sample?\n",
    "Calculate the average value of this process. Also evaluate the standard deviation\n",
    "associated with it."
   ]
  },
  {
   "cell_type": "markdown",
   "metadata": {},
   "source": [
    "n = 6\n",
    "\n",
    "x = 2\n",
    "\n",
    "P = 0.3\n",
    "\n",
    "Q = 1-p = 0.7\n",
    "\n",
    "Probability of having 2 faulty LEDs:\n",
    "$_{6}$$C_{2}$ * P$^{2}$ * Q$^{6-2}$ = 0.324135\n",
    "\n",
    "Mean:\n",
    "n*P = 1.8\n",
    "\n",
    "Standard Deviation:\n",
    "sqrt[n * P * ( 1 - P )] = 1.122497"
   ]
  },
  {
   "cell_type": "code",
   "execution_count": 17,
   "metadata": {},
   "outputs": [
    {
     "name": "stdout",
     "output_type": "stream",
     "text": [
      "Probability of having 2 faulty LEDs = 0.3241349999999999\n",
      "Mean = 1.7999999999999998\n",
      "Standard Deviation = 1.1224972160321822\n"
     ]
    }
   ],
   "source": [
    "from math import comb, sqrt\n",
    "prob = comb(6,2) * 0.3**2 * 0.7 **4\n",
    "mean = 6*0.3\n",
    "std = sqrt(6*0.3*0.7)\n",
    "print(\"Probability of having 2 faulty LEDs = \" + str(prob))\n",
    "print(\"Mean = \" + str(mean))\n",
    "print(\"Standard Deviation = \" + str(std))"
   ]
  },
  {
   "cell_type": "markdown",
   "metadata": {},
   "source": [
    "### Problem Statement 6:\n",
    "\n",
    "Gaurav and Barakha are both preparing for entrance exams. Gaurav attempts to\n",
    "solve 8 questions per day with a correction rate of 75%, while Barakha averages\n",
    "around 12 questions per day with a correction rate of 45%. What is the probability\n",
    "that each of them will solve 5 questions correctly? What happens in cases of 4 and 6\n",
    "correct solutions? What do you infer from it? What are the two main governing\n",
    "factors affecting their ability to solve questions correctly? Give a pictorial\n",
    "representation of the same to validate your answer."
   ]
  },
  {
   "cell_type": "markdown",
   "metadata": {},
   "source": [
    "Gaurav\n",
    "n = 8\n",
    "P = 0.75\n",
    "Q = 0.25\n",
    "\n",
    "Barakha\n",
    "n = 12\n",
    "P = 0.45\n",
    "Q = 0.55\n",
    "\n",
    "Probability that each of them will solve 5 questions correctly: $_{8}$C$_{5}$ * P$^{5}$ * Q$^{8-5}$   *  $_{12}$C$_{5}$ * P$^{5}$ * Q$^{12-5}$ = 0.2076 * 0.2224 = 0.04617\n",
    "\n",
    "Probability in case of 4 and 6 correct solutions: $_{8}$C$_{4}$ * P$^{4}$ * Q$^{8-4}$   *  $_{12}$C$_{6}$ * P$^{6}$ * Q$^{12-6}$ = 0.0865 * 0.2123 = 0.01836\n",
    "\n",
    "Inference:\n",
    "As I decreased the correct solutions of Gaurav to 4 and increased the correct solutions of Barakha to 6 their individual probabilities decreased. The number of questions solved per day and the correction rate affect their ability to solve questions correctly."
   ]
  },
  {
   "cell_type": "code",
   "execution_count": 22,
   "metadata": {},
   "outputs": [
    {
     "name": "stdout",
     "output_type": "stream",
     "text": [
      "Probability that each of them will solve 5 questions correctly = 0.046199890572992175\n",
      "Probability in case of 4 and 6 correct solutions = 0.018374956477894614\n"
     ]
    }
   ],
   "source": [
    "prob1 = (comb(8,5) * 0.75**5 * 0.25 **3) * (comb(12,5) * 0.45**5 * 0.55 **7) \n",
    "prob2 = (comb(8,4) * 0.75**4 * 0.25 **4) * (comb(12,6) * 0.45**6 * 0.55 **6) \n",
    "\n",
    "print(\"Probability that each of them will solve 5 questions correctly = \" + str(prob1))\n",
    "print(\"Probability in case of 4 and 6 correct solutions = \" + str(prob2))"
   ]
  },
  {
   "cell_type": "markdown",
   "metadata": {},
   "source": [
    "### Problem Statement 7:\n",
    "\n",
    "Customers arrive at a rate of 72 per hour to my shop. What is the probability of k\n",
    "customers arriving in 4 minutes? a) 5 customers, b) not more than 3 customers, c)\n",
    "more than 3 customers. Give a pictorial representation of the same to validate your\n",
    "answer."
   ]
  },
  {
   "cell_type": "markdown",
   "metadata": {},
   "source": [
    "Poisson Probability is\n",
    "P(x; μ) = (e$^{-μ}$) (μ$^{x}$) / x!\n",
    "\n",
    "Here, μ = 72/60*4 = 4.8\n",
    "\n",
    "a) 5 customers\n",
    "P(x=5) = e$^{-4.8}$ * 4.8$^{5}$ / 5! = 0.17474\n",
    "\n",
    "\n",
    "b) not more than 3 customers\n",
    "P(x<3) = P(x0)+P(x1)+P(x2)+P(x3) = e$^{-4.8}$ * 4.8$^{0}$ / 0! + e$^{-4.8}$ * 4.8$^{1}$ / 1! + e$^{-4.8}$ * 4.8$^{2}$ / 2! + e$^{-4.8}$ * 4.8$^{3}$ / 3! = 0.29422\n",
    "\n",
    "\n",
    "c) more than 3 customers\n",
    "P(x>3) = 1 - P(x<=3) = 1 - 0.29422 = 0.70578"
   ]
  },
  {
   "cell_type": "code",
   "execution_count": 27,
   "metadata": {},
   "outputs": [
    {
     "name": "stdout",
     "output_type": "stream",
     "text": [
      "Probability of 5 customers arriving in 4 minutes = 0.17474768364388285\n",
      "Probability of not more than 3 customers arriving in 4 minutes = 0.29422991649656416\n",
      "Probability of more than 3 customers arriving in 4 minutes = 0.7057700835034358\n"
     ]
    }
   ],
   "source": [
    "import math\n",
    "prob_1 = ((math.e**(-4.8))*(4.8**5))/math.factorial(5)\n",
    "prob_2 = ((math.e**(-4.8))*(4.8**0))/math.factorial(0) + ((math.e**(-4.8))*(4.8**1))/math.factorial(1) + ((math.e**(-4.8))*(4.8**2))/math.factorial(2) + ((math.e**(-4.8))*(4.8**3))/math.factorial(3)\n",
    "prob_3 = 1-prob_2\n",
    "print(\"Probability of 5 customers arriving in 4 minutes = \" + str(prob_1))\n",
    "print(\"Probability of not more than 3 customers arriving in 4 minutes = \" + str(prob_2))\n",
    "print(\"Probability of more than 3 customers arriving in 4 minutes = \" + str(prob_3))"
   ]
  },
  {
   "cell_type": "markdown",
   "metadata": {},
   "source": [
    "### Problem Statement 8:\n",
    "\n",
    "I work as a data analyst in Aeon Learning Pvt. Ltd. After analyzing data, I make\n",
    "reports, where I have the efficiency of entering 77 words per minute with 6 errors per\n",
    "hour. What is the probability that I will commit 2 errors in a 455-word financial report?\n",
    "What happens when the no. of words increases/decreases (in case of 1000 words,\n",
    "255 words)?\n",
    "How is the λ affected?\n",
    "How does it influence the PMF?\n",
    "Give a pictorial representation of the same to validate your answer."
   ]
  },
  {
   "cell_type": "markdown",
   "metadata": {},
   "source": [
    "Errors per hour is 6 at a typing rate of 77 words per minute\n",
    "\n",
    "Error per minute = 6/60 = 0.1\n",
    "\n",
    "a) 455-word financial report\n",
    "\n",
    "Time taken to complete 455-word financial report = 455/77 = 5.9 minutes\n",
    "\n",
    "Expected Error to complete 455-word financial report = 5.9*0.1 = 0.59\n",
    "\n",
    "Probability that 2 errors will be committed in a 455-word financial report = P(x=2) = e$^{-0.59}$ * 0.59$^{2}$ / 2! = 0.09648\n",
    "\n",
    "b) 1000-word financial report\n",
    "\n",
    "Time taken to complete 1000-word financial report = 1000/77 = 12.9 minutes\n",
    "\n",
    "Expected Error to complete 1000-word financial report = 12.9*0.1 = 1.29\n",
    "\n",
    "Probability that 2 errors will be committed in a 1000-word financial report = P(x=2) = e$^{-1.29}$ * 1.29$^{2}$ / 2! = 0.22903\n",
    "\n",
    "c) 255-word financial report\n",
    "\n",
    "Time taken to complete 255-word financial report = 255/77 = 3.3 minutes\n",
    "\n",
    "Expected Error to complete 255-word financial report = 3.3*0.1 = 0.33\n",
    "\n",
    "Probability that 2 errors will be committed in a 255-word financial report = P(x=2) = e$^{-0.33}$ * 0.33$^{2}$ / 2! = 0.03914\n",
    "\n",
    "As the number of words increased to 1000 the probability decreased and vice versa."
   ]
  },
  {
   "cell_type": "code",
   "execution_count": 34,
   "metadata": {},
   "outputs": [
    {
     "name": "stdout",
     "output_type": "stream",
     "text": [
      "Probability that 2 errors will be comitted in a 455-word financial report = 0.09648066390804096\n",
      "Probability that 2 errors will be comitted in a 1000-word financial report = 0.22903905506982844\n",
      "Probability that 2 errors will be comitted in a 255-word financial report = 0.03914539728536839\n"
     ]
    }
   ],
   "source": [
    "probability= ((math.e**(-0.59))*(0.59**2))/math.factorial(2)\n",
    "print(\"Probability that 2 errors will be comitted in a 455-word financial report = \" + str(probability))\n",
    "\n",
    "probability1= ((math.e**(-1.29))*(1.29**2))/math.factorial(2)\n",
    "print(\"Probability that 2 errors will be comitted in a 1000-word financial report = \" + str(probability1))\n",
    "\n",
    "probability2= ((math.e**(-0.33))*(0.33**2))/math.factorial(2)\n",
    "print(\"Probability that 2 errors will be comitted in a 255-word financial report = \" + str(probability2))"
   ]
  },
  {
   "cell_type": "markdown",
   "metadata": {},
   "source": [
    "### Problem Statement 9:\n",
    "\n",
    "Let the continuous random variable D denote the diameter of the hole drilled in an\n",
    "aluminum sheet. The target diameter to be achieved is 12.5mm. Random\n",
    "disturbances in the process often result in inaccuracy.\n",
    "Historical data shows that the distribution of D can be modelled by the PDF, f(d) =\n",
    "20e−20(d−12.5), d ≥ 12.5. If a part with diameter > 12.6 mm needs to be scrapped,\n",
    "what is the proportion of those parts? What is the CDF when the diameter is of 11\n",
    "mm?\n",
    "What is the conclusion of this experiment?"
   ]
  },
  {
   "cell_type": "code",
   "execution_count": 31,
   "metadata": {},
   "outputs": [
    {
     "name": "stdout",
     "output_type": "stream",
     "text": [
      "Repeated Question\n"
     ]
    }
   ],
   "source": [
    "print(\"Repeated Question\")"
   ]
  },
  {
   "cell_type": "markdown",
   "metadata": {},
   "source": [
    "### Problem Statement 10:\n",
    "\n",
    "Please compute the following:\n",
    "\n",
    "a) P(Z > 1.26), . P(Z < −0.86), P(Z > −1.37), P(−1.25 < Z < 0.37), . P(Z ≤ −4.6)\n",
    "\n",
    "b) Find the value z such that P(Z > z) = 0.05\n",
    "\n",
    "c) Find the value of z such that P(−z < Z < z) = 0.99"
   ]
  },
  {
   "cell_type": "markdown",
   "metadata": {},
   "source": [
    "a) P(Z > 1.26) = 1 - 0.8962 = 0.1038\n",
    "\n",
    "   P(Z < −0.86) = 0.1949\n",
    "\n",
    "   P(Z > −1.37) = 1 - 0.0853 = 0.9147\n",
    "\n",
    "   P(−1.25 < Z < 0.37) = 0.6443 - 0.1056 = 0.5387\n",
    "   \n",
    "   P(Z ≤ −4.6) = 0?\n",
    "   \n",
    "b) P(Z > z) = 0.05\n",
    "   \n",
    "   z = 1.64\n",
    "   \n",
    "c) P(−z < Z < z) = 0.99\n",
    "\n",
    "   -z = -3.49\n",
    "    z = 3.49"
   ]
  },
  {
   "cell_type": "markdown",
   "metadata": {},
   "source": [
    "### Problem Statement 11:\n",
    "\n",
    "The current flow in a copper wire follow a normal distribution with a mean of 10 mA\n",
    "and a variance of 4 (mA)2.\n",
    "What is the probability that a current measurement will exceed 13 mA? What is the\n",
    "probability that a current measurement is between 9 and 11mA? Determine the\n",
    "current measurement which has a probability of 0.98."
   ]
  },
  {
   "cell_type": "markdown",
   "metadata": {},
   "source": [
    "Mean = 10 mA\n",
    "Variance = 4(mA)2\n",
    "Standard Deviation = 2 mA\n",
    "\n",
    "Probability that a current measurement will exceed 13 mA = P(X > 13) = P(Z > 13-10/2) = P(Z > 1.5) = 1-0.9332 = 0.0668\n",
    "\n",
    "Probability that a current measurement is between 9 and 11 mA = P(9 < X < 11) = P(9-10/2 < Z < 11-10/2) = P(-0.5 < Z < 0.5) = 0.6915 - 0.3085 = 0.383"
   ]
  },
  {
   "cell_type": "markdown",
   "metadata": {},
   "source": [
    "### Problem Statement 12:\n",
    "\n",
    "The shaft in a piston has its diameter normally distributed with a mean of 0.2508 inch\n",
    "and a standard deviation of 0.0005 inch. The specifications of the shaft are 0.2500 ∓\n",
    "0.0015 inch. What proportion of shafts are in sync with the specifications? If the\n",
    "process is centered so that the mean is equal to the target value of 0.2500, what\n",
    "proportion of shafts conform to the new specifications? What is your conclusion from\n",
    "this experiment?"
   ]
  },
  {
   "cell_type": "markdown",
   "metadata": {},
   "source": [
    "Proportion of shafts that are in sync with the specifications = P(0.2485< X < 0.2515) = P(0.2485-0.2508/0.0005 < Z < 0.2515-0.2508/0.0005) = P(-4.6 < Z < 1.4) = 0.9192-0 = 0.9192\n",
    "\n",
    "Proportion of shafts that conform to new specifications = P(0.2485-0.2500/0.0005 < Z < 0.2515-0.2500/0.0005) = P(-3 < Z < 3) = 0.9987 - 0.0013 = 0.9974\n",
    "\n",
    "When process is centered so that mean = target value the proprortion of shafts that conform to the specifications increased from 92% to 99%."
   ]
  },
  {
   "cell_type": "code",
   "execution_count": null,
   "metadata": {},
   "outputs": [],
   "source": []
  }
 ],
 "metadata": {
  "kernelspec": {
   "display_name": "Python 3",
   "language": "python",
   "name": "python3"
  },
  "language_info": {
   "codemirror_mode": {
    "name": "ipython",
    "version": 3
   },
   "file_extension": ".py",
   "mimetype": "text/x-python",
   "name": "python",
   "nbconvert_exporter": "python",
   "pygments_lexer": "ipython3",
   "version": "3.8.3"
  }
 },
 "nbformat": 4,
 "nbformat_minor": 4
}
