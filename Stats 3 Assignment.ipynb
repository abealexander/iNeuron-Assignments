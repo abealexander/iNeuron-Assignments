{
 "cells": [
  {
   "cell_type": "markdown",
   "metadata": {},
   "source": [
    "### Problem Statement 1:\n",
    "Blood glucose levels for obese patients have a mean of 100 with a standard deviation of 15. A researcher thinks that a diet high in raw cornstarch will have a positive effect on blood glucose levels. A sample of 36 patients who have tried the raw cornstarch diet have a mean glucose level of 108. Test the hypothesis that the raw cornstarch had an effect or not."
   ]
  },
  {
   "cell_type": "markdown",
   "metadata": {},
   "source": [
    "Population Mean = 100\n",
    "\n",
    "Population Standard Deviation = 15\n",
    "\n",
    "Sample Size = 36\n",
    "\n",
    "Sample Mean = 108\n",
    "\n",
    "H0: μ=100 The diet will not have an effect on blood glucose levels\n",
    "\n",
    "H1: μ>100 The diet will have a positive effect on blood glucose levels\n",
    "\n",
    "Since n>30 and we have the population's standard deviation, we will perform a one tail z test"
   ]
  },
  {
   "cell_type": "code",
   "execution_count": 2,
   "metadata": {},
   "outputs": [
    {
     "data": {
      "text/plain": [
       "3.2"
      ]
     },
     "execution_count": 2,
     "metadata": {},
     "output_type": "execute_result"
    }
   ],
   "source": [
    "from math import sqrt\n",
    "\n",
    "population_mean = 100\n",
    "population_sd = 15\n",
    "n=36\n",
    "sample_mean = 108\n",
    "\n",
    "z_score = (sample_mean-population_mean)/(population_sd/sqrt(n))\n",
    "z_score"
   ]
  },
  {
   "cell_type": "markdown",
   "metadata": {},
   "source": [
    "At 5% significance level the z_score is 1.64. Since the computed z_score is outside our acceptable region the null hypothesis is rejected."
   ]
  },
  {
   "cell_type": "markdown",
   "metadata": {},
   "source": [
    "### Problem Statement 2:\n",
    "In one state, 52% of the voters are Republicans, and 48% are Democrats. In a second\n",
    "state, 47% of the voters are Republicans, and 53% are Democrats. Suppose a simple\n",
    "random sample of 100 voters are surveyed from each state.\n",
    "What is the probability that the survey will show a greater percentage of Republican\n",
    "voters in the second state than in the first state?"
   ]
  },
  {
   "cell_type": "markdown",
   "metadata": {},
   "source": [
    "P1 = Proportion of the voters who are Republicans in State 1\n",
    "\n",
    "P2 = Proportion of the voters who are Republicans in State 2\n",
    "\n",
    "p1 = Sample Proportion of the voters who are Republicans in State 1\n",
    "\n",
    "p2 = Sample Proportion of the voters who are Republicans in State 1\n",
    "\n",
    "H0: The proportion of voters would remain the same in the sample\n",
    "\n",
    "H1: The proportion of voters would be different\n",
    "\n",
    "Two Tail Z test since n>30"
   ]
  },
  {
   "cell_type": "code",
   "execution_count": 4,
   "metadata": {},
   "outputs": [
    {
     "data": {
      "text/plain": [
       "0.7071421391774789"
      ]
     },
     "execution_count": 4,
     "metadata": {},
     "output_type": "execute_result"
    }
   ],
   "source": [
    "P1 = 0.52\n",
    "p1 = 0.52\n",
    "n1 = 100\n",
    "P2 = 0.47\n",
    "p2 = 0.47\n",
    "n2 = 100\n",
    "pooled_sample_proportion = ((P1*n1) + (P2*n2))/(n1+n2)\n",
    "standard_error = sqrt(pooled_sample_proportion*(1-pooled_sample_proportion)*((1/n1)+(1/n2)))\n",
    "z = (p1-p2)/standard_error\n",
    "z"
   ]
  },
  {
   "cell_type": "markdown",
   "metadata": {},
   "source": [
    "The p-value of our computed test statistic is 0.7580. Hence, the probability that the survey will show a greater percentage of Republican voters in the second state than in the the first state is 0.242 (1 - 0.758)."
   ]
  },
  {
   "cell_type": "markdown",
   "metadata": {},
   "source": [
    "### Problem Statement 3:\n",
    "You take the SAT and score 1100. The mean score for the SAT is 1026 and the standard\n",
    "deviation is 209. How well did you score on the test compared to the average test taker?"
   ]
  },
  {
   "cell_type": "code",
   "execution_count": 8,
   "metadata": {},
   "outputs": [
    {
     "data": {
      "text/plain": [
       "0.35406698564593303"
      ]
     },
     "execution_count": 8,
     "metadata": {},
     "output_type": "execute_result"
    }
   ],
   "source": [
    "z = (1100-1026)/209\n",
    "z"
   ]
  },
  {
   "cell_type": "markdown",
   "metadata": {},
   "source": [
    "Scored better than 63.68% of test takers with 0.35 standard deviation above the mean."
   ]
  }
 ],
 "metadata": {
  "kernelspec": {
   "display_name": "Python 3",
   "language": "python",
   "name": "python3"
  },
  "language_info": {
   "codemirror_mode": {
    "name": "ipython",
    "version": 3
   },
   "file_extension": ".py",
   "mimetype": "text/x-python",
   "name": "python",
   "nbconvert_exporter": "python",
   "pygments_lexer": "ipython3",
   "version": "3.8.3"
  }
 },
 "nbformat": 4,
 "nbformat_minor": 4
}
