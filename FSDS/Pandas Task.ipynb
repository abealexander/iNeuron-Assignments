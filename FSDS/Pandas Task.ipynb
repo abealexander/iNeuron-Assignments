{
 "cells": [
  {
   "cell_type": "code",
   "execution_count": 1,
   "id": "legal-assurance",
   "metadata": {},
   "outputs": [],
   "source": [
    "import pandas as pd\n",
    "import numpy as np\n",
    "import seaborn as sns\n",
    "import matplotlib.pyplot as plt"
   ]
  },
  {
   "cell_type": "code",
   "execution_count": 2,
   "id": "rising-productivity",
   "metadata": {},
   "outputs": [],
   "source": [
    "df1 = pd.read_table('https://raw.githubusercontent.com/justmarkham/DAT8/master/data/chipotle.tsv')\n",
    "df2 = pd.read_csv('https://raw.githubusercontent.com/justmarkham/DAT8/master/data/beer.txt', delimiter=\" \")\n",
    "df3 = pd.read_csv('https://raw.githubusercontent.com/guipsamora/pandas_exercises/master/04_Apply/US_Crime_Rates/US_Crime_Rates_1960_2014.csv')\n",
    "df4 = pd.read_csv('https://raw.githubusercontent.com/vincentarelbundock/Rdatasets/master/datasets.csv')"
   ]
  },
  {
   "cell_type": "markdown",
   "id": "stretch-minority",
   "metadata": {},
   "source": [
    "https://drive.google.com/file/d/1etGP85wJWsgqbsh3gX5oxc8dPKLMA1eT/view\n"
   ]
  },
  {
   "cell_type": "markdown",
   "id": "accompanied-decade",
   "metadata": {},
   "source": [
    "### Chipotle Data"
   ]
  },
  {
   "cell_type": "code",
   "execution_count": 3,
   "id": "opened-spice",
   "metadata": {},
   "outputs": [
    {
     "data": {
      "text/html": [
       "<div>\n",
       "<style scoped>\n",
       "    .dataframe tbody tr th:only-of-type {\n",
       "        vertical-align: middle;\n",
       "    }\n",
       "\n",
       "    .dataframe tbody tr th {\n",
       "        vertical-align: top;\n",
       "    }\n",
       "\n",
       "    .dataframe thead th {\n",
       "        text-align: right;\n",
       "    }\n",
       "</style>\n",
       "<table border=\"1\" class=\"dataframe\">\n",
       "  <thead>\n",
       "    <tr style=\"text-align: right;\">\n",
       "      <th></th>\n",
       "      <th>order_id</th>\n",
       "      <th>quantity</th>\n",
       "      <th>item_name</th>\n",
       "      <th>choice_description</th>\n",
       "      <th>item_price</th>\n",
       "    </tr>\n",
       "  </thead>\n",
       "  <tbody>\n",
       "    <tr>\n",
       "      <th>0</th>\n",
       "      <td>1</td>\n",
       "      <td>1</td>\n",
       "      <td>Chips and Fresh Tomato Salsa</td>\n",
       "      <td>NaN</td>\n",
       "      <td>$2.39</td>\n",
       "    </tr>\n",
       "    <tr>\n",
       "      <th>1</th>\n",
       "      <td>1</td>\n",
       "      <td>1</td>\n",
       "      <td>Izze</td>\n",
       "      <td>[Clementine]</td>\n",
       "      <td>$3.39</td>\n",
       "    </tr>\n",
       "    <tr>\n",
       "      <th>2</th>\n",
       "      <td>1</td>\n",
       "      <td>1</td>\n",
       "      <td>Nantucket Nectar</td>\n",
       "      <td>[Apple]</td>\n",
       "      <td>$3.39</td>\n",
       "    </tr>\n",
       "    <tr>\n",
       "      <th>3</th>\n",
       "      <td>1</td>\n",
       "      <td>1</td>\n",
       "      <td>Chips and Tomatillo-Green Chili Salsa</td>\n",
       "      <td>NaN</td>\n",
       "      <td>$2.39</td>\n",
       "    </tr>\n",
       "    <tr>\n",
       "      <th>4</th>\n",
       "      <td>2</td>\n",
       "      <td>2</td>\n",
       "      <td>Chicken Bowl</td>\n",
       "      <td>[Tomatillo-Red Chili Salsa (Hot), [Black Beans...</td>\n",
       "      <td>$16.98</td>\n",
       "    </tr>\n",
       "  </tbody>\n",
       "</table>\n",
       "</div>"
      ],
      "text/plain": [
       "   order_id  quantity                              item_name  \\\n",
       "0         1         1           Chips and Fresh Tomato Salsa   \n",
       "1         1         1                                   Izze   \n",
       "2         1         1                       Nantucket Nectar   \n",
       "3         1         1  Chips and Tomatillo-Green Chili Salsa   \n",
       "4         2         2                           Chicken Bowl   \n",
       "\n",
       "                                  choice_description item_price  \n",
       "0                                                NaN     $2.39   \n",
       "1                                       [Clementine]     $3.39   \n",
       "2                                            [Apple]     $3.39   \n",
       "3                                                NaN     $2.39   \n",
       "4  [Tomatillo-Red Chili Salsa (Hot), [Black Beans...    $16.98   "
      ]
     },
     "execution_count": 3,
     "metadata": {},
     "output_type": "execute_result"
    }
   ],
   "source": [
    "# first 5 rows of the dataset\n",
    "df1.head()"
   ]
  },
  {
   "cell_type": "code",
   "execution_count": 4,
   "id": "executive-insertion",
   "metadata": {},
   "outputs": [
    {
     "data": {
      "text/plain": [
       "(4622, 5)"
      ]
     },
     "execution_count": 4,
     "metadata": {},
     "output_type": "execute_result"
    }
   ],
   "source": [
    "# shape of the dataset\n",
    "df1.shape"
   ]
  },
  {
   "cell_type": "code",
   "execution_count": 5,
   "id": "absolute-attachment",
   "metadata": {},
   "outputs": [],
   "source": [
    "# converting choice_description to ingredients\n",
    "temp = []\n",
    "for i in df1['choice_description']:\n",
    "    if type(i)==float:\n",
    "        temp.append([])\n",
    "    if type(i)==str:\n",
    "        temp.append(i.replace(\"[\",\"\").replace(\"]\",\"\").split(', '))\n",
    "        \n",
    "df1['ingredients']=temp"
   ]
  },
  {
   "cell_type": "code",
   "execution_count": 6,
   "id": "educational-phase",
   "metadata": {},
   "outputs": [],
   "source": [
    "# expanding ingredients\n",
    "from sklearn.preprocessing import MultiLabelBinarizer\n",
    "\n",
    "# Binarise labels\n",
    "mlb = MultiLabelBinarizer()\n",
    "expandedLabelData = mlb.fit_transform(df1[\"ingredients\"])\n",
    "labelClasses = mlb.classes_\n",
    "\n",
    "# Create a pandas.DataFrame from our output\n",
    "expandedLabels = pd.DataFrame(expandedLabelData, columns=labelClasses)\n",
    "\n",
    "# concatenating the dataframes\n",
    "df1 = pd.concat([df1, expandedLabels], axis=1)\n",
    "\n",
    "# dropping unecessary columns\n",
    "df1.drop('ingredients', inplace=True, axis=1)"
   ]
  },
  {
   "cell_type": "code",
   "execution_count": 7,
   "id": "southwest-danger",
   "metadata": {},
   "outputs": [
    {
     "data": {
      "text/plain": [
       "order_id                                   0\n",
       "quantity                                   0\n",
       "item_name                                  0\n",
       "choice_description                      1246\n",
       "item_price                                 0\n",
       "Adobo-Marinated and Grilled Chicken        0\n",
       "Adobo-Marinated and Grilled Steak          0\n",
       "Apple                                      0\n",
       "Black Beans                                0\n",
       "Blackberry                                 0\n",
       "Braised Barbacoa                           0\n",
       "Braised Carnitas                           0\n",
       "Brown Rice                                 0\n",
       "Cheese                                     0\n",
       "Cilantro-Lime Rice                         0\n",
       "Clementine                                 0\n",
       "Coca Cola                                  0\n",
       "Coke                                       0\n",
       "Diet Coke                                  0\n",
       "Diet Dr. Pepper                            0\n",
       "Dr. Pepper                                 0\n",
       "Fajita Vegetables                          0\n",
       "Fajita Veggies                             0\n",
       "Fresh Tomato (Mild)                        0\n",
       "Fresh Tomato Salsa                         0\n",
       "Fresh Tomato Salsa (Mild)                  0\n",
       "Grapefruit                                 0\n",
       "Guacamole                                  0\n",
       "Lemonade                                   0\n",
       "Lettuce                                    0\n",
       "Mountain Dew                               0\n",
       "Nestea                                     0\n",
       "Peach Orange                               0\n",
       "Pineapple Orange Banana                    0\n",
       "Pinto Beans                                0\n",
       "Pomegranate Cherry                         0\n",
       "Rice                                       0\n",
       "Roasted Chili Corn (Medium)                0\n",
       "Roasted Chili Corn Salsa                   0\n",
       "Roasted Chili Corn Salsa (Medium)          0\n",
       "Salsa                                      0\n",
       "Sour Cream                                 0\n",
       "Sprite                                     0\n",
       "Tomatillo Green Chili (Medium)             0\n",
       "Tomatillo Green Chili Salsa                0\n",
       "Tomatillo Red Chili (Hot)                  0\n",
       "Tomatillo Red Chili Salsa                  0\n",
       "Tomatillo-Green Chili Salsa (Medium)       0\n",
       "Tomatillo-Red Chili Salsa (Hot)            0\n",
       "Vegetarian Black Beans                     0\n",
       "White Rice                                 0\n",
       "dtype: int64"
      ]
     },
     "execution_count": 7,
     "metadata": {},
     "output_type": "execute_result"
    }
   ],
   "source": [
    "# checking for null values\n",
    "df1.isnull().sum()"
   ]
  },
  {
   "cell_type": "code",
   "execution_count": 8,
   "id": "interracial-split",
   "metadata": {},
   "outputs": [
    {
     "data": {
      "text/plain": [
       "Chips and Guacamole                      479\n",
       "Chips                                    211\n",
       "Bottled Water                            162\n",
       "Chips and Fresh Tomato Salsa             110\n",
       "Side of Chips                            101\n",
       "Chips and Tomatillo Red Chili Salsa       48\n",
       "Chips and Tomatillo Green Chili Salsa     43\n",
       "Chips and Tomatillo-Green Chili Salsa     31\n",
       "Chips and Roasted Chili Corn Salsa        22\n",
       "Chips and Tomatillo-Red Chili Salsa       20\n",
       "Chips and Roasted Chili-Corn Salsa        18\n",
       "Chips and Mild Fresh Tomato Salsa          1\n",
       "Name: item_name, dtype: int64"
      ]
     },
     "execution_count": 8,
     "metadata": {},
     "output_type": "execute_result"
    }
   ],
   "source": [
    "df1[df1['choice_description'].isnull()]['item_name'].value_counts()"
   ]
  },
  {
   "cell_type": "markdown",
   "id": "juvenile-recording",
   "metadata": {},
   "source": [
    "The above orders have no choice description or ingredient information"
   ]
  },
  {
   "cell_type": "code",
   "execution_count": 9,
   "id": "adult-manor",
   "metadata": {},
   "outputs": [
    {
     "data": {
      "text/html": [
       "<div>\n",
       "<style scoped>\n",
       "    .dataframe tbody tr th:only-of-type {\n",
       "        vertical-align: middle;\n",
       "    }\n",
       "\n",
       "    .dataframe tbody tr th {\n",
       "        vertical-align: top;\n",
       "    }\n",
       "\n",
       "    .dataframe thead th {\n",
       "        text-align: right;\n",
       "    }\n",
       "</style>\n",
       "<table border=\"1\" class=\"dataframe\">\n",
       "  <thead>\n",
       "    <tr style=\"text-align: right;\">\n",
       "      <th></th>\n",
       "      <th>order_id</th>\n",
       "      <th>quantity</th>\n",
       "      <th>item_name</th>\n",
       "      <th>choice_description</th>\n",
       "      <th>item_price</th>\n",
       "      <th>Adobo-Marinated and Grilled Chicken</th>\n",
       "      <th>Adobo-Marinated and Grilled Steak</th>\n",
       "      <th>Apple</th>\n",
       "      <th>Black Beans</th>\n",
       "      <th>Blackberry</th>\n",
       "      <th>...</th>\n",
       "      <th>Sour Cream</th>\n",
       "      <th>Sprite</th>\n",
       "      <th>Tomatillo Green Chili (Medium)</th>\n",
       "      <th>Tomatillo Green Chili Salsa</th>\n",
       "      <th>Tomatillo Red Chili (Hot)</th>\n",
       "      <th>Tomatillo Red Chili Salsa</th>\n",
       "      <th>Tomatillo-Green Chili Salsa (Medium)</th>\n",
       "      <th>Tomatillo-Red Chili Salsa (Hot)</th>\n",
       "      <th>Vegetarian Black Beans</th>\n",
       "      <th>White Rice</th>\n",
       "    </tr>\n",
       "  </thead>\n",
       "  <tbody>\n",
       "    <tr>\n",
       "      <th>10</th>\n",
       "      <td>5</td>\n",
       "      <td>1</td>\n",
       "      <td>Chips and Guacamole</td>\n",
       "      <td>NaN</td>\n",
       "      <td>$4.45</td>\n",
       "      <td>0</td>\n",
       "      <td>0</td>\n",
       "      <td>0</td>\n",
       "      <td>0</td>\n",
       "      <td>0</td>\n",
       "      <td>...</td>\n",
       "      <td>0</td>\n",
       "      <td>0</td>\n",
       "      <td>0</td>\n",
       "      <td>0</td>\n",
       "      <td>0</td>\n",
       "      <td>0</td>\n",
       "      <td>0</td>\n",
       "      <td>0</td>\n",
       "      <td>0</td>\n",
       "      <td>0</td>\n",
       "    </tr>\n",
       "    <tr>\n",
       "      <th>14</th>\n",
       "      <td>7</td>\n",
       "      <td>1</td>\n",
       "      <td>Chips and Guacamole</td>\n",
       "      <td>NaN</td>\n",
       "      <td>$4.45</td>\n",
       "      <td>0</td>\n",
       "      <td>0</td>\n",
       "      <td>0</td>\n",
       "      <td>0</td>\n",
       "      <td>0</td>\n",
       "      <td>...</td>\n",
       "      <td>0</td>\n",
       "      <td>0</td>\n",
       "      <td>0</td>\n",
       "      <td>0</td>\n",
       "      <td>0</td>\n",
       "      <td>0</td>\n",
       "      <td>0</td>\n",
       "      <td>0</td>\n",
       "      <td>0</td>\n",
       "      <td>0</td>\n",
       "    </tr>\n",
       "    <tr>\n",
       "      <th>20</th>\n",
       "      <td>10</td>\n",
       "      <td>1</td>\n",
       "      <td>Chips and Guacamole</td>\n",
       "      <td>NaN</td>\n",
       "      <td>$4.45</td>\n",
       "      <td>0</td>\n",
       "      <td>0</td>\n",
       "      <td>0</td>\n",
       "      <td>0</td>\n",
       "      <td>0</td>\n",
       "      <td>...</td>\n",
       "      <td>0</td>\n",
       "      <td>0</td>\n",
       "      <td>0</td>\n",
       "      <td>0</td>\n",
       "      <td>0</td>\n",
       "      <td>0</td>\n",
       "      <td>0</td>\n",
       "      <td>0</td>\n",
       "      <td>0</td>\n",
       "      <td>0</td>\n",
       "    </tr>\n",
       "    <tr>\n",
       "      <th>37</th>\n",
       "      <td>18</td>\n",
       "      <td>1</td>\n",
       "      <td>Chips and Guacamole</td>\n",
       "      <td>NaN</td>\n",
       "      <td>$4.45</td>\n",
       "      <td>0</td>\n",
       "      <td>0</td>\n",
       "      <td>0</td>\n",
       "      <td>0</td>\n",
       "      <td>0</td>\n",
       "      <td>...</td>\n",
       "      <td>0</td>\n",
       "      <td>0</td>\n",
       "      <td>0</td>\n",
       "      <td>0</td>\n",
       "      <td>0</td>\n",
       "      <td>0</td>\n",
       "      <td>0</td>\n",
       "      <td>0</td>\n",
       "      <td>0</td>\n",
       "      <td>0</td>\n",
       "    </tr>\n",
       "    <tr>\n",
       "      <th>41</th>\n",
       "      <td>20</td>\n",
       "      <td>1</td>\n",
       "      <td>Chips and Guacamole</td>\n",
       "      <td>NaN</td>\n",
       "      <td>$4.45</td>\n",
       "      <td>0</td>\n",
       "      <td>0</td>\n",
       "      <td>0</td>\n",
       "      <td>0</td>\n",
       "      <td>0</td>\n",
       "      <td>...</td>\n",
       "      <td>0</td>\n",
       "      <td>0</td>\n",
       "      <td>0</td>\n",
       "      <td>0</td>\n",
       "      <td>0</td>\n",
       "      <td>0</td>\n",
       "      <td>0</td>\n",
       "      <td>0</td>\n",
       "      <td>0</td>\n",
       "      <td>0</td>\n",
       "    </tr>\n",
       "    <tr>\n",
       "      <th>...</th>\n",
       "      <td>...</td>\n",
       "      <td>...</td>\n",
       "      <td>...</td>\n",
       "      <td>...</td>\n",
       "      <td>...</td>\n",
       "      <td>...</td>\n",
       "      <td>...</td>\n",
       "      <td>...</td>\n",
       "      <td>...</td>\n",
       "      <td>...</td>\n",
       "      <td>...</td>\n",
       "      <td>...</td>\n",
       "      <td>...</td>\n",
       "      <td>...</td>\n",
       "      <td>...</td>\n",
       "      <td>...</td>\n",
       "      <td>...</td>\n",
       "      <td>...</td>\n",
       "      <td>...</td>\n",
       "      <td>...</td>\n",
       "      <td>...</td>\n",
       "    </tr>\n",
       "    <tr>\n",
       "      <th>4588</th>\n",
       "      <td>1824</td>\n",
       "      <td>1</td>\n",
       "      <td>Chips and Guacamole</td>\n",
       "      <td>NaN</td>\n",
       "      <td>$4.45</td>\n",
       "      <td>0</td>\n",
       "      <td>0</td>\n",
       "      <td>0</td>\n",
       "      <td>0</td>\n",
       "      <td>0</td>\n",
       "      <td>...</td>\n",
       "      <td>0</td>\n",
       "      <td>0</td>\n",
       "      <td>0</td>\n",
       "      <td>0</td>\n",
       "      <td>0</td>\n",
       "      <td>0</td>\n",
       "      <td>0</td>\n",
       "      <td>0</td>\n",
       "      <td>0</td>\n",
       "      <td>0</td>\n",
       "    </tr>\n",
       "    <tr>\n",
       "      <th>4596</th>\n",
       "      <td>1826</td>\n",
       "      <td>1</td>\n",
       "      <td>Chips and Guacamole</td>\n",
       "      <td>NaN</td>\n",
       "      <td>$4.45</td>\n",
       "      <td>0</td>\n",
       "      <td>0</td>\n",
       "      <td>0</td>\n",
       "      <td>0</td>\n",
       "      <td>0</td>\n",
       "      <td>...</td>\n",
       "      <td>0</td>\n",
       "      <td>0</td>\n",
       "      <td>0</td>\n",
       "      <td>0</td>\n",
       "      <td>0</td>\n",
       "      <td>0</td>\n",
       "      <td>0</td>\n",
       "      <td>0</td>\n",
       "      <td>0</td>\n",
       "      <td>0</td>\n",
       "    </tr>\n",
       "    <tr>\n",
       "      <th>4600</th>\n",
       "      <td>1827</td>\n",
       "      <td>1</td>\n",
       "      <td>Chips and Guacamole</td>\n",
       "      <td>NaN</td>\n",
       "      <td>$4.45</td>\n",
       "      <td>0</td>\n",
       "      <td>0</td>\n",
       "      <td>0</td>\n",
       "      <td>0</td>\n",
       "      <td>0</td>\n",
       "      <td>...</td>\n",
       "      <td>0</td>\n",
       "      <td>0</td>\n",
       "      <td>0</td>\n",
       "      <td>0</td>\n",
       "      <td>0</td>\n",
       "      <td>0</td>\n",
       "      <td>0</td>\n",
       "      <td>0</td>\n",
       "      <td>0</td>\n",
       "      <td>0</td>\n",
       "    </tr>\n",
       "    <tr>\n",
       "      <th>4605</th>\n",
       "      <td>1828</td>\n",
       "      <td>1</td>\n",
       "      <td>Chips and Guacamole</td>\n",
       "      <td>NaN</td>\n",
       "      <td>$4.45</td>\n",
       "      <td>0</td>\n",
       "      <td>0</td>\n",
       "      <td>0</td>\n",
       "      <td>0</td>\n",
       "      <td>0</td>\n",
       "      <td>...</td>\n",
       "      <td>0</td>\n",
       "      <td>0</td>\n",
       "      <td>0</td>\n",
       "      <td>0</td>\n",
       "      <td>0</td>\n",
       "      <td>0</td>\n",
       "      <td>0</td>\n",
       "      <td>0</td>\n",
       "      <td>0</td>\n",
       "      <td>0</td>\n",
       "    </tr>\n",
       "    <tr>\n",
       "      <th>4616</th>\n",
       "      <td>1832</td>\n",
       "      <td>1</td>\n",
       "      <td>Chips and Guacamole</td>\n",
       "      <td>NaN</td>\n",
       "      <td>$4.45</td>\n",
       "      <td>0</td>\n",
       "      <td>0</td>\n",
       "      <td>0</td>\n",
       "      <td>0</td>\n",
       "      <td>0</td>\n",
       "      <td>...</td>\n",
       "      <td>0</td>\n",
       "      <td>0</td>\n",
       "      <td>0</td>\n",
       "      <td>0</td>\n",
       "      <td>0</td>\n",
       "      <td>0</td>\n",
       "      <td>0</td>\n",
       "      <td>0</td>\n",
       "      <td>0</td>\n",
       "      <td>0</td>\n",
       "    </tr>\n",
       "  </tbody>\n",
       "</table>\n",
       "<p>479 rows × 51 columns</p>\n",
       "</div>"
      ],
      "text/plain": [
       "      order_id  quantity            item_name choice_description item_price  \\\n",
       "10           5         1  Chips and Guacamole                NaN     $4.45    \n",
       "14           7         1  Chips and Guacamole                NaN     $4.45    \n",
       "20          10         1  Chips and Guacamole                NaN     $4.45    \n",
       "37          18         1  Chips and Guacamole                NaN     $4.45    \n",
       "41          20         1  Chips and Guacamole                NaN     $4.45    \n",
       "...        ...       ...                  ...                ...        ...   \n",
       "4588      1824         1  Chips and Guacamole                NaN     $4.45    \n",
       "4596      1826         1  Chips and Guacamole                NaN     $4.45    \n",
       "4600      1827         1  Chips and Guacamole                NaN     $4.45    \n",
       "4605      1828         1  Chips and Guacamole                NaN     $4.45    \n",
       "4616      1832         1  Chips and Guacamole                NaN     $4.45    \n",
       "\n",
       "      Adobo-Marinated and Grilled Chicken  Adobo-Marinated and Grilled Steak  \\\n",
       "10                                      0                                  0   \n",
       "14                                      0                                  0   \n",
       "20                                      0                                  0   \n",
       "37                                      0                                  0   \n",
       "41                                      0                                  0   \n",
       "...                                   ...                                ...   \n",
       "4588                                    0                                  0   \n",
       "4596                                    0                                  0   \n",
       "4600                                    0                                  0   \n",
       "4605                                    0                                  0   \n",
       "4616                                    0                                  0   \n",
       "\n",
       "      Apple  Black Beans  Blackberry  ...  Sour Cream  Sprite  \\\n",
       "10        0            0           0  ...           0       0   \n",
       "14        0            0           0  ...           0       0   \n",
       "20        0            0           0  ...           0       0   \n",
       "37        0            0           0  ...           0       0   \n",
       "41        0            0           0  ...           0       0   \n",
       "...     ...          ...         ...  ...         ...     ...   \n",
       "4588      0            0           0  ...           0       0   \n",
       "4596      0            0           0  ...           0       0   \n",
       "4600      0            0           0  ...           0       0   \n",
       "4605      0            0           0  ...           0       0   \n",
       "4616      0            0           0  ...           0       0   \n",
       "\n",
       "      Tomatillo Green Chili (Medium)  Tomatillo Green Chili Salsa  \\\n",
       "10                                 0                            0   \n",
       "14                                 0                            0   \n",
       "20                                 0                            0   \n",
       "37                                 0                            0   \n",
       "41                                 0                            0   \n",
       "...                              ...                          ...   \n",
       "4588                               0                            0   \n",
       "4596                               0                            0   \n",
       "4600                               0                            0   \n",
       "4605                               0                            0   \n",
       "4616                               0                            0   \n",
       "\n",
       "      Tomatillo Red Chili (Hot)  Tomatillo Red Chili Salsa  \\\n",
       "10                            0                          0   \n",
       "14                            0                          0   \n",
       "20                            0                          0   \n",
       "37                            0                          0   \n",
       "41                            0                          0   \n",
       "...                         ...                        ...   \n",
       "4588                          0                          0   \n",
       "4596                          0                          0   \n",
       "4600                          0                          0   \n",
       "4605                          0                          0   \n",
       "4616                          0                          0   \n",
       "\n",
       "      Tomatillo-Green Chili Salsa (Medium)  Tomatillo-Red Chili Salsa (Hot)  \\\n",
       "10                                       0                                0   \n",
       "14                                       0                                0   \n",
       "20                                       0                                0   \n",
       "37                                       0                                0   \n",
       "41                                       0                                0   \n",
       "...                                    ...                              ...   \n",
       "4588                                     0                                0   \n",
       "4596                                     0                                0   \n",
       "4600                                     0                                0   \n",
       "4605                                     0                                0   \n",
       "4616                                     0                                0   \n",
       "\n",
       "      Vegetarian Black Beans  White Rice  \n",
       "10                         0           0  \n",
       "14                         0           0  \n",
       "20                         0           0  \n",
       "37                         0           0  \n",
       "41                         0           0  \n",
       "...                      ...         ...  \n",
       "4588                       0           0  \n",
       "4596                       0           0  \n",
       "4600                       0           0  \n",
       "4605                       0           0  \n",
       "4616                       0           0  \n",
       "\n",
       "[479 rows x 51 columns]"
      ]
     },
     "execution_count": 9,
     "metadata": {},
     "output_type": "execute_result"
    }
   ],
   "source": [
    "df1[df1['item_name']=='Chips and Guacamole']"
   ]
  },
  {
   "cell_type": "markdown",
   "id": "engaged-acquisition",
   "metadata": {},
   "source": [
    "On further inspection we notice anything with chips and bottled water do not have any choice description."
   ]
  },
  {
   "cell_type": "code",
   "execution_count": 10,
   "id": "freelance-feedback",
   "metadata": {},
   "outputs": [
    {
     "data": {
      "text/plain": [
       "Chicken Bowl                             726\n",
       "Chicken Burrito                          553\n",
       "Chips and Guacamole                      479\n",
       "Steak Burrito                            368\n",
       "Canned Soft Drink                        301\n",
       "Chips                                    211\n",
       "Steak Bowl                               211\n",
       "Bottled Water                            162\n",
       "Chicken Soft Tacos                       115\n",
       "Chips and Fresh Tomato Salsa             110\n",
       "Chicken Salad Bowl                       110\n",
       "Canned Soda                              104\n",
       "Side of Chips                            101\n",
       "Veggie Burrito                            95\n",
       "Barbacoa Burrito                          91\n",
       "Veggie Bowl                               85\n",
       "Carnitas Bowl                             68\n",
       "Barbacoa Bowl                             66\n",
       "Carnitas Burrito                          59\n",
       "Steak Soft Tacos                          55\n",
       "6 Pack Soft Drink                         54\n",
       "Chips and Tomatillo Red Chili Salsa       48\n",
       "Chicken Crispy Tacos                      47\n",
       "Chips and Tomatillo Green Chili Salsa     43\n",
       "Carnitas Soft Tacos                       40\n",
       "Steak Crispy Tacos                        35\n",
       "Chips and Tomatillo-Green Chili Salsa     31\n",
       "Steak Salad Bowl                          29\n",
       "Nantucket Nectar                          27\n",
       "Barbacoa Soft Tacos                       25\n",
       "Chips and Roasted Chili Corn Salsa        22\n",
       "Izze                                      20\n",
       "Chips and Tomatillo-Red Chili Salsa       20\n",
       "Veggie Salad Bowl                         18\n",
       "Chips and Roasted Chili-Corn Salsa        18\n",
       "Barbacoa Crispy Tacos                     11\n",
       "Barbacoa Salad Bowl                       10\n",
       "Chicken Salad                              9\n",
       "Carnitas Crispy Tacos                      7\n",
       "Veggie Soft Tacos                          7\n",
       "Carnitas Salad Bowl                        6\n",
       "Burrito                                    6\n",
       "Veggie Salad                               6\n",
       "Steak Salad                                4\n",
       "Crispy Tacos                               2\n",
       "Bowl                                       2\n",
       "Salad                                      2\n",
       "Carnitas Salad                             1\n",
       "Veggie Crispy Tacos                        1\n",
       "Chips and Mild Fresh Tomato Salsa          1\n",
       "Name: item_name, dtype: int64"
      ]
     },
     "execution_count": 10,
     "metadata": {},
     "output_type": "execute_result"
    }
   ],
   "source": [
    "df1.item_name.value_counts()"
   ]
  },
  {
   "cell_type": "markdown",
   "id": "unique-project",
   "metadata": {},
   "source": [
    "We can see that Chicken Bowl and Chicken Buritto are the most popular items whereas Carnitas Salad and Chips and Mild Fresh Tomato Salsa are the least ordered items."
   ]
  },
  {
   "cell_type": "code",
   "execution_count": 11,
   "id": "removable-romania",
   "metadata": {},
   "outputs": [],
   "source": [
    "# function to convert str to float\n",
    "def str_float(num):\n",
    "    return float(num.replace(\"$\", \"\"))"
   ]
  },
  {
   "cell_type": "code",
   "execution_count": 12,
   "id": "dominican-gather",
   "metadata": {},
   "outputs": [],
   "source": [
    "# applying func to convert price to float\n",
    "df1.item_price = df1.item_price.apply(str_float)"
   ]
  },
  {
   "cell_type": "code",
   "execution_count": 13,
   "id": "advised-painting",
   "metadata": {},
   "outputs": [
    {
     "data": {
      "text/plain": [
       "34500.16"
      ]
     },
     "execution_count": 13,
     "metadata": {},
     "output_type": "execute_result"
    }
   ],
   "source": [
    "df1.item_price.sum()"
   ]
  },
  {
   "cell_type": "markdown",
   "id": "departmental-ivory",
   "metadata": {},
   "source": [
    "34500 is our total revenue."
   ]
  },
  {
   "cell_type": "code",
   "execution_count": 14,
   "id": "assigned-baseball",
   "metadata": {},
   "outputs": [
    {
     "data": {
      "text/plain": [
       "item_name\n",
       "Chicken Bowl                             7342.73\n",
       "Chicken Burrito                          5575.82\n",
       "Steak Burrito                            3851.43\n",
       "Steak Bowl                               2260.19\n",
       "Chips and Guacamole                      2201.04\n",
       "Chicken Salad Bowl                       1228.75\n",
       "Chicken Soft Tacos                       1108.09\n",
       "Veggie Burrito                            934.77\n",
       "Barbacoa Burrito                          894.75\n",
       "Veggie Bowl                               867.99\n",
       "Carnitas Bowl                             736.71\n",
       "Barbacoa Bowl                             672.36\n",
       "Carnitas Burrito                          597.83\n",
       "Steak Soft Tacos                          536.05\n",
       "Chips                                     494.34\n",
       "Chicken Crispy Tacos                      472.13\n",
       "Canned Soft Drink                         438.75\n",
       "Carnitas Soft Tacos                       375.94\n",
       "Chips and Fresh Tomato Salsa              361.36\n",
       "Steak Crispy Tacos                        357.34\n",
       "6 Pack Soft Drink                         356.95\n",
       "Steak Salad Bowl                          343.59\n",
       "Bottled Water                             302.56\n",
       "Barbacoa Soft Tacos                       250.46\n",
       "Side of Chips                             185.90\n",
       "Veggie Salad Bowl                         182.50\n",
       "Chips and Tomatillo Red Chili Salsa       147.50\n",
       "Canned Soda                               137.34\n",
       "Chips and Tomatillo Green Chili Salsa     132.75\n",
       "Barbacoa Crispy Tacos                     120.21\n",
       "Barbacoa Salad Bowl                       106.40\n",
       "Nantucket Nectar                           98.31\n",
       "Chicken Salad                              81.09\n",
       "Chips and Tomatillo-Green Chili Salsa      78.87\n",
       "Carnitas Crispy Tacos                      77.96\n",
       "Veggie Soft Tacos                          73.96\n",
       "Chips and Roasted Chili Corn Salsa         67.85\n",
       "Izze                                       67.80\n",
       "Carnitas Salad Bowl                        66.34\n",
       "Chips and Tomatillo-Red Chili Salsa        59.75\n",
       "Veggie Salad                               50.94\n",
       "Burrito                                    44.40\n",
       "Chips and Roasted Chili-Corn Salsa         43.02\n",
       "Steak Salad                                35.66\n",
       "Bowl                                       29.60\n",
       "Salad                                      14.80\n",
       "Crispy Tacos                               14.80\n",
       "Carnitas Salad                              8.99\n",
       "Veggie Crispy Tacos                         8.49\n",
       "Chips and Mild Fresh Tomato Salsa           3.00\n",
       "Name: item_price, dtype: float64"
      ]
     },
     "execution_count": 14,
     "metadata": {},
     "output_type": "execute_result"
    }
   ],
   "source": [
    "# groupby to see item wise revenue\n",
    "sales = df1.groupby(['item_name'])['item_price'].sum()\n",
    "# sorting the output\n",
    "sales.sort_values(ascending=False)"
   ]
  },
  {
   "cell_type": "markdown",
   "id": "brutal-housing",
   "metadata": {},
   "source": [
    "### Beer Data"
   ]
  },
  {
   "cell_type": "code",
   "execution_count": 15,
   "id": "binary-brave",
   "metadata": {},
   "outputs": [
    {
     "data": {
      "text/html": [
       "<div>\n",
       "<style scoped>\n",
       "    .dataframe tbody tr th:only-of-type {\n",
       "        vertical-align: middle;\n",
       "    }\n",
       "\n",
       "    .dataframe tbody tr th {\n",
       "        vertical-align: top;\n",
       "    }\n",
       "\n",
       "    .dataframe thead th {\n",
       "        text-align: right;\n",
       "    }\n",
       "</style>\n",
       "<table border=\"1\" class=\"dataframe\">\n",
       "  <thead>\n",
       "    <tr style=\"text-align: right;\">\n",
       "      <th></th>\n",
       "      <th>name</th>\n",
       "      <th>calories</th>\n",
       "      <th>sodium</th>\n",
       "      <th>alcohol</th>\n",
       "      <th>cost</th>\n",
       "    </tr>\n",
       "  </thead>\n",
       "  <tbody>\n",
       "    <tr>\n",
       "      <th>0</th>\n",
       "      <td>Budweiser</td>\n",
       "      <td>144</td>\n",
       "      <td>15</td>\n",
       "      <td>4.7</td>\n",
       "      <td>0.43</td>\n",
       "    </tr>\n",
       "    <tr>\n",
       "      <th>1</th>\n",
       "      <td>Schlitz</td>\n",
       "      <td>151</td>\n",
       "      <td>19</td>\n",
       "      <td>4.9</td>\n",
       "      <td>0.43</td>\n",
       "    </tr>\n",
       "    <tr>\n",
       "      <th>2</th>\n",
       "      <td>Lowenbrau</td>\n",
       "      <td>157</td>\n",
       "      <td>15</td>\n",
       "      <td>0.9</td>\n",
       "      <td>0.48</td>\n",
       "    </tr>\n",
       "    <tr>\n",
       "      <th>3</th>\n",
       "      <td>Kronenbourg</td>\n",
       "      <td>170</td>\n",
       "      <td>7</td>\n",
       "      <td>5.2</td>\n",
       "      <td>0.73</td>\n",
       "    </tr>\n",
       "    <tr>\n",
       "      <th>4</th>\n",
       "      <td>Heineken</td>\n",
       "      <td>152</td>\n",
       "      <td>11</td>\n",
       "      <td>5.0</td>\n",
       "      <td>0.77</td>\n",
       "    </tr>\n",
       "  </tbody>\n",
       "</table>\n",
       "</div>"
      ],
      "text/plain": [
       "          name  calories  sodium  alcohol  cost\n",
       "0    Budweiser       144      15      4.7  0.43\n",
       "1      Schlitz       151      19      4.9  0.43\n",
       "2    Lowenbrau       157      15      0.9  0.48\n",
       "3  Kronenbourg       170       7      5.2  0.73\n",
       "4     Heineken       152      11      5.0  0.77"
      ]
     },
     "execution_count": 15,
     "metadata": {},
     "output_type": "execute_result"
    }
   ],
   "source": [
    "# first 5 rows\n",
    "df2.head()"
   ]
  },
  {
   "cell_type": "code",
   "execution_count": 16,
   "id": "controversial-ordinary",
   "metadata": {},
   "outputs": [
    {
     "data": {
      "text/plain": [
       "(20, 5)"
      ]
     },
     "execution_count": 16,
     "metadata": {},
     "output_type": "execute_result"
    }
   ],
   "source": [
    "# shape of the dataset\n",
    "df2.shape"
   ]
  },
  {
   "cell_type": "code",
   "execution_count": 17,
   "id": "remarkable-doctrine",
   "metadata": {},
   "outputs": [
    {
     "data": {
      "text/html": [
       "<div>\n",
       "<style scoped>\n",
       "    .dataframe tbody tr th:only-of-type {\n",
       "        vertical-align: middle;\n",
       "    }\n",
       "\n",
       "    .dataframe tbody tr th {\n",
       "        vertical-align: top;\n",
       "    }\n",
       "\n",
       "    .dataframe thead th {\n",
       "        text-align: right;\n",
       "    }\n",
       "</style>\n",
       "<table border=\"1\" class=\"dataframe\">\n",
       "  <thead>\n",
       "    <tr style=\"text-align: right;\">\n",
       "      <th></th>\n",
       "      <th>calories</th>\n",
       "      <th>sodium</th>\n",
       "      <th>alcohol</th>\n",
       "      <th>cost</th>\n",
       "    </tr>\n",
       "  </thead>\n",
       "  <tbody>\n",
       "    <tr>\n",
       "      <th>count</th>\n",
       "      <td>20.000000</td>\n",
       "      <td>20.000000</td>\n",
       "      <td>20.000000</td>\n",
       "      <td>20.000000</td>\n",
       "    </tr>\n",
       "    <tr>\n",
       "      <th>mean</th>\n",
       "      <td>132.550000</td>\n",
       "      <td>14.950000</td>\n",
       "      <td>4.240000</td>\n",
       "      <td>0.494500</td>\n",
       "    </tr>\n",
       "    <tr>\n",
       "      <th>std</th>\n",
       "      <td>30.283702</td>\n",
       "      <td>6.581273</td>\n",
       "      <td>1.087924</td>\n",
       "      <td>0.144858</td>\n",
       "    </tr>\n",
       "    <tr>\n",
       "      <th>min</th>\n",
       "      <td>68.000000</td>\n",
       "      <td>6.000000</td>\n",
       "      <td>0.900000</td>\n",
       "      <td>0.280000</td>\n",
       "    </tr>\n",
       "    <tr>\n",
       "      <th>25%</th>\n",
       "      <td>110.250000</td>\n",
       "      <td>9.500000</td>\n",
       "      <td>4.175000</td>\n",
       "      <td>0.427500</td>\n",
       "    </tr>\n",
       "    <tr>\n",
       "      <th>50%</th>\n",
       "      <td>144.000000</td>\n",
       "      <td>15.000000</td>\n",
       "      <td>4.600000</td>\n",
       "      <td>0.435000</td>\n",
       "    </tr>\n",
       "    <tr>\n",
       "      <th>75%</th>\n",
       "      <td>150.250000</td>\n",
       "      <td>19.000000</td>\n",
       "      <td>4.900000</td>\n",
       "      <td>0.485000</td>\n",
       "    </tr>\n",
       "    <tr>\n",
       "      <th>max</th>\n",
       "      <td>175.000000</td>\n",
       "      <td>27.000000</td>\n",
       "      <td>5.500000</td>\n",
       "      <td>0.790000</td>\n",
       "    </tr>\n",
       "  </tbody>\n",
       "</table>\n",
       "</div>"
      ],
      "text/plain": [
       "         calories     sodium    alcohol       cost\n",
       "count   20.000000  20.000000  20.000000  20.000000\n",
       "mean   132.550000  14.950000   4.240000   0.494500\n",
       "std     30.283702   6.581273   1.087924   0.144858\n",
       "min     68.000000   6.000000   0.900000   0.280000\n",
       "25%    110.250000   9.500000   4.175000   0.427500\n",
       "50%    144.000000  15.000000   4.600000   0.435000\n",
       "75%    150.250000  19.000000   4.900000   0.485000\n",
       "max    175.000000  27.000000   5.500000   0.790000"
      ]
     },
     "execution_count": 17,
     "metadata": {},
     "output_type": "execute_result"
    }
   ],
   "source": [
    "# data description\n",
    "df2.describe()"
   ]
  },
  {
   "cell_type": "code",
   "execution_count": 18,
   "id": "together-richards",
   "metadata": {},
   "outputs": [
    {
     "data": {
      "text/plain": [
       "<AxesSubplot:ylabel='Frequency'>"
      ]
     },
     "execution_count": 18,
     "metadata": {},
     "output_type": "execute_result"
    },
    {
     "data": {
      "image/png": "[encoded data removed]",
      "text/plain": [
       "<Figure size 432x288 with 1 Axes>"
      ]
     },
     "metadata": {
      "needs_background": "light"
     },
     "output_type": "display_data"
    }
   ],
   "source": [
    "# plotting calories histogram\n",
    "df2.calories.plot.hist(grid=True, rwidth=0.9, color='#607c8e')"
   ]
  },
  {
   "cell_type": "markdown",
   "id": "difficult-princeton",
   "metadata": {},
   "source": [
    "We can see that most beers have calories around 140 to 160."
   ]
  },
  {
   "cell_type": "code",
   "execution_count": 19,
   "id": "infinite-denmark",
   "metadata": {},
   "outputs": [
    {
     "data": {
      "text/plain": [
       "<AxesSubplot:ylabel='Frequency'>"
      ]
     },
     "execution_count": 19,
     "metadata": {},
     "output_type": "execute_result"
    },
    {
     "data": {
      "image/png": "[encoded data removed]",
      "text/plain": [
       "<Figure size 432x288 with 1 Axes>"
      ]
     },
     "metadata": {
      "needs_background": "light"
     },
     "output_type": "display_data"
    }
   ],
   "source": [
    "# plotting sodium histogram\n",
    "df2.sodium.plot.hist(grid=True, rwidth=0.9, color='#607c8e')"
   ]
  },
  {
   "cell_type": "markdown",
   "id": "atlantic-blast",
   "metadata": {},
   "source": [
    "We can see that most beers have a sodium level nearing 5."
   ]
  },
  {
   "cell_type": "code",
   "execution_count": 20,
   "id": "impaired-windows",
   "metadata": {},
   "outputs": [
    {
     "data": {
      "text/plain": [
       "<AxesSubplot:ylabel='Frequency'>"
      ]
     },
     "execution_count": 20,
     "metadata": {},
     "output_type": "execute_result"
    },
    {
     "data": {
      "image/png": "[encoded data removed]",
      "text/plain": [
       "<Figure size 432x288 with 1 Axes>"
      ]
     },
     "metadata": {
      "needs_background": "light"
     },
     "output_type": "display_data"
    }
   ],
   "source": [
    "# plotting alchol histogram\n",
    "df2.alcohol.plot.hist(grid=True, rwidth=0.9, color='#607c8e')"
   ]
  },
  {
   "cell_type": "markdown",
   "id": "headed-record",
   "metadata": {},
   "source": [
    "We can see that most beers have an alcohol content near 5."
   ]
  },
  {
   "cell_type": "code",
   "execution_count": 21,
   "id": "minute-grill",
   "metadata": {},
   "outputs": [
    {
     "data": {
      "text/plain": [
       "<AxesSubplot:ylabel='Frequency'>"
      ]
     },
     "execution_count": 21,
     "metadata": {},
     "output_type": "execute_result"
    },
    {
     "data": {
      "image/png": "[encoded data removed]",
      "text/plain": [
       "<Figure size 432x288 with 1 Axes>"
      ]
     },
     "metadata": {
      "needs_background": "light"
     },
     "output_type": "display_data"
    }
   ],
   "source": [
    "# plotting cost histogram\n",
    "df2.cost.plot.hist(grid=True, rwidth=0.9, color='#607c8e')"
   ]
  },
  {
   "cell_type": "markdown",
   "id": "ruled-migration",
   "metadata": {},
   "source": [
    "We can see that most beers cost 0.4."
   ]
  },
  {
   "cell_type": "markdown",
   "id": "otherwise-connection",
   "metadata": {},
   "source": [
    "Let's try clustering the beer data"
   ]
  },
  {
   "cell_type": "code",
   "execution_count": 22,
   "id": "placed-bhutan",
   "metadata": {},
   "outputs": [],
   "source": [
    "cluster_data = df2.drop('name', axis=1)"
   ]
  },
  {
   "cell_type": "code",
   "execution_count": 23,
   "id": "thermal-protocol",
   "metadata": {},
   "outputs": [
    {
     "name": "stderr",
     "output_type": "stream",
     "text": [
      "C:\\Users\\Admin\\anaconda3\\lib\\site-packages\\sklearn\\cluster\\_kmeans.py:881: UserWarning: KMeans is known to have a memory leak on Windows with MKL, when there are less chunks than available threads. You can avoid it by setting the environment variable OMP_NUM_THREADS=1.\n",
      "  warnings.warn(\n"
     ]
    },
    {
     "data": {
      "image/png": "[encoded data removed]",
      "text/plain": [
       "<Figure size 432x288 with 1 Axes>"
      ]
     },
     "metadata": {
      "needs_background": "light"
     },
     "output_type": "display_data"
    }
   ],
   "source": [
    "from sklearn.cluster import KMeans\n",
    "\n",
    "sse={}\n",
    "\n",
    "for k in range(1, 10):\n",
    "    kmeans = KMeans(n_clusters=k, max_iter=1000).fit(cluster_data)\n",
    "    cluster_data[\"clusters\"] = kmeans.labels_\n",
    "    sse[k] = kmeans.inertia_ \n",
    "plt.figure()\n",
    "plt.plot(list(sse.keys()), list(sse.values()))\n",
    "plt.xlabel(\"Number of cluster\")\n",
    "plt.show()"
   ]
  },
  {
   "cell_type": "markdown",
   "id": "racial-hearts",
   "metadata": {},
   "source": [
    "Chosing 2 as the number of clusters."
   ]
  },
  {
   "cell_type": "code",
   "execution_count": 24,
   "id": "greatest-consequence",
   "metadata": {},
   "outputs": [],
   "source": [
    "kmeans = KMeans(n_clusters=2)\n",
    "kmeans.fit(cluster_data[['calories', 'sodium', 'alcohol', 'cost']])\n",
    "df2['Cluster'] = kmeans.predict(df2[['calories', 'sodium', 'alcohol', 'cost']])"
   ]
  },
  {
   "cell_type": "markdown",
   "id": "exterior-president",
   "metadata": {},
   "source": [
    "Let's visualize our clusters"
   ]
  },
  {
   "cell_type": "code",
   "execution_count": 25,
   "id": "adjusted-regression",
   "metadata": {},
   "outputs": [
    {
     "data": {
      "image/png": "[encoded data removed]",
      "text/plain": [
       "<Figure size 288x72 with 1 Axes>"
      ]
     },
     "metadata": {},
     "output_type": "display_data"
    }
   ],
   "source": [
    "import seaborn as sns\n",
    "#set style of plots\n",
    "sns.set_style('white')\n",
    "\n",
    "#define a custom palette\n",
    "customPalette = ['#630C3A', '#39C8C6', '#D3500C', '#FFB139']\n",
    "sns.set_palette(customPalette)\n",
    "sns.palplot(customPalette)"
   ]
  },
  {
   "cell_type": "code",
   "execution_count": 26,
   "id": "convertible-mining",
   "metadata": {},
   "outputs": [
    {
     "data": {
      "text/plain": [
       "<seaborn.axisgrid.FacetGrid at 0x1697119e970>"
      ]
     },
     "execution_count": 26,
     "metadata": {},
     "output_type": "execute_result"
    },
    {
     "data": {
      "image/png": "[encoded data removed]",
      "text/plain": [
       "<Figure size 401.625x360 with 1 Axes>"
      ]
     },
     "metadata": {},
     "output_type": "display_data"
    }
   ],
   "source": [
    "sns.lmplot(data=df2, x='alcohol', y='cost', hue='Cluster', fit_reg=False, legend=True, legend_out=True)"
   ]
  },
  {
   "cell_type": "code",
   "execution_count": 27,
   "id": "existing-basement",
   "metadata": {},
   "outputs": [
    {
     "data": {
      "text/plain": [
       "<seaborn.axisgrid.FacetGrid at 0x1697125be20>"
      ]
     },
     "execution_count": 27,
     "metadata": {},
     "output_type": "execute_result"
    },
    {
     "data": {
      "image/png": "[encoded data removed]",
      "text/plain": [
       "<Figure size 401.625x360 with 1 Axes>"
      ]
     },
     "metadata": {},
     "output_type": "display_data"
    }
   ],
   "source": [
    "sns.lmplot(data=df2, x='calories', y='sodium', hue='Cluster', fit_reg=False, legend=True, legend_out=True)"
   ]
  },
  {
   "cell_type": "code",
   "execution_count": 28,
   "id": "civic-palmer",
   "metadata": {},
   "outputs": [
    {
     "data": {
      "text/plain": [
       "<seaborn.axisgrid.FacetGrid at 0x169712caf40>"
      ]
     },
     "execution_count": 28,
     "metadata": {},
     "output_type": "execute_result"
    },
    {
     "data": {
      "image/png": "[encoded data removed]",
      "text/plain": [
       "<Figure size 401.625x360 with 1 Axes>"
      ]
     },
     "metadata": {},
     "output_type": "display_data"
    }
   ],
   "source": [
    "sns.lmplot(data=df2, x='calories', y='cost', hue='Cluster', fit_reg=False, legend=True, legend_out=True)"
   ]
  },
  {
   "cell_type": "markdown",
   "id": "happy-sarah",
   "metadata": {},
   "source": [
    "### Crime Data"
   ]
  },
  {
   "cell_type": "code",
   "execution_count": 29,
   "id": "flush-polyester",
   "metadata": {},
   "outputs": [
    {
     "data": {
      "text/html": [
       "<div>\n",
       "<style scoped>\n",
       "    .dataframe tbody tr th:only-of-type {\n",
       "        vertical-align: middle;\n",
       "    }\n",
       "\n",
       "    .dataframe tbody tr th {\n",
       "        vertical-align: top;\n",
       "    }\n",
       "\n",
       "    .dataframe thead th {\n",
       "        text-align: right;\n",
       "    }\n",
       "</style>\n",
       "<table border=\"1\" class=\"dataframe\">\n",
       "  <thead>\n",
       "    <tr style=\"text-align: right;\">\n",
       "      <th></th>\n",
       "      <th>Year</th>\n",
       "      <th>Population</th>\n",
       "      <th>Total</th>\n",
       "      <th>Violent</th>\n",
       "      <th>Property</th>\n",
       "      <th>Murder</th>\n",
       "      <th>Forcible_Rape</th>\n",
       "      <th>Robbery</th>\n",
       "      <th>Aggravated_assault</th>\n",
       "      <th>Burglary</th>\n",
       "      <th>Larceny_Theft</th>\n",
       "      <th>Vehicle_Theft</th>\n",
       "    </tr>\n",
       "  </thead>\n",
       "  <tbody>\n",
       "    <tr>\n",
       "      <th>0</th>\n",
       "      <td>1960</td>\n",
       "      <td>179323175</td>\n",
       "      <td>3384200</td>\n",
       "      <td>288460</td>\n",
       "      <td>3095700</td>\n",
       "      <td>9110</td>\n",
       "      <td>17190</td>\n",
       "      <td>107840</td>\n",
       "      <td>154320</td>\n",
       "      <td>912100</td>\n",
       "      <td>1855400</td>\n",
       "      <td>328200</td>\n",
       "    </tr>\n",
       "    <tr>\n",
       "      <th>1</th>\n",
       "      <td>1961</td>\n",
       "      <td>182992000</td>\n",
       "      <td>3488000</td>\n",
       "      <td>289390</td>\n",
       "      <td>3198600</td>\n",
       "      <td>8740</td>\n",
       "      <td>17220</td>\n",
       "      <td>106670</td>\n",
       "      <td>156760</td>\n",
       "      <td>949600</td>\n",
       "      <td>1913000</td>\n",
       "      <td>336000</td>\n",
       "    </tr>\n",
       "    <tr>\n",
       "      <th>2</th>\n",
       "      <td>1962</td>\n",
       "      <td>185771000</td>\n",
       "      <td>3752200</td>\n",
       "      <td>301510</td>\n",
       "      <td>3450700</td>\n",
       "      <td>8530</td>\n",
       "      <td>17550</td>\n",
       "      <td>110860</td>\n",
       "      <td>164570</td>\n",
       "      <td>994300</td>\n",
       "      <td>2089600</td>\n",
       "      <td>366800</td>\n",
       "    </tr>\n",
       "    <tr>\n",
       "      <th>3</th>\n",
       "      <td>1963</td>\n",
       "      <td>188483000</td>\n",
       "      <td>4109500</td>\n",
       "      <td>316970</td>\n",
       "      <td>3792500</td>\n",
       "      <td>8640</td>\n",
       "      <td>17650</td>\n",
       "      <td>116470</td>\n",
       "      <td>174210</td>\n",
       "      <td>1086400</td>\n",
       "      <td>2297800</td>\n",
       "      <td>408300</td>\n",
       "    </tr>\n",
       "    <tr>\n",
       "      <th>4</th>\n",
       "      <td>1964</td>\n",
       "      <td>191141000</td>\n",
       "      <td>4564600</td>\n",
       "      <td>364220</td>\n",
       "      <td>4200400</td>\n",
       "      <td>9360</td>\n",
       "      <td>21420</td>\n",
       "      <td>130390</td>\n",
       "      <td>203050</td>\n",
       "      <td>1213200</td>\n",
       "      <td>2514400</td>\n",
       "      <td>472800</td>\n",
       "    </tr>\n",
       "  </tbody>\n",
       "</table>\n",
       "</div>"
      ],
      "text/plain": [
       "   Year  Population    Total  Violent  Property  Murder  Forcible_Rape  \\\n",
       "0  1960   179323175  3384200   288460   3095700    9110          17190   \n",
       "1  1961   182992000  3488000   289390   3198600    8740          17220   \n",
       "2  1962   185771000  3752200   301510   3450700    8530          17550   \n",
       "3  1963   188483000  4109500   316970   3792500    8640          17650   \n",
       "4  1964   191141000  4564600   364220   4200400    9360          21420   \n",
       "\n",
       "   Robbery  Aggravated_assault  Burglary  Larceny_Theft  Vehicle_Theft  \n",
       "0   107840              154320    912100        1855400         328200  \n",
       "1   106670              156760    949600        1913000         336000  \n",
       "2   110860              164570    994300        2089600         366800  \n",
       "3   116470              174210   1086400        2297800         408300  \n",
       "4   130390              203050   1213200        2514400         472800  "
      ]
     },
     "execution_count": 29,
     "metadata": {},
     "output_type": "execute_result"
    }
   ],
   "source": [
    "# first 5 rows\n",
    "df3.head()"
   ]
  },
  {
   "cell_type": "code",
   "execution_count": 30,
   "id": "distributed-mechanics",
   "metadata": {},
   "outputs": [
    {
     "data": {
      "text/html": [
       "<div>\n",
       "<style scoped>\n",
       "    .dataframe tbody tr th:only-of-type {\n",
       "        vertical-align: middle;\n",
       "    }\n",
       "\n",
       "    .dataframe tbody tr th {\n",
       "        vertical-align: top;\n",
       "    }\n",
       "\n",
       "    .dataframe thead th {\n",
       "        text-align: right;\n",
       "    }\n",
       "</style>\n",
       "<table border=\"1\" class=\"dataframe\">\n",
       "  <thead>\n",
       "    <tr style=\"text-align: right;\">\n",
       "      <th></th>\n",
       "      <th>Year</th>\n",
       "      <th>Population</th>\n",
       "      <th>Total</th>\n",
       "      <th>Violent</th>\n",
       "      <th>Property</th>\n",
       "      <th>Murder</th>\n",
       "      <th>Forcible_Rape</th>\n",
       "      <th>Robbery</th>\n",
       "      <th>Aggravated_assault</th>\n",
       "      <th>Burglary</th>\n",
       "      <th>Larceny_Theft</th>\n",
       "      <th>Vehicle_Theft</th>\n",
       "    </tr>\n",
       "  </thead>\n",
       "  <tbody>\n",
       "    <tr>\n",
       "      <th>50</th>\n",
       "      <td>2010</td>\n",
       "      <td>309330219</td>\n",
       "      <td>10363873</td>\n",
       "      <td>1251248</td>\n",
       "      <td>9112625</td>\n",
       "      <td>14772</td>\n",
       "      <td>85593</td>\n",
       "      <td>369089</td>\n",
       "      <td>781844</td>\n",
       "      <td>2168457</td>\n",
       "      <td>6204601</td>\n",
       "      <td>739565</td>\n",
       "    </tr>\n",
       "    <tr>\n",
       "      <th>51</th>\n",
       "      <td>2011</td>\n",
       "      <td>311587816</td>\n",
       "      <td>10258774</td>\n",
       "      <td>1206031</td>\n",
       "      <td>9052743</td>\n",
       "      <td>14661</td>\n",
       "      <td>84175</td>\n",
       "      <td>354772</td>\n",
       "      <td>752423</td>\n",
       "      <td>2185140</td>\n",
       "      <td>6151095</td>\n",
       "      <td>716508</td>\n",
       "    </tr>\n",
       "    <tr>\n",
       "      <th>52</th>\n",
       "      <td>2012</td>\n",
       "      <td>313873685</td>\n",
       "      <td>10219059</td>\n",
       "      <td>1217067</td>\n",
       "      <td>9001992</td>\n",
       "      <td>14866</td>\n",
       "      <td>85141</td>\n",
       "      <td>355051</td>\n",
       "      <td>762009</td>\n",
       "      <td>2109932</td>\n",
       "      <td>6168874</td>\n",
       "      <td>723186</td>\n",
       "    </tr>\n",
       "    <tr>\n",
       "      <th>53</th>\n",
       "      <td>2013</td>\n",
       "      <td>316497531</td>\n",
       "      <td>9850445</td>\n",
       "      <td>1199684</td>\n",
       "      <td>8650761</td>\n",
       "      <td>14319</td>\n",
       "      <td>82109</td>\n",
       "      <td>345095</td>\n",
       "      <td>726575</td>\n",
       "      <td>1931835</td>\n",
       "      <td>6018632</td>\n",
       "      <td>700294</td>\n",
       "    </tr>\n",
       "    <tr>\n",
       "      <th>54</th>\n",
       "      <td>2014</td>\n",
       "      <td>318857056</td>\n",
       "      <td>9475816</td>\n",
       "      <td>1197987</td>\n",
       "      <td>8277829</td>\n",
       "      <td>14249</td>\n",
       "      <td>84041</td>\n",
       "      <td>325802</td>\n",
       "      <td>741291</td>\n",
       "      <td>1729806</td>\n",
       "      <td>5858496</td>\n",
       "      <td>689527</td>\n",
       "    </tr>\n",
       "  </tbody>\n",
       "</table>\n",
       "</div>"
      ],
      "text/plain": [
       "    Year  Population     Total  Violent  Property  Murder  Forcible_Rape  \\\n",
       "50  2010   309330219  10363873  1251248   9112625   14772          85593   \n",
       "51  2011   311587816  10258774  1206031   9052743   14661          84175   \n",
       "52  2012   313873685  10219059  1217067   9001992   14866          85141   \n",
       "53  2013   316497531   9850445  1199684   8650761   14319          82109   \n",
       "54  2014   318857056   9475816  1197987   8277829   14249          84041   \n",
       "\n",
       "    Robbery  Aggravated_assault  Burglary  Larceny_Theft  Vehicle_Theft  \n",
       "50   369089              781844   2168457        6204601         739565  \n",
       "51   354772              752423   2185140        6151095         716508  \n",
       "52   355051              762009   2109932        6168874         723186  \n",
       "53   345095              726575   1931835        6018632         700294  \n",
       "54   325802              741291   1729806        5858496         689527  "
      ]
     },
     "execution_count": 30,
     "metadata": {},
     "output_type": "execute_result"
    }
   ],
   "source": [
    "# last 5 rows\n",
    "df3.tail()"
   ]
  },
  {
   "cell_type": "code",
   "execution_count": 31,
   "id": "revolutionary-sunglasses",
   "metadata": {},
   "outputs": [
    {
     "data": {
      "text/plain": [
       "array([1960, 1961, 1962, 1963, 1964, 1965, 1966, 1967, 1968, 1969, 1970,\n",
       "       1971, 1972, 1973, 1974, 1975, 1976, 1977, 1978, 1979, 1980, 1981,\n",
       "       1982, 1983, 1984, 1985, 1986, 1987, 1988, 1989, 1990, 1991, 1992,\n",
       "       1993, 1994, 1995, 1996, 1997, 1998, 1999, 2000, 2001, 2002, 2003,\n",
       "       2004, 2005, 2006, 2007, 2008, 2009, 2010, 2011, 2012, 2013, 2014],\n",
       "      dtype=int64)"
      ]
     },
     "execution_count": 31,
     "metadata": {},
     "output_type": "execute_result"
    }
   ],
   "source": [
    "df3.Year.unique()"
   ]
  },
  {
   "cell_type": "markdown",
   "id": "italic-impression",
   "metadata": {},
   "source": [
    "We have crime data from the year 1960 to 2014."
   ]
  },
  {
   "cell_type": "code",
   "execution_count": 32,
   "id": "played-shield",
   "metadata": {},
   "outputs": [
    {
     "data": {
      "text/plain": [
       "(55, 12)"
      ]
     },
     "execution_count": 32,
     "metadata": {},
     "output_type": "execute_result"
    }
   ],
   "source": [
    "# shape of the dataset\n",
    "df3.shape"
   ]
  },
  {
   "cell_type": "code",
   "execution_count": 33,
   "id": "early-eclipse",
   "metadata": {},
   "outputs": [
    {
     "data": {
      "text/plain": [
       "Year                  0\n",
       "Population            0\n",
       "Total                 0\n",
       "Violent               0\n",
       "Property              0\n",
       "Murder                0\n",
       "Forcible_Rape         0\n",
       "Robbery               0\n",
       "Aggravated_assault    0\n",
       "Burglary              0\n",
       "Larceny_Theft         0\n",
       "Vehicle_Theft         0\n",
       "dtype: int64"
      ]
     },
     "execution_count": 33,
     "metadata": {},
     "output_type": "execute_result"
    }
   ],
   "source": [
    "# checking for null values\n",
    "df3.isnull().sum()"
   ]
  },
  {
   "cell_type": "code",
   "execution_count": 38,
   "id": "interesting-flood",
   "metadata": {},
   "outputs": [
    {
     "data": {
      "text/html": [
       "<div>\n",
       "<style scoped>\n",
       "    .dataframe tbody tr th:only-of-type {\n",
       "        vertical-align: middle;\n",
       "    }\n",
       "\n",
       "    .dataframe tbody tr th {\n",
       "        vertical-align: top;\n",
       "    }\n",
       "\n",
       "    .dataframe thead th {\n",
       "        text-align: right;\n",
       "    }\n",
       "</style>\n",
       "<table border=\"1\" class=\"dataframe\">\n",
       "  <thead>\n",
       "    <tr style=\"text-align: right;\">\n",
       "      <th></th>\n",
       "      <th>Year</th>\n",
       "      <th>Population</th>\n",
       "      <th>Total</th>\n",
       "      <th>Violent</th>\n",
       "      <th>Property</th>\n",
       "      <th>Murder</th>\n",
       "      <th>Forcible_Rape</th>\n",
       "      <th>Robbery</th>\n",
       "      <th>Aggravated_assault</th>\n",
       "      <th>Burglary</th>\n",
       "      <th>Larceny_Theft</th>\n",
       "      <th>Vehicle_Theft</th>\n",
       "    </tr>\n",
       "  </thead>\n",
       "  <tbody>\n",
       "    <tr>\n",
       "      <th>count</th>\n",
       "      <td>55.00000</td>\n",
       "      <td>5.500000e+01</td>\n",
       "      <td>5.500000e+01</td>\n",
       "      <td>5.500000e+01</td>\n",
       "      <td>5.500000e+01</td>\n",
       "      <td>55.000000</td>\n",
       "      <td>55.000000</td>\n",
       "      <td>55.000000</td>\n",
       "      <td>5.500000e+01</td>\n",
       "      <td>5.500000e+01</td>\n",
       "      <td>5.500000e+01</td>\n",
       "      <td>5.500000e+01</td>\n",
       "    </tr>\n",
       "    <tr>\n",
       "      <th>mean</th>\n",
       "      <td>1987.00000</td>\n",
       "      <td>2.461556e+08</td>\n",
       "      <td>1.060315e+07</td>\n",
       "      <td>1.188806e+06</td>\n",
       "      <td>9.412499e+06</td>\n",
       "      <td>17317.236364</td>\n",
       "      <td>72714.800000</td>\n",
       "      <td>416449.890909</td>\n",
       "      <td>6.811818e+05</td>\n",
       "      <td>2.424017e+06</td>\n",
       "      <td>5.959947e+06</td>\n",
       "      <td>1.028614e+06</td>\n",
       "    </tr>\n",
       "    <tr>\n",
       "      <th>std</th>\n",
       "      <td>16.02082</td>\n",
       "      <td>4.166216e+07</td>\n",
       "      <td>3.175931e+06</td>\n",
       "      <td>4.597107e+05</td>\n",
       "      <td>2.738512e+06</td>\n",
       "      <td>4267.442664</td>\n",
       "      <td>28278.006893</td>\n",
       "      <td>150506.403782</td>\n",
       "      <td>2.960255e+05</td>\n",
       "      <td>7.259004e+05</td>\n",
       "      <td>1.846401e+06</td>\n",
       "      <td>3.455693e+05</td>\n",
       "    </tr>\n",
       "    <tr>\n",
       "      <th>min</th>\n",
       "      <td>1960.00000</td>\n",
       "      <td>1.793232e+08</td>\n",
       "      <td>3.384200e+06</td>\n",
       "      <td>2.884600e+05</td>\n",
       "      <td>3.095700e+06</td>\n",
       "      <td>8530.000000</td>\n",
       "      <td>17190.000000</td>\n",
       "      <td>106670.000000</td>\n",
       "      <td>1.543200e+05</td>\n",
       "      <td>9.121000e+05</td>\n",
       "      <td>1.855400e+06</td>\n",
       "      <td>3.282000e+05</td>\n",
       "    </tr>\n",
       "    <tr>\n",
       "      <th>25%</th>\n",
       "      <td>1973.50000</td>\n",
       "      <td>2.106215e+08</td>\n",
       "      <td>9.096958e+06</td>\n",
       "      <td>9.253150e+05</td>\n",
       "      <td>8.060014e+06</td>\n",
       "      <td>14819.000000</td>\n",
       "      <td>53400.000000</td>\n",
       "      <td>354911.500000</td>\n",
       "      <td>4.384300e+05</td>\n",
       "      <td>2.105336e+06</td>\n",
       "      <td>4.843350e+06</td>\n",
       "      <td>7.896260e+05</td>\n",
       "    </tr>\n",
       "    <tr>\n",
       "      <th>50%</th>\n",
       "      <td>1987.00000</td>\n",
       "      <td>2.422829e+08</td>\n",
       "      <td>1.140151e+07</td>\n",
       "      <td>1.322390e+06</td>\n",
       "      <td>1.018259e+07</td>\n",
       "      <td>17030.000000</td>\n",
       "      <td>84230.000000</td>\n",
       "      <td>423557.000000</td>\n",
       "      <td>7.412910e+05</td>\n",
       "      <td>2.329950e+06</td>\n",
       "      <td>6.591900e+06</td>\n",
       "      <td>1.032200e+06</td>\n",
       "    </tr>\n",
       "    <tr>\n",
       "      <th>75%</th>\n",
       "      <td>2000.50000</td>\n",
       "      <td>2.833697e+08</td>\n",
       "      <td>1.308449e+07</td>\n",
       "      <td>1.432762e+06</td>\n",
       "      <td>1.160509e+07</td>\n",
       "      <td>20561.500000</td>\n",
       "      <td>92930.000000</td>\n",
       "      <td>512137.000000</td>\n",
       "      <td>9.002150e+05</td>\n",
       "      <td>3.073600e+06</td>\n",
       "      <td>7.168450e+06</td>\n",
       "      <td>1.239302e+06</td>\n",
       "    </tr>\n",
       "    <tr>\n",
       "      <th>max</th>\n",
       "      <td>2014.00000</td>\n",
       "      <td>3.188571e+08</td>\n",
       "      <td>1.487290e+07</td>\n",
       "      <td>1.932270e+06</td>\n",
       "      <td>1.296110e+07</td>\n",
       "      <td>24700.000000</td>\n",
       "      <td>109060.000000</td>\n",
       "      <td>687730.000000</td>\n",
       "      <td>1.135610e+06</td>\n",
       "      <td>3.795200e+06</td>\n",
       "      <td>8.142200e+06</td>\n",
       "      <td>1.661700e+06</td>\n",
       "    </tr>\n",
       "  </tbody>\n",
       "</table>\n",
       "</div>"
      ],
      "text/plain": [
       "             Year    Population         Total       Violent      Property  \\\n",
       "count    55.00000  5.500000e+01  5.500000e+01  5.500000e+01  5.500000e+01   \n",
       "mean   1987.00000  2.461556e+08  1.060315e+07  1.188806e+06  9.412499e+06   \n",
       "std      16.02082  4.166216e+07  3.175931e+06  4.597107e+05  2.738512e+06   \n",
       "min    1960.00000  1.793232e+08  3.384200e+06  2.884600e+05  3.095700e+06   \n",
       "25%    1973.50000  2.106215e+08  9.096958e+06  9.253150e+05  8.060014e+06   \n",
       "50%    1987.00000  2.422829e+08  1.140151e+07  1.322390e+06  1.018259e+07   \n",
       "75%    2000.50000  2.833697e+08  1.308449e+07  1.432762e+06  1.160509e+07   \n",
       "max    2014.00000  3.188571e+08  1.487290e+07  1.932270e+06  1.296110e+07   \n",
       "\n",
       "             Murder  Forcible_Rape        Robbery  Aggravated_assault  \\\n",
       "count     55.000000      55.000000      55.000000        5.500000e+01   \n",
       "mean   17317.236364   72714.800000  416449.890909        6.811818e+05   \n",
       "std     4267.442664   28278.006893  150506.403782        2.960255e+05   \n",
       "min     8530.000000   17190.000000  106670.000000        1.543200e+05   \n",
       "25%    14819.000000   53400.000000  354911.500000        4.384300e+05   \n",
       "50%    17030.000000   84230.000000  423557.000000        7.412910e+05   \n",
       "75%    20561.500000   92930.000000  512137.000000        9.002150e+05   \n",
       "max    24700.000000  109060.000000  687730.000000        1.135610e+06   \n",
       "\n",
       "           Burglary  Larceny_Theft  Vehicle_Theft  \n",
       "count  5.500000e+01   5.500000e+01   5.500000e+01  \n",
       "mean   2.424017e+06   5.959947e+06   1.028614e+06  \n",
       "std    7.259004e+05   1.846401e+06   3.455693e+05  \n",
       "min    9.121000e+05   1.855400e+06   3.282000e+05  \n",
       "25%    2.105336e+06   4.843350e+06   7.896260e+05  \n",
       "50%    2.329950e+06   6.591900e+06   1.032200e+06  \n",
       "75%    3.073600e+06   7.168450e+06   1.239302e+06  \n",
       "max    3.795200e+06   8.142200e+06   1.661700e+06  "
      ]
     },
     "execution_count": 38,
     "metadata": {},
     "output_type": "execute_result"
    }
   ],
   "source": [
    "df3.describe()"
   ]
  },
  {
   "cell_type": "markdown",
   "id": "adverse-trustee",
   "metadata": {},
   "source": [
    "Let's visualize our dataset"
   ]
  },
  {
   "cell_type": "code",
   "execution_count": 37,
   "id": "stock-alberta",
   "metadata": {},
   "outputs": [
    {
     "data": {
      "text/plain": [
       "<seaborn.axisgrid.FacetGrid at 0x16977033be0>"
      ]
     },
     "execution_count": 37,
     "metadata": {},
     "output_type": "execute_result"
    },
    {
     "data": {
      "image/png": "[encoded data removed]",
      "text/plain": [
       "<Figure size 360x360 with 1 Axes>"
      ]
     },
     "metadata": {},
     "output_type": "display_data"
    }
   ],
   "source": [
    "sns.lmplot(data=df3, x='Year', y='Population', fit_reg=False, legend=True, legend_out=True)"
   ]
  },
  {
   "cell_type": "markdown",
   "id": "ruled-printing",
   "metadata": {},
   "source": [
    "We can see a linear growth in population along the years."
   ]
  },
  {
   "cell_type": "code",
   "execution_count": 39,
   "id": "beautiful-maple",
   "metadata": {},
   "outputs": [
    {
     "data": {
      "text/plain": [
       "<seaborn.axisgrid.FacetGrid at 0x169770ef790>"
      ]
     },
     "execution_count": 39,
     "metadata": {},
     "output_type": "execute_result"
    },
    {
     "data": {
      "image/png": "[encoded data removed]",
      "text/plain": [
       "<Figure size 360x360 with 1 Axes>"
      ]
     },
     "metadata": {},
     "output_type": "display_data"
    }
   ],
   "source": [
    "sns.lmplot(data=df3, x='Year', y='Total', fit_reg=False, legend=True, legend_out=True)"
   ]
  },
  {
   "cell_type": "markdown",
   "id": "cubic-technician",
   "metadata": {},
   "source": [
    "We can see a linear growth along with a sharp decline in the total crimes committed along the years."
   ]
  },
  {
   "cell_type": "markdown",
   "id": "strange-consciousness",
   "metadata": {},
   "source": [
    "### Dataset Repository"
   ]
  },
  {
   "cell_type": "code",
   "execution_count": 53,
   "id": "weekly-slovakia",
   "metadata": {},
   "outputs": [
    {
     "data": {
      "text/html": [
       "<div>\n",
       "<style scoped>\n",
       "    .dataframe tbody tr th:only-of-type {\n",
       "        vertical-align: middle;\n",
       "    }\n",
       "\n",
       "    .dataframe tbody tr th {\n",
       "        vertical-align: top;\n",
       "    }\n",
       "\n",
       "    .dataframe thead th {\n",
       "        text-align: right;\n",
       "    }\n",
       "</style>\n",
       "<table border=\"1\" class=\"dataframe\">\n",
       "  <thead>\n",
       "    <tr style=\"text-align: right;\">\n",
       "      <th></th>\n",
       "      <th>Package</th>\n",
       "      <th>Item</th>\n",
       "      <th>Title</th>\n",
       "      <th>Rows</th>\n",
       "      <th>Cols</th>\n",
       "      <th>n_binary</th>\n",
       "      <th>n_character</th>\n",
       "      <th>n_factor</th>\n",
       "      <th>n_logical</th>\n",
       "      <th>n_numeric</th>\n",
       "      <th>CSV</th>\n",
       "      <th>Doc</th>\n",
       "    </tr>\n",
       "  </thead>\n",
       "  <tbody>\n",
       "    <tr>\n",
       "      <th>0</th>\n",
       "      <td>AER</td>\n",
       "      <td>Affairs</td>\n",
       "      <td>Fair's Extramarital Affairs Data</td>\n",
       "      <td>601</td>\n",
       "      <td>9</td>\n",
       "      <td>2</td>\n",
       "      <td>0</td>\n",
       "      <td>2</td>\n",
       "      <td>0</td>\n",
       "      <td>7</td>\n",
       "      <td>https://vincentarelbundock.github.io/Rdatasets...</td>\n",
       "      <td>https://vincentarelbundock.github.io/Rdatasets...</td>\n",
       "    </tr>\n",
       "    <tr>\n",
       "      <th>1</th>\n",
       "      <td>AER</td>\n",
       "      <td>ArgentinaCPI</td>\n",
       "      <td>Consumer Price Index in Argentina</td>\n",
       "      <td>80</td>\n",
       "      <td>2</td>\n",
       "      <td>0</td>\n",
       "      <td>0</td>\n",
       "      <td>0</td>\n",
       "      <td>0</td>\n",
       "      <td>2</td>\n",
       "      <td>https://vincentarelbundock.github.io/Rdatasets...</td>\n",
       "      <td>https://vincentarelbundock.github.io/Rdatasets...</td>\n",
       "    </tr>\n",
       "    <tr>\n",
       "      <th>2</th>\n",
       "      <td>AER</td>\n",
       "      <td>BankWages</td>\n",
       "      <td>Bank Wages</td>\n",
       "      <td>474</td>\n",
       "      <td>4</td>\n",
       "      <td>2</td>\n",
       "      <td>0</td>\n",
       "      <td>3</td>\n",
       "      <td>0</td>\n",
       "      <td>1</td>\n",
       "      <td>https://vincentarelbundock.github.io/Rdatasets...</td>\n",
       "      <td>https://vincentarelbundock.github.io/Rdatasets...</td>\n",
       "    </tr>\n",
       "    <tr>\n",
       "      <th>3</th>\n",
       "      <td>AER</td>\n",
       "      <td>BenderlyZwick</td>\n",
       "      <td>Benderly and Zwick Data: Inflation, Growth and...</td>\n",
       "      <td>31</td>\n",
       "      <td>5</td>\n",
       "      <td>0</td>\n",
       "      <td>0</td>\n",
       "      <td>0</td>\n",
       "      <td>0</td>\n",
       "      <td>5</td>\n",
       "      <td>https://vincentarelbundock.github.io/Rdatasets...</td>\n",
       "      <td>https://vincentarelbundock.github.io/Rdatasets...</td>\n",
       "    </tr>\n",
       "    <tr>\n",
       "      <th>4</th>\n",
       "      <td>AER</td>\n",
       "      <td>BondYield</td>\n",
       "      <td>Bond Yield Data</td>\n",
       "      <td>60</td>\n",
       "      <td>2</td>\n",
       "      <td>0</td>\n",
       "      <td>0</td>\n",
       "      <td>0</td>\n",
       "      <td>0</td>\n",
       "      <td>2</td>\n",
       "      <td>https://vincentarelbundock.github.io/Rdatasets...</td>\n",
       "      <td>https://vincentarelbundock.github.io/Rdatasets...</td>\n",
       "    </tr>\n",
       "  </tbody>\n",
       "</table>\n",
       "</div>"
      ],
      "text/plain": [
       "  Package           Item                                              Title  \\\n",
       "0     AER        Affairs                   Fair's Extramarital Affairs Data   \n",
       "1     AER   ArgentinaCPI                  Consumer Price Index in Argentina   \n",
       "2     AER      BankWages                                         Bank Wages   \n",
       "3     AER  BenderlyZwick  Benderly and Zwick Data: Inflation, Growth and...   \n",
       "4     AER      BondYield                                    Bond Yield Data   \n",
       "\n",
       "   Rows  Cols  n_binary  n_character  n_factor  n_logical  n_numeric  \\\n",
       "0   601     9         2            0         2          0          7   \n",
       "1    80     2         0            0         0          0          2   \n",
       "2   474     4         2            0         3          0          1   \n",
       "3    31     5         0            0         0          0          5   \n",
       "4    60     2         0            0         0          0          2   \n",
       "\n",
       "                                                 CSV  \\\n",
       "0  https://vincentarelbundock.github.io/Rdatasets...   \n",
       "1  https://vincentarelbundock.github.io/Rdatasets...   \n",
       "2  https://vincentarelbundock.github.io/Rdatasets...   \n",
       "3  https://vincentarelbundock.github.io/Rdatasets...   \n",
       "4  https://vincentarelbundock.github.io/Rdatasets...   \n",
       "\n",
       "                                                 Doc  \n",
       "0  https://vincentarelbundock.github.io/Rdatasets...  \n",
       "1  https://vincentarelbundock.github.io/Rdatasets...  \n",
       "2  https://vincentarelbundock.github.io/Rdatasets...  \n",
       "3  https://vincentarelbundock.github.io/Rdatasets...  \n",
       "4  https://vincentarelbundock.github.io/Rdatasets...  "
      ]
     },
     "execution_count": 53,
     "metadata": {},
     "output_type": "execute_result"
    }
   ],
   "source": [
    "# first 5 rows\n",
    "df4.head()"
   ]
  },
  {
   "cell_type": "code",
   "execution_count": 52,
   "id": "human-april",
   "metadata": {},
   "outputs": [
    {
     "data": {
      "text/plain": [
       "(1714, 12)"
      ]
     },
     "execution_count": 52,
     "metadata": {},
     "output_type": "execute_result"
    }
   ],
   "source": [
    "# Shape of the dataset\n",
    "df4.shape"
   ]
  },
  {
   "cell_type": "code",
   "execution_count": 74,
   "id": "canadian-prototype",
   "metadata": {},
   "outputs": [
    {
     "data": {
      "text/plain": [
       "Stat2Data         211\n",
       "openintro         198\n",
       "Ecdat             134\n",
       "DAAG              121\n",
       "AER               107\n",
       "MASS               87\n",
       "datasets           84\n",
       "stevedata          69\n",
       "carData            63\n",
       "boot               49\n",
       "HistData           46\n",
       "HSAUR              41\n",
       "robustbase         40\n",
       "fpp2               38\n",
       "drc                35\n",
       "vcd                33\n",
       "causaldata         33\n",
       "mosaicData         31\n",
       "KMsurv             27\n",
       "psych              23\n",
       "COUNT              21\n",
       "gap                18\n",
       "pscl               17\n",
       "tidyr              15\n",
       "plm                14\n",
       "survival           14\n",
       "ISLR               13\n",
       "lme4               11\n",
       "ggplot2            11\n",
       "geepack             9\n",
       "cluster             9\n",
       "quantreg            7\n",
       "lattice             7\n",
       "evir                7\n",
       "texmex              7\n",
       "sem                 6\n",
       "rpart               6\n",
       "mediation           6\n",
       "gt                  6\n",
       "dplyr               5\n",
       "nycflights13        5\n",
       "forecast            5\n",
       "HLMdiag             4\n",
       "sandwich            4\n",
       "dragracer           3\n",
       "reshape2            3\n",
       "plyr                2\n",
       "mi                  2\n",
       "hwde                2\n",
       "multgee             2\n",
       "ggplot2movies       1\n",
       "palmerpenguins      1\n",
       "lmec                1\n",
       "Name: Package, dtype: int64"
      ]
     },
     "execution_count": 74,
     "metadata": {},
     "output_type": "execute_result"
    }
   ],
   "source": [
    "# finding package count\n",
    "df4.Package.value_counts().sort_values(ascending=False)"
   ]
  },
  {
   "cell_type": "code",
   "execution_count": 75,
   "id": "guided-arena",
   "metadata": {},
   "outputs": [
    {
     "data": {
      "text/plain": [
       "1414593"
      ]
     },
     "execution_count": 75,
     "metadata": {},
     "output_type": "execute_result"
    }
   ],
   "source": [
    "# finding max value in row column\n",
    "df4.Rows.max()"
   ]
  },
  {
   "cell_type": "markdown",
   "id": "annual-finance",
   "metadata": {},
   "source": [
    "The biggest dataset in the repository has 1414593 rows."
   ]
  },
  {
   "cell_type": "code",
   "execution_count": 76,
   "id": "industrial-colors",
   "metadata": {},
   "outputs": [
    {
     "data": {
      "text/plain": [
       "Rows    1157\n",
       "dtype: int64"
      ]
     },
     "execution_count": 76,
     "metadata": {},
     "output_type": "execute_result"
    }
   ],
   "source": [
    "# finding index of max value in row column\n",
    "df4[['Rows']].idxmax()"
   ]
  },
  {
   "cell_type": "code",
   "execution_count": 77,
   "id": "aging-marketing",
   "metadata": {},
   "outputs": [
    {
     "data": {
      "text/plain": [
       "'US Military Demographics'"
      ]
     },
     "execution_count": 77,
     "metadata": {},
     "output_type": "execute_result"
    }
   ],
   "source": [
    "# name of the dataset with max rows\n",
    "df4['Title'][1157]"
   ]
  },
  {
   "cell_type": "code",
   "execution_count": 78,
   "id": "identified-greensboro",
   "metadata": {},
   "outputs": [
    {
     "data": {
      "text/plain": [
       "Package                                                openintro\n",
       "Item                                                    military\n",
       "Title                                   US Military Demographics\n",
       "Rows                                                     1414593\n",
       "Cols                                                           6\n",
       "n_binary                                                       2\n",
       "n_character                                                    0\n",
       "n_factor                                                       4\n",
       "n_logical                                                      1\n",
       "n_numeric                                                      1\n",
       "CSV            https://vincentarelbundock.github.io/Rdatasets...\n",
       "Doc            https://vincentarelbundock.github.io/Rdatasets...\n",
       "Name: 1157, dtype: object"
      ]
     },
     "execution_count": 78,
     "metadata": {},
     "output_type": "execute_result"
    }
   ],
   "source": [
    "# pulling entire row\n",
    "df4.iloc[1157]"
   ]
  },
  {
   "cell_type": "code",
   "execution_count": 79,
   "id": "attached-major",
   "metadata": {},
   "outputs": [
    {
     "data": {
      "text/plain": [
       "6831"
      ]
     },
     "execution_count": 79,
     "metadata": {},
     "output_type": "execute_result"
    }
   ],
   "source": [
    "# finding max value in Cols\n",
    "df4.Cols.max()"
   ]
  },
  {
   "cell_type": "markdown",
   "id": "studied-webster",
   "metadata": {},
   "source": [
    "A dataset in the repository has a max number of 6831 columns."
   ]
  },
  {
   "cell_type": "code",
   "execution_count": 80,
   "id": "systematic-senegal",
   "metadata": {},
   "outputs": [
    {
     "data": {
      "text/plain": [
       "Cols    859\n",
       "dtype: int64"
      ]
     },
     "execution_count": 80,
     "metadata": {},
     "output_type": "execute_result"
    }
   ],
   "source": [
    "# finding index of max value in cols\n",
    "df4[['Cols']].idxmax()"
   ]
  },
  {
   "cell_type": "code",
   "execution_count": 81,
   "id": "loving-spanish",
   "metadata": {},
   "outputs": [
    {
     "data": {
      "text/plain": [
       "'NCI 60 Data'"
      ]
     },
     "execution_count": 81,
     "metadata": {},
     "output_type": "execute_result"
    }
   ],
   "source": [
    "# name of the dataset with max cols\n",
    "df4['Title'][859]"
   ]
  },
  {
   "cell_type": "code",
   "execution_count": 82,
   "id": "surface-korea",
   "metadata": {},
   "outputs": [
    {
     "data": {
      "text/plain": [
       "Package                                                     ISLR\n",
       "Item                                                       NCI60\n",
       "Title                                                NCI 60 Data\n",
       "Rows                                                          64\n",
       "Cols                                                        6831\n",
       "n_binary                                                       0\n",
       "n_character                                                    1\n",
       "n_factor                                                       0\n",
       "n_logical                                                      0\n",
       "n_numeric                                                   6830\n",
       "CSV            https://vincentarelbundock.github.io/Rdatasets...\n",
       "Doc            https://vincentarelbundock.github.io/Rdatasets...\n",
       "Name: 859, dtype: object"
      ]
     },
     "execution_count": 82,
     "metadata": {},
     "output_type": "execute_result"
    }
   ],
   "source": [
    "# pulling entire row\n",
    "df4.iloc[859]"
   ]
  }
 ],
 "metadata": {
  "kernelspec": {
   "display_name": "Python 3",
   "language": "python",
   "name": "python3"
  },
  "language_info": {
   "codemirror_mode": {
    "name": "ipython",
    "version": 3
   },
   "file_extension": ".py",
   "mimetype": "text/x-python",
   "name": "python",
   "nbconvert_exporter": "python",
   "pygments_lexer": "ipython3",
   "version": "3.8.3"
  }
 },
 "nbformat": 4,
 "nbformat_minor": 5
}
