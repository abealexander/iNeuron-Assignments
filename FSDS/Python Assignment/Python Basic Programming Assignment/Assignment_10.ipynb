{
 "cells": [
  {
   "cell_type": "markdown",
   "id": "alive-moore",
   "metadata": {},
   "source": [
    "### 1.\tWrite a Python program to find sum of elements in list?"
   ]
  },
  {
   "cell_type": "code",
   "execution_count": 14,
   "id": "manufactured-afghanistan",
   "metadata": {},
   "outputs": [
    {
     "data": {
      "text/plain": [
       "47"
      ]
     },
     "execution_count": 14,
     "metadata": {},
     "output_type": "execute_result"
    }
   ],
   "source": [
    "from functools import reduce\n",
    "num = [1,2,3,4,5,6,7,9,10]\n",
    "reduce(lambda a,b : a+b, num)"
   ]
  },
  {
   "cell_type": "code",
   "execution_count": 15,
   "id": "fitting-pitch",
   "metadata": {},
   "outputs": [
    {
     "data": {
      "text/plain": [
       "28"
      ]
     },
     "execution_count": 15,
     "metadata": {},
     "output_type": "execute_result"
    }
   ],
   "source": [
    "def sum_all(numlist):\n",
    "    temp = 0\n",
    "    for i in numlist:\n",
    "        temp += i\n",
    "    return temp\n",
    "sum_all([1,2,3,4,5,6,7])"
   ]
  },
  {
   "cell_type": "markdown",
   "id": "younger-flush",
   "metadata": {},
   "source": [
    "### 2.\tWrite a Python program to  Multiply all numbers in the list?"
   ]
  },
  {
   "cell_type": "code",
   "execution_count": 16,
   "id": "rotary-pierce",
   "metadata": {},
   "outputs": [
    {
     "data": {
      "text/plain": [
       "453600"
      ]
     },
     "execution_count": 16,
     "metadata": {},
     "output_type": "execute_result"
    }
   ],
   "source": [
    "reduce(lambda a,b : a*b, num)"
   ]
  },
  {
   "cell_type": "code",
   "execution_count": 17,
   "id": "numerical-integer",
   "metadata": {},
   "outputs": [
    {
     "data": {
      "text/plain": [
       "5040"
      ]
     },
     "execution_count": 17,
     "metadata": {},
     "output_type": "execute_result"
    }
   ],
   "source": [
    "def multiply(numlist):\n",
    "    temp = 1\n",
    "    for i in numlist:\n",
    "        temp *= i\n",
    "    return temp\n",
    "multiply([1,2,3,4,5,6,7])"
   ]
  },
  {
   "cell_type": "markdown",
   "id": "signal-architecture",
   "metadata": {},
   "source": [
    "### 3.\tWrite a Python program to find smallest number in a list?"
   ]
  },
  {
   "cell_type": "code",
   "execution_count": 18,
   "id": "surface-recall",
   "metadata": {},
   "outputs": [
    {
     "data": {
      "text/plain": [
       "1"
      ]
     },
     "execution_count": 18,
     "metadata": {},
     "output_type": "execute_result"
    }
   ],
   "source": [
    "reduce(lambda a,b : a if a < b else b, num)"
   ]
  },
  {
   "cell_type": "markdown",
   "id": "every-bookmark",
   "metadata": {},
   "source": [
    "### 4.\tWrite a Python program to find largest number in a list?"
   ]
  },
  {
   "cell_type": "code",
   "execution_count": 19,
   "id": "noted-plenty",
   "metadata": {},
   "outputs": [
    {
     "data": {
      "text/plain": [
       "10"
      ]
     },
     "execution_count": 19,
     "metadata": {},
     "output_type": "execute_result"
    }
   ],
   "source": [
    "reduce(lambda a,b : a if a > b else b, num)"
   ]
  },
  {
   "cell_type": "markdown",
   "id": "awful-memorabilia",
   "metadata": {},
   "source": [
    "### 5.\tWrite a Python program to find second largest number in a list?"
   ]
  },
  {
   "cell_type": "code",
   "execution_count": 20,
   "id": "careful-master",
   "metadata": {},
   "outputs": [],
   "source": [
    "num.sort()"
   ]
  },
  {
   "cell_type": "code",
   "execution_count": 21,
   "id": "broken-queen",
   "metadata": {},
   "outputs": [
    {
     "data": {
      "text/plain": [
       "9"
      ]
     },
     "execution_count": 21,
     "metadata": {},
     "output_type": "execute_result"
    }
   ],
   "source": [
    "num[-2]"
   ]
  },
  {
   "cell_type": "markdown",
   "id": "trying-department",
   "metadata": {},
   "source": [
    "### 6.\tWrite a Python program to find N largest elements from a list?"
   ]
  },
  {
   "cell_type": "code",
   "execution_count": 22,
   "id": "efficient-communist",
   "metadata": {},
   "outputs": [],
   "source": [
    "def n_largest(num_list, n):\n",
    "    num.sort()\n",
    "    return num[-n]"
   ]
  },
  {
   "cell_type": "code",
   "execution_count": 24,
   "id": "academic-commission",
   "metadata": {},
   "outputs": [
    {
     "data": {
      "text/plain": [
       "10"
      ]
     },
     "execution_count": 24,
     "metadata": {},
     "output_type": "execute_result"
    }
   ],
   "source": [
    "n_largest(num, 1)"
   ]
  },
  {
   "cell_type": "markdown",
   "id": "united-halloween",
   "metadata": {},
   "source": [
    "### 7.\tWrite a Python program to print even numbers in a list?"
   ]
  },
  {
   "cell_type": "code",
   "execution_count": 25,
   "id": "engaging-religion",
   "metadata": {},
   "outputs": [],
   "source": [
    "def print_even(num_list):\n",
    "    temp = []\n",
    "    for i in num_list:\n",
    "        if i % 2 == 0:\n",
    "            temp.append(i)\n",
    "    return temp"
   ]
  },
  {
   "cell_type": "code",
   "execution_count": 26,
   "id": "flying-organization",
   "metadata": {},
   "outputs": [
    {
     "data": {
      "text/plain": [
       "[2, 4, 6, 10]"
      ]
     },
     "execution_count": 26,
     "metadata": {},
     "output_type": "execute_result"
    }
   ],
   "source": [
    "print_even(num)"
   ]
  },
  {
   "cell_type": "markdown",
   "id": "unlikely-payment",
   "metadata": {},
   "source": [
    "### 8.\tWrite a Python program to print odd numbers in a List?"
   ]
  },
  {
   "cell_type": "code",
   "execution_count": 27,
   "id": "peripheral-burner",
   "metadata": {},
   "outputs": [],
   "source": [
    "def print_odd(num_list):\n",
    "    temp = []\n",
    "    for i in num_list:\n",
    "        if i % 2 != 0:\n",
    "            temp.append(i)\n",
    "    return temp"
   ]
  },
  {
   "cell_type": "code",
   "execution_count": 28,
   "id": "suited-number",
   "metadata": {},
   "outputs": [
    {
     "data": {
      "text/plain": [
       "[1, 3, 5, 7, 9]"
      ]
     },
     "execution_count": 28,
     "metadata": {},
     "output_type": "execute_result"
    }
   ],
   "source": [
    "print_odd(num)"
   ]
  },
  {
   "cell_type": "markdown",
   "id": "norman-fairy",
   "metadata": {},
   "source": [
    "### 9.\tWrite a Python program to Remove empty List from List?"
   ]
  },
  {
   "cell_type": "code",
   "execution_count": 43,
   "id": "medieval-aging",
   "metadata": {},
   "outputs": [],
   "source": [
    "def empty_list_remove(input_list):\n",
    "    for i in input_list:\n",
    "        if i == []:\n",
    "            input_list.remove(i)\n",
    "    return input_list"
   ]
  },
  {
   "cell_type": "code",
   "execution_count": 45,
   "id": "multiple-polyester",
   "metadata": {},
   "outputs": [
    {
     "data": {
      "text/plain": [
       "[1, 2, ['a', 'b']]"
      ]
     },
     "execution_count": 45,
     "metadata": {},
     "output_type": "execute_result"
    }
   ],
   "source": [
    "input_list = [1, 2, [], [\"a\", \"b\"]]\n",
    "empty_list_remove(input_list)"
   ]
  },
  {
   "cell_type": "markdown",
   "id": "popular-study",
   "metadata": {},
   "source": [
    "### 10.\tWrite a Python program to Cloning or Copying a list?"
   ]
  },
  {
   "cell_type": "code",
   "execution_count": 46,
   "id": "hispanic-suggestion",
   "metadata": {},
   "outputs": [],
   "source": [
    "def clone_list(input_list):\n",
    "    cloned = []\n",
    "    for i in input_list:\n",
    "        cloned.append(i)\n",
    "    return cloned"
   ]
  },
  {
   "cell_type": "code",
   "execution_count": 47,
   "id": "finished-assessment",
   "metadata": {},
   "outputs": [
    {
     "data": {
      "text/plain": [
       "[1, 2, ['a', 'b']]"
      ]
     },
     "execution_count": 47,
     "metadata": {},
     "output_type": "execute_result"
    }
   ],
   "source": [
    "clone_list(input_list)"
   ]
  },
  {
   "cell_type": "markdown",
   "id": "promising-jerusalem",
   "metadata": {},
   "source": [
    "### 11.\tWrite a Python program to Count occurrences of an element in a list?"
   ]
  },
  {
   "cell_type": "code",
   "execution_count": 55,
   "id": "pointed-exhibition",
   "metadata": {},
   "outputs": [],
   "source": [
    "def count_element(input_list):\n",
    "    temp = {}\n",
    "    for i in input_list:\n",
    "        if i in temp:\n",
    "            temp[i] +=1\n",
    "        else:\n",
    "            temp[i] = 1\n",
    "    return temp"
   ]
  },
  {
   "cell_type": "code",
   "execution_count": 58,
   "id": "underlying-session",
   "metadata": {},
   "outputs": [
    {
     "data": {
      "text/plain": [
       "{'a': 2, 'b': 2, 'c': 2, 1: 1, 2: 1, 3: 1}"
      ]
     },
     "execution_count": 58,
     "metadata": {},
     "output_type": "execute_result"
    }
   ],
   "source": [
    "count_list = [\"a\", \"b\", \"c\", 1, 2, 3, \"a\", \"b\", \"c\"]\n",
    "count_element(count_list)"
   ]
  }
 ],
 "metadata": {
  "kernelspec": {
   "display_name": "Python 3",
   "language": "python",
   "name": "python3"
  },
  "language_info": {
   "codemirror_mode": {
    "name": "ipython",
    "version": 3
   },
   "file_extension": ".py",
   "mimetype": "text/x-python",
   "name": "python",
   "nbconvert_exporter": "python",
   "pygments_lexer": "ipython3",
   "version": "3.8.3"
  }
 },
 "nbformat": 4,
 "nbformat_minor": 5
}
