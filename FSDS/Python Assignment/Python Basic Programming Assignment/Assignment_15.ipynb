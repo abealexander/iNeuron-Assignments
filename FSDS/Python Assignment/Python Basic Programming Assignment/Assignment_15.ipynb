{
 "cells": [
  {
   "cell_type": "markdown",
   "id": "naughty-accuracy",
   "metadata": {},
   "source": [
    "### 1. Please write a program using generator to print the numbers which can be divisible by 5 and 7 between 0 and n in comma separated form while n is input by console.\n",
    "Example:\n",
    "\n",
    "If the following n is given as input to the program:\n",
    "\n",
    "100\n",
    "\n",
    "Then, the output of the program should be:\n",
    "\n",
    "0,35,70\n"
   ]
  },
  {
   "cell_type": "code",
   "execution_count": 10,
   "id": "handy-france",
   "metadata": {},
   "outputs": [],
   "source": [
    "class iterator:\n",
    "    def __init__(self,n):\n",
    "        self.n = n\n",
    "        \n",
    "    def func(self):\n",
    "        for i in range(0,self.n):\n",
    "            if i % 7 == 0 and i % 5 == 0:\n",
    "                yield i"
   ]
  },
  {
   "cell_type": "code",
   "execution_count": 29,
   "id": "lightweight-tuesday",
   "metadata": {},
   "outputs": [],
   "source": [
    "a = iterator(100).func()"
   ]
  },
  {
   "cell_type": "code",
   "execution_count": 30,
   "id": "faced-lodging",
   "metadata": {},
   "outputs": [
    {
     "name": "stdout",
     "output_type": "stream",
     "text": [
      "0,35,70,"
     ]
    }
   ],
   "source": [
    "for i in a:\n",
    "    print(i, end = \",\")"
   ]
  },
  {
   "cell_type": "markdown",
   "id": "extreme-fields",
   "metadata": {},
   "source": [
    "### 2. Please write a program using generator to print the even numbers between 0 and n in comma separated form while n is input by console.\n",
    "\n",
    "Example:\n",
    "\n",
    "If the following n is given as input to the program:\n",
    "\n",
    "10\n",
    "\n",
    "Then, the output of the program should be:\n",
    "\n",
    "0,2,4,6,8,10"
   ]
  },
  {
   "cell_type": "code",
   "execution_count": 33,
   "id": "understanding-amount",
   "metadata": {},
   "outputs": [],
   "source": [
    "def printeven(n):\n",
    "    for i in range(n+1):\n",
    "        if i % 2 == 0:\n",
    "            yield(i)"
   ]
  },
  {
   "cell_type": "code",
   "execution_count": 34,
   "id": "turkish-strengthening",
   "metadata": {},
   "outputs": [
    {
     "name": "stdout",
     "output_type": "stream",
     "text": [
      "0,2,4,6,8,10,"
     ]
    }
   ],
   "source": [
    "for i in printeven(10):\n",
    "    print(i, end=\",\")"
   ]
  },
  {
   "cell_type": "markdown",
   "id": "transsexual-indication",
   "metadata": {},
   "source": [
    "### 3. Please write a program using list comprehension to print the Fibonacci Sequence in comma separated form with a given n input by console.\n",
    "The Fibonacci Sequence is computed based on the following formula:\n",
    "\n",
    "f(n)=0 if n=0\n",
    "\n",
    "f(n)=1 if n=1\n",
    "\n",
    "f(n)=f(n-1)+f(n-2) if n>1\n",
    "\n",
    "Example:\n",
    "\n",
    "If the following n is given as input to the program:\n",
    "\n",
    "7\n",
    "\n",
    "Then, the output of the program should be:\n",
    "\n",
    "0,1,1,2,3,5,8,13"
   ]
  },
  {
   "cell_type": "code",
   "execution_count": 43,
   "id": "constant-haiti",
   "metadata": {},
   "outputs": [],
   "source": [
    "# List comprehension is made to create a list with no side effects during comprehension. Here we are using n-1 and n-2 to calculate a fib series, list comprehension is not suited for this task.\n",
    "def fib(num):\n",
    "    if num <= 1:\n",
    "        return num\n",
    "    else:\n",
    "        return (fib(num-1) + fib(num-2))"
   ]
  },
  {
   "cell_type": "code",
   "execution_count": 47,
   "id": "needed-sperm",
   "metadata": {},
   "outputs": [
    {
     "name": "stdout",
     "output_type": "stream",
     "text": [
      "0,1,1,2,3,5,8,13,21,34,"
     ]
    }
   ],
   "source": [
    "for i in range(0,10):\n",
    "    print(fib(i), end=\",\")"
   ]
  },
  {
   "cell_type": "markdown",
   "id": "endangered-corps",
   "metadata": {},
   "source": [
    "### 4. Assuming that we have some email addresses in the \"username@companyname.com\" format, please write program to print the user name of a given email address. Both user names and company names are composed of letters only.\n",
    "Example:\n",
    "\n",
    "If the following email address is given as input to the program:\n",
    "\n",
    "john@google.com\n",
    "\n",
    "Then, the output of the program should be:\n",
    "\n",
    "john"
   ]
  },
  {
   "cell_type": "code",
   "execution_count": 61,
   "id": "acoustic-medication",
   "metadata": {},
   "outputs": [],
   "source": [
    "import re\n",
    "def find_username(emailid):\n",
    "    email = re.compile(r'([A-Za-z0-9]+)@[A-Za-z0-9]+\\.[A-Za-z0-9]+')\n",
    "    search = email.search(emailid)\n",
    "    return search.group(1)"
   ]
  },
  {
   "cell_type": "code",
   "execution_count": 62,
   "id": "extraordinary-stability",
   "metadata": {},
   "outputs": [
    {
     "data": {
      "text/plain": [
       "'john'"
      ]
     },
     "execution_count": 62,
     "metadata": {},
     "output_type": "execute_result"
    }
   ],
   "source": [
    "find_username(\"john@google.com\")"
   ]
  },
  {
   "cell_type": "code",
   "execution_count": 63,
   "id": "actual-method",
   "metadata": {},
   "outputs": [
    {
     "data": {
      "text/plain": [
       "'alex123'"
      ]
     },
     "execution_count": 63,
     "metadata": {},
     "output_type": "execute_result"
    }
   ],
   "source": [
    "find_username(\"alex123@g123.c123\")"
   ]
  },
  {
   "cell_type": "markdown",
   "id": "unable-longer",
   "metadata": {},
   "source": [
    "### 5. Define a class named Shape and its subclass Square. The Square class has an init function which takes a length as argument. Both classes have a area function which can print the area of the shape where Shape's area is 0 by default."
   ]
  },
  {
   "cell_type": "code",
   "execution_count": 73,
   "id": "warming-transfer",
   "metadata": {},
   "outputs": [],
   "source": [
    "class Shape():\n",
    "    def __init__(self):\n",
    "        pass\n",
    "    \n",
    "    def area(self):\n",
    "        return 0\n",
    "\n",
    "class Square(Shape):\n",
    "    def __init__(self, length):\n",
    "        self.length = length\n",
    "    \n",
    "    def area(self):\n",
    "        return self.length * self.length"
   ]
  },
  {
   "cell_type": "code",
   "execution_count": 76,
   "id": "recreational-affair",
   "metadata": {},
   "outputs": [
    {
     "data": {
      "text/plain": [
       "16"
      ]
     },
     "execution_count": 76,
     "metadata": {},
     "output_type": "execute_result"
    }
   ],
   "source": [
    "a = Square(4)\n",
    "a.area()"
   ]
  }
 ],
 "metadata": {
  "kernelspec": {
   "display_name": "Python 3",
   "language": "python",
   "name": "python3"
  },
  "language_info": {
   "codemirror_mode": {
    "name": "ipython",
    "version": 3
   },
   "file_extension": ".py",
   "mimetype": "text/x-python",
   "name": "python",
   "nbconvert_exporter": "python",
   "pygments_lexer": "ipython3",
   "version": "3.8.3"
  }
 },
 "nbformat": 4,
 "nbformat_minor": 5
}
