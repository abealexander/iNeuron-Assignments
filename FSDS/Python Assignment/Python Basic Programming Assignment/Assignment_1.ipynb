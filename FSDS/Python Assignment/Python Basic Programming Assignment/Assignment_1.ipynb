{
 "cells": [
  {
   "cell_type": "markdown",
   "id": "satisfied-digit",
   "metadata": {},
   "source": [
    "### 1. Write a Python program to print \"Hello Python\"?"
   ]
  },
  {
   "cell_type": "code",
   "execution_count": 17,
   "id": "basic-jenny",
   "metadata": {},
   "outputs": [],
   "source": [
    "def Hello():\n",
    "    print(\"Hello Python\")"
   ]
  },
  {
   "cell_type": "code",
   "execution_count": 18,
   "id": "joined-energy",
   "metadata": {},
   "outputs": [
    {
     "name": "stdout",
     "output_type": "stream",
     "text": [
      "Hello Python\n"
     ]
    }
   ],
   "source": [
    "Hello()"
   ]
  },
  {
   "cell_type": "markdown",
   "id": "aquatic-product",
   "metadata": {},
   "source": [
    "### 2. Write a Python program to do arithmetical operations addition and division.?"
   ]
  },
  {
   "cell_type": "code",
   "execution_count": 19,
   "id": "growing-ladder",
   "metadata": {},
   "outputs": [],
   "source": [
    "def add_div(x,y,operator):\n",
    "    if operator == '+':\n",
    "        return x+y\n",
    "    elif operator == '/':\n",
    "        return x/y\n",
    "    else:\n",
    "        return \"Operator not defined\""
   ]
  },
  {
   "cell_type": "code",
   "execution_count": 20,
   "id": "running-factor",
   "metadata": {},
   "outputs": [
    {
     "data": {
      "text/plain": [
       "0.5"
      ]
     },
     "execution_count": 20,
     "metadata": {},
     "output_type": "execute_result"
    }
   ],
   "source": [
    "add_div(10,20,'/')"
   ]
  },
  {
   "cell_type": "markdown",
   "id": "moral-spain",
   "metadata": {},
   "source": [
    "### 3. Write a Python program to find the area of a triangle?"
   ]
  },
  {
   "cell_type": "code",
   "execution_count": 21,
   "id": "coordinated-palestine",
   "metadata": {},
   "outputs": [],
   "source": [
    "from math import sqrt\n",
    "\n",
    "def triangle_area(side1, side2, side3):\n",
    "    # calculate perimeter\n",
    "    p = (side1 + side2 + side3)/2\n",
    "    # calculate area using heron's formula\n",
    "    area = sqrt(p*(p-side1)*(p-side2)*(p-side3))\n",
    "    return area"
   ]
  },
  {
   "cell_type": "code",
   "execution_count": 23,
   "id": "cleared-philosophy",
   "metadata": {},
   "outputs": [
    {
     "data": {
      "text/plain": [
       "43.30127018922193"
      ]
     },
     "execution_count": 23,
     "metadata": {},
     "output_type": "execute_result"
    }
   ],
   "source": [
    "triangle_area(10,10,10)"
   ]
  },
  {
   "cell_type": "markdown",
   "id": "mysterious-timing",
   "metadata": {},
   "source": [
    "### 4. Write a Python program to swap two variables?"
   ]
  },
  {
   "cell_type": "code",
   "execution_count": 46,
   "id": "analyzed-zambia",
   "metadata": {},
   "outputs": [
    {
     "data": {
      "text/plain": [
       "('Second', 'First')"
      ]
     },
     "execution_count": 46,
     "metadata": {},
     "output_type": "execute_result"
    }
   ],
   "source": [
    "var1 = \"First\"\n",
    "var2 = \"Second\"\n",
    "var1, var2 = var2, var1\n",
    "var1, var2"
   ]
  },
  {
   "cell_type": "code",
   "execution_count": 47,
   "id": "existing-porter",
   "metadata": {},
   "outputs": [],
   "source": [
    "def swap():\n",
    "    global var1\n",
    "    global var2\n",
    "    temp = var1\n",
    "    var1 = var2\n",
    "    var2 = temp"
   ]
  },
  {
   "cell_type": "code",
   "execution_count": 48,
   "id": "common-provision",
   "metadata": {},
   "outputs": [
    {
     "data": {
      "text/plain": [
       "('First', 'Second')"
      ]
     },
     "execution_count": 48,
     "metadata": {},
     "output_type": "execute_result"
    }
   ],
   "source": [
    "swap()\n",
    "var1, var2"
   ]
  },
  {
   "cell_type": "markdown",
   "id": "willing-commitment",
   "metadata": {},
   "source": [
    "### 5. Write a Python program to generate a random number?"
   ]
  },
  {
   "cell_type": "code",
   "execution_count": 1,
   "id": "previous-perception",
   "metadata": {},
   "outputs": [],
   "source": [
    "import random\n",
    "def rand():\n",
    "    return random.random()"
   ]
  },
  {
   "cell_type": "code",
   "execution_count": 2,
   "id": "rational-collection",
   "metadata": {},
   "outputs": [
    {
     "data": {
      "text/plain": [
       "0.5880742629830844"
      ]
     },
     "execution_count": 2,
     "metadata": {},
     "output_type": "execute_result"
    }
   ],
   "source": [
    "rand()"
   ]
  }
 ],
 "metadata": {
  "kernelspec": {
   "display_name": "Python 3",
   "language": "python",
   "name": "python3"
  },
  "language_info": {
   "codemirror_mode": {
    "name": "ipython",
    "version": 3
   },
   "file_extension": ".py",
   "mimetype": "text/x-python",
   "name": "python",
   "nbconvert_exporter": "python",
   "pygments_lexer": "ipython3",
   "version": "3.8.3"
  }
 },
 "nbformat": 4,
 "nbformat_minor": 5
}
