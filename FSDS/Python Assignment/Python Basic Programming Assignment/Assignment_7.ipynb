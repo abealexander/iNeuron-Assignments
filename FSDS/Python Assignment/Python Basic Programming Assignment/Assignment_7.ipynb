{
 "cells": [
  {
   "cell_type": "markdown",
   "id": "patient-discovery",
   "metadata": {},
   "source": [
    "### 1.\tWrite a Python Program to find sum of array?"
   ]
  },
  {
   "cell_type": "code",
   "execution_count": 1,
   "id": "fifth-pursuit",
   "metadata": {},
   "outputs": [],
   "source": [
    "def arraysum(array):\n",
    "    temp = 0\n",
    "    for i in array:\n",
    "        temp+= i\n",
    "    return temp"
   ]
  },
  {
   "cell_type": "code",
   "execution_count": 2,
   "id": "ideal-biology",
   "metadata": {},
   "outputs": [
    {
     "data": {
      "text/plain": [
       "21"
      ]
     },
     "execution_count": 2,
     "metadata": {},
     "output_type": "execute_result"
    }
   ],
   "source": [
    "array = (1,2,3,4,5,6)\n",
    "arraysum(array)"
   ]
  },
  {
   "cell_type": "markdown",
   "id": "nervous-nursery",
   "metadata": {},
   "source": [
    "### 2.\tWrite a Python Program to find largest element in an array?"
   ]
  },
  {
   "cell_type": "code",
   "execution_count": 3,
   "id": "color-cheat",
   "metadata": {},
   "outputs": [],
   "source": [
    "def largest_element(array):\n",
    "    temp = 0\n",
    "    for i in array:\n",
    "        if i > temp:\n",
    "            temp = i\n",
    "    return temp"
   ]
  },
  {
   "cell_type": "code",
   "execution_count": 4,
   "id": "representative-combination",
   "metadata": {},
   "outputs": [
    {
     "data": {
      "text/plain": [
       "6"
      ]
     },
     "execution_count": 4,
     "metadata": {},
     "output_type": "execute_result"
    }
   ],
   "source": [
    "largest_element(array)"
   ]
  },
  {
   "cell_type": "markdown",
   "id": "physical-creature",
   "metadata": {},
   "source": [
    "### 3.\tWrite a Python Program for array rotation?"
   ]
  },
  {
   "cell_type": "code",
   "execution_count": 5,
   "id": "random-singapore",
   "metadata": {},
   "outputs": [],
   "source": [
    "def rotate(array):\n",
    "    return array[::-1]"
   ]
  },
  {
   "cell_type": "code",
   "execution_count": 6,
   "id": "acceptable-winner",
   "metadata": {},
   "outputs": [
    {
     "data": {
      "text/plain": [
       "(6, 5, 4, 3, 2, 1)"
      ]
     },
     "execution_count": 6,
     "metadata": {},
     "output_type": "execute_result"
    }
   ],
   "source": [
    "rotate(array)"
   ]
  },
  {
   "cell_type": "markdown",
   "id": "boxed-contrary",
   "metadata": {},
   "source": [
    "### 4.\tWrite a Python Program to Split the array and add the first part to the end?"
   ]
  },
  {
   "cell_type": "code",
   "execution_count": 7,
   "id": "mexican-coupon",
   "metadata": {},
   "outputs": [],
   "source": [
    "def splitarray(array, split_index):\n",
    "    return (array[split_index:] + array[:split_index])"
   ]
  },
  {
   "cell_type": "code",
   "execution_count": 8,
   "id": "compatible-tamil",
   "metadata": {},
   "outputs": [
    {
     "data": {
      "text/plain": [
       "(3, 4, 5, 6, 1, 2)"
      ]
     },
     "execution_count": 8,
     "metadata": {},
     "output_type": "execute_result"
    }
   ],
   "source": [
    "splitarray(array, 2)"
   ]
  },
  {
   "cell_type": "markdown",
   "id": "brown-making",
   "metadata": {},
   "source": [
    "### 5.\tWrite a Python Program to check if given array is Monotonic?"
   ]
  },
  {
   "cell_type": "code",
   "execution_count": 9,
   "id": "streaming-circuit",
   "metadata": {},
   "outputs": [],
   "source": [
    "def monotonic(array):\n",
    "    return all(array[i] <= array[i+1] for i in range(0,len(array)-1)) or all(array[i] >= array[i+1] for i in range(0,len(array)-1))"
   ]
  },
  {
   "cell_type": "code",
   "execution_count": 10,
   "id": "coastal-chick",
   "metadata": {},
   "outputs": [
    {
     "data": {
      "text/plain": [
       "True"
      ]
     },
     "execution_count": 10,
     "metadata": {},
     "output_type": "execute_result"
    }
   ],
   "source": [
    "monotonic(array)"
   ]
  }
 ],
 "metadata": {
  "kernelspec": {
   "display_name": "Python 3",
   "language": "python",
   "name": "python3"
  },
  "language_info": {
   "codemirror_mode": {
    "name": "ipython",
    "version": 3
   },
   "file_extension": ".py",
   "mimetype": "text/x-python",
   "name": "python",
   "nbconvert_exporter": "python",
   "pygments_lexer": "ipython3",
   "version": "3.8.3"
  }
 },
 "nbformat": 4,
 "nbformat_minor": 5
}
