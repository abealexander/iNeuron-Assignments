{
 "cells": [
  {
   "cell_type": "markdown",
   "id": "olive-impact",
   "metadata": {},
   "source": [
    "### 1.\tWrite a Python Program to Display Fibonacci Sequence Using Recursion?"
   ]
  },
  {
   "cell_type": "code",
   "execution_count": 39,
   "id": "unique-spine",
   "metadata": {},
   "outputs": [],
   "source": [
    "def fib(num):\n",
    "    if num <= 1:\n",
    "        return num\n",
    "    else:\n",
    "        return (fib(num-1) + fib(num-2))"
   ]
  },
  {
   "cell_type": "code",
   "execution_count": 42,
   "id": "piano-converter",
   "metadata": {},
   "outputs": [
    {
     "name": "stdout",
     "output_type": "stream",
     "text": [
      "0\n",
      "1\n",
      "1\n",
      "2\n",
      "3\n",
      "5\n",
      "8\n",
      "13\n",
      "21\n",
      "34\n"
     ]
    }
   ],
   "source": [
    "for i in range(0,10):\n",
    "    print(fib(i))"
   ]
  },
  {
   "cell_type": "markdown",
   "id": "round-alberta",
   "metadata": {},
   "source": [
    "### 2.\tWrite a Python Program to Find Factorial of Number Using Recursion?"
   ]
  },
  {
   "cell_type": "code",
   "execution_count": 1,
   "id": "advised-removal",
   "metadata": {},
   "outputs": [],
   "source": [
    "def factorial(x):\n",
    "    if x == 1:\n",
    "        return x\n",
    "    else:\n",
    "        return (x * factorial(x-1))"
   ]
  },
  {
   "cell_type": "code",
   "execution_count": 2,
   "id": "lightweight-bacteria",
   "metadata": {},
   "outputs": [
    {
     "data": {
      "text/plain": [
       "3628800"
      ]
     },
     "execution_count": 2,
     "metadata": {},
     "output_type": "execute_result"
    }
   ],
   "source": [
    "factorial(10)"
   ]
  },
  {
   "cell_type": "markdown",
   "id": "senior-portable",
   "metadata": {},
   "source": [
    "### 3.\tWrite a Python Program to calculate your Body Mass Index?"
   ]
  },
  {
   "cell_type": "code",
   "execution_count": 43,
   "id": "spiritual-angel",
   "metadata": {},
   "outputs": [],
   "source": [
    "def bmi(body_weight_kg, body_height_metersquared):\n",
    "    return body_weight_kg / body_height_metersquared"
   ]
  },
  {
   "cell_type": "code",
   "execution_count": 46,
   "id": "copyrighted-analysis",
   "metadata": {},
   "outputs": [
    {
     "data": {
      "text/plain": [
       "22.6421929718633"
      ]
     },
     "execution_count": 46,
     "metadata": {},
     "output_type": "execute_result"
    }
   ],
   "source": [
    "bmi(75, 1.82**2)"
   ]
  },
  {
   "cell_type": "markdown",
   "id": "electrical-integral",
   "metadata": {},
   "source": [
    "### 4.\tWrite a Python Program to calculate the natural logarithm of any number?"
   ]
  },
  {
   "cell_type": "code",
   "execution_count": 47,
   "id": "differential-buyer",
   "metadata": {},
   "outputs": [],
   "source": [
    "import math\n",
    "def ln(num):\n",
    "    return math.log(num)"
   ]
  },
  {
   "cell_type": "code",
   "execution_count": 49,
   "id": "alone-salon",
   "metadata": {},
   "outputs": [
    {
     "data": {
      "text/plain": [
       "4.605170185988092"
      ]
     },
     "execution_count": 49,
     "metadata": {},
     "output_type": "execute_result"
    }
   ],
   "source": [
    "ln(100)"
   ]
  },
  {
   "cell_type": "markdown",
   "id": "japanese-start",
   "metadata": {},
   "source": [
    "### 5.\tWrite a Python Program for cube sum of first n natural numbers?"
   ]
  },
  {
   "cell_type": "code",
   "execution_count": 54,
   "id": "fluid-challenge",
   "metadata": {},
   "outputs": [],
   "source": [
    "def cube_sum(num):\n",
    "    temp = 0\n",
    "    for i in range(1,num+1):\n",
    "        temp+= i**3\n",
    "    return temp"
   ]
  },
  {
   "cell_type": "code",
   "execution_count": 55,
   "id": "hydraulic-wales",
   "metadata": {},
   "outputs": [
    {
     "data": {
      "text/plain": [
       "225"
      ]
     },
     "execution_count": 55,
     "metadata": {},
     "output_type": "execute_result"
    }
   ],
   "source": [
    "cube_sum(5)"
   ]
  }
 ],
 "metadata": {
  "kernelspec": {
   "display_name": "Python 3",
   "language": "python",
   "name": "python3"
  },
  "language_info": {
   "codemirror_mode": {
    "name": "ipython",
    "version": 3
   },
   "file_extension": ".py",
   "mimetype": "text/x-python",
   "name": "python",
   "nbconvert_exporter": "python",
   "pygments_lexer": "ipython3",
   "version": "3.8.3"
  }
 },
 "nbformat": 4,
 "nbformat_minor": 5
}
