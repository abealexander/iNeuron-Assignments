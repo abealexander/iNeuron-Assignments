{
 "cells": [
  {
   "cell_type": "markdown",
   "id": "municipal-structure",
   "metadata": {},
   "source": [
    "### 1: Create a function that takes a number as an argument and returns True or False depending on whether the number is symmetrical or not. A number is symmetrical when it is the same as its reverse.\n",
    "Examples\n",
    "\n",
    "is_symmetrical(7227) ➞ True\n",
    "\n",
    "is_symmetrical(12567) ➞ False\n",
    "\n",
    "is_symmetrical(44444444) ➞ True\n",
    "\n",
    "is_symmetrical(9939) ➞ False\n",
    "\n",
    "is_symmetrical(1112111) ➞ True"
   ]
  },
  {
   "cell_type": "code",
   "execution_count": 14,
   "id": "tired-belle",
   "metadata": {},
   "outputs": [],
   "source": [
    "def is_symmetrical(num):\n",
    "    try:\n",
    "        if num == int(str(num)[::-1]):\n",
    "            return True\n",
    "        else:\n",
    "            return False\n",
    "    except:\n",
    "        print(\"Something is wrong\")"
   ]
  },
  {
   "cell_type": "code",
   "execution_count": 17,
   "id": "jewish-parts",
   "metadata": {},
   "outputs": [
    {
     "data": {
      "text/plain": [
       "True"
      ]
     },
     "execution_count": 17,
     "metadata": {},
     "output_type": "execute_result"
    }
   ],
   "source": [
    "is_symmetrical(1002001)"
   ]
  },
  {
   "cell_type": "markdown",
   "id": "loving-swaziland",
   "metadata": {},
   "source": [
    "### 2. Given a string of numbers separated by a comma and space, return the product of the numbers.\n",
    "\n",
    "Examples\n",
    "\n",
    "multiply_nums(\"2, 3\") ➞ 6\n",
    "\n",
    "multiply_nums(\"1, 2, 3, 4\") ➞ 24\n",
    "\n",
    "multiply_nums(\"54, 75, 453, 0\") ➞ 0\n",
    "\n",
    "multiply_nums(\"10, -2\") ➞ -20"
   ]
  },
  {
   "cell_type": "code",
   "execution_count": 23,
   "id": "cooked-timothy",
   "metadata": {},
   "outputs": [],
   "source": [
    "def multiply_nums(num_string):\n",
    "    temp = 1\n",
    "    for i in num_string.split(\",\"):\n",
    "        temp = temp * int(i)\n",
    "    return temp"
   ]
  },
  {
   "cell_type": "code",
   "execution_count": 27,
   "id": "enclosed-advocacy",
   "metadata": {},
   "outputs": [
    {
     "data": {
      "text/plain": [
       "-20"
      ]
     },
     "execution_count": 27,
     "metadata": {},
     "output_type": "execute_result"
    }
   ],
   "source": [
    "multiply_nums(\"10, -2\")"
   ]
  },
  {
   "cell_type": "code",
   "execution_count": 28,
   "id": "rising-vaccine",
   "metadata": {},
   "outputs": [
    {
     "data": {
      "text/plain": [
       "0"
      ]
     },
     "execution_count": 28,
     "metadata": {},
     "output_type": "execute_result"
    }
   ],
   "source": [
    "multiply_nums(\"54, 75, 453, 0\")"
   ]
  },
  {
   "cell_type": "markdown",
   "id": "southeast-victim",
   "metadata": {},
   "source": [
    "### 3. Create a function that squares every digit of a number.\n",
    "\n",
    "Examples\n",
    "\n",
    "square_digits(9119) ➞ 811181\n",
    "\n",
    "square_digits(2483) ➞ 416649\n",
    "\n",
    "square_digits(3212) ➞ 9414\n",
    "\n",
    "Notes\n",
    "\n",
    "The function receives an integer and must return an integer."
   ]
  },
  {
   "cell_type": "code",
   "execution_count": 45,
   "id": "exciting-kansas",
   "metadata": {},
   "outputs": [],
   "source": [
    "def square_digits(num):\n",
    "    temp = []\n",
    "    for i in list(str(num)):\n",
    "        temp.append(int(i)*int(i))\n",
    "    return int(\"\".join([str(i) for i in temp]))"
   ]
  },
  {
   "cell_type": "code",
   "execution_count": 47,
   "id": "breathing-reunion",
   "metadata": {},
   "outputs": [
    {
     "data": {
      "text/plain": [
       "811181"
      ]
     },
     "execution_count": 47,
     "metadata": {},
     "output_type": "execute_result"
    }
   ],
   "source": [
    "square_digits(9119)"
   ]
  },
  {
   "cell_type": "code",
   "execution_count": 37,
   "id": "criminal-failing",
   "metadata": {},
   "outputs": [
    {
     "data": {
      "text/plain": [
       "['9', '1', '1']"
      ]
     },
     "execution_count": 37,
     "metadata": {},
     "output_type": "execute_result"
    }
   ],
   "source": [
    "list(str(\"911\"))"
   ]
  },
  {
   "cell_type": "markdown",
   "id": "invalid-supplement",
   "metadata": {},
   "source": [
    "### 4. Create a function that sorts a list and removes all duplicate items from it.\n",
    "Examples\n",
    "\n",
    "setify([1, 3, 3, 5, 5]) ➞ [1, 3, 5]\n",
    "\n",
    "setify([4, 4, 4, 4]) ➞ [4]\n",
    "\n",
    "setify([5, 7, 8, 9, 10, 15]) ➞ [5, 7, 8, 9, 10, 15]\n",
    "\n",
    "setify([3, 3, 3, 2, 1]) ➞ [1, 2, 3]"
   ]
  },
  {
   "cell_type": "code",
   "execution_count": 54,
   "id": "impressive-setup",
   "metadata": {},
   "outputs": [],
   "source": [
    "def setify(lst):\n",
    "    temp = []\n",
    "    sort = sorted(lst)\n",
    "    for i in sort:\n",
    "        if i not in temp:\n",
    "            temp.append(i)\n",
    "        else:\n",
    "            lst.remove(i)\n",
    "    return sorted(lst)"
   ]
  },
  {
   "cell_type": "code",
   "execution_count": 58,
   "id": "opponent-procurement",
   "metadata": {},
   "outputs": [
    {
     "data": {
      "text/plain": [
       "[1, 3, 5]"
      ]
     },
     "execution_count": 58,
     "metadata": {},
     "output_type": "execute_result"
    }
   ],
   "source": [
    "setify([1, 3, 3, 5, 5])"
   ]
  },
  {
   "cell_type": "code",
   "execution_count": 59,
   "id": "steady-disposition",
   "metadata": {},
   "outputs": [
    {
     "data": {
      "text/plain": [
       "[4]"
      ]
     },
     "execution_count": 59,
     "metadata": {},
     "output_type": "execute_result"
    }
   ],
   "source": [
    "setify([4, 4, 4, 4])"
   ]
  },
  {
   "cell_type": "markdown",
   "id": "forbidden-request",
   "metadata": {},
   "source": [
    "### 5. Create a function that returns the mean of all digits.\n",
    "Examples\n",
    "\n",
    "mean(42) ➞ 3\n",
    "\n",
    "mean(12345) ➞ 3\n",
    "\n",
    "mean(666) ➞ 6\n",
    "\n",
    "Notes\n",
    "*\tThe mean of all digits is the sum of digits / how many digits there are (e.g. mean of digits in 512 is (5+1+2)/3(number of digits) = 8/3=2).\n",
    "*\tThe mean will always be an integer."
   ]
  },
  {
   "cell_type": "code",
   "execution_count": 69,
   "id": "genuine-register",
   "metadata": {},
   "outputs": [],
   "source": [
    "def mean(num):\n",
    "    temp = 0\n",
    "    for i in list(str(num)):\n",
    "        temp += int(i)\n",
    "    return temp/(len(list(str(num))))"
   ]
  },
  {
   "cell_type": "code",
   "execution_count": 70,
   "id": "french-translator",
   "metadata": {},
   "outputs": [
    {
     "data": {
      "text/plain": [
       "3.0"
      ]
     },
     "execution_count": 70,
     "metadata": {},
     "output_type": "execute_result"
    }
   ],
   "source": [
    "mean(42)"
   ]
  },
  {
   "cell_type": "code",
   "execution_count": 71,
   "id": "psychological-linux",
   "metadata": {},
   "outputs": [
    {
     "data": {
      "text/plain": [
       "3.0"
      ]
     },
     "execution_count": 71,
     "metadata": {},
     "output_type": "execute_result"
    }
   ],
   "source": [
    "mean(12345)"
   ]
  },
  {
   "cell_type": "code",
   "execution_count": 72,
   "id": "subtle-resistance",
   "metadata": {},
   "outputs": [
    {
     "data": {
      "text/plain": [
       "6.0"
      ]
     },
     "execution_count": 72,
     "metadata": {},
     "output_type": "execute_result"
    }
   ],
   "source": [
    "mean(666)"
   ]
  }
 ],
 "metadata": {
  "kernelspec": {
   "display_name": "Python 3",
   "language": "python",
   "name": "python3"
  },
  "language_info": {
   "codemirror_mode": {
    "name": "ipython",
    "version": 3
   },
   "file_extension": ".py",
   "mimetype": "text/x-python",
   "name": "python",
   "nbconvert_exporter": "python",
   "pygments_lexer": "ipython3",
   "version": "3.8.3"
  }
 },
 "nbformat": 4,
 "nbformat_minor": 5
}
