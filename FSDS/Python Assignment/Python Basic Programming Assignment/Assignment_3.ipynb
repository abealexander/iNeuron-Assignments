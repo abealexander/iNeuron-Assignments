{
 "cells": [
  {
   "cell_type": "markdown",
   "id": "unknown-meaning",
   "metadata": {},
   "source": [
    "### 1.\tWrite a Python Program to Check if a Number is Positive, Negative or Zero?"
   ]
  },
  {
   "cell_type": "code",
   "execution_count": 8,
   "id": "increasing-armstrong",
   "metadata": {},
   "outputs": [],
   "source": [
    "def num_check(num):\n",
    "    try:\n",
    "        if num == 0:\n",
    "            print(\"Zero\")\n",
    "        elif num > 0:\n",
    "            print(\"Positive\")\n",
    "        else:\n",
    "            print(\"Negative\")\n",
    "    except:\n",
    "        print(\"Not a Number\")"
   ]
  },
  {
   "cell_type": "code",
   "execution_count": 10,
   "id": "grateful-advertising",
   "metadata": {},
   "outputs": [
    {
     "name": "stdout",
     "output_type": "stream",
     "text": [
      "Negative\n"
     ]
    }
   ],
   "source": [
    "num_check(-3.14)"
   ]
  },
  {
   "cell_type": "markdown",
   "id": "loaded-investing",
   "metadata": {},
   "source": [
    "### 2.\tWrite a Python Program to Check if a Number is Odd or Even?"
   ]
  },
  {
   "cell_type": "code",
   "execution_count": 14,
   "id": "characteristic-course",
   "metadata": {},
   "outputs": [],
   "source": [
    "def odd_even(num):\n",
    "    try:\n",
    "        if num % 2 == 0:\n",
    "            return \"Even\"\n",
    "        else: return \"Odd\"\n",
    "    except:\n",
    "        print(\"Not a Number\")"
   ]
  },
  {
   "cell_type": "code",
   "execution_count": 15,
   "id": "entertaining-crowd",
   "metadata": {},
   "outputs": [
    {
     "data": {
      "text/plain": [
       "'Odd'"
      ]
     },
     "execution_count": 15,
     "metadata": {},
     "output_type": "execute_result"
    }
   ],
   "source": [
    "odd_even(11)"
   ]
  },
  {
   "cell_type": "markdown",
   "id": "industrial-intranet",
   "metadata": {},
   "source": [
    "### 3.\tWrite a Python Program to Check Leap Year?"
   ]
  },
  {
   "cell_type": "code",
   "execution_count": 28,
   "id": "pursuant-dutch",
   "metadata": {},
   "outputs": [],
   "source": [
    "def leap_year(year):\n",
    "    if year % 4 == 0 and year % 100 == 0 and year % 400 == 0:\n",
    "        return \"Leap Year\"\n",
    "    else:\n",
    "        return \"Not a Leap Year\""
   ]
  },
  {
   "cell_type": "code",
   "execution_count": 32,
   "id": "numerical-crossing",
   "metadata": {},
   "outputs": [
    {
     "data": {
      "text/plain": [
       "'Not a Leap Year'"
      ]
     },
     "execution_count": 32,
     "metadata": {},
     "output_type": "execute_result"
    }
   ],
   "source": [
    "leap_year(1800)"
   ]
  },
  {
   "cell_type": "markdown",
   "id": "excited-hello",
   "metadata": {},
   "source": [
    "### 4.\tWrite a Python Program to Check Prime Number?"
   ]
  },
  {
   "cell_type": "code",
   "execution_count": 55,
   "id": "paperback-hanging",
   "metadata": {},
   "outputs": [],
   "source": [
    "def check_prime(num):\n",
    "    output = \"Enter a number greater than 1\"\n",
    "    if num > 1:\n",
    "        output = \"Not a Prime Number\"\n",
    "        for i in range(2, num):\n",
    "            if num % i == 0:\n",
    "                break\n",
    "        else:\n",
    "            output = \"Is Prime Number\"\n",
    "    return output         "
   ]
  },
  {
   "cell_type": "code",
   "execution_count": 59,
   "id": "ancient-hampton",
   "metadata": {},
   "outputs": [
    {
     "data": {
      "text/plain": [
       "'Is Prime Number'"
      ]
     },
     "execution_count": 59,
     "metadata": {},
     "output_type": "execute_result"
    }
   ],
   "source": [
    "check_prime(509)"
   ]
  },
  {
   "cell_type": "markdown",
   "id": "listed-madonna",
   "metadata": {},
   "source": [
    "### 5.\tWrite a Python Program to Print all Prime Numbers in an Interval of 1-10000?"
   ]
  },
  {
   "cell_type": "code",
   "execution_count": 10,
   "id": "recognized-prophet",
   "metadata": {},
   "outputs": [],
   "source": [
    "def genPrimes(start, end):\n",
    "    for num in range(start,end):\n",
    "        if num <= 10000:\n",
    "            num+=1\n",
    "            for i in range(2,num):\n",
    "                if num%i==0:\n",
    "                    break\n",
    "            else:\n",
    "                print(num)"
   ]
  },
  {
   "cell_type": "code",
   "execution_count": null,
   "id": "leading-guyana",
   "metadata": {
    "scrolled": false
   },
   "outputs": [],
   "source": [
    "genPrimes(1, 10000)"
   ]
  }
 ],
 "metadata": {
  "kernelspec": {
   "display_name": "Python 3",
   "language": "python",
   "name": "python3"
  },
  "language_info": {
   "codemirror_mode": {
    "name": "ipython",
    "version": 3
   },
   "file_extension": ".py",
   "mimetype": "text/x-python",
   "name": "python",
   "nbconvert_exporter": "python",
   "pygments_lexer": "ipython3",
   "version": "3.8.3"
  }
 },
 "nbformat": 4,
 "nbformat_minor": 5
}
