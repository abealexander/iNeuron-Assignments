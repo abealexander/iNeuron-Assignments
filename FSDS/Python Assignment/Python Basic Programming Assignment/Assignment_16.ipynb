{
 "cells": [
  {
   "cell_type": "markdown",
   "id": "resident-helen",
   "metadata": {},
   "source": [
    "### 1. Write a function that stutters a word as if someone is struggling to read it. The first two letters are repeated twice with an ellipsis ... and space after each, and then the word is pronounced with a question mark ?.\n",
    "\n",
    "Examples\n",
    "\n",
    "stutter(\"incredible\") ➞ \"in... in... incredible?\"\n",
    "\n",
    "stutter(\"enthusiastic\") ➞ \"en... en... enthusiastic?\"\n",
    "\n",
    "stutter(\"outstanding\") ➞ \"ou... ou... outstanding?\"\n",
    "\n",
    "Hint :- Assume all input is in lower case and at least two characters long."
   ]
  },
  {
   "cell_type": "code",
   "execution_count": 21,
   "id": "catholic-approach",
   "metadata": {},
   "outputs": [],
   "source": [
    "def stutter(word):\n",
    "    dict1 = {}\n",
    "    for i in range(len(word)):\n",
    "        dict1[i] = word[i]\n",
    "    return print(dict1[0] + dict1[1] + \"...\" + dict1[0] + dict1[1] + \"...\" + word + \"?\")    "
   ]
  },
  {
   "cell_type": "code",
   "execution_count": 23,
   "id": "graphic-america",
   "metadata": {},
   "outputs": [
    {
     "name": "stdout",
     "output_type": "stream",
     "text": [
      "ou...ou...outstanding?\n"
     ]
    }
   ],
   "source": [
    "stutter(\"outstanding\")"
   ]
  },
  {
   "cell_type": "markdown",
   "id": "parental-wellington",
   "metadata": {},
   "source": [
    "### 2.Create a function that takes an angle in radians and returns the corresponding angle in degrees rounded to one decimal place.\n",
    "Examples\n",
    "\n",
    "radians_to_degrees(1) ➞ 57.3\n",
    "\n",
    "radians_to_degrees(20) ➞ 1145.9\n",
    "\n",
    "radians_to_degrees(50) ➞ 2864.8\n"
   ]
  },
  {
   "cell_type": "code",
   "execution_count": 24,
   "id": "breathing-participant",
   "metadata": {},
   "outputs": [],
   "source": [
    "import math\n",
    "def radians_to_degrees(R_angle):\n",
    "    return round(R_angle * (180/math.pi), 1)"
   ]
  },
  {
   "cell_type": "code",
   "execution_count": 28,
   "id": "taken-magnitude",
   "metadata": {},
   "outputs": [
    {
     "data": {
      "text/plain": [
       "2864.8"
      ]
     },
     "execution_count": 28,
     "metadata": {},
     "output_type": "execute_result"
    }
   ],
   "source": [
    "radians_to_degrees(50)"
   ]
  },
  {
   "cell_type": "markdown",
   "id": "greater-constitutional",
   "metadata": {},
   "source": [
    "### 3. In this challenge, establish if a given integer num is a Curzon number. If 1 plus 2 elevated to num is exactly divisible by 1 plus 2 multiplied by num, then num is a Curzon number.\n",
    "\n",
    "Given a non-negative integer num, implement a function that returns True if num is a Curzon number, or False otherwise.\n",
    "\n",
    "Examples\n",
    "\n",
    "is_curzon(5) ➞ True\n",
    "\n",
    "2 ** 5 + 1 = 33\n",
    "\n",
    "2 * 5 + 1 = 11\n",
    "\n",
    "33 is a multiple of 11\n",
    "\n",
    "is_curzon(10) ➞ False\n",
    "\n",
    "2 ** 10 + 1 = 1025\n",
    "\n",
    "2 * 10 + 1 = 21\n",
    "\n",
    "1025 is not a multiple of 21\n",
    "\n",
    "is_curzon(14) ➞ True\n",
    "\n",
    "2 ** 14 + 1 = 16385\n",
    "\n",
    "2 * 14 + 1 = 29\n",
    "\n",
    "16385 is a multiple of 29\n"
   ]
  },
  {
   "cell_type": "code",
   "execution_count": 29,
   "id": "boolean-melissa",
   "metadata": {},
   "outputs": [],
   "source": [
    "def is_curzon(num):\n",
    "    if ((2**num) + 1) % ((2*num) + 1) == 0:\n",
    "        return True\n",
    "    else: return False"
   ]
  },
  {
   "cell_type": "code",
   "execution_count": 32,
   "id": "awful-texas",
   "metadata": {},
   "outputs": [
    {
     "data": {
      "text/plain": [
       "True"
      ]
     },
     "execution_count": 32,
     "metadata": {},
     "output_type": "execute_result"
    }
   ],
   "source": [
    "is_curzon(5)"
   ]
  },
  {
   "cell_type": "markdown",
   "id": "solar-bulletin",
   "metadata": {},
   "source": [
    "### 4.Given the side length x find the area of a hexagon.\n",
    " \n",
    "Examples\n",
    "\n",
    "area_of_hexagon(1) ➞ 2.6\n",
    "\n",
    "area_of_hexagon(2) ➞ 10.4\n",
    "\n",
    "area_of_hexagon(3) ➞ 23.4"
   ]
  },
  {
   "cell_type": "code",
   "execution_count": 39,
   "id": "independent-heaven",
   "metadata": {},
   "outputs": [],
   "source": [
    "def area_of_hexagon(side):\n",
    "    return round(((3 * math.sqrt(3) * (side**2))/2),1)"
   ]
  },
  {
   "cell_type": "code",
   "execution_count": 42,
   "id": "expired-champion",
   "metadata": {},
   "outputs": [
    {
     "data": {
      "text/plain": [
       "23.4"
      ]
     },
     "execution_count": 42,
     "metadata": {},
     "output_type": "execute_result"
    }
   ],
   "source": [
    "area_of_hexagon(3)"
   ]
  },
  {
   "cell_type": "markdown",
   "id": "rubber-sleeping",
   "metadata": {},
   "source": [
    "### 5. Create a function that returns a base-2 (binary) representation of a base-10 (decimal) string number. To convert is simple: ((2) means base-2 and (10) means base-10) 010101001(2) = 1 + 8 + 32 + 128.\n",
    "Going from right to left, the value of the most right bit is 1, now from that every bit to the left will be x2 the value, value of an 8 bit binary numbers are (256, 128, 64, 32, 16, 8, 4, 2, 1).\n",
    "\n",
    "Examples\n",
    "\n",
    "binary(1) ➞ \"1\"\n",
    "\n",
    "1 * 1 = 1\n",
    "\n",
    "binary(5) ➞ \"101\"\n",
    "\n",
    "1 * 1 + 1 * 4 = 5\n",
    "\n",
    "binary(10) ➞ \"1010\"\n",
    "\n",
    "1 * 2 + 1 * 8 = 10"
   ]
  },
  {
   "cell_type": "code",
   "execution_count": 53,
   "id": "martial-retail",
   "metadata": {},
   "outputs": [],
   "source": [
    "def binary(num):\n",
    "    return bin(num).replace(\"0b\", \"\")"
   ]
  },
  {
   "cell_type": "code",
   "execution_count": 58,
   "id": "assisted-canadian",
   "metadata": {},
   "outputs": [
    {
     "data": {
      "text/plain": [
       "'1010'"
      ]
     },
     "execution_count": 58,
     "metadata": {},
     "output_type": "execute_result"
    }
   ],
   "source": [
    "binary(10)"
   ]
  }
 ],
 "metadata": {
  "kernelspec": {
   "display_name": "Python 3",
   "language": "python",
   "name": "python3"
  },
  "language_info": {
   "codemirror_mode": {
    "name": "ipython",
    "version": 3
   },
   "file_extension": ".py",
   "mimetype": "text/x-python",
   "name": "python",
   "nbconvert_exporter": "python",
   "pygments_lexer": "ipython3",
   "version": "3.8.3"
  }
 },
 "nbformat": 4,
 "nbformat_minor": 5
}
