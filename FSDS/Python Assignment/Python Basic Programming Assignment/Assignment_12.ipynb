{
 "cells": [
  {
   "cell_type": "markdown",
   "id": "undefined-belfast",
   "metadata": {},
   "source": [
    "### 1.\tWrite a Python program to Extract Unique values dictionary values?"
   ]
  },
  {
   "cell_type": "code",
   "execution_count": 6,
   "id": "essential-shannon",
   "metadata": {},
   "outputs": [
    {
     "data": {
      "text/plain": [
       "{1, 2}"
      ]
     },
     "execution_count": 6,
     "metadata": {},
     "output_type": "execute_result"
    }
   ],
   "source": [
    "dict1 = {\"a\":1, \"b\":2, \"c\":2, \"d\": 1}\n",
    "set([i for i in dict1.values()])"
   ]
  },
  {
   "cell_type": "markdown",
   "id": "mexican-ordinance",
   "metadata": {},
   "source": [
    "### 2.\tWrite a Python program to find the sum of all items in a dictionary?"
   ]
  },
  {
   "cell_type": "code",
   "execution_count": 14,
   "id": "solid-check",
   "metadata": {},
   "outputs": [
    {
     "data": {
      "text/plain": [
       "6"
      ]
     },
     "execution_count": 14,
     "metadata": {},
     "output_type": "execute_result"
    }
   ],
   "source": [
    "from functools import reduce\n",
    "reduce(lambda a,b: a+b, dict1.values())"
   ]
  },
  {
   "cell_type": "markdown",
   "id": "intended-times",
   "metadata": {},
   "source": [
    "### 3.\tWrite a Python program to Merging two Dictionaries?"
   ]
  },
  {
   "cell_type": "code",
   "execution_count": 20,
   "id": "related-curve",
   "metadata": {},
   "outputs": [],
   "source": [
    "def merge_dict(dict1, dict2):\n",
    "    return {**dict1, **dict2}"
   ]
  },
  {
   "cell_type": "code",
   "execution_count": 21,
   "id": "pressed-sessions",
   "metadata": {},
   "outputs": [
    {
     "data": {
      "text/plain": [
       "{'a': 1, 'b': 2, 'c': 2, 'd': 1, 'x': 1, 'y': 2}"
      ]
     },
     "execution_count": 21,
     "metadata": {},
     "output_type": "execute_result"
    }
   ],
   "source": [
    "dict2 = {\"x\" : 1, \"y\" : 2}\n",
    "merge_dict(dict1, dict2)"
   ]
  },
  {
   "cell_type": "markdown",
   "id": "further-folks",
   "metadata": {},
   "source": [
    "### 4.\tWrite a Python program to convert key-values list to flat dictionary?"
   ]
  },
  {
   "cell_type": "code",
   "execution_count": 22,
   "id": "strange-thailand",
   "metadata": {},
   "outputs": [],
   "source": [
    "def flatdict(dict3):\n",
    "    return dict(zip(dict3['name'], dict3['age']))"
   ]
  },
  {
   "cell_type": "code",
   "execution_count": 24,
   "id": "indonesian-california",
   "metadata": {},
   "outputs": [
    {
     "data": {
      "text/plain": [
       "{'Alex': 24, 'Sid': 25, 'Raj': 26}"
      ]
     },
     "execution_count": 24,
     "metadata": {},
     "output_type": "execute_result"
    }
   ],
   "source": [
    "dict3 = {'name' : ['Alex', 'Sid', 'Raj'], 'age' : [24,25,26]}\n",
    "flatdict(dict3)"
   ]
  },
  {
   "cell_type": "markdown",
   "id": "embedded-victory",
   "metadata": {},
   "source": [
    "### 5.\tWrite a Python program to insertion at the beginning in OrderedDict?"
   ]
  },
  {
   "cell_type": "code",
   "execution_count": 36,
   "id": "strong-wireless",
   "metadata": {},
   "outputs": [],
   "source": [
    "from collections import OrderedDict\n",
    "dict4 = OrderedDict([('name','Alex'), ('age' , 24)])\n",
    "dict4['salutation'] = 'Mr'\n",
    "dict4.move_to_end('salutation', last=False)"
   ]
  },
  {
   "cell_type": "code",
   "execution_count": 37,
   "id": "necessary-toner",
   "metadata": {},
   "outputs": [
    {
     "data": {
      "text/plain": [
       "OrderedDict([('salutation', 'Mr'), ('name', 'Alex'), ('age', 24)])"
      ]
     },
     "execution_count": 37,
     "metadata": {},
     "output_type": "execute_result"
    }
   ],
   "source": [
    "dict4"
   ]
  },
  {
   "cell_type": "markdown",
   "id": "substantial-wisdom",
   "metadata": {},
   "source": [
    "### 6.\tWrite a Python program to check order of character in string using OrderedDict()?"
   ]
  },
  {
   "cell_type": "code",
   "execution_count": 41,
   "id": "transsexual-supervision",
   "metadata": {},
   "outputs": [],
   "source": [
    "def order_check(inputs, pattern):\n",
    "    dictionary = OrderedDict.fromkeys(inputs)\n",
    "    pat_len = 0\n",
    "    for i,j in dictionary.items():\n",
    "        if i == pattern[pat_len]:\n",
    "            pat_len += 1\n",
    "        if pat_len == len(pattern):\n",
    "            return \"Order exists\"\n",
    "    return \"No Order found\""
   ]
  },
  {
   "cell_type": "code",
   "execution_count": 44,
   "id": "compatible-promotion",
   "metadata": {},
   "outputs": [
    {
     "data": {
      "text/plain": [
       "'Order exists'"
      ]
     },
     "execution_count": 44,
     "metadata": {},
     "output_type": "execute_result"
    }
   ],
   "source": [
    "order_check(\"How are you kind sir\", \"re\")"
   ]
  },
  {
   "cell_type": "markdown",
   "id": "external-interface",
   "metadata": {},
   "source": [
    "### 7.\tWrite a Python program to sort Python Dictionaries by Key or Value?"
   ]
  },
  {
   "cell_type": "code",
   "execution_count": 91,
   "id": "blocked-thinking",
   "metadata": {},
   "outputs": [],
   "source": [
    "def sortby(dict5, key_or_value):\n",
    "    try:\n",
    "        temp = {}\n",
    "        if key_or_value == \"key\":\n",
    "            for i in sorted(dict5.keys()):\n",
    "                temp[i] = dict5[i]\n",
    "        else:\n",
    "            return sorted(dict5.items(), key=lambda x: x[1])\n",
    "        return temp\n",
    "    except Exception as e:\n",
    "        print(e,\"Something is wrong\")"
   ]
  },
  {
   "cell_type": "code",
   "execution_count": 94,
   "id": "russian-uganda",
   "metadata": {},
   "outputs": [
    {
     "data": {
      "text/plain": [
       "{'a': 100, 'c': 2, 'x': 1, 'z': 2}"
      ]
     },
     "execution_count": 94,
     "metadata": {},
     "output_type": "execute_result"
    }
   ],
   "source": [
    "dict5 = {'x': 1, 'z': 2, 'c': 2, 'a': 100}\n",
    "sortby(dict5, \"key\")"
   ]
  },
  {
   "cell_type": "code",
   "execution_count": 95,
   "id": "pacific-concentrate",
   "metadata": {},
   "outputs": [
    {
     "data": {
      "text/plain": [
       "[('x', 1), ('z', 2), ('c', 2), ('a', 100)]"
      ]
     },
     "execution_count": 95,
     "metadata": {},
     "output_type": "execute_result"
    }
   ],
   "source": [
    "sortby(dict5, \"value\")"
   ]
  }
 ],
 "metadata": {
  "kernelspec": {
   "display_name": "Python 3",
   "language": "python",
   "name": "python3"
  },
  "language_info": {
   "codemirror_mode": {
    "name": "ipython",
    "version": 3
   },
   "file_extension": ".py",
   "mimetype": "text/x-python",
   "name": "python",
   "nbconvert_exporter": "python",
   "pygments_lexer": "ipython3",
   "version": "3.8.3"
  }
 },
 "nbformat": 4,
 "nbformat_minor": 5
}
