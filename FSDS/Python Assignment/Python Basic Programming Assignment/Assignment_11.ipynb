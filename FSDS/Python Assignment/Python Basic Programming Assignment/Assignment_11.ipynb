{
 "cells": [
  {
   "cell_type": "markdown",
   "id": "adjacent-perception",
   "metadata": {},
   "source": [
    "### 1.\tWrite a Python program to find words which are greater than given length k?"
   ]
  },
  {
   "cell_type": "code",
   "execution_count": 22,
   "id": "demonstrated-printer",
   "metadata": {},
   "outputs": [],
   "source": [
    "def words_k(string, k):\n",
    "    words = []\n",
    "    for i in string.split():\n",
    "        if len(i) > k:\n",
    "            words.append(i)\n",
    "    return words        "
   ]
  },
  {
   "cell_type": "code",
   "execution_count": 23,
   "id": "optional-breed",
   "metadata": {},
   "outputs": [
    {
     "data": {
      "text/plain": [
       "['Python', 'program', 'greater', 'length']"
      ]
     },
     "execution_count": 23,
     "metadata": {},
     "output_type": "execute_result"
    }
   ],
   "source": [
    "string = \"Write a Python program to find words which are greater than given length k\"\n",
    "words_k(string, 5)"
   ]
  },
  {
   "cell_type": "markdown",
   "id": "bottom-indicator",
   "metadata": {},
   "source": [
    "### 2.\tWrite a Python program for removing i-th character from a string?"
   ]
  },
  {
   "cell_type": "code",
   "execution_count": 37,
   "id": "outdoor-asset",
   "metadata": {},
   "outputs": [],
   "source": [
    "def remove_ith(string, k):\n",
    "    temp = \"\"\n",
    "    for i in range(len(string)):\n",
    "        if i != k:\n",
    "            temp = temp + string[i]\n",
    "    return temp"
   ]
  },
  {
   "cell_type": "code",
   "execution_count": 39,
   "id": "talented-triangle",
   "metadata": {},
   "outputs": [
    {
     "data": {
      "text/plain": [
       "'Write a ython program to find words which are greater than given length k'"
      ]
     },
     "execution_count": 39,
     "metadata": {},
     "output_type": "execute_result"
    }
   ],
   "source": [
    "remove_ith(string, 8)"
   ]
  },
  {
   "cell_type": "markdown",
   "id": "incident-genius",
   "metadata": {},
   "source": [
    "### 3.\tWrite a Python program to split and join a string?"
   ]
  },
  {
   "cell_type": "code",
   "execution_count": 43,
   "id": "geographic-genealogy",
   "metadata": {},
   "outputs": [],
   "source": [
    "def splitstring(string):\n",
    "    return string.split()\n",
    "def joinstring(string):\n",
    "    return \" \".join(string)"
   ]
  },
  {
   "cell_type": "code",
   "execution_count": 44,
   "id": "progressive-peter",
   "metadata": {},
   "outputs": [
    {
     "data": {
      "text/plain": [
       "['Write',\n",
       " 'a',\n",
       " 'Python',\n",
       " 'program',\n",
       " 'to',\n",
       " 'find',\n",
       " 'words',\n",
       " 'which',\n",
       " 'are',\n",
       " 'greater',\n",
       " 'than',\n",
       " 'given',\n",
       " 'length',\n",
       " 'k']"
      ]
     },
     "execution_count": 44,
     "metadata": {},
     "output_type": "execute_result"
    }
   ],
   "source": [
    "splitstring(string)"
   ]
  },
  {
   "cell_type": "code",
   "execution_count": 45,
   "id": "separate-northeast",
   "metadata": {},
   "outputs": [
    {
     "data": {
      "text/plain": [
       "'Write a Python program to find words which are greater than given length k'"
      ]
     },
     "execution_count": 45,
     "metadata": {},
     "output_type": "execute_result"
    }
   ],
   "source": [
    "joinstring(splitstring(string))"
   ]
  },
  {
   "cell_type": "markdown",
   "id": "substantial-energy",
   "metadata": {},
   "source": [
    "### 4.\tWrite a Python to check if a given string is binary string or not?"
   ]
  },
  {
   "cell_type": "code",
   "execution_count": 82,
   "id": "visible-worst",
   "metadata": {},
   "outputs": [],
   "source": [
    "def isbinary(string):\n",
    "    bin = set(string)\n",
    "    for i in bin:\n",
    "        if int(i) != 0 and int(i) != 1:\n",
    "            return \"Not Binary String\"\n",
    "            break\n",
    "    return \"Is Binary String\""
   ]
  },
  {
   "cell_type": "code",
   "execution_count": 85,
   "id": "horizontal-premium",
   "metadata": {},
   "outputs": [
    {
     "data": {
      "text/plain": [
       "'Not Binary String'"
      ]
     },
     "execution_count": 85,
     "metadata": {},
     "output_type": "execute_result"
    }
   ],
   "source": [
    "isbinary('01000120201')"
   ]
  },
  {
   "cell_type": "markdown",
   "id": "aquatic-toner",
   "metadata": {},
   "source": [
    "### 5.\tWrite a Python program to find uncommon words from two Strings?"
   ]
  },
  {
   "cell_type": "code",
   "execution_count": 137,
   "id": "growing-essence",
   "metadata": {},
   "outputs": [],
   "source": [
    "def is_uncommon(string1, string2):\n",
    "    \n",
    "    temp = []\n",
    "    for i in string1.lower().split():\n",
    "        if i not in string2.lower().split():\n",
    "            temp.append(i)\n",
    "    for j in string2.lower().split():\n",
    "        if j not in string1.lower().split():\n",
    "            temp.append(j)\n",
    "    return temp"
   ]
  },
  {
   "cell_type": "code",
   "execution_count": 138,
   "id": "wired-certification",
   "metadata": {},
   "outputs": [
    {
     "data": {
      "text/plain": [
       "['check',\n",
       " 'if',\n",
       " 'given',\n",
       " 'string',\n",
       " 'is',\n",
       " 'binary',\n",
       " 'string',\n",
       " 'or',\n",
       " 'not',\n",
       " 'program',\n",
       " 'find',\n",
       " 'uncommon',\n",
       " 'words',\n",
       " 'from',\n",
       " 'two',\n",
       " 'strings']"
      ]
     },
     "execution_count": 138,
     "metadata": {},
     "output_type": "execute_result"
    }
   ],
   "source": [
    "string1 = \"Write a Python to check if a given string is binary string or not\"\n",
    "string2 = \"Write a Python program to find uncommon words from two Strings\"\n",
    "is_uncommon(string1, string2)"
   ]
  },
  {
   "cell_type": "markdown",
   "id": "promotional-farming",
   "metadata": {},
   "source": [
    "### 6.\tWrite a Python to find all duplicate characters in string?"
   ]
  },
  {
   "cell_type": "code",
   "execution_count": 151,
   "id": "growing-holder",
   "metadata": {},
   "outputs": [
    {
     "data": {
      "text/plain": [
       "{'r': 5,\n",
       " 'i': 7,\n",
       " 't': 6,\n",
       " 'e': 3,\n",
       " ' ': 13,\n",
       " 'a': 3,\n",
       " 'y': 2,\n",
       " 'h': 2,\n",
       " 'o': 4,\n",
       " 'n': 6,\n",
       " 'c': 2,\n",
       " 'g': 3,\n",
       " 's': 3}"
      ]
     },
     "execution_count": 151,
     "metadata": {},
     "output_type": "execute_result"
    }
   ],
   "source": [
    "{i : string1.count(i) for i in string1 if string1.count(i) > 1}"
   ]
  },
  {
   "cell_type": "markdown",
   "id": "global-figure",
   "metadata": {},
   "source": [
    "### 7.\tWrite a Python Program to check if a string contains any special character?"
   ]
  },
  {
   "cell_type": "code",
   "execution_count": 161,
   "id": "retired-flashing",
   "metadata": {},
   "outputs": [
    {
     "data": {
      "text/plain": [
       "['-', '(', ')', '?']"
      ]
     },
     "execution_count": 161,
     "metadata": {},
     "output_type": "execute_result"
    }
   ],
   "source": [
    "import string\n",
    "string3 = \"Write a Python-Program to check if a string contains any (special) character?\"\n",
    "[i for i in string3 if i in string.punctuation]"
   ]
  }
 ],
 "metadata": {
  "kernelspec": {
   "display_name": "Python 3",
   "language": "python",
   "name": "python3"
  },
  "language_info": {
   "codemirror_mode": {
    "name": "ipython",
    "version": 3
   },
   "file_extension": ".py",
   "mimetype": "text/x-python",
   "name": "python",
   "nbconvert_exporter": "python",
   "pygments_lexer": "ipython3",
   "version": "3.8.3"
  }
 },
 "nbformat": 4,
 "nbformat_minor": 5
}
