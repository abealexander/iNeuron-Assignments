{
 "cells": [
  {
   "cell_type": "markdown",
   "id": "wrapped-sigma",
   "metadata": {},
   "source": [
    "### 1. Create a function that takes an integer and returns a list from 1 to the given number, where:\n",
    "1.\tIf the number can be divided evenly by 4, amplify it by 10 (i.e. return 10 times the number).\n",
    "2.\tIf the number cannot be divided evenly by 4, simply return the number.\n",
    "\n",
    "Examples\n",
    "\n",
    "amplify(4) ➞ [1, 2, 3, 40]\n",
    "\n",
    "amplify(3) ➞ [1, 2, 3]\n",
    "\n",
    "amplify(25) ➞ [1, 2, 3, 40, 5, 6, 7, 80, 9, 10, 11, 120, 13, 14, 15, 160, 17, 18, 19, 200, 21, 22, 23, 240, 25]\n",
    "\n",
    "Notes\n",
    "*\tThe given integer will always be equal to or greater than 1.\n",
    "*\tInclude the number (see example above).\n",
    "*\tTo perform this problem with its intended purpose, try doing it with list comprehensions. If that's too difficult, just solve the challenge any way you can.\n"
   ]
  },
  {
   "cell_type": "code",
   "execution_count": 7,
   "id": "compressed-vitamin",
   "metadata": {},
   "outputs": [],
   "source": [
    "def amplify(num):\n",
    "    return print([i*10 if i%4==0 else i for i in range(1,num + 1)])"
   ]
  },
  {
   "cell_type": "code",
   "execution_count": 8,
   "id": "toxic-margin",
   "metadata": {},
   "outputs": [
    {
     "name": "stdout",
     "output_type": "stream",
     "text": [
      "[1, 2, 3, 40, 5, 6, 7, 80, 9, 10, 11, 120, 13, 14, 15, 160, 17, 18, 19, 200, 21, 22, 23, 240, 25]\n"
     ]
    }
   ],
   "source": [
    "amplify(25)"
   ]
  },
  {
   "cell_type": "markdown",
   "id": "solid-prospect",
   "metadata": {},
   "source": [
    "### 2. Create a function that takes a list of numbers and return the number that's unique.\n",
    "Examples\n",
    "\n",
    "unique([3, 3, 3, 7, 3, 3]) ➞ 7\n",
    "\n",
    "unique([0, 0, 0.77, 0, 0]) ➞ 0.77\n",
    "\n",
    "unique([0, 1, 1, 1, 1, 1, 1, 1]) ➞ 0\n",
    "\n",
    "Notes\n",
    "\n",
    "Test cases will always have exactly one unique number while all others are the same."
   ]
  },
  {
   "cell_type": "code",
   "execution_count": 34,
   "id": "military-partnership",
   "metadata": {},
   "outputs": [],
   "source": [
    "from collections import Counter\n",
    "def unique(lst):\n",
    "    lst = map(lambda x: str(x), lst)\n",
    "    count = Counter(lst)\n",
    "    for k,v in count.items():\n",
    "        if v == 1:\n",
    "            return k\n",
    "    else:\n",
    "        return \"No unique values\"\n",
    "    "
   ]
  },
  {
   "cell_type": "code",
   "execution_count": 35,
   "id": "commercial-authority",
   "metadata": {},
   "outputs": [
    {
     "data": {
      "text/plain": [
       "'0.77'"
      ]
     },
     "execution_count": 35,
     "metadata": {},
     "output_type": "execute_result"
    }
   ],
   "source": [
    "unique([0, 0, 0.77, 0, 0])"
   ]
  },
  {
   "cell_type": "code",
   "execution_count": 37,
   "id": "pressing-aviation",
   "metadata": {},
   "outputs": [
    {
     "data": {
      "text/plain": [
       "'0'"
      ]
     },
     "execution_count": 37,
     "metadata": {},
     "output_type": "execute_result"
    }
   ],
   "source": [
    "unique([0, 1, 1, 1, 1, 1, 1, 1])"
   ]
  },
  {
   "cell_type": "markdown",
   "id": "binary-currency",
   "metadata": {},
   "source": [
    "### 3. Your task is to create a Circle constructor that creates a circle with a radius provided by an argument. The circles constructed must have two getters getArea() (PIr^2) and getPerimeter() (2PI*r) which give both respective areas and perimeter (circumference).\n",
    "\n",
    "For help with this class, I have provided you with a Rectangle constructor which you can use as a base example.\n",
    "\n",
    "Examples\n",
    "\n",
    "circy = Circle(11)\n",
    "\n",
    "circy.getArea()\n",
    "\n",
    " Should return 380.132711084365\n",
    "\n",
    "circy = Circle(4.44)\n",
    "\n",
    "circy.getPerimeter()\n",
    "\n",
    " Should return 27.897342763877365\n",
    "\n",
    "Notes\n",
    "\n",
    "Round results up to the nearest integer."
   ]
  },
  {
   "cell_type": "code",
   "execution_count": 44,
   "id": "moving-stack",
   "metadata": {},
   "outputs": [],
   "source": [
    "import math\n",
    "class Circle():\n",
    "    def __init__(self, r):\n",
    "        self.radius = r\n",
    "    \n",
    "    def getArea(self):\n",
    "        return round((self.radius**2)*math.pi)\n",
    "    \n",
    "    def getPerimeter(self):\n",
    "        return round(self.radius*2*math.pi)"
   ]
  },
  {
   "cell_type": "code",
   "execution_count": 47,
   "id": "precise-cotton",
   "metadata": {},
   "outputs": [
    {
     "name": "stdout",
     "output_type": "stream",
     "text": [
      "62\n",
      "28\n"
     ]
    }
   ],
   "source": [
    "circy = Circle(4.44)\n",
    "print(circy.getArea())\n",
    "print(circy.getPerimeter())"
   ]
  },
  {
   "cell_type": "markdown",
   "id": "dirty-chapter",
   "metadata": {},
   "source": [
    "### 4. Create a function that takes a list of strings and return a list, sorted from shortest to longest.\n",
    "\n",
    "Examples\n",
    "\n",
    "sort_by_length([\"Google\", \"Apple\", \"Microsoft\"])\n",
    "➞ [\"Apple\", \"Google\", \"Microsoft\"]\n",
    "\n",
    "sort_by_length([\"Leonardo\", \"Michelangelo\", \"Raphael\", \"Donatello\"])\n",
    "➞ [\"Raphael\", \"Leonardo\", \"Donatello\", \"Michelangelo\"]\n",
    "\n",
    "sort_by_length([\"Turing\", \"Einstein\", \"Jung\"])\n",
    "➞ [\"Jung\", \"Turing\", \"Einstein\"]\n",
    "\n",
    "Notes\n",
    "\n",
    "All test cases contain lists with strings of different lengths, so you won't have to deal with multiple strings of the same length."
   ]
  },
  {
   "cell_type": "code",
   "execution_count": 57,
   "id": "occasional-literacy",
   "metadata": {},
   "outputs": [],
   "source": [
    "def sort_by_length(lst):\n",
    "    return sorted(lst, key = len)"
   ]
  },
  {
   "cell_type": "code",
   "execution_count": 58,
   "id": "minute-european",
   "metadata": {},
   "outputs": [
    {
     "data": {
      "text/plain": [
       "['Apple', 'Google', 'Microsoft']"
      ]
     },
     "execution_count": 58,
     "metadata": {},
     "output_type": "execute_result"
    }
   ],
   "source": [
    "sort_by_length([\"Google\", \"Apple\", \"Microsoft\"])"
   ]
  },
  {
   "cell_type": "code",
   "execution_count": 59,
   "id": "baking-service",
   "metadata": {},
   "outputs": [
    {
     "data": {
      "text/plain": [
       "['Raphael', 'Leonardo', 'Donatello', 'Michelangelo']"
      ]
     },
     "execution_count": 59,
     "metadata": {},
     "output_type": "execute_result"
    }
   ],
   "source": [
    "sort_by_length([\"Leonardo\", \"Michelangelo\", \"Raphael\", \"Donatello\"])"
   ]
  },
  {
   "cell_type": "code",
   "execution_count": 60,
   "id": "accredited-fitting",
   "metadata": {},
   "outputs": [
    {
     "data": {
      "text/plain": [
       "['Jung', 'Turing', 'Einstein']"
      ]
     },
     "execution_count": 60,
     "metadata": {},
     "output_type": "execute_result"
    }
   ],
   "source": [
    "sort_by_length([\"Turing\", \"Einstein\", \"Jung\"])"
   ]
  },
  {
   "cell_type": "markdown",
   "id": "documentary-alaska",
   "metadata": {},
   "source": [
    "### 5. Create a function that validates whether three given integers form a Pythagorean triplet. The sum of the squares of the two smallest integers must equal the square of the largest number to be validated.\n",
    "Examples\n",
    "\n",
    "is_triplet(3, 4, 5) ➞ True\n",
    "\n",
    " 3² + 4² = 25\n",
    "\n",
    " 5² = 25\n",
    "\n",
    "is_triplet(13, 5, 12) ➞ True\n",
    "\n",
    "5² + 12² = 169\n",
    "\n",
    "13² = 169\n",
    "\n",
    "is_triplet(1, 2, 3) ➞ False\n",
    "\n",
    " 1² + 2² = 5\n",
    "\n",
    " 3² = 9\n",
    "\n",
    "Notes\n",
    "\n",
    "Numbers may not be given in a sorted order."
   ]
  },
  {
   "cell_type": "code",
   "execution_count": 62,
   "id": "seventh-virus",
   "metadata": {},
   "outputs": [
    {
     "data": {
      "text/plain": [
       "[1, 2, 3]"
      ]
     },
     "execution_count": 62,
     "metadata": {},
     "output_type": "execute_result"
    }
   ],
   "source": [
    "sorted([1,2,3])"
   ]
  },
  {
   "cell_type": "code",
   "execution_count": 69,
   "id": "limited-values",
   "metadata": {},
   "outputs": [],
   "source": [
    "def is_triplet(a,b,c):\n",
    "    inputs = sorted([a,b,c])\n",
    "    if inputs[0] ** 2 + inputs[1] ** 2 == inputs[2] ** 2:\n",
    "        return True\n",
    "    else: return False"
   ]
  },
  {
   "cell_type": "code",
   "execution_count": 70,
   "id": "little-chambers",
   "metadata": {},
   "outputs": [
    {
     "data": {
      "text/plain": [
       "True"
      ]
     },
     "execution_count": 70,
     "metadata": {},
     "output_type": "execute_result"
    }
   ],
   "source": [
    "is_triplet(13, 5, 12)"
   ]
  },
  {
   "cell_type": "code",
   "execution_count": 71,
   "id": "hungarian-minute",
   "metadata": {},
   "outputs": [
    {
     "data": {
      "text/plain": [
       "False"
      ]
     },
     "execution_count": 71,
     "metadata": {},
     "output_type": "execute_result"
    }
   ],
   "source": [
    "is_triplet(1, 2, 3)"
   ]
  }
 ],
 "metadata": {
  "kernelspec": {
   "display_name": "Python 3",
   "language": "python",
   "name": "python3"
  },
  "language_info": {
   "codemirror_mode": {
    "name": "ipython",
    "version": 3
   },
   "file_extension": ".py",
   "mimetype": "text/x-python",
   "name": "python",
   "nbconvert_exporter": "python",
   "pygments_lexer": "ipython3",
   "version": "3.8.3"
  }
 },
 "nbformat": 4,
 "nbformat_minor": 5
}
