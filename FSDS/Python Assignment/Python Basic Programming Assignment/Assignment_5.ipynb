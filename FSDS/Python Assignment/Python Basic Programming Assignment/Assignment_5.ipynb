{
 "cells": [
  {
   "cell_type": "markdown",
   "id": "aboriginal-retro",
   "metadata": {},
   "source": [
    "### 1.\tWrite a Python Program to Find LCM?"
   ]
  },
  {
   "cell_type": "code",
   "execution_count": 10,
   "id": "liable-involvement",
   "metadata": {},
   "outputs": [],
   "source": [
    "from math import gcd\n",
    "from functools import reduce\n",
    "def find_lcm(num_list):\n",
    "    return reduce(lambda a,b : a*b // gcd(a,b), num_list)"
   ]
  },
  {
   "cell_type": "code",
   "execution_count": 14,
   "id": "binary-treat",
   "metadata": {},
   "outputs": [
    {
     "data": {
      "text/plain": [
       "12600"
      ]
     },
     "execution_count": 14,
     "metadata": {},
     "output_type": "execute_result"
    }
   ],
   "source": [
    "find_lcm([100,200,315])"
   ]
  },
  {
   "cell_type": "markdown",
   "id": "organized-quebec",
   "metadata": {},
   "source": [
    "### 2.\tWrite a Python Program to Find HCF?"
   ]
  },
  {
   "cell_type": "code",
   "execution_count": 16,
   "id": "spanish-understanding",
   "metadata": {},
   "outputs": [],
   "source": [
    "def find_hcf(num_list):\n",
    "    g = lambda x, y: x if y==0 else g(y, x%y)\n",
    "    return reduce(lambda a,b : g(a,b), num_list)"
   ]
  },
  {
   "cell_type": "code",
   "execution_count": 17,
   "id": "seasonal-guinea",
   "metadata": {},
   "outputs": [
    {
     "data": {
      "text/plain": [
       "10"
      ]
     },
     "execution_count": 17,
     "metadata": {},
     "output_type": "execute_result"
    }
   ],
   "source": [
    "find_hcf([10,20,30])"
   ]
  },
  {
   "cell_type": "markdown",
   "id": "confident-telescope",
   "metadata": {},
   "source": [
    "### 3.\tWrite a Python Program to Convert Decimal to Binary, Octal and Hexadecimal?"
   ]
  },
  {
   "cell_type": "code",
   "execution_count": 28,
   "id": "lasting-arkansas",
   "metadata": {},
   "outputs": [],
   "source": [
    "def bin_oct_hex(num, num_type):\n",
    "    try:\n",
    "        if num_type == 'bin':\n",
    "            return bin(num)\n",
    "        elif num_type == 'oct':\n",
    "            return oct(num)\n",
    "        else:\n",
    "            return hex(num)\n",
    "    except:\n",
    "        print(\"Check your inputs\")"
   ]
  },
  {
   "cell_type": "code",
   "execution_count": 29,
   "id": "capital-probe",
   "metadata": {},
   "outputs": [
    {
     "data": {
      "text/plain": [
       "'0o173'"
      ]
     },
     "execution_count": 29,
     "metadata": {},
     "output_type": "execute_result"
    }
   ],
   "source": [
    "bin_oct_hex(123, 'oct')"
   ]
  },
  {
   "cell_type": "markdown",
   "id": "fundamental-context",
   "metadata": {},
   "source": [
    "### 4.\tWrite a Python Program To Find ASCII value of a character?"
   ]
  },
  {
   "cell_type": "code",
   "execution_count": 34,
   "id": "compact-semester",
   "metadata": {},
   "outputs": [],
   "source": [
    "def whats_the_ASCII(character):\n",
    "    return ord(character)"
   ]
  },
  {
   "cell_type": "code",
   "execution_count": 39,
   "id": "skilled-toner",
   "metadata": {},
   "outputs": [
    {
     "data": {
      "text/plain": [
       "37"
      ]
     },
     "execution_count": 39,
     "metadata": {},
     "output_type": "execute_result"
    }
   ],
   "source": [
    "whats_the_ASCII('%')"
   ]
  },
  {
   "cell_type": "markdown",
   "id": "distant-blade",
   "metadata": {},
   "source": [
    "### 5.\tWrite a Python Program to Make a Simple Calculator with 4 basic mathematical operations?"
   ]
  },
  {
   "cell_type": "code",
   "execution_count": 66,
   "id": "communist-building",
   "metadata": {},
   "outputs": [],
   "source": [
    "def calculator(calc_string):\n",
    "    return eval(calc_string)\n"
   ]
  },
  {
   "cell_type": "code",
   "execution_count": 69,
   "id": "foster-madagascar",
   "metadata": {
    "scrolled": true
   },
   "outputs": [
    {
     "data": {
      "text/plain": [
       "5.5"
      ]
     },
     "execution_count": 69,
     "metadata": {},
     "output_type": "execute_result"
    }
   ],
   "source": [
    "calculator('1 + 9 * 3 / 6')"
   ]
  },
  {
   "cell_type": "code",
   "execution_count": 72,
   "id": "amateur-terminology",
   "metadata": {},
   "outputs": [],
   "source": [
    "def calc(num1, num2, operator):\n",
    "    op = ['+', '-', '*', '/']\n",
    "    try:\n",
    "        for i in op:\n",
    "            if i in operator:\n",
    "                if i == '+':\n",
    "                    return num1 + num2\n",
    "                elif i == '-':\n",
    "                    return num1 - num2\n",
    "                elif i == '*':\n",
    "                    return num1 * num2\n",
    "                else:\n",
    "                    return num1 / num2\n",
    "    except:\n",
    "        print(\"Check your input\")"
   ]
  },
  {
   "cell_type": "code",
   "execution_count": 76,
   "id": "cutting-effects",
   "metadata": {},
   "outputs": [
    {
     "data": {
      "text/plain": [
       "20.0"
      ]
     },
     "execution_count": 76,
     "metadata": {},
     "output_type": "execute_result"
    }
   ],
   "source": [
    "calc(100,5,'/')"
   ]
  }
 ],
 "metadata": {
  "kernelspec": {
   "display_name": "Python 3",
   "language": "python",
   "name": "python3"
  },
  "language_info": {
   "codemirror_mode": {
    "name": "ipython",
    "version": 3
   },
   "file_extension": ".py",
   "mimetype": "text/x-python",
   "name": "python",
   "nbconvert_exporter": "python",
   "pygments_lexer": "ipython3",
   "version": "3.8.3"
  }
 },
 "nbformat": 4,
 "nbformat_minor": 5
}
