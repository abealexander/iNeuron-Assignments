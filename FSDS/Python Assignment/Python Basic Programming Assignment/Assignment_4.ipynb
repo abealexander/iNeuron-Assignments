{
 "cells": [
  {
   "cell_type": "markdown",
   "id": "stupid-travel",
   "metadata": {},
   "source": [
    "### 1.\tWrite a Python Program to Find the Factorial of a Number?"
   ]
  },
  {
   "cell_type": "code",
   "execution_count": 1,
   "id": "dynamic-anatomy",
   "metadata": {},
   "outputs": [],
   "source": [
    "def factorial(x):\n",
    "    if x == 1:\n",
    "        return x\n",
    "    else:\n",
    "        return (x * factorial(x-1))"
   ]
  },
  {
   "cell_type": "code",
   "execution_count": 3,
   "id": "loaded-orlando",
   "metadata": {},
   "outputs": [
    {
     "data": {
      "text/plain": [
       "120"
      ]
     },
     "execution_count": 3,
     "metadata": {},
     "output_type": "execute_result"
    }
   ],
   "source": [
    "factorial(5)"
   ]
  },
  {
   "cell_type": "markdown",
   "id": "applicable-marshall",
   "metadata": {},
   "source": [
    "### 2.\tWrite a Python Program to Display the multiplication Table?"
   ]
  },
  {
   "cell_type": "code",
   "execution_count": 6,
   "id": "outstanding-duncan",
   "metadata": {},
   "outputs": [],
   "source": [
    "def multipy_table(num, times):\n",
    "    for i in range(1,times+1):\n",
    "        print(num,\" x \", i, \" = \", num*i)"
   ]
  },
  {
   "cell_type": "code",
   "execution_count": 8,
   "id": "institutional-bahamas",
   "metadata": {},
   "outputs": [
    {
     "name": "stdout",
     "output_type": "stream",
     "text": [
      "9  x  1  =  9\n",
      "9  x  2  =  18\n",
      "9  x  3  =  27\n",
      "9  x  4  =  36\n",
      "9  x  5  =  45\n",
      "9  x  6  =  54\n",
      "9  x  7  =  63\n",
      "9  x  8  =  72\n",
      "9  x  9  =  81\n"
     ]
    }
   ],
   "source": [
    "multipy_table(9,9)"
   ]
  },
  {
   "cell_type": "markdown",
   "id": "directed-hungary",
   "metadata": {},
   "source": [
    "### 3.\tWrite a Python Program to Print the Fibonacci sequence?"
   ]
  },
  {
   "cell_type": "code",
   "execution_count": 21,
   "id": "economic-worthy",
   "metadata": {},
   "outputs": [],
   "source": [
    "def fib(num):\n",
    "    a = 0\n",
    "    b = 1\n",
    "    \n",
    "    if num < 0 or type(num) == float:\n",
    "        print(\"Incorrect Input\")\n",
    "    elif num == 0:\n",
    "        print(num)\n",
    "    elif num == 1:\n",
    "        print(num)\n",
    "    else:\n",
    "        for i in range(1,num):\n",
    "            c = a + b\n",
    "            a = b\n",
    "            b = c\n",
    "        print(b)"
   ]
  },
  {
   "cell_type": "code",
   "execution_count": 23,
   "id": "progressive-pizza",
   "metadata": {},
   "outputs": [
    {
     "name": "stdout",
     "output_type": "stream",
     "text": [
      "55\n"
     ]
    }
   ],
   "source": [
    "fib(10)"
   ]
  },
  {
   "cell_type": "markdown",
   "id": "allied-waterproof",
   "metadata": {},
   "source": [
    "### 4.\tWrite a Python Program to Check Armstrong Number?"
   ]
  },
  {
   "cell_type": "code",
   "execution_count": 3,
   "id": "above-budget",
   "metadata": {},
   "outputs": [],
   "source": [
    "def check_armstrong(num):\n",
    "    digit_list = [i for i in str(num)]\n",
    "    temp = 0\n",
    "    order = len(digit_list)\n",
    "    for i in digit_list:\n",
    "        temp+= int(i) ** order\n",
    "    if temp == num:\n",
    "        return \"Is Armstrong Number\"\n",
    "    else:\n",
    "        return \"Not an Armstrong Number\" "
   ]
  },
  {
   "cell_type": "code",
   "execution_count": 4,
   "id": "finished-relations",
   "metadata": {},
   "outputs": [
    {
     "data": {
      "text/plain": [
       "'Not an Armstrong Number'"
      ]
     },
     "execution_count": 4,
     "metadata": {},
     "output_type": "execute_result"
    }
   ],
   "source": [
    "check_armstrong(10)"
   ]
  },
  {
   "cell_type": "markdown",
   "id": "suspected-quarterly",
   "metadata": {},
   "source": [
    "### 5.\tWrite a Python Program to Find Armstrong Number in an Interval?"
   ]
  },
  {
   "cell_type": "code",
   "execution_count": 5,
   "id": "engaging-cooperation",
   "metadata": {},
   "outputs": [],
   "source": [
    "def find_armstrong(lower, upper):\n",
    "    for i in range(lower, upper+1):\n",
    "        if check_armstrong(i) == \"Is Armstrong Number\":\n",
    "            print(i)   "
   ]
  },
  {
   "cell_type": "code",
   "execution_count": 6,
   "id": "worthy-apparel",
   "metadata": {},
   "outputs": [
    {
     "name": "stdout",
     "output_type": "stream",
     "text": [
      "1\n",
      "2\n",
      "3\n",
      "4\n",
      "5\n",
      "6\n",
      "7\n",
      "8\n",
      "9\n",
      "153\n",
      "370\n",
      "371\n",
      "407\n"
     ]
    }
   ],
   "source": [
    "find_armstrong(1,1000)"
   ]
  },
  {
   "cell_type": "markdown",
   "id": "stone-spelling",
   "metadata": {},
   "source": [
    "### 6.\tWrite a Python Program to Find the Sum of Natural Numbers?"
   ]
  },
  {
   "cell_type": "code",
   "execution_count": 27,
   "id": "banner-imaging",
   "metadata": {},
   "outputs": [],
   "source": [
    "def sum_natural_num(n):\n",
    "    return (n*(n+1))/2"
   ]
  },
  {
   "cell_type": "code",
   "execution_count": 29,
   "id": "genetic-basketball",
   "metadata": {},
   "outputs": [
    {
     "data": {
      "text/plain": [
       "5050.0"
      ]
     },
     "execution_count": 29,
     "metadata": {},
     "output_type": "execute_result"
    }
   ],
   "source": [
    "sum_natural_num(100)"
   ]
  }
 ],
 "metadata": {
  "kernelspec": {
   "display_name": "Python 3",
   "language": "python",
   "name": "python3"
  },
  "language_info": {
   "codemirror_mode": {
    "name": "ipython",
    "version": 3
   },
   "file_extension": ".py",
   "mimetype": "text/x-python",
   "name": "python",
   "nbconvert_exporter": "python",
   "pygments_lexer": "ipython3",
   "version": "3.8.3"
  }
 },
 "nbformat": 4,
 "nbformat_minor": 5
}
