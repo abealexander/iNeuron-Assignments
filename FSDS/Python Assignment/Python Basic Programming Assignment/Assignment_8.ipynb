{
 "cells": [
  {
   "cell_type": "markdown",
   "id": "african-command",
   "metadata": {},
   "source": [
    "### 1.\tWrite a Python Program to Add Two Matrices?"
   ]
  },
  {
   "cell_type": "code",
   "execution_count": 3,
   "id": "romance-burns",
   "metadata": {},
   "outputs": [],
   "source": [
    "import numpy as np\n",
    "def matrices_add(m1, m2):\n",
    "    try:\n",
    "        temp = np.zeros(shape = (len(m1), len(m1[0])))\n",
    "        for i in range(len(m1)):\n",
    "            for j in range(len(m1[0])):\n",
    "                temp[i][j] = m1[i][j] + m2[i][j]\n",
    "        return temp\n",
    "    except:\n",
    "        print(\"Something is wrong, ensure the matrices are of the same size and consists of integers\")"
   ]
  },
  {
   "cell_type": "code",
   "execution_count": 4,
   "id": "english-break",
   "metadata": {},
   "outputs": [
    {
     "data": {
      "text/plain": [
       "array([[5., 5., 5.],\n",
       "       [7., 7., 7.],\n",
       "       [9., 9., 9.]])"
      ]
     },
     "execution_count": 4,
     "metadata": {},
     "output_type": "execute_result"
    }
   ],
   "source": [
    "m1 = [[1,1,1],[2,2,2],[3,3,3]]\n",
    "m2 = [[4,4,4],[5,5,5],[6,6,6]]\n",
    "matrices_add(m1, m2)"
   ]
  },
  {
   "cell_type": "markdown",
   "id": "eight-religion",
   "metadata": {},
   "source": [
    "### 2.\tWrite a Python Program to Multiply Two Matrices?"
   ]
  },
  {
   "cell_type": "code",
   "execution_count": 5,
   "id": "presidential-penalty",
   "metadata": {},
   "outputs": [],
   "source": [
    "import numpy as np\n",
    "def matrices_multiply(mat1, mat2):\n",
    "    try:\n",
    "        temp2 = np.zeros(shape = (len(mat1[0]), len(mat1)))\n",
    "        for i in range(len(mat1)):\n",
    "            for j in range(len(mat2[0])):\n",
    "                for k in range(len(mat2)):\n",
    "                    temp2[i][j] += mat1[i][k] * mat2[k][j]\n",
    "        return temp2      \n",
    "    except Exception as e:\n",
    "        print(\"Somthing is wrong, check the matrices dimensions\", e)"
   ]
  },
  {
   "cell_type": "code",
   "execution_count": 28,
   "id": "industrial-gossip",
   "metadata": {},
   "outputs": [
    {
     "data": {
      "text/plain": [
       "array([[ 32.,  32.,  32.],\n",
       "       [ 77.,  77.,  77.],\n",
       "       [122., 122., 122.]])"
      ]
     },
     "execution_count": 28,
     "metadata": {},
     "output_type": "execute_result"
    }
   ],
   "source": [
    "m3 = [[1,2,3],[4,5,6],[7,8,9]]\n",
    "m4 = [[4,4,4],[5,5,5],[6,6,6]]\n",
    "matrices_multiply(m3, m4)"
   ]
  },
  {
   "cell_type": "code",
   "execution_count": 29,
   "id": "unlikely-weather",
   "metadata": {},
   "outputs": [
    {
     "data": {
      "text/plain": [
       "array([[ 32,  32,  32],\n",
       "       [ 77,  77,  77],\n",
       "       [122, 122, 122]])"
      ]
     },
     "execution_count": 29,
     "metadata": {},
     "output_type": "execute_result"
    }
   ],
   "source": [
    "np.dot(m3,m4)"
   ]
  },
  {
   "cell_type": "markdown",
   "id": "existing-spanking",
   "metadata": {},
   "source": [
    "### 3.\tWrite a Python Program to Transpose a Matrix?"
   ]
  },
  {
   "cell_type": "code",
   "execution_count": 30,
   "id": "adjusted-persian",
   "metadata": {},
   "outputs": [],
   "source": [
    "def transposed(mat):\n",
    "    temp3 = np.zeros(shape = (len(mat), len(mat[0])))\n",
    "    for i in range(len(mat)):\n",
    "        for j in range(len(mat[0])):\n",
    "            temp3[j][i] = mat[i][j]\n",
    "    return temp3"
   ]
  },
  {
   "cell_type": "code",
   "execution_count": 31,
   "id": "minor-payroll",
   "metadata": {},
   "outputs": [
    {
     "data": {
      "text/plain": [
       "array([[1., 4., 7.],\n",
       "       [2., 5., 8.],\n",
       "       [3., 6., 9.]])"
      ]
     },
     "execution_count": 31,
     "metadata": {},
     "output_type": "execute_result"
    }
   ],
   "source": [
    "transposed(m3)"
   ]
  },
  {
   "cell_type": "markdown",
   "id": "charitable-restriction",
   "metadata": {},
   "source": [
    "### 4.\tWrite a Python Program to Sort Words in Alphabetic Order?"
   ]
  },
  {
   "cell_type": "code",
   "execution_count": 43,
   "id": "resistant-hawaii",
   "metadata": {},
   "outputs": [],
   "source": [
    "def sort_alpha(words):\n",
    "    word = words.lower().split()\n",
    "    word.sort()\n",
    "    return word      "
   ]
  },
  {
   "cell_type": "code",
   "execution_count": 44,
   "id": "tight-commercial",
   "metadata": {},
   "outputs": [
    {
     "data": {
      "text/plain": [
       "['a',\n",
       " 'a',\n",
       " 'a',\n",
       " 'are',\n",
       " 'beautiful',\n",
       " 'beautiful',\n",
       " 'day.',\n",
       " 'day.',\n",
       " 'good',\n",
       " 'had',\n",
       " 'hope',\n",
       " 'how',\n",
       " 'is',\n",
       " 'kind',\n",
       " 'see',\n",
       " 'sight',\n",
       " 'sir,',\n",
       " 'to',\n",
       " 'today',\n",
       " 'you',\n",
       " 'you']"
      ]
     },
     "execution_count": 44,
     "metadata": {},
     "output_type": "execute_result"
    }
   ],
   "source": [
    "sort_alpha(\"How are you kind sir, hope you had a good day. Today is a beautiful day. A beautiful sight to see.\")"
   ]
  },
  {
   "cell_type": "markdown",
   "id": "ranking-district",
   "metadata": {},
   "source": [
    "### 5.\tWrite a Python Program to Remove Punctuation From a String?"
   ]
  },
  {
   "cell_type": "code",
   "execution_count": 121,
   "id": "lightweight-friendly",
   "metadata": {},
   "outputs": [],
   "source": [
    "import string\n",
    "def remove_punc(text):\n",
    "    mytable = txt.maketrans(\"\", \"\", string.punctuation)\n",
    "    return text.translate(mytable)"
   ]
  },
  {
   "cell_type": "code",
   "execution_count": 122,
   "id": "little-bunch",
   "metadata": {},
   "outputs": [
    {
     "data": {
      "text/plain": [
       "'How are you kind sir hope you had a good day Today is a beautiful day A beautiful sight to see'"
      ]
     },
     "execution_count": 122,
     "metadata": {},
     "output_type": "execute_result"
    }
   ],
   "source": [
    "text = \"How are you kind sir, hope you had a good day. Today is a beautiful day. A beautiful sight to see.\"\n",
    "remove_punc(text)"
   ]
  }
 ],
 "metadata": {
  "kernelspec": {
   "display_name": "Python 3",
   "language": "python",
   "name": "python3"
  },
  "language_info": {
   "codemirror_mode": {
    "name": "ipython",
    "version": 3
   },
   "file_extension": ".py",
   "mimetype": "text/x-python",
   "name": "python",
   "nbconvert_exporter": "python",
   "pygments_lexer": "ipython3",
   "version": "3.8.3"
  }
 },
 "nbformat": 4,
 "nbformat_minor": 5
}
