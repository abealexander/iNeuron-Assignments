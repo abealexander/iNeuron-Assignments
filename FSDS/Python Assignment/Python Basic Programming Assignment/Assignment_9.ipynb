{
 "cells": [
  {
   "cell_type": "markdown",
   "id": "economic-belly",
   "metadata": {},
   "source": [
    "### 1.\tWrite a Python program to check if the given number is a Disarium Number?"
   ]
  },
  {
   "cell_type": "code",
   "execution_count": 1,
   "id": "consolidated-injection",
   "metadata": {},
   "outputs": [],
   "source": [
    "def is_disarium(num):\n",
    "    temp = 0\n",
    "    for i in range(1,len(str(num))+1):\n",
    "        temp += int(str(num)[i-1]) ** i\n",
    "    if temp == num:\n",
    "        print(\"Yes\")\n",
    "    else:\n",
    "        print(\"No\")"
   ]
  },
  {
   "cell_type": "code",
   "execution_count": 2,
   "id": "distinguished-drawing",
   "metadata": {},
   "outputs": [
    {
     "name": "stdout",
     "output_type": "stream",
     "text": [
      "Yes\n"
     ]
    }
   ],
   "source": [
    "is_disarium(518)"
   ]
  },
  {
   "cell_type": "markdown",
   "id": "collective-container",
   "metadata": {},
   "source": [
    "### 2.\tWrite a Python program to print all disarium numbers between 1 to 100?"
   ]
  },
  {
   "cell_type": "code",
   "execution_count": 3,
   "id": "blocked-advantage",
   "metadata": {},
   "outputs": [],
   "source": [
    "def disarium_print(lower, upper):\n",
    "    for num in range(lower, upper+1):\n",
    "        temp = 0\n",
    "        for i in range(1,len(str(num))+1):\n",
    "            temp += int(str(num)[i-1]) ** i\n",
    "        if temp == num:\n",
    "            print(num)"
   ]
  },
  {
   "cell_type": "code",
   "execution_count": 4,
   "id": "typical-christmas",
   "metadata": {},
   "outputs": [
    {
     "name": "stdout",
     "output_type": "stream",
     "text": [
      "1\n",
      "2\n",
      "3\n",
      "4\n",
      "5\n",
      "6\n",
      "7\n",
      "8\n",
      "9\n",
      "89\n"
     ]
    }
   ],
   "source": [
    "disarium_print(1,100)"
   ]
  },
  {
   "cell_type": "markdown",
   "id": "common-corpus",
   "metadata": {},
   "source": [
    "### 3. Write a Python program to check if the given number is Happy Number?"
   ]
  },
  {
   "cell_type": "code",
   "execution_count": 5,
   "id": "floral-dealer",
   "metadata": {},
   "outputs": [],
   "source": [
    "def is_happy(num):\n",
    "    temp = 0\n",
    "    while True:\n",
    "        for i in range(1,len(str(num))+1):\n",
    "            temp += int(str(num)[i-1]) ** 2\n",
    "        print(temp)\n",
    "        if temp == 1:\n",
    "            print(\"Yes\")\n",
    "            break\n",
    "        else:\n",
    "            print(\"No\")\n",
    "            num = temp\n",
    "            temp = 0\n",
    "            "
   ]
  },
  {
   "cell_type": "code",
   "execution_count": 6,
   "id": "horizontal-vacuum",
   "metadata": {},
   "outputs": [
    {
     "name": "stdout",
     "output_type": "stream",
     "text": [
      "32\n",
      "No\n",
      "13\n",
      "No\n",
      "10\n",
      "No\n",
      "1\n",
      "Yes\n"
     ]
    }
   ],
   "source": [
    "is_happy(44)"
   ]
  },
  {
   "cell_type": "code",
   "execution_count": 7,
   "id": "located-refund",
   "metadata": {},
   "outputs": [],
   "source": [
    "def is_happy(num):\n",
    "    temp = set()\n",
    "    while num != 1:\n",
    "        num = sum(int(i)**2 for i in str(num))\n",
    "        if num in temp:\n",
    "            return False\n",
    "        temp.add(num)\n",
    "    return True"
   ]
  },
  {
   "cell_type": "code",
   "execution_count": 8,
   "id": "defensive-devil",
   "metadata": {},
   "outputs": [
    {
     "data": {
      "text/plain": [
       "True"
      ]
     },
     "execution_count": 8,
     "metadata": {},
     "output_type": "execute_result"
    }
   ],
   "source": [
    "is_happy(13)"
   ]
  },
  {
   "cell_type": "markdown",
   "id": "recreational-crest",
   "metadata": {},
   "source": [
    "### 4.\tWrite a Python program to print all happy numbers between 1 and 100?"
   ]
  },
  {
   "cell_type": "code",
   "execution_count": 9,
   "id": "designed-agenda",
   "metadata": {},
   "outputs": [
    {
     "data": {
      "text/plain": [
       "[1, 7, 10, 13, 19, 23, 28, 31, 32, 44, 49, 68, 70, 79, 82, 86, 91, 94, 97, 100]"
      ]
     },
     "execution_count": 9,
     "metadata": {},
     "output_type": "execute_result"
    }
   ],
   "source": [
    "[x for x in range(101) if is_happy(x)]"
   ]
  },
  {
   "cell_type": "markdown",
   "id": "facial-paradise",
   "metadata": {},
   "source": [
    "### 5.\tWrite a Python program to determine whether the given number is a Harshad Number?"
   ]
  },
  {
   "cell_type": "code",
   "execution_count": 10,
   "id": "pleased-madagascar",
   "metadata": {},
   "outputs": [],
   "source": [
    "def is_harshad(num):\n",
    "    if num % (sum(int(x) for x in str(num))) == 0:\n",
    "        return True\n",
    "    else: \n",
    "        return False"
   ]
  },
  {
   "cell_type": "code",
   "execution_count": 11,
   "id": "nearby-survey",
   "metadata": {},
   "outputs": [
    {
     "data": {
      "text/plain": [
       "False"
      ]
     },
     "execution_count": 11,
     "metadata": {},
     "output_type": "execute_result"
    }
   ],
   "source": [
    "is_harshad(13)"
   ]
  },
  {
   "cell_type": "markdown",
   "id": "dutch-fraction",
   "metadata": {},
   "source": [
    "### 6.\tWrite a Python program to print all pronic numbers between 1 and 100?"
   ]
  },
  {
   "cell_type": "code",
   "execution_count": 16,
   "id": "collectible-album",
   "metadata": {},
   "outputs": [],
   "source": [
    "def print_pronic(num):\n",
    "    for i in range(num+1):\n",
    "        pronic = i*(i+1)\n",
    "        if pronic > num:\n",
    "            break\n",
    "        print(pronic)"
   ]
  },
  {
   "cell_type": "code",
   "execution_count": 17,
   "id": "instrumental-resident",
   "metadata": {},
   "outputs": [
    {
     "name": "stdout",
     "output_type": "stream",
     "text": [
      "0\n",
      "2\n",
      "6\n",
      "12\n",
      "20\n",
      "30\n",
      "42\n",
      "56\n",
      "72\n",
      "90\n"
     ]
    }
   ],
   "source": [
    "print_pronic(100)"
   ]
  }
 ],
 "metadata": {
  "kernelspec": {
   "display_name": "Python 3",
   "language": "python",
   "name": "python3"
  },
  "language_info": {
   "codemirror_mode": {
    "name": "ipython",
    "version": 3
   },
   "file_extension": ".py",
   "mimetype": "text/x-python",
   "name": "python",
   "nbconvert_exporter": "python",
   "pygments_lexer": "ipython3",
   "version": "3.8.3"
  }
 },
 "nbformat": 4,
 "nbformat_minor": 5
}
