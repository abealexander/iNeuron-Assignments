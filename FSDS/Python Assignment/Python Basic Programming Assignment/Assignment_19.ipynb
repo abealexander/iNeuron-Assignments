{
 "cells": [
  {
   "cell_type": "markdown",
   "id": "conscious-organic",
   "metadata": {},
   "source": [
    "### 1. Create a function that takes a string and returns a string in which each character is repeated once.\n",
    "Examples\n",
    "double_char(\"String\") ➞ \"SSttrriinngg\"\n",
    "\n",
    "double_char(\"Hello World!\") ➞ \"HHeelllloo  WWoorrlldd!!\"\n",
    "\n",
    "double_char(\"1234!_ \") ➞ \"11223344!!__  \""
   ]
  },
  {
   "cell_type": "code",
   "execution_count": 3,
   "id": "complimentary-frederick",
   "metadata": {},
   "outputs": [
    {
     "data": {
      "text/plain": [
       "'HHeelllloo  WWoorrlldd!!'"
      ]
     },
     "execution_count": 3,
     "metadata": {},
     "output_type": "execute_result"
    }
   ],
   "source": [
    "\"\".join([i*2 for i in \"Hello World!\"])"
   ]
  },
  {
   "cell_type": "code",
   "execution_count": 4,
   "id": "satisfactory-archive",
   "metadata": {},
   "outputs": [],
   "source": [
    "def double_char(string):\n",
    "    temp = []\n",
    "    for i in string:\n",
    "        temp.append(i*2)\n",
    "    return \"\".join(temp)"
   ]
  },
  {
   "cell_type": "code",
   "execution_count": 5,
   "id": "egyptian-bottle",
   "metadata": {},
   "outputs": [
    {
     "data": {
      "text/plain": [
       "'11223344!!__  '"
      ]
     },
     "execution_count": 5,
     "metadata": {},
     "output_type": "execute_result"
    }
   ],
   "source": [
    "double_char(\"1234!_ \")"
   ]
  },
  {
   "cell_type": "markdown",
   "id": "tight-smart",
   "metadata": {},
   "source": [
    "### 2. Create a function that reverses a boolean value and returns the string \"boolean expected\" if another variable type is given.\n",
    "Examples\n",
    "\n",
    "reverse(True) ➞ False\n",
    "\n",
    "reverse(False) ➞ True\n",
    "\n",
    "reverse(0) ➞ \"boolean expected\"\n",
    "\n",
    "reverse(None) ➞ \"boolean expected\""
   ]
  },
  {
   "cell_type": "code",
   "execution_count": 14,
   "id": "duplicate-indian",
   "metadata": {},
   "outputs": [],
   "source": [
    "def reverse(boolean):\n",
    "    if type(boolean) == bool:\n",
    "        return not boolean\n",
    "    else:\n",
    "        print(\"Boolean Expected\")"
   ]
  },
  {
   "cell_type": "code",
   "execution_count": 15,
   "id": "maritime-voluntary",
   "metadata": {},
   "outputs": [
    {
     "data": {
      "text/plain": [
       "False"
      ]
     },
     "execution_count": 15,
     "metadata": {},
     "output_type": "execute_result"
    }
   ],
   "source": [
    "reverse(True)"
   ]
  },
  {
   "cell_type": "code",
   "execution_count": 16,
   "id": "healthy-action",
   "metadata": {},
   "outputs": [
    {
     "name": "stdout",
     "output_type": "stream",
     "text": [
      "Boolean Expected\n"
     ]
    }
   ],
   "source": [
    "reverse(0)"
   ]
  },
  {
   "cell_type": "markdown",
   "id": "controlling-prison",
   "metadata": {},
   "source": [
    "### 3. Create a function that returns the thickness (in meters) of a piece of paper after folding it n number of times. The paper starts off with a thickness of 0.5mm.\n",
    "Examples\n",
    "\n",
    "num_layers(1) ➞ \"0.001m\"\n",
    "\n",
    "Paper folded once is 1mm (equal to 0.001m)\n",
    "\n",
    "num_layers(4) ➞ \"0.008m\"\n",
    "\n",
    "Paper folded 4 times is 8mm (equal to 0.008m)\n",
    "\n",
    "num_layers(21) ➞ \"1048.576m\"\n",
    "\n",
    "Paper folded 21 times is 1048576mm (equal to 1048.576m)\n"
   ]
  },
  {
   "cell_type": "code",
   "execution_count": 31,
   "id": "contrary-arrow",
   "metadata": {},
   "outputs": [],
   "source": [
    "def num_layers(num):\n",
    "    return str(round(0.5 * (2**num))) + \"m\""
   ]
  },
  {
   "cell_type": "code",
   "execution_count": 35,
   "id": "entire-bahamas",
   "metadata": {},
   "outputs": [
    {
     "data": {
      "text/plain": [
       "'8m'"
      ]
     },
     "execution_count": 35,
     "metadata": {},
     "output_type": "execute_result"
    }
   ],
   "source": [
    "num_layers(4)"
   ]
  },
  {
   "cell_type": "markdown",
   "id": "fitting-outreach",
   "metadata": {},
   "source": [
    "### 4. Create a function that takes a single string as argument and returns an ordered list containing the indices of all capital letters in the string.\n",
    "Examples\n",
    "\n",
    "index_of_caps(\"eDaBiT\") ➞ [1, 3, 5]\n",
    "\n",
    "index_of_caps(\"eQuINoX\") ➞ [1, 3, 4, 6]\n",
    "\n",
    "index_of_caps(\"determine\") ➞ []\n",
    "\n",
    "index_of_caps(\"STRIKE\") ➞ [0, 1, 2, 3, 4, 5]\n",
    "\n",
    "index_of_caps(\"sUn\") ➞ [1]"
   ]
  },
  {
   "cell_type": "code",
   "execution_count": 38,
   "id": "fatal-sapphire",
   "metadata": {},
   "outputs": [],
   "source": [
    "def index_of_caps(string):\n",
    "    temp = []\n",
    "    for i in range(len(string)):\n",
    "        if string[i].isupper():\n",
    "            temp.append(i)\n",
    "    return temp"
   ]
  },
  {
   "cell_type": "code",
   "execution_count": 41,
   "id": "photographic-trigger",
   "metadata": {},
   "outputs": [
    {
     "data": {
      "text/plain": [
       "[]"
      ]
     },
     "execution_count": 41,
     "metadata": {},
     "output_type": "execute_result"
    }
   ],
   "source": [
    "index_of_caps(\"demon\")"
   ]
  },
  {
   "cell_type": "markdown",
   "id": "ecological-championship",
   "metadata": {},
   "source": [
    "### 5. Using list comprehensions, create a function that finds all even numbers from 1 to the given number.\n",
    "Examples\n",
    "\n",
    "find_even_nums(8) ➞ [2, 4, 6, 8]\n",
    "\n",
    "find_even_nums(4) ➞ [2, 4]\n",
    "\n",
    "find_even_nums(2) ➞ [2]"
   ]
  },
  {
   "cell_type": "code",
   "execution_count": 46,
   "id": "amateur-equivalent",
   "metadata": {},
   "outputs": [],
   "source": [
    "def find_even_nums(num):\n",
    "    return [i for i in range(1,num+1) if i %2 == 0]"
   ]
  },
  {
   "cell_type": "code",
   "execution_count": 47,
   "id": "fixed-detroit",
   "metadata": {},
   "outputs": [
    {
     "data": {
      "text/plain": [
       "[2, 4, 6, 8]"
      ]
     },
     "execution_count": 47,
     "metadata": {},
     "output_type": "execute_result"
    }
   ],
   "source": [
    "find_even_nums(8)"
   ]
  }
 ],
 "metadata": {
  "kernelspec": {
   "display_name": "Python 3",
   "language": "python",
   "name": "python3"
  },
  "language_info": {
   "codemirror_mode": {
    "name": "ipython",
    "version": 3
   },
   "file_extension": ".py",
   "mimetype": "text/x-python",
   "name": "python",
   "nbconvert_exporter": "python",
   "pygments_lexer": "ipython3",
   "version": "3.8.3"
  }
 },
 "nbformat": 4,
 "nbformat_minor": 5
}
