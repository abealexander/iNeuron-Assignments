{
 "cells": [
  {
   "cell_type": "markdown",
   "id": "contemporary-karma",
   "metadata": {},
   "source": [
    "### 1. Create a function that takes a number n (integer greater than zero) as an argument, and returns 2 if n is odd and 8 if n is even.\n",
    "\n",
    "You can only use the following arithmetic operators: addition of numbers +, subtraction of numbers -, multiplication of number *, division of number /, and exponentiation **.\n",
    "\n",
    "You are not allowed to use any other methods in this challenge (i.e. no if statements, comparison operators, etc).\n",
    "\n",
    "Examples\n",
    "\n",
    "f(1) ➞ 2\n",
    "\n",
    "f(2) ➞ 8\n",
    "\n",
    "f(3) ➞ 2"
   ]
  },
  {
   "cell_type": "code",
   "execution_count": 67,
   "id": "twenty-brain",
   "metadata": {},
   "outputs": [],
   "source": [
    "def f(num):\n",
    "    return 4 ** (num & (2-1)) * 2"
   ]
  },
  {
   "cell_type": "code",
   "execution_count": 69,
   "id": "editorial-cleaning",
   "metadata": {},
   "outputs": [
    {
     "data": {
      "text/plain": [
       "8"
      ]
     },
     "execution_count": 69,
     "metadata": {},
     "output_type": "execute_result"
    }
   ],
   "source": [
    "f(3)"
   ]
  },
  {
   "cell_type": "markdown",
   "id": "outside-participant",
   "metadata": {},
   "source": [
    "### 2. Create a function that returns the majority vote in a list. A majority vote is an element that occurs > N/2 times in a list (where N is the length of the list).\n",
    "\n",
    "Examples\n",
    "\n",
    "majority_vote([\"A\", \"A\", \"B\"]) ➞ \"A\"\n",
    "\n",
    "majority_vote([\"A\", \"A\", \"A\", \"B\", \"C\", \"A\"]) ➞ \"A\"\n",
    "\n",
    "majority_vote([\"A\", \"B\", \"B\", \"A\", \"C\", \"C\"]) ➞ None"
   ]
  },
  {
   "cell_type": "code",
   "execution_count": 132,
   "id": "digital-border",
   "metadata": {},
   "outputs": [],
   "source": [
    "def majority_vote(lst):\n",
    "    try:\n",
    "        temp = {}\n",
    "        for i in lst:\n",
    "            temp[i] = temp.get(i, 0) + 1\n",
    "        for i, j in temp.items():\n",
    "            if j > len(lst)/2:\n",
    "                return i\n",
    "        else: return print(None)\n",
    "    except Exception as e:\n",
    "        return e"
   ]
  },
  {
   "cell_type": "code",
   "execution_count": 133,
   "id": "massive-triangle",
   "metadata": {},
   "outputs": [
    {
     "name": "stdout",
     "output_type": "stream",
     "text": [
      "None\n"
     ]
    }
   ],
   "source": [
    "majority_vote([\"A\", \"B\", \"B\", \"A\", \"C\", \"C\"])"
   ]
  },
  {
   "cell_type": "code",
   "execution_count": 137,
   "id": "better-cocktail",
   "metadata": {},
   "outputs": [
    {
     "data": {
      "text/plain": [
       "'A'"
      ]
     },
     "execution_count": 137,
     "metadata": {},
     "output_type": "execute_result"
    }
   ],
   "source": [
    "majority_vote([\"A\", \"A\", \"B\"])"
   ]
  },
  {
   "cell_type": "markdown",
   "id": "existing-annex",
   "metadata": {},
   "source": [
    "### 3. Create a function that takes a string txt and censors any word from a given list lst. The text removed must be replaced by the given character char.\n",
    "\n",
    "Examples\n",
    "\n",
    "censor_string(\"Today is a Wednesday!\", [\"Today\", \"a\"], \"-\") ➞ \"----- is - Wednesday!\"\n",
    "\n",
    "censor_string(\"The cow jumped over the moon.\", [\"cow\", \"over\"], \"*\"), \"The *** jumped **** the moon.\")\n",
    "\n",
    "censor_string(\"Why did the chicken cross the road?\", [\"Did\", \"chicken\", \"road\"], \"*\") ➞ \"Why *** the ******* cross the ****?\""
   ]
  },
  {
   "cell_type": "code",
   "execution_count": 162,
   "id": "regulation-politics",
   "metadata": {},
   "outputs": [],
   "source": [
    "def censor_string(string, find, replace):\n",
    "    try:\n",
    "        for i in find:\n",
    "            string = string.replace(i,replace*len(i), 1)\n",
    "        return string\n",
    "    except Exception as e:\n",
    "        return e"
   ]
  },
  {
   "cell_type": "code",
   "execution_count": 164,
   "id": "obvious-passion",
   "metadata": {},
   "outputs": [
    {
     "data": {
      "text/plain": [
       "'The *** jumped **** the moon.'"
      ]
     },
     "execution_count": 164,
     "metadata": {},
     "output_type": "execute_result"
    }
   ],
   "source": [
    "# This function is case sensitive\n",
    "censor_string(\"The cow jumped over the moon.\", [\"cow\", \"over\"], \"*\")"
   ]
  },
  {
   "cell_type": "markdown",
   "id": "played-assist",
   "metadata": {},
   "source": [
    "### 4. In mathematics a Polydivisible Number (or magic number) is a number in a given number base with digits abcde... that has the following properties:\n",
    "\n",
    "-  Its first digit a is not 0.\n",
    "- The number formed by its first two digits ab is a multiple of 2.\n",
    "- The number formed by its first three digits abc is a multiple of 3.\n",
    "- The number formed by its first four digits abcd is a multiple of 4."
   ]
  },
  {
   "cell_type": "raw",
   "id": "confused-house",
   "metadata": {},
   "source": [
    "Create a function which takes an integer n and returns True if the given number is a Polydivisible Number and False otherwise.\n",
    "\n",
    "Examples\n",
    "\n",
    "is_polydivisible(1232) ➞ True\n",
    "# 1     / 1 = 1\n",
    "# 12    / 2 = 6\n",
    "# 123   / 3 = 41\n",
    "# 1232  / 4 = 308\n",
    "\n",
    "is_polydivisible(123220 ) ➞ False\n",
    "# 1   / 1 = 1\n",
    "# 12   / 2 = 6\n",
    "# 123   / 3 = 41\n",
    "# 1232   / 4 = 308\n",
    "# 12322   / 5 = 2464.4         # Not a Whole Number\n",
    "# 123220   /6 = 220536.333...  # Not a Whole Number"
   ]
  },
  {
   "cell_type": "code",
   "execution_count": 271,
   "id": "educated-panama",
   "metadata": {},
   "outputs": [],
   "source": [
    "def is_polydivisible(num):\n",
    "    try:\n",
    "        temp = str(num)\n",
    "        for i in range(1,len(temp)+1):\n",
    "            if int(temp[:i]) % int(i) != 0:\n",
    "                return False\n",
    "        else: return True\n",
    "    except Exception as e:\n",
    "        return e"
   ]
  },
  {
   "cell_type": "code",
   "execution_count": 272,
   "id": "defined-exception",
   "metadata": {},
   "outputs": [
    {
     "data": {
      "text/plain": [
       "True"
      ]
     },
     "execution_count": 272,
     "metadata": {},
     "output_type": "execute_result"
    }
   ],
   "source": [
    "is_polydivisible(1232)"
   ]
  },
  {
   "cell_type": "code",
   "execution_count": 274,
   "id": "latest-profession",
   "metadata": {},
   "outputs": [
    {
     "data": {
      "text/plain": [
       "False"
      ]
     },
     "execution_count": 274,
     "metadata": {},
     "output_type": "execute_result"
    }
   ],
   "source": [
    "is_polydivisible(123220)"
   ]
  },
  {
   "cell_type": "markdown",
   "id": "alternate-bidding",
   "metadata": {},
   "source": [
    "### 5. Create a function that takes a list of numbers and returns the sum of all prime numbers in the list.\n",
    "\n",
    "Examples\n",
    "\n",
    "sum_primes([1, 2, 3, 4, 5, 6, 7, 8, 9, 10]) ➞ 17\n",
    "\n",
    "sum_primes([2, 3, 4, 11, 20, 50, 71]) ➞ 87\n",
    "\n",
    "sum_primes([]) ➞ None"
   ]
  },
  {
   "cell_type": "code",
   "execution_count": 292,
   "id": "geological-timer",
   "metadata": {},
   "outputs": [],
   "source": [
    "def check_prime(num):\n",
    "    if num > 1:\n",
    "        for i in range(2, num):\n",
    "            if num % i == 0:\n",
    "                break\n",
    "        else:\n",
    "            return num\n",
    "        \n",
    "from functools import reduce\n",
    "\n",
    "def sum_primes(lst):\n",
    "    try:\n",
    "        return reduce(lambda x,y:x+y,list(filter(None,[check_prime(i) for i in lst])))\n",
    "    except Exception as e:\n",
    "        return e, \"Check your inputs\"\n",
    "    "
   ]
  },
  {
   "cell_type": "code",
   "execution_count": 293,
   "id": "narrow-holder",
   "metadata": {},
   "outputs": [
    {
     "data": {
      "text/plain": [
       "87"
      ]
     },
     "execution_count": 293,
     "metadata": {},
     "output_type": "execute_result"
    }
   ],
   "source": [
    "sum_primes([2, 3, 4, 11, 20, 50, 71])"
   ]
  }
 ],
 "metadata": {
  "kernelspec": {
   "display_name": "Python 3",
   "language": "python",
   "name": "python3"
  },
  "language_info": {
   "codemirror_mode": {
    "name": "ipython",
    "version": 3
   },
   "file_extension": ".py",
   "mimetype": "text/x-python",
   "name": "python",
   "nbconvert_exporter": "python",
   "pygments_lexer": "ipython3",
   "version": "3.8.3"
  }
 },
 "nbformat": 4,
 "nbformat_minor": 5
}
