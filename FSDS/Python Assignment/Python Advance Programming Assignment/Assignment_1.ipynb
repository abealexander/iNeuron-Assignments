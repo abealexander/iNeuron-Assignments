{
 "cells": [
  {
   "cell_type": "markdown",
   "id": "consolidated-dealing",
   "metadata": {},
   "source": [
    "### 1. Write a function that takes a list of lists and returns the value of all of the symbols in it, where each symbol adds or takes something from the total score. Symbol values:"
   ]
  },
  {
   "cell_type": "raw",
   "id": "rotary-green",
   "metadata": {},
   "source": [
    "# = 5\n",
    "O = 3\n",
    "X = 1\n",
    "! = -1\n",
    "!! = -3\n",
    "!!! = -5\n",
    "\n",
    "A list of lists containing 2 #s, a O, and a !!! would equal (0 + 5 + 5 + 3 - 5) 8.\n",
    "\n",
    "If the final score is negative, return 0 (e.g. 3 #s, 3 !!s, 2 !!!s and a X would be (0 + 5 + 5 + 5 - 3 - 3 - 3 - 5 - 5 + 1) -3, so return 0.\n",
    "\n",
    "Examples\n",
    "\n",
    "check_score([\n",
    "  [\"#\", \"!\"],\n",
    "  [\"!!\", \"X\"]\n",
    "]) ➞ 2\n",
    "\n",
    "check_score([\n",
    "  [\"!!!\", \"O\", \"!\"],\n",
    "  [\"X\", \"#\", \"!!!\"],\n",
    "  [\"!!\", \"X\", \"O\"]\n",
    "]) ➞ 0"
   ]
  },
  {
   "cell_type": "code",
   "execution_count": 1,
   "id": "complex-allergy",
   "metadata": {},
   "outputs": [],
   "source": [
    "def check_score(lst):\n",
    "    try:\n",
    "        symbols = {\"#\" : 5, \"O\" : 3, \"X\" : 1, \"!\" : -1, \"!!\" : -3, \"!!!\" : -5}\n",
    "        score = sum(symbols[j] for i in lst for j in i)\n",
    "        return score if score > 0 else 0\n",
    "    except Exception as e:\n",
    "        return e"
   ]
  },
  {
   "cell_type": "code",
   "execution_count": 4,
   "id": "efficient-criticism",
   "metadata": {},
   "outputs": [
    {
     "data": {
      "text/plain": [
       "0"
      ]
     },
     "execution_count": 4,
     "metadata": {},
     "output_type": "execute_result"
    }
   ],
   "source": [
    "check_score([[\"!!!\", \"O\", \"!\"],[\"X\", \"#\", \"!!!\"],[\"!!\", \"X\", \"O\"]])"
   ]
  },
  {
   "cell_type": "code",
   "execution_count": 5,
   "id": "controversial-progressive",
   "metadata": {},
   "outputs": [
    {
     "data": {
      "text/plain": [
       "2"
      ]
     },
     "execution_count": 5,
     "metadata": {},
     "output_type": "execute_result"
    }
   ],
   "source": [
    "check_score([\\\n",
    "  [\"#\", \"!\"],\\\n",
    "  [\"!!\", \"X\"]\\\n",
    "])"
   ]
  },
  {
   "cell_type": "markdown",
   "id": "graduate-activity",
   "metadata": {},
   "source": [
    "### 2. Create a function that takes a variable number of arguments, each argument representing the number of items in a group, and returns the number of permutations (combinations) of items that you could get by taking one item from each group.\n",
    "\n",
    "Examples\n",
    "\n",
    "combinations(2, 3) ➞ 6\n",
    "\n",
    "combinations(3, 7, 4) ➞ 84\n",
    "\n",
    "combinations(2, 3, 4, 5) ➞ 120\n"
   ]
  },
  {
   "cell_type": "code",
   "execution_count": 19,
   "id": "mobile-chosen",
   "metadata": {},
   "outputs": [],
   "source": [
    "from functools import reduce\n",
    "def combinations(*args):\n",
    "    return reduce(lambda x,y :x*y, args)"
   ]
  },
  {
   "cell_type": "code",
   "execution_count": 23,
   "id": "functional-momentum",
   "metadata": {},
   "outputs": [
    {
     "data": {
      "text/plain": [
       "84"
      ]
     },
     "execution_count": 23,
     "metadata": {},
     "output_type": "execute_result"
    }
   ],
   "source": [
    "combinations(3, 7, 4)"
   ]
  },
  {
   "cell_type": "code",
   "execution_count": 22,
   "id": "lonely-event",
   "metadata": {},
   "outputs": [
    {
     "data": {
      "text/plain": [
       "120"
      ]
     },
     "execution_count": 22,
     "metadata": {},
     "output_type": "execute_result"
    }
   ],
   "source": [
    "combinations(2, 3, 4, 5)"
   ]
  },
  {
   "cell_type": "markdown",
   "id": "established-floating",
   "metadata": {},
   "source": [
    "### 3. Create a function that takes a string as an argument and returns the Morse code equivalent."
   ]
  },
  {
   "cell_type": "raw",
   "id": "sunset-facing",
   "metadata": {},
   "source": [
    "Examples\n",
    "\n",
    "encode_morse(\"EDABBIT CHALLENGE\") ➞ \". -.. .- -... -... .. -   -.-. .... .- .-.. .-.. . -. --. .\"\n",
    "\n",
    "encode_morse(\"HELP ME !\") ➞ \".... . .-.. .--.   -- .   -.-.--\"\n",
    "\n",
    "This dictionary can be used for coding:\n",
    "\n",
    "char_to_dots = {\n",
    "  'A': '.-', 'B': '-...', 'C': '-.-.', 'D': '-..', 'E': '.', 'F': '..-.',\n",
    "  'G': '--.', 'H': '....', 'I': '..', 'J': '.---', 'K': '-.-', 'L': '.-..',\n",
    "  'M': '--', 'N': '-.', 'O': '---', 'P': '.--.', 'Q': '--.-', 'R': '.-.',\n",
    "  'S': '...', 'T': '-', 'U': '..-', 'V': '...-', 'W': '.--', 'X': '-..-',\n",
    "  'Y': '-.--', 'Z': '--..', ' ': ' ', '0': '-----',\n",
    "  '1': '.----', '2': '..---', '3': '...--', '4': '....-', '5': '.....',\n",
    "  '6': '-....', '7': '--...', '8': '---..', '9': '----.',\n",
    "  '&': '.-...', \"'\": '.----.', '@': '.--.-.', ')': '-.--.-', '(': '-.--.',\n",
    "  ':': '---...', ',': '--..--', '=': '-...-', '!': '-.-.--', '.': '.-.-.-',\n",
    "  '-': '-....-', '+': '.-.-.', '\"': '.-..-.', '?': '..--..', '/': '-..-.'\n",
    "}"
   ]
  },
  {
   "cell_type": "code",
   "execution_count": 1,
   "id": "historic-sentence",
   "metadata": {},
   "outputs": [],
   "source": [
    "char_to_dots = {\n",
    "  'A': '.-', 'B': '-...', 'C': '-.-.', 'D': '-..', 'E': '.', 'F': '..-.',\n",
    "  'G': '--.', 'H': '....', 'I': '..', 'J': '.---', 'K': '-.-', 'L': '.-..',\n",
    "  'M': '--', 'N': '-.', 'O': '---', 'P': '.--.', 'Q': '--.-', 'R': '.-.',\n",
    "  'S': '...', 'T': '-', 'U': '..-', 'V': '...-', 'W': '.--', 'X': '-..-',\n",
    "  'Y': '-.--', 'Z': '--..', ' ': ' ', '0': '-----',\n",
    "  '1': '.----', '2': '..---', '3': '...--', '4': '....-', '5': '.....',\n",
    "  '6': '-....', '7': '--...', '8': '---..', '9': '----.',\n",
    "  '&': '.-...', \"'\": '.----.', '@': '.--.-.', ')': '-.--.-', '(': '-.--.',\n",
    "  ':': '---...', ',': '--..--', '=': '-...-', '!': '-.-.--', '.': '.-.-.-',\n",
    "  '-': '-....-', '+': '.-.-.', '\"': '.-..-.', '?': '..--..', '/': '-..-.'\n",
    "}"
   ]
  },
  {
   "cell_type": "code",
   "execution_count": 10,
   "id": "written-provincial",
   "metadata": {},
   "outputs": [],
   "source": [
    "def encode_morse(string):\n",
    "    try:\n",
    "        return print(*[char_to_dots[i] for i in string])\n",
    "    except Exception as e:\n",
    "        return e"
   ]
  },
  {
   "cell_type": "code",
   "execution_count": 11,
   "id": "advanced-kitty",
   "metadata": {},
   "outputs": [
    {
     "name": "stdout",
     "output_type": "stream",
     "text": [
      ". -.. .- -... -... .. -   -.-. .... .- .-.. .-.. . -. --. .\n"
     ]
    }
   ],
   "source": [
    "encode_morse(\"EDABBIT CHALLENGE\")"
   ]
  },
  {
   "cell_type": "markdown",
   "id": "macro-gregory",
   "metadata": {},
   "source": [
    "#### 4.  Write a function that takes a number and returns True if it's a prime; False otherwise. The number can be 2^64-1 (2 to the power of 63, not XOR). With the standard technique it would be O(2^64-1), which is much too large for the 10 second time limit.\n",
    "\n",
    "Examples\n",
    "\n",
    "prime(7) ➞ True\n",
    "\n",
    "prime(56963) ➞ True\n",
    "\n",
    "prime(5151512515524) ➞ False"
   ]
  },
  {
   "cell_type": "code",
   "execution_count": 22,
   "id": "identical-settlement",
   "metadata": {},
   "outputs": [],
   "source": [
    "def prime(num):\n",
    "    try:\n",
    "        if num <= 1:\n",
    "            return False\n",
    "        elif num == 2:\n",
    "            return True\n",
    "        else:\n",
    "            for i in range(2,num):\n",
    "                if(num % i == 0):\n",
    "                    return False\n",
    "            return True\n",
    "    except Exception as e:\n",
    "        return e"
   ]
  },
  {
   "cell_type": "code",
   "execution_count": 25,
   "id": "unusual-luther",
   "metadata": {},
   "outputs": [
    {
     "data": {
      "text/plain": [
       "True"
      ]
     },
     "execution_count": 25,
     "metadata": {},
     "output_type": "execute_result"
    }
   ],
   "source": [
    "prime(56963)"
   ]
  },
  {
   "cell_type": "code",
   "execution_count": 24,
   "id": "eligible-converter",
   "metadata": {},
   "outputs": [
    {
     "data": {
      "text/plain": [
       "False"
      ]
     },
     "execution_count": 24,
     "metadata": {},
     "output_type": "execute_result"
    }
   ],
   "source": [
    "prime(5151512515524)"
   ]
  },
  {
   "cell_type": "markdown",
   "id": "democratic-telephone",
   "metadata": {},
   "source": [
    "### 5.  Create a function that converts a word to a bitstring and then to a boolean list based on the following criteria:\n",
    "\n",
    "    1. Locate the position of the letter in the English alphabet (from 1 to 26).\n",
    "    2. Odd positions will be represented as 1 and 0 otherwise.\n",
    "    3. Convert the represented positions to boolean values, 1 for True and 0 for False.\n",
    "    4. Store the conversions into an array."
   ]
  },
  {
   "cell_type": "raw",
   "id": "progressive-antibody",
   "metadata": {},
   "source": [
    "Examples\n",
    "\n",
    "to_boolean_list(\"deep\") ➞ [False, True, True, False]\n",
    "# deep converts to 0110\n",
    "# d is the 4th alphabet - 0\n",
    "# e is the 5th alphabet - 1\n",
    "# e is the 5th alphabet - 1\n",
    "# p is the 16th alphabet - 0\n",
    "\n",
    "to_boolean_list(\"loves\") ➞ [False, True, False, True, True]\n",
    "\n",
    "to_boolean_list(\"tesh\") ➞ [False, True, True, False]"
   ]
  },
  {
   "cell_type": "code",
   "execution_count": 44,
   "id": "light-defense",
   "metadata": {},
   "outputs": [],
   "source": [
    "def to_boolean_list(string):\n",
    "    try:    \n",
    "        return [False if ord(i) % 2 == 0 else True for i in string]\n",
    "    except Exception as e:\n",
    "        return e"
   ]
  },
  {
   "cell_type": "code",
   "execution_count": 45,
   "id": "entire-hardware",
   "metadata": {},
   "outputs": [
    {
     "data": {
      "text/plain": [
       "[False, True, True, False]"
      ]
     },
     "execution_count": 45,
     "metadata": {},
     "output_type": "execute_result"
    }
   ],
   "source": [
    "to_boolean_list(\"deep\")"
   ]
  },
  {
   "cell_type": "code",
   "execution_count": 46,
   "id": "viral-briefs",
   "metadata": {},
   "outputs": [
    {
     "data": {
      "text/plain": [
       "[False, True, False, True, True]"
      ]
     },
     "execution_count": 46,
     "metadata": {},
     "output_type": "execute_result"
    }
   ],
   "source": [
    "to_boolean_list(\"loves\")"
   ]
  },
  {
   "cell_type": "code",
   "execution_count": 47,
   "id": "casual-favorite",
   "metadata": {},
   "outputs": [
    {
     "data": {
      "text/plain": [
       "[False, True, True, False]"
      ]
     },
     "execution_count": 47,
     "metadata": {},
     "output_type": "execute_result"
    }
   ],
   "source": [
    "to_boolean_list(\"tesh\")"
   ]
  }
 ],
 "metadata": {
  "kernelspec": {
   "display_name": "Python 3",
   "language": "python",
   "name": "python3"
  },
  "language_info": {
   "codemirror_mode": {
    "name": "ipython",
    "version": 3
   },
   "file_extension": ".py",
   "mimetype": "text/x-python",
   "name": "python",
   "nbconvert_exporter": "python",
   "pygments_lexer": "ipython3",
   "version": "3.8.3"
  }
 },
 "nbformat": 4,
 "nbformat_minor": 5
}
