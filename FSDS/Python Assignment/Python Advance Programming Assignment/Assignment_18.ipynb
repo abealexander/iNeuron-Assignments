{
 "cells": [
  {
   "cell_type": "markdown",
   "id": "material-grace",
   "metadata": {},
   "source": [
    "### 1. A robot has been given a list of movement instructions. Each instruction is either left, right, up or down, followed by a distance to move. The robot starts at [0, 0]. You want to calculate where the robot will end up and return its final position as a list.\n",
    "\n",
    "To illustrate, if the robot is given the following instructions:\n",
    "\n",
    "[\"right 10\", \"up 50\", \"left 30\", \"down 10\"]\n",
    "\n",
    "It will end up 20 left and 40 up from where it started, so we return [-20, 40].\n",
    "\n",
    "Examples\n",
    "\n",
    "track_robot([\"right 10\", \"up 50\", \"left 30\", \"down 10\"]) ➞ [-20, 40]\n",
    "\n",
    "track_robot([]) ➞ [0, 0]\n",
    "\n",
    "If there are no instructions, the robot doesn't move.\n",
    "\n",
    "track_robot([\"right 100\", \"right 100\", \"up 500\", \"up 10000\"]) ➞ [200, 10500]\n",
    "\n",
    "\n",
    "\n",
    "\n",
    "\n",
    "\n",
    "\n"
   ]
  },
  {
   "cell_type": "code",
   "execution_count": 9,
   "id": "exceptional-lesbian",
   "metadata": {},
   "outputs": [],
   "source": [
    "def track_robot(instructions):\n",
    "    try:\n",
    "        movement = {\"left\" : 0, \"right\" : 0, \"up\" : 0, \"down\" : 0}\n",
    "        for path in instructions:\n",
    "            path = path.split(\" \")\n",
    "            movement[path[0]] += int(path[1])\n",
    "        return [-movement[\"left\"] + movement[\"right\"], movement[\"up\"] - movement[\"down\"]]        \n",
    "    except Exception as e:\n",
    "        return e"
   ]
  },
  {
   "cell_type": "code",
   "execution_count": 10,
   "id": "intensive-circuit",
   "metadata": {},
   "outputs": [
    {
     "data": {
      "text/plain": [
       "[-20, 40]"
      ]
     },
     "execution_count": 10,
     "metadata": {},
     "output_type": "execute_result"
    }
   ],
   "source": [
    "track_robot([\"right 10\", \"up 50\", \"left 30\", \"down 10\"])"
   ]
  },
  {
   "cell_type": "code",
   "execution_count": 11,
   "id": "revised-liability",
   "metadata": {},
   "outputs": [
    {
     "data": {
      "text/plain": [
       "[0, 0]"
      ]
     },
     "execution_count": 11,
     "metadata": {},
     "output_type": "execute_result"
    }
   ],
   "source": [
    "track_robot([])"
   ]
  },
  {
   "cell_type": "code",
   "execution_count": 12,
   "id": "liquid-welcome",
   "metadata": {},
   "outputs": [
    {
     "data": {
      "text/plain": [
       "[200, 10500]"
      ]
     },
     "execution_count": 12,
     "metadata": {},
     "output_type": "execute_result"
    }
   ],
   "source": [
    "track_robot([\"right 100\", \"right 100\", \"up 500\", \"up 10000\"])"
   ]
  },
  {
   "cell_type": "markdown",
   "id": "hired-exhaust",
   "metadata": {},
   "source": [
    "### 2. Write a function that will return the longest word in a sentence. In cases where more than one word is found, return the first one.\n",
    "\n",
    "Examples\n",
    "\n",
    "find_longest(\"A thing of beauty is a joy forever.\") ➞ \"forever\"\n",
    "\n",
    "find_longest(\"Forgetfulness is by all means powerless!\") ➞ \"forgetfulness\"\n",
    "\n",
    "find_longest(\"\\\"Strengths\\\" is the longest and most commonly used word that contains only a single vowel.\") ➞ \"strengths\""
   ]
  },
  {
   "cell_type": "code",
   "execution_count": 16,
   "id": "developed-linux",
   "metadata": {},
   "outputs": [],
   "source": [
    "def find_longest(string):\n",
    "    return max(string.split(\" \"), key=len)"
   ]
  },
  {
   "cell_type": "code",
   "execution_count": 17,
   "id": "protective-roberts",
   "metadata": {},
   "outputs": [
    {
     "data": {
      "text/plain": [
       "'forever.'"
      ]
     },
     "execution_count": 17,
     "metadata": {},
     "output_type": "execute_result"
    }
   ],
   "source": [
    "find_longest(\"A thing of beauty is a joy forever.\")"
   ]
  },
  {
   "cell_type": "code",
   "execution_count": 18,
   "id": "caring-encounter",
   "metadata": {},
   "outputs": [
    {
     "data": {
      "text/plain": [
       "'Forgetfulness'"
      ]
     },
     "execution_count": 18,
     "metadata": {},
     "output_type": "execute_result"
    }
   ],
   "source": [
    "find_longest(\"Forgetfulness is by all means powerless!\")"
   ]
  },
  {
   "cell_type": "code",
   "execution_count": 20,
   "id": "ruled-organization",
   "metadata": {},
   "outputs": [
    {
     "data": {
      "text/plain": [
       "'\"Strengths\"'"
      ]
     },
     "execution_count": 20,
     "metadata": {},
     "output_type": "execute_result"
    }
   ],
   "source": [
    "find_longest('''\"Strengths\" is the longest and most commonly used word that contains only a single vowel.''')"
   ]
  },
  {
   "cell_type": "markdown",
   "id": "protective-recovery",
   "metadata": {},
   "source": [
    "### 3. Create a function to check if a candidate is qualified in an imaginary coding interview of an imaginary tech startup.\n",
    "\n",
    "The criteria for a candidate to be qualified in the coding interview is:\n",
    "\n",
    "   1. The candidate should have complete all the questions.\n",
    "   2. The maximum time given to complete the interview is 120 minutes.\n",
    "   3. The maximum time given for very easy questions is 5 minutes each.\n",
    "   4. The maximum time given for easy questions is 10 minutes each.\n",
    "   5. The maximum time given for medium questions is 15 minutes each.\n",
    "   6. The maximum time given for hard questions is 20 minutes each.\n",
    "\n",
    "If all the above conditions are satisfied, return \"qualified\", else return \"disqualified\".\n",
    "\n",
    "You will be given a list of time taken by a candidate to solve a particular question and the total time taken by the candidate to complete the interview.\n",
    "\n",
    "Given a list , in a true condition will always be in the format [very easy, very easy, easy, easy, medium, medium, hard, hard].\n",
    "\n",
    "The maximum time to complete the interview includes a buffer time of 20 minutes."
   ]
  },
  {
   "cell_type": "raw",
   "id": "returning-halifax",
   "metadata": {},
   "source": [
    "Examples\n",
    "\n",
    "interview([5, 5, 10, 10, 15, 15, 20, 20], 120) ➞ \"qualified\"\n",
    "\n",
    "interview([2, 3, 8, 6, 5, 12, 10, 18], 64) ➞  \"qualified\"\n",
    "\n",
    "interview([5, 5, 10, 10, 25, 15, 20, 20], 120) ➞ \"disqualified\"\n",
    "# Exceeded the time limit for a medium question.\n",
    "\n",
    "interview([5, 5, 10, 10, 15, 15, 20], 120) ➞ \"disqualified\"\n",
    "# Did not complete all the questions.\n",
    "\n",
    "interview([5, 5, 10, 10, 15, 15, 20, 20], 130) ➞ \"disqualified\"\n",
    "# Solved all the questions in their respected time limits but exceeded the total time limit of the interview."
   ]
  },
  {
   "cell_type": "code",
   "execution_count": 47,
   "id": "small-prime",
   "metadata": {},
   "outputs": [],
   "source": [
    "def interview(time_taken, total_time):\n",
    "    try:\n",
    "        time_taken.append(total_time)\n",
    "        time_limit = [5, 5, 10, 10, 15, 15, 20, 20, 120]\n",
    "        if all(a<=b for a,b in zip(time_taken, time_limit)):\n",
    "               return \"qualified\"\n",
    "        else: return \"disqualified\"\n",
    "    except Exception as e:\n",
    "        return e"
   ]
  },
  {
   "cell_type": "code",
   "execution_count": 42,
   "id": "supreme-sunset",
   "metadata": {},
   "outputs": [
    {
     "data": {
      "text/plain": [
       "'qualified'"
      ]
     },
     "execution_count": 42,
     "metadata": {},
     "output_type": "execute_result"
    }
   ],
   "source": [
    "interview([5, 5, 10, 10, 15, 15, 20, 20], 120)"
   ]
  },
  {
   "cell_type": "code",
   "execution_count": 44,
   "id": "integrated-saint",
   "metadata": {},
   "outputs": [
    {
     "data": {
      "text/plain": [
       "'qualified'"
      ]
     },
     "execution_count": 44,
     "metadata": {},
     "output_type": "execute_result"
    }
   ],
   "source": [
    "interview([2, 3, 8, 6, 5, 12, 10, 18], 64)"
   ]
  },
  {
   "cell_type": "code",
   "execution_count": 45,
   "id": "orange-commissioner",
   "metadata": {},
   "outputs": [
    {
     "data": {
      "text/plain": [
       "'disqualified'"
      ]
     },
     "execution_count": 45,
     "metadata": {},
     "output_type": "execute_result"
    }
   ],
   "source": [
    "interview([5, 5, 10, 10, 25, 15, 20, 20], 120)"
   ]
  },
  {
   "cell_type": "code",
   "execution_count": 46,
   "id": "regulated-procedure",
   "metadata": {},
   "outputs": [
    {
     "data": {
      "text/plain": [
       "'disqualified'"
      ]
     },
     "execution_count": 46,
     "metadata": {},
     "output_type": "execute_result"
    }
   ],
   "source": [
    "interview([5, 5, 10, 10, 15, 15, 20, 20], 130)"
   ]
  },
  {
   "cell_type": "markdown",
   "id": "unnecessary-feeling",
   "metadata": {},
   "source": [
    "### 4. Write a function that divides a list into chunks of size n, where n is the length of each chunk.\n",
    "\n",
    "Examples\n",
    "\n",
    "chunkify([2, 3, 4, 5], 2) ➞ [[2, 3], [4, 5]]\n",
    "\n",
    "chunkify([2, 3, 4, 5, 6], 2) ➞ [[2, 3], [4, 5], [6]]\n",
    "\n",
    "chunkify([2, 3, 4, 5, 6, 7], 3) ➞ [[2, 3, 4], [5, 6, 7]]\n",
    "\n",
    "chunkify([2, 3, 4, 5, 6, 7], 1) ➞ [[2], [3], [4], [5], [6], [7]]\n",
    "\n",
    "chunkify([2, 3, 4, 5, 6, 7], 7) ➞ [[2, 3, 4, 5, 6, 7]]"
   ]
  },
  {
   "cell_type": "code",
   "execution_count": 53,
   "id": "altered-reference",
   "metadata": {},
   "outputs": [],
   "source": [
    "def chunkify(lst, n):\n",
    "    return [lst[i:i+n] for i in range(0,len(lst),n)]"
   ]
  },
  {
   "cell_type": "code",
   "execution_count": 54,
   "id": "first-organizer",
   "metadata": {},
   "outputs": [
    {
     "data": {
      "text/plain": [
       "[[2, 3], [4, 5]]"
      ]
     },
     "execution_count": 54,
     "metadata": {},
     "output_type": "execute_result"
    }
   ],
   "source": [
    "chunkify([2, 3, 4, 5], 2)"
   ]
  },
  {
   "cell_type": "code",
   "execution_count": 55,
   "id": "dress-wallet",
   "metadata": {},
   "outputs": [
    {
     "data": {
      "text/plain": [
       "[[2, 3], [4, 5], [6]]"
      ]
     },
     "execution_count": 55,
     "metadata": {},
     "output_type": "execute_result"
    }
   ],
   "source": [
    "chunkify([2, 3, 4, 5, 6], 2)"
   ]
  },
  {
   "cell_type": "code",
   "execution_count": 56,
   "id": "according-gabriel",
   "metadata": {},
   "outputs": [
    {
     "data": {
      "text/plain": [
       "[[2, 3, 4], [5, 6, 7]]"
      ]
     },
     "execution_count": 56,
     "metadata": {},
     "output_type": "execute_result"
    }
   ],
   "source": [
    "chunkify([2, 3, 4, 5, 6, 7], 3)"
   ]
  },
  {
   "cell_type": "code",
   "execution_count": 57,
   "id": "spare-suspect",
   "metadata": {},
   "outputs": [
    {
     "data": {
      "text/plain": [
       "[[2], [3], [4], [5], [6], [7]]"
      ]
     },
     "execution_count": 57,
     "metadata": {},
     "output_type": "execute_result"
    }
   ],
   "source": [
    "chunkify([2, 3, 4, 5, 6, 7], 1) "
   ]
  },
  {
   "cell_type": "code",
   "execution_count": 58,
   "id": "original-mailman",
   "metadata": {},
   "outputs": [
    {
     "data": {
      "text/plain": [
       "[[2, 3, 4, 5, 6, 7]]"
      ]
     },
     "execution_count": 58,
     "metadata": {},
     "output_type": "execute_result"
    }
   ],
   "source": [
    "chunkify([2, 3, 4, 5, 6, 7], 7)"
   ]
  },
  {
   "cell_type": "markdown",
   "id": "informative-vector",
   "metadata": {},
   "source": [
    "### 5. You are given a list of strings consisting of grocery items, with prices in parentheses. Return a list of prices in float format."
   ]
  },
  {
   "cell_type": "raw",
   "id": "pressing-jacket",
   "metadata": {},
   "source": [
    "Examples\n",
    "\n",
    "get_prices([\"salad ($4.99)\"]) ➞ [4.99]\n",
    "\n",
    "get_prices([\n",
    "  \"artichokes ($1.99)\",\n",
    "  \"rotiserrie chicken ($5.99)\",\n",
    "  \"gum ($0.75)\"\n",
    "])\n",
    "\n",
    "➞ [1.99, 5.99, 0.75]\n",
    "\n",
    "get_prices([\n",
    "  \"ice cream ($5.99)\",\n",
    "  \"banana ($0.20)\",\n",
    "  \"sandwich ($8.50)\",\n",
    "  \"soup ($1.99)\"\n",
    "])\n",
    "\n",
    "➞ [5.99, 0.2, 8.50, 1.99]"
   ]
  },
  {
   "cell_type": "code",
   "execution_count": 69,
   "id": "requested-bosnia",
   "metadata": {},
   "outputs": [],
   "source": [
    "import re\n",
    "def get_prices(price_list):\n",
    "    price = []\n",
    "    pattern = re.compile(\"\\(\\$([0-9]*\\.[0-9]*)\\)\")\n",
    "    for i in price_list:\n",
    "        results = re.findall(pattern, i)\n",
    "        price.append(float(results[0]))\n",
    "    print(price)"
   ]
  },
  {
   "cell_type": "code",
   "execution_count": 71,
   "id": "global-phase",
   "metadata": {},
   "outputs": [
    {
     "name": "stdout",
     "output_type": "stream",
     "text": [
      "[4.99]\n"
     ]
    }
   ],
   "source": [
    "get_prices([\"salad ($4.99)\"])"
   ]
  },
  {
   "cell_type": "code",
   "execution_count": 70,
   "id": "recorded-offering",
   "metadata": {},
   "outputs": [
    {
     "name": "stdout",
     "output_type": "stream",
     "text": [
      "[1.99, 5.99, 0.75]\n"
     ]
    }
   ],
   "source": [
    "get_prices([\n",
    "  \"artichokes ($1.99)\",\n",
    "  \"rotiserrie chicken ($5.99)\",\n",
    "  \"gum ($0.75)\"\n",
    "])"
   ]
  },
  {
   "cell_type": "code",
   "execution_count": 72,
   "id": "creative-protocol",
   "metadata": {},
   "outputs": [
    {
     "name": "stdout",
     "output_type": "stream",
     "text": [
      "[5.99, 0.2, 8.5, 1.99]\n"
     ]
    }
   ],
   "source": [
    "get_prices([\n",
    "  \"ice cream ($5.99)\",\n",
    "  \"banana ($0.20)\",\n",
    "  \"sandwich ($8.50)\",\n",
    "  \"soup ($1.99)\"\n",
    "])"
   ]
  }
 ],
 "metadata": {
  "kernelspec": {
   "display_name": "Python 3",
   "language": "python",
   "name": "python3"
  },
  "language_info": {
   "codemirror_mode": {
    "name": "ipython",
    "version": 3
   },
   "file_extension": ".py",
   "mimetype": "text/x-python",
   "name": "python",
   "nbconvert_exporter": "python",
   "pygments_lexer": "ipython3",
   "version": "3.8.3"
  }
 },
 "nbformat": 4,
 "nbformat_minor": 5
}
