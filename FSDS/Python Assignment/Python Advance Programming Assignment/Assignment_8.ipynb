{
 "cells": [
  {
   "cell_type": "markdown",
   "id": "velvet-guitar",
   "metadata": {},
   "source": [
    "### 1. Given a sentence as txt, return True if any two adjacent words have this property: One word ends with a vowel, while the word immediately after begins with a vowel (a e i o u).\n",
    "\n",
    "Examples\n",
    "\n",
    "vowel_links(\"a very large appliance\") ➞ True\n",
    "\n",
    "vowel_links(\"go to edabit\") ➞ True\n",
    "\n",
    "vowel_links(\"an open fire\") ➞ False\n",
    "\n",
    "vowel_links(\"a sudden applause\") ➞ False"
   ]
  },
  {
   "cell_type": "code",
   "execution_count": 52,
   "id": "jewish-leone",
   "metadata": {},
   "outputs": [],
   "source": [
    "def vowel_links(str):\n",
    "    words = str.split(\" \")\n",
    "    vowels = [\"a\", \"e\", \"i\", \"o\", \"u\"]\n",
    "    for i in range(0,len(words)-1):\n",
    "        \n",
    "        if words[i][-1] in vowels and words[i+1][0] in vowels:\n",
    "            return True\n",
    "    else: return False"
   ]
  },
  {
   "cell_type": "code",
   "execution_count": 53,
   "id": "infinite-nation",
   "metadata": {},
   "outputs": [
    {
     "data": {
      "text/plain": [
       "True"
      ]
     },
     "execution_count": 53,
     "metadata": {},
     "output_type": "execute_result"
    }
   ],
   "source": [
    "vowel_links(\"a very large appliance\")"
   ]
  },
  {
   "cell_type": "code",
   "execution_count": 54,
   "id": "about-conservation",
   "metadata": {},
   "outputs": [
    {
     "data": {
      "text/plain": [
       "False"
      ]
     },
     "execution_count": 54,
     "metadata": {},
     "output_type": "execute_result"
    }
   ],
   "source": [
    "vowel_links(\"an open fire\")"
   ]
  },
  {
   "cell_type": "markdown",
   "id": "collect-configuration",
   "metadata": {},
   "source": [
    "### 2. You are given three inputs: a string, one letter, and a second letter. Write a function that returns True if every instance of the first letter occurs before every instance of the second letter."
   ]
  },
  {
   "cell_type": "raw",
   "id": "mineral-silver",
   "metadata": {},
   "source": [
    "Examples\n",
    "\n",
    "first_before_second(\"a rabbit jumps joyfully\", \"a\", \"j\") ➞ True\n",
    "# Every instance of \"a\" occurs before every instance of \"j\".\n",
    "\n",
    "first_before_second(\"knaves knew about waterfalls\", \"k\", \"w\") ➞  True\n",
    "\n",
    "first_before_second(\"happy birthday\", \"a\", \"y\") ➞ False\n",
    "# The \"a\" in \"birthday\" occurs after the \"y\" in \"happy\".\n",
    "\n",
    "first_before_second(\"precarious kangaroos\", \"k\", \"a\") ➞ False"
   ]
  },
  {
   "cell_type": "code",
   "execution_count": 57,
   "id": "celtic-newman",
   "metadata": {},
   "outputs": [],
   "source": [
    "def first_before_second(string, first_letter, second_letter):\n",
    "    if first_letter in string[string.index(second_letter):]:\n",
    "        return False\n",
    "    else: return True"
   ]
  },
  {
   "cell_type": "code",
   "execution_count": 58,
   "id": "expanded-humor",
   "metadata": {},
   "outputs": [
    {
     "data": {
      "text/plain": [
       "True"
      ]
     },
     "execution_count": 58,
     "metadata": {},
     "output_type": "execute_result"
    }
   ],
   "source": [
    "first_before_second(\"knaves knew about waterfalls\", \"k\", \"w\")"
   ]
  },
  {
   "cell_type": "code",
   "execution_count": 59,
   "id": "closing-explanation",
   "metadata": {},
   "outputs": [
    {
     "data": {
      "text/plain": [
       "False"
      ]
     },
     "execution_count": 59,
     "metadata": {},
     "output_type": "execute_result"
    }
   ],
   "source": [
    "first_before_second(\"happy birthday\", \"a\", \"y\")"
   ]
  },
  {
   "cell_type": "markdown",
   "id": "violent-limit",
   "metadata": {},
   "source": [
    "### 3. Create a function that returns the characters from a list or string r on odd or even positions, depending on the specifier s. The specifier will be \"odd\" for items on odd positions (1, 3, 5, ...) and \"even\" for items on even positions (2, 4, 6, ...)."
   ]
  },
  {
   "cell_type": "raw",
   "id": "informational-saudi",
   "metadata": {},
   "source": [
    "Examples\n",
    "\n",
    "char_at_pos([2, 4, 6, 8, 10], \"even\") ➞ [4, 8]\n",
    "# 4 & 8 occupy the 2nd & 4th positions\n",
    "\n",
    "char_at_pos(\"EDABIT\", \"odd\") ➞ \"EAI\"\n",
    "# \"E\", \"A\" and \"I\" occupy the 1st, 3rd and 5th positions\n",
    "\n",
    "char_at_pos([\"A\", \"R\", \"B\", \"I\", \"T\", \"R\", \"A\", \"R\", \"I\", \"L\", \"Y\"], \"odd\") ➞ [\"A\", \"B\", \"T\", \"A\", \"I\", \"Y\"]"
   ]
  },
  {
   "cell_type": "code",
   "execution_count": 141,
   "id": "spanish-momentum",
   "metadata": {},
   "outputs": [],
   "source": [
    "def char_at_pos(lst, position):\n",
    "    try:\n",
    "        temp = []\n",
    "        for i in range(1,len(lst)+1):\n",
    "            if i%2==0 and position == \"even\":\n",
    "                temp.append(lst[i-1])\n",
    "            elif i%2!=0 and position==\"odd\":\n",
    "                 temp.append(lst[i-1])\n",
    "        return temp\n",
    "    except Exception as e:\n",
    "        return e"
   ]
  },
  {
   "cell_type": "code",
   "execution_count": 144,
   "id": "resident-accommodation",
   "metadata": {},
   "outputs": [
    {
     "data": {
      "text/plain": [
       "['A', 'B', 'T', 'A', 'I', 'Y']"
      ]
     },
     "execution_count": 144,
     "metadata": {},
     "output_type": "execute_result"
    }
   ],
   "source": [
    "char_at_pos([\"A\", \"R\", \"B\", \"I\", \"T\", \"R\", \"A\", \"R\", \"I\", \"L\", \"Y\"], \"odd\")"
   ]
  },
  {
   "cell_type": "markdown",
   "id": "invisible-observation",
   "metadata": {},
   "source": [
    "### 4. Write a function that returns the greatest common divisor of all list elements. If the greatest common divisor is 1, return 1.\n",
    "\n",
    "Examples\n",
    "\n",
    "GCD([10, 20, 40]) ➞ 10\n",
    "\n",
    "GCD([1, 2, 3, 100]) ➞ 1\n",
    "\n",
    "GCD([1024, 192, 2048, 512]) ➞ 64"
   ]
  },
  {
   "cell_type": "code",
   "execution_count": 149,
   "id": "mineral-replication",
   "metadata": {},
   "outputs": [],
   "source": [
    "from functools import reduce\n",
    "def GCD (lst):\n",
    "    temp = lambda a,b: a if b==0 else temp(b,a%b)\n",
    "    return reduce(lambda x,y :temp(x,y), lst)"
   ]
  },
  {
   "cell_type": "code",
   "execution_count": 150,
   "id": "straight-health",
   "metadata": {},
   "outputs": [
    {
     "data": {
      "text/plain": [
       "64"
      ]
     },
     "execution_count": 150,
     "metadata": {},
     "output_type": "execute_result"
    }
   ],
   "source": [
    "GCD([1024, 192, 2048, 512])"
   ]
  },
  {
   "cell_type": "markdown",
   "id": "gross-advancement",
   "metadata": {},
   "source": [
    "### 5. A number/string is a palindrome if the digits/characters are the same when read both forward and backward. Examples include \"racecar\" and 12321. Given a positive number n, check if n or the binary representation of n is palindromic. Return the following:"
   ]
  },
  {
   "cell_type": "raw",
   "id": "loaded-quarterly",
   "metadata": {},
   "source": [
    "- \"Decimal only.\" if only n is a palindrome.\n",
    "- \"Binary only.\" if only the binary representation of n is a palindrome.\n",
    "- \"Decimal and binary.\" if both are palindromes.\n",
    "- \"Neither!\" if neither are palindromes.\n",
    "\n",
    "Examples\n",
    "\n",
    "palindrome_type(1306031) ➞ \"Decimal only.\"\n",
    "# decimal = 1306031\n",
    "# binary  = \"100111110110110101111\"\n",
    "\n",
    "palindrome_type(427787) ➞ \"Binary only.\"\n",
    "# decimal = 427787\n",
    "# binary  = \"1101000011100001011\"\n",
    "\n",
    "palindrome_type(313) ➞ \"Decimal and binary.\"\n",
    "# decimal = 313\n",
    "# binary  = 100111001\n",
    "\n",
    "palindrome_type(934) ➞ \"Neither!\"\n",
    "# decimal = 934\n",
    "# binary  = \"1110100110\""
   ]
  },
  {
   "cell_type": "code",
   "execution_count": 186,
   "id": "adapted-irish",
   "metadata": {},
   "outputs": [],
   "source": [
    "def palindrome_type(num):\n",
    "    decimal_palindrome = str(num) == str(num)[::-1]\n",
    "    binary_palindrome = str(bin(num)[2:]) == str(bin(num)[2:])[::-1]\n",
    "    if decimal_palindrome == True and binary_palindrome == True:\n",
    "        return \"Decimal and binary\"\n",
    "    elif binary_palindrome == True:\n",
    "        return \"Binary Only\"\n",
    "    elif decimal_palindrome == True:\n",
    "        return \"Decimal Only\"\n",
    "    else: return \"Neither!\""
   ]
  },
  {
   "cell_type": "code",
   "execution_count": 187,
   "id": "realistic-copper",
   "metadata": {},
   "outputs": [
    {
     "data": {
      "text/plain": [
       "'Decimal Only'"
      ]
     },
     "execution_count": 187,
     "metadata": {},
     "output_type": "execute_result"
    }
   ],
   "source": [
    "palindrome_type(1306031)"
   ]
  },
  {
   "cell_type": "code",
   "execution_count": 188,
   "id": "bearing-incentive",
   "metadata": {},
   "outputs": [
    {
     "data": {
      "text/plain": [
       "'Binary Only'"
      ]
     },
     "execution_count": 188,
     "metadata": {},
     "output_type": "execute_result"
    }
   ],
   "source": [
    "palindrome_type(427787)"
   ]
  },
  {
   "cell_type": "code",
   "execution_count": 189,
   "id": "increasing-factory",
   "metadata": {},
   "outputs": [
    {
     "data": {
      "text/plain": [
       "'Decimal and binary'"
      ]
     },
     "execution_count": 189,
     "metadata": {},
     "output_type": "execute_result"
    }
   ],
   "source": [
    "palindrome_type(313)"
   ]
  },
  {
   "cell_type": "code",
   "execution_count": 190,
   "id": "downtown-champion",
   "metadata": {},
   "outputs": [
    {
     "data": {
      "text/plain": [
       "'Neither!'"
      ]
     },
     "execution_count": 190,
     "metadata": {},
     "output_type": "execute_result"
    }
   ],
   "source": [
    "palindrome_type(934)"
   ]
  }
 ],
 "metadata": {
  "kernelspec": {
   "display_name": "Python 3",
   "language": "python",
   "name": "python3"
  },
  "language_info": {
   "codemirror_mode": {
    "name": "ipython",
    "version": 3
   },
   "file_extension": ".py",
   "mimetype": "text/x-python",
   "name": "python",
   "nbconvert_exporter": "python",
   "pygments_lexer": "ipython3",
   "version": "3.8.3"
  }
 },
 "nbformat": 4,
 "nbformat_minor": 5
}
