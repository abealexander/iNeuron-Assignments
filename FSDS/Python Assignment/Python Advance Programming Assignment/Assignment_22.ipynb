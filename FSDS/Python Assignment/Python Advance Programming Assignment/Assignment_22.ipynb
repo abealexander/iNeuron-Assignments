{
 "cells": [
  {
   "cell_type": "markdown",
   "id": "worse-decline",
   "metadata": {},
   "source": [
    "### 1. Create a class Smoothie and do the following:\n",
    "\n",
    "    - Create an instance attribute called ingredients.\n",
    "    - Create a get_cost method which calculates the total cost of the ingredients used to make the smoothie.\n",
    "    - Create a get_price method which returns the number from get_cost plus the number from get_cost multiplied by 1.5. Round to two decimal places.\n",
    "    - Create a get_name method which gets the ingredients and puts them in alphabetical order into a nice descriptive sentence. If there are multiple ingredients, add the word \"Fusion\" to the end but otherwise, add \"Smoothie\". Remember to change \"-berries\" to \"-berry\". See the examples below."
   ]
  },
  {
   "cell_type": "raw",
   "id": "alert-saudi",
   "metadata": {},
   "source": [
    "Ingredient\t   Price\n",
    "Strawberries   $1.50\n",
    "Banana\t       $0.50\n",
    "Mango\t       $2.50\n",
    "Blueberries\t   $1.00\n",
    "Raspberries\t   $1.00\n",
    "Apple\t       $1.75\n",
    "Pineapple\t   $3.50\n",
    "\n",
    "Examples\n",
    "\n",
    "s1 = Smoothie([\"Banana\"])\n",
    "\n",
    "s1.ingredients ➞ [\"Banana\"]\n",
    "\n",
    "s1.get_cost() ➞ \"$0.50\"\n",
    "\n",
    "s1.get_price() ➞ \"$1.25\"\n",
    "\n",
    "s1.get_name() ➞ \"Banana Smoothie\"\n",
    "\n",
    "s2 = Smoothie([\"Raspberries\", \"Strawberries\", \"Blueberries\"])\n",
    "\n",
    "s2.ingredients ➞ [\"Raspberries\", \"Strawberries\", \"Blueberries\"]\n",
    "\n",
    "s2.get_cost() ➞ \"$3.50\"\n",
    "\n",
    "s2.get_price() ➞ \"$8.75\"\n",
    "\n",
    "s2.get_name() ➞ \"Blueberry Raspberry Strawberry Fusion\""
   ]
  },
  {
   "cell_type": "code",
   "execution_count": 21,
   "id": "vulnerable-transcript",
   "metadata": {},
   "outputs": [],
   "source": [
    "cost = {\n",
    "  \"Strawberries\" : \"$1.50\",\n",
    "  \"Banana\" : \"$0.50\",\n",
    "  \"Mango\" : \"$2.50\",\n",
    "  \"Blueberries\" : \"$1.00\",\n",
    "  \"Raspberries\" : \"$1.00\",\n",
    "  \"Apple\" : \"$1.75\",\n",
    "  \"Pineapple\" : \"$3.50\"\n",
    "  }\n",
    "class Smoothie:\n",
    "    def __init__(self, ingredients):\n",
    "        self.ingredients = ingredients\n",
    "    \n",
    "    def get_cost(self):\n",
    "        return sum([float(cost[i].lstrip('$')) for i in self.ingredients])\n",
    "    \n",
    "    def get_price(self):\n",
    "        return round(self.get_cost() * 1.5, 2)\n",
    "    \n",
    "    def get_name(self):\n",
    "        return ' '.join(sorted(self.ingredients)).replace('berries', 'berry') + ' Fusion' if len(self.ingredients) > 1 else self.ingredients[0].replace('berries', 'berry') + ' Smoothie'"
   ]
  },
  {
   "cell_type": "code",
   "execution_count": 22,
   "id": "moral-synthesis",
   "metadata": {},
   "outputs": [
    {
     "data": {
      "text/plain": [
       "['Banana']"
      ]
     },
     "execution_count": 22,
     "metadata": {},
     "output_type": "execute_result"
    }
   ],
   "source": [
    "s1 = Smoothie([\"Banana\"])\n",
    "s1.ingredients"
   ]
  },
  {
   "cell_type": "code",
   "execution_count": 23,
   "id": "portuguese-sullivan",
   "metadata": {},
   "outputs": [
    {
     "data": {
      "text/plain": [
       "0.5"
      ]
     },
     "execution_count": 23,
     "metadata": {},
     "output_type": "execute_result"
    }
   ],
   "source": [
    "s1.get_cost()"
   ]
  },
  {
   "cell_type": "code",
   "execution_count": 24,
   "id": "productive-stationery",
   "metadata": {},
   "outputs": [
    {
     "data": {
      "text/plain": [
       "0.75"
      ]
     },
     "execution_count": 24,
     "metadata": {},
     "output_type": "execute_result"
    }
   ],
   "source": [
    "s1.get_price()"
   ]
  },
  {
   "cell_type": "code",
   "execution_count": 25,
   "id": "adolescent-upper",
   "metadata": {},
   "outputs": [
    {
     "data": {
      "text/plain": [
       "'Banana Smoothie'"
      ]
     },
     "execution_count": 25,
     "metadata": {},
     "output_type": "execute_result"
    }
   ],
   "source": [
    "s1.get_name()"
   ]
  },
  {
   "cell_type": "code",
   "execution_count": 27,
   "id": "friendly-exchange",
   "metadata": {},
   "outputs": [
    {
     "data": {
      "text/plain": [
       "['Raspberries', 'Strawberries', 'Blueberries']"
      ]
     },
     "execution_count": 27,
     "metadata": {},
     "output_type": "execute_result"
    }
   ],
   "source": [
    "s2 = Smoothie([\"Raspberries\", \"Strawberries\", \"Blueberries\"])\n",
    "s2.ingredients"
   ]
  },
  {
   "cell_type": "code",
   "execution_count": 28,
   "id": "quality-beach",
   "metadata": {},
   "outputs": [
    {
     "data": {
      "text/plain": [
       "3.5"
      ]
     },
     "execution_count": 28,
     "metadata": {},
     "output_type": "execute_result"
    }
   ],
   "source": [
    "s2.get_cost()"
   ]
  },
  {
   "cell_type": "code",
   "execution_count": 29,
   "id": "decent-louisiana",
   "metadata": {},
   "outputs": [
    {
     "data": {
      "text/plain": [
       "5.25"
      ]
     },
     "execution_count": 29,
     "metadata": {},
     "output_type": "execute_result"
    }
   ],
   "source": [
    "s2.get_price()"
   ]
  },
  {
   "cell_type": "code",
   "execution_count": 30,
   "id": "alive-uruguay",
   "metadata": {},
   "outputs": [
    {
     "data": {
      "text/plain": [
       "'Blueberry Raspberry Strawberry Fusion'"
      ]
     },
     "execution_count": 30,
     "metadata": {},
     "output_type": "execute_result"
    }
   ],
   "source": [
    "s2.get_name()"
   ]
  },
  {
   "cell_type": "markdown",
   "id": "dirty-sport",
   "metadata": {},
   "source": [
    "### 2. Your task is to write a program which allows teachers to create a multiple choice test in a class called Testpaper and to be also able to assign a minimum pass mark. The testpaper's subject should also be included. The attributes are in the following order:\n",
    "\n",
    "  1. subject\n",
    "  2. markscheme\n",
    "  3. pass_mark\n",
    "\n",
    "As well as that, we need to create student objects to take the test itself! Create another class called Student and do the following:\n",
    "\n",
    "  - Create an attribute called tests_taken and set the default as 'No tests taken'.\n",
    "  - Make a method called take_test(), which takes in the testpaper object they are completing and the student's answers. Compare what they wrote to the mark scheme, and append to the/create a dictionary assigned to tests_taken in the way as shown in the point below.\n",
    "  - Each key in the dictionary should be the testpaper subject and each value should be a string in the format seen in the examples below (whether or not the student has failed, and their percentage in brackets)."
   ]
  },
  {
   "cell_type": "raw",
   "id": "ancient-andorra",
   "metadata": {},
   "source": [
    "Examples\n",
    "\n",
    "paper1 = Testpaper(\"Maths\", [\"1A\", \"2C\", \"3D\", \"4A\", \"5A\"], \"60%\")\n",
    "paper2 = Testpaper(\"Chemistry\", [\"1C\", \"2C\", \"3D\", \"4A\"], \"75%\")\n",
    "paper3 = Testpaper(\"Computing\", [\"1D\", \"2C\", \"3C\", \"4B\", \"5D\", \"6C\", \"7A\"], \"75%\")\n",
    "\n",
    "student1 = Student()\n",
    "student2 = Student()\n",
    "\n",
    "student1.tests_taken ➞ \"No tests taken\"\n",
    "student1.take_test(paper1, [\"1A\", \"2D\", \"3D\", \"4A\", \"5A\"])\n",
    "student1.tests_taken ➞ {\"Maths\" : \"Passed! (80%)\"}\n",
    "\n",
    "student2.take_test(paper2, [\"1C\", \"2D\", \"3A\", \"4C\"])\n",
    "student2.take_test(paper3, [\"1A\", \"2C\", \"3A\", \"4C\", \"5D\", \"6C\", \"7B\"])\n",
    "student2.tests_taken ➞ {\"Chemistry\" : \"Failed! (25%)\", \"Computing\" : \"Failed! (43%)\"}"
   ]
  },
  {
   "cell_type": "code",
   "execution_count": 114,
   "id": "capital-producer",
   "metadata": {},
   "outputs": [],
   "source": [
    "class Testpaper:\n",
    "    def __init__(self, subject, markscheme, pass_mark):\n",
    "        self.subject = subject\n",
    "        self.markscheme = markscheme\n",
    "        self.pass_mark = pass_mark\n",
    "    \n",
    "class Student:\n",
    "    def __init__(self):\n",
    "        self.tests_taken = \"No tests taken\"\n",
    "        \n",
    "    def take_test(self, paper, answers):\n",
    "        subject, markscheme, pass_mark = paper.subject, paper.markscheme, paper.pass_mark\n",
    "        score = round(sum([1 if markscheme[i] == answers[i] else 0 for i in range(len(answers))])/len(answers) * 100)\n",
    "        results = \"Passed!\" if score >= float(pass_mark.rstrip(\"%\")) else \"Failed!\"\n",
    "        if type(self.tests_taken) == str:\n",
    "            self.tests_taken = {}\n",
    "        self.tests_taken[subject] = results + \" (\" + str(score) + \"%)\""
   ]
  },
  {
   "cell_type": "code",
   "execution_count": 115,
   "id": "expected-chair",
   "metadata": {},
   "outputs": [],
   "source": [
    "paper1 = Testpaper(\"Maths\", [\"1A\", \"2C\", \"3D\", \"4A\", \"5A\"], \"60%\")\n",
    "paper2 = Testpaper(\"Chemistry\", [\"1C\", \"2C\", \"3D\", \"4A\"], \"75%\")\n",
    "paper3 = Testpaper(\"Computing\", [\"1D\", \"2C\", \"3C\", \"4B\", \"5D\", \"6C\", \"7A\"], \"75%\")"
   ]
  },
  {
   "cell_type": "code",
   "execution_count": 116,
   "id": "revised-huntington",
   "metadata": {},
   "outputs": [],
   "source": [
    "student1 = Student()\n",
    "student2 = Student()"
   ]
  },
  {
   "cell_type": "code",
   "execution_count": 117,
   "id": "czech-hawaiian",
   "metadata": {},
   "outputs": [
    {
     "data": {
      "text/plain": [
       "'No tests taken'"
      ]
     },
     "execution_count": 117,
     "metadata": {},
     "output_type": "execute_result"
    }
   ],
   "source": [
    "student1.tests_taken"
   ]
  },
  {
   "cell_type": "code",
   "execution_count": 118,
   "id": "matched-night",
   "metadata": {},
   "outputs": [],
   "source": [
    "student1.take_test(paper1, [\"1A\", \"2D\", \"3D\", \"4A\", \"5A\"])"
   ]
  },
  {
   "cell_type": "code",
   "execution_count": 119,
   "id": "composed-simon",
   "metadata": {},
   "outputs": [
    {
     "data": {
      "text/plain": [
       "{'Maths': 'Passed! (80%)'}"
      ]
     },
     "execution_count": 119,
     "metadata": {},
     "output_type": "execute_result"
    }
   ],
   "source": [
    "student1.tests_taken"
   ]
  },
  {
   "cell_type": "code",
   "execution_count": 120,
   "id": "artificial-boost",
   "metadata": {},
   "outputs": [
    {
     "data": {
      "text/plain": [
       "{'Chemistry': 'Failed! (25%)', 'Computing': 'Failed! (43%)'}"
      ]
     },
     "execution_count": 120,
     "metadata": {},
     "output_type": "execute_result"
    }
   ],
   "source": [
    "student2.take_test(paper2, [\"1C\", \"2D\", \"3A\", \"4C\"])\n",
    "student2.take_test(paper3, [\"1A\", \"2C\", \"3A\", \"4C\", \"5D\", \"6C\", \"7B\"])\n",
    "student2.tests_taken"
   ]
  },
  {
   "cell_type": "markdown",
   "id": "seventh-clock",
   "metadata": {},
   "source": [
    "### 3. Due to unforseen circumstances in Suburbia, the trains will be delayed by a further 10 minutes.\n",
    "\n",
    "Create a function that will help to plan out and manage these delays! Create a function called manage_delays that does the following:\n",
    "\n",
    "   - Parameters will be the train object, a destination and number of minutes the delay is.\n",
    "   - Increment to the train object's expected_time by the delay, if the destination given is in the train object's destinations."
   ]
  },
  {
   "cell_type": "raw",
   "id": "referenced-thursday",
   "metadata": {},
   "source": [
    "Examples\n",
    "\n",
    "trains = [\n",
    "  Train([\"Townsville\", \"Suburbia\", \"Urbantska\"], \"13:04\"),\n",
    "  Train([\"Farmsdale\", \"Suburbia\", \"Lakeside Valley\"], \"13:20\"),\n",
    "  Train([\"Suburbia\", \"Townsville\", \"Lakeside Valley\"], \"13:22\")\n",
    "]\n",
    "\n",
    "for t in trains:\n",
    "    manage_delays(t, \"Lakeside Valley\", 60)\n",
    "\n",
    "trains[0].expected_time ➞ \"13:04\"\n",
    "\n",
    "trains[1].expected_time ➞ \"14:20\"\n",
    "\n",
    "trains[2].expected_time ➞ \"14:22\""
   ]
  },
  {
   "cell_type": "code",
   "execution_count": 126,
   "id": "polished-browser",
   "metadata": {},
   "outputs": [],
   "source": [
    "class Train:\n",
    "    def __init__(self, destinations, expected_time):\n",
    "        self.destinations = destinations\n",
    "        self.expected_time = expected_time"
   ]
  },
  {
   "cell_type": "code",
   "execution_count": 150,
   "id": "ranging-anatomy",
   "metadata": {},
   "outputs": [],
   "source": [
    "from datetime import datetime, timedelta\n",
    "\n",
    "def manage_delays(train, destination, delay):\n",
    "    try:\n",
    "        if destination in train.destinations:\n",
    "            train.expected_time = (datetime.strptime(train.expected_time, '%H:%M') + timedelta(minutes=delay)).strftime('%H:%M')\n",
    "    except Exception as e:\n",
    "        return e"
   ]
  },
  {
   "cell_type": "code",
   "execution_count": 151,
   "id": "curious-filter",
   "metadata": {},
   "outputs": [],
   "source": [
    "trains = [\n",
    "  Train([\"Townsville\", \"Suburbia\", \"Urbantska\"], \"13:04\"),\n",
    "  Train([\"Farmsdale\", \"Suburbia\", \"Lakeside Valley\"], \"13:20\"),\n",
    "  Train([\"Suburbia\", \"Townsville\", \"Lakeside Valley\"], \"13:22\")\n",
    "]\n",
    "\n",
    "for t in trains:\n",
    "    manage_delays(t, \"Lakeside Valley\", 60)"
   ]
  },
  {
   "cell_type": "code",
   "execution_count": 152,
   "id": "bronze-valuation",
   "metadata": {},
   "outputs": [
    {
     "data": {
      "text/plain": [
       "'13:04'"
      ]
     },
     "execution_count": 152,
     "metadata": {},
     "output_type": "execute_result"
    }
   ],
   "source": [
    "trains[0].expected_time"
   ]
  },
  {
   "cell_type": "code",
   "execution_count": 153,
   "id": "comfortable-density",
   "metadata": {},
   "outputs": [
    {
     "data": {
      "text/plain": [
       "'14:20'"
      ]
     },
     "execution_count": 153,
     "metadata": {},
     "output_type": "execute_result"
    }
   ],
   "source": [
    "trains[1].expected_time"
   ]
  },
  {
   "cell_type": "code",
   "execution_count": 154,
   "id": "indonesian-truth",
   "metadata": {},
   "outputs": [
    {
     "data": {
      "text/plain": [
       "'14:22'"
      ]
     },
     "execution_count": 154,
     "metadata": {},
     "output_type": "execute_result"
    }
   ],
   "source": [
    "trains[2].expected_time"
   ]
  },
  {
   "cell_type": "markdown",
   "id": "chicken-money",
   "metadata": {},
   "source": [
    "### 4. Ted works as a computer programmer at Minecraft Inc. His boss has just given him an important assignment to update the code for the minecart tracks by the end of April. However, he has recently had to self-isolate due to Corvid-19 and has left the code for the tracks BACK AT WORK!! He has the shorthand for the tracks he's supposed to look at, and where the carts are suppost to end up, but not the actual code.\n",
    "\n",
    "He knows that:\n",
    "\n",
    "  1. \"-->\" = \"Speed-Up Track\" ⁠— If a minecart interacts with this track, it's velocity increases by 2.67 BPS unless it's at its maximum speed of 8 BPS.\n",
    "  2. \"<-->\" = \"Powered Track\" ⁠— If a minecart interacts with this track, it's velocity remains the same.\n",
    "  3. \"<--\" = \"Slow-Down Track\" ⁠— If a minecart interacts with this track, it's velocity decreases by 2.67 BPS unless it's velocity equals 0, at which point it stops.\n",
    "  4. \"---\" = \"Unpowered Track\" ⁠— If a minecart interacts with this track, it's velocity decreases by 1 BPS unless it's velocity equals 0, at which point it stops.\n",
    "\n",
    " Help Ted by writing a class for the tracks that interact with the provided Minecart class as shown above. And then write a function that will take a list of the shorthand tracks and:\n",
    "\n",
    "   - If the Minecart reaches the last peice of Track, return True.\n",
    "   - Else return the index of the Track where the Minecart stops.\n",
    "\n",
    "Examples\n",
    "\n",
    "mine_run([\"-->\", \"-->\", \"-->\", \"<--\", \"<--\", \"<--\"]) ➞ True\n",
    "\n",
    "mine_run([\"-->\", \"<--\", \"-->\", \"-->\", \"<-->\", \"---\"]) ➞ 1"
   ]
  },
  {
   "cell_type": "code",
   "execution_count": 204,
   "id": "weird-carroll",
   "metadata": {},
   "outputs": [],
   "source": [
    "class Game:\n",
    "    def __init__(self):\n",
    "        self.v = 0\n",
    "    def mine_run(self, tracks):\n",
    "        try:\n",
    "            self.tracks = tracks\n",
    "            for i in range(len(self.tracks)):\n",
    "                if self.tracks[i] == \"-->\":\n",
    "                    self.v = min(self.v + 2.67, 8)\n",
    "                elif self.tracks[i] == \"<--\":\n",
    "                    self.v = max(0, self.v - 2.67)\n",
    "                elif self.tracks[i] == \"---\":\n",
    "                    self.v = max(0, self.v - 1)\n",
    "                if i == len(self.tracks)-1:\n",
    "                    return True\n",
    "                elif self.v == 0:\n",
    "                    return i \n",
    "        except Exception as e:\n",
    "            return e"
   ]
  },
  {
   "cell_type": "code",
   "execution_count": 205,
   "id": "historic-california",
   "metadata": {},
   "outputs": [
    {
     "data": {
      "text/plain": [
       "True"
      ]
     },
     "execution_count": 205,
     "metadata": {},
     "output_type": "execute_result"
    }
   ],
   "source": [
    "Minecraft = Game()\n",
    "Minecraft.mine_run([\"-->\", \"-->\", \"-->\", \"<--\", \"<--\", \"<--\"])"
   ]
  },
  {
   "cell_type": "code",
   "execution_count": 206,
   "id": "intense-retention",
   "metadata": {},
   "outputs": [
    {
     "data": {
      "text/plain": [
       "1"
      ]
     },
     "execution_count": 206,
     "metadata": {},
     "output_type": "execute_result"
    }
   ],
   "source": [
    "Minecraft.mine_run([\"-->\", \"<--\", \"-->\", \"-->\", \"<-->\", \"---\"])"
   ]
  },
  {
   "cell_type": "markdown",
   "id": "minimal-census",
   "metadata": {},
   "source": [
    "### 5. Make a Rectangle class with four parameters, an x, a y (representing the top-left corner of the rectangle), a width and a height exclusively in that order.\n",
    "\n",
    "Lastly, make a function intersecting that takes two Rectangle objects and returns True if those objects are intersecting (colliding), else return False.\n",
    "\n",
    "Examples\n",
    "\n",
    "a = Rectangle(10, 20, 100, 20)\n",
    "\n",
    "b = Rectangle(10, 40, 15, 20)\n",
    "\n",
    "c = Rectangle(50, 50, 20, 30)\n",
    "\n",
    "intersecting(a, b) ➞ True\n",
    "\n",
    "intersecting(a, c) ➞ False\n",
    "\n",
    "intersecting(b, c) ➞ True"
   ]
  },
  {
   "cell_type": "code",
   "execution_count": 237,
   "id": "korean-honduras",
   "metadata": {},
   "outputs": [],
   "source": [
    "class Rectangle:\n",
    "    def __init__(self, x, y, width, height):\n",
    "        self.x = x # top left x coordinate\n",
    "        self.y = y # top left y coordinate\n",
    "        self.width = width\n",
    "        self.height = height\n",
    "\n",
    "def intersecting(a, b):\n",
    "    try:\n",
    "        return all([a.x <= b.x + b.width, a.x + a.width >= b.x, a.y <= b.y + b.height, a.y + a.height >= b.y])\n",
    "    except Exception as e:\n",
    "        return e"
   ]
  },
  {
   "cell_type": "code",
   "execution_count": 238,
   "id": "present-drama",
   "metadata": {},
   "outputs": [],
   "source": [
    "a = Rectangle(10, 20, 100, 20)\n",
    "\n",
    "b = Rectangle(10, 40, 15, 20)\n",
    "\n",
    "c = Rectangle(50, 50, 20, 30)"
   ]
  },
  {
   "cell_type": "code",
   "execution_count": 239,
   "id": "drawn-adoption",
   "metadata": {},
   "outputs": [
    {
     "data": {
      "text/plain": [
       "True"
      ]
     },
     "execution_count": 239,
     "metadata": {},
     "output_type": "execute_result"
    }
   ],
   "source": [
    "intersecting(a, b)"
   ]
  },
  {
   "cell_type": "code",
   "execution_count": 240,
   "id": "naked-nebraska",
   "metadata": {},
   "outputs": [
    {
     "data": {
      "text/plain": [
       "False"
      ]
     },
     "execution_count": 240,
     "metadata": {},
     "output_type": "execute_result"
    }
   ],
   "source": [
    "intersecting(a, c)"
   ]
  },
  {
   "cell_type": "code",
   "execution_count": 236,
   "id": "inside-collar",
   "metadata": {},
   "outputs": [
    {
     "data": {
      "text/plain": [
       "False"
      ]
     },
     "execution_count": 236,
     "metadata": {},
     "output_type": "execute_result"
    }
   ],
   "source": [
    "intersecting(b, c)"
   ]
  }
 ],
 "metadata": {
  "kernelspec": {
   "display_name": "Python 3",
   "language": "python",
   "name": "python3"
  },
  "language_info": {
   "codemirror_mode": {
    "name": "ipython",
    "version": 3
   },
   "file_extension": ".py",
   "mimetype": "text/x-python",
   "name": "python",
   "nbconvert_exporter": "python",
   "pygments_lexer": "ipython3",
   "version": "3.8.3"
  }
 },
 "nbformat": 4,
 "nbformat_minor": 5
}
