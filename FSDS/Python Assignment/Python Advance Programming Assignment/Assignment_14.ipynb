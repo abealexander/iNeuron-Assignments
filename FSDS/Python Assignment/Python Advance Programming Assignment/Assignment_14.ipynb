{
 "cells": [
  {
   "cell_type": "markdown",
   "id": "unusual-format",
   "metadata": {},
   "source": [
    "### 1. Given a list of numbers, create a function that removes 25% from every number in the list except the smallest number, and adds the total amount removed to the smallest number.\n",
    "\n",
    "Examples\n",
    "\n",
    "show_the_love([4, 1, 4]) ➞ [3, 3, 3]\n",
    "\n",
    "show_the_love([16, 10, 8]) ➞ [12, 7.5, 14.5]\n",
    "\n",
    "show_the_love([2, 100]) ➞ [27, 75]"
   ]
  },
  {
   "cell_type": "code",
   "execution_count": 14,
   "id": "medical-ukraine",
   "metadata": {},
   "outputs": [],
   "source": [
    "def show_the_love(lst):\n",
    "    try:\n",
    "        small = min(lst)\n",
    "        temp = 0\n",
    "        for i in range(len(lst)):\n",
    "            if lst[i] != small:\n",
    "                temp += lst[i] * 0.25\n",
    "                lst[i] *= 1 - 0.25\n",
    "        lst[lst.index(small)] += temp\n",
    "        return lst\n",
    "    except Exception as e:\n",
    "        return e"
   ]
  },
  {
   "cell_type": "code",
   "execution_count": 15,
   "id": "increased-thread",
   "metadata": {},
   "outputs": [
    {
     "data": {
      "text/plain": [
       "[3.0, 3.0, 3.0]"
      ]
     },
     "execution_count": 15,
     "metadata": {},
     "output_type": "execute_result"
    }
   ],
   "source": [
    "show_the_love([4, 1, 4])"
   ]
  },
  {
   "cell_type": "code",
   "execution_count": 16,
   "id": "divine-clone",
   "metadata": {},
   "outputs": [
    {
     "data": {
      "text/plain": [
       "[12.0, 7.5, 14.5]"
      ]
     },
     "execution_count": 16,
     "metadata": {},
     "output_type": "execute_result"
    }
   ],
   "source": [
    "show_the_love([16, 10, 8])"
   ]
  },
  {
   "cell_type": "code",
   "execution_count": 17,
   "id": "authorized-permission",
   "metadata": {},
   "outputs": [
    {
     "data": {
      "text/plain": [
       "[27.0, 75.0]"
      ]
     },
     "execution_count": 17,
     "metadata": {},
     "output_type": "execute_result"
    }
   ],
   "source": [
    "show_the_love([2, 100])"
   ]
  },
  {
   "cell_type": "markdown",
   "id": "sporting-chain",
   "metadata": {},
   "source": [
    "### 2. Create a function that takes in two words as input and returns a list of three elements, in the following order:\n",
    "\n",
    "1.Shared letters between two words.\n",
    "\n",
    "2.Letters unique to word 1.\n",
    "\n",
    "3.Letters unique to word 2.\n",
    "\n",
    "Each element should have unique letters, and have each letter be alphabetically sorted."
   ]
  },
  {
   "cell_type": "raw",
   "id": "impressive-signal",
   "metadata": {},
   "source": [
    "Examples\n",
    "\n",
    "letters(\"sharp\", \"soap\") ➞ [\"aps\", \"hr\", \"o\"]\n",
    "\n",
    "letters(\"board\", \"bored\") ➞ [\"bdor\", \"a\", \"e\"]\n",
    "\n",
    "letters(\"happiness\", \"envelope\") ➞ [\"enp\", \"ahis\", \"lov\"]\n",
    "\n",
    "letters(\"kerfuffle\", \"fluffy\") ➞ [\"flu\", \"ekr\", \"y\"]\n",
    "# Even with multiple matching letters (e.g. 3 f's), there should \n",
    "# only exist a single \"f\" in your first element.\n",
    "\n",
    "letters(\"match\", \"ham\") ➞ [\"ahm\", \"ct\", \"\"]\n",
    "# \"ham\" does not contain any letters that are not found already \n",
    "# in \"match\"."
   ]
  },
  {
   "cell_type": "code",
   "execution_count": 57,
   "id": "expensive-signal",
   "metadata": {},
   "outputs": [],
   "source": [
    "def letters(word1, word2):\n",
    "    try:\n",
    "        common = \"\".join(sorted(set([i for i in word1 if i in word2])))\n",
    "        unique1 = \"\".join(sorted(set([i for i in word1 if i not in word2])))\n",
    "        unique2 = \"\".join(sorted(set([i for i in word2 if i not in word1])))\n",
    "        return [common, unique1, unique2]\n",
    "    except Exception as e:\n",
    "        return e"
   ]
  },
  {
   "cell_type": "code",
   "execution_count": 58,
   "id": "statewide-storm",
   "metadata": {},
   "outputs": [
    {
     "data": {
      "text/plain": [
       "['aps', 'hr', 'o']"
      ]
     },
     "execution_count": 58,
     "metadata": {},
     "output_type": "execute_result"
    }
   ],
   "source": [
    "letters(\"sharp\", \"soap\")"
   ]
  },
  {
   "cell_type": "code",
   "execution_count": 61,
   "id": "heard-shape",
   "metadata": {},
   "outputs": [
    {
     "data": {
      "text/plain": [
       "['flu', 'ekr', 'y']"
      ]
     },
     "execution_count": 61,
     "metadata": {},
     "output_type": "execute_result"
    }
   ],
   "source": [
    "letters(\"kerfuffle\", \"fluffy\")"
   ]
  },
  {
   "cell_type": "code",
   "execution_count": 62,
   "id": "decent-barcelona",
   "metadata": {},
   "outputs": [
    {
     "data": {
      "text/plain": [
       "['ahm', 'ct', '']"
      ]
     },
     "execution_count": 62,
     "metadata": {},
     "output_type": "execute_result"
    }
   ],
   "source": [
    "letters(\"match\", \"ham\")"
   ]
  },
  {
   "cell_type": "markdown",
   "id": "signal-denmark",
   "metadata": {},
   "source": [
    "### 3. Write a function that pairs the first number in an array with the last, the second number with the second to last, etc.\n",
    "\n",
    "Examples\n",
    "\n",
    "pairs([1, 2, 3, 4, 5, 6, 7]) ➞ [[1, 7], [2, 6], [3, 5], [4, 4]]\n",
    "\n",
    "pairs([1, 2, 3, 4, 5, 6]) ➞ [[1, 6], [2, 5], [3, 4]]\n",
    "\n",
    "pairs([5, 9, 8, 1, 2]) ➞ [[5, 2], [9, 1], [8, 8]]\n",
    "\n",
    "pairs([]) ➞ []"
   ]
  },
  {
   "cell_type": "code",
   "execution_count": 79,
   "id": "promotional-nashville",
   "metadata": {},
   "outputs": [],
   "source": [
    "def pairs(lst):\n",
    "    temp = []\n",
    "    for i in range(int((len(lst)+1)/2)):\n",
    "        temp.append([lst[i], lst[-i-1]])\n",
    "    return temp"
   ]
  },
  {
   "cell_type": "code",
   "execution_count": 80,
   "id": "encouraging-status",
   "metadata": {},
   "outputs": [
    {
     "data": {
      "text/plain": [
       "[[1, 7], [2, 6], [3, 5], [4, 4]]"
      ]
     },
     "execution_count": 80,
     "metadata": {},
     "output_type": "execute_result"
    }
   ],
   "source": [
    "pairs([1, 2, 3, 4, 5, 6, 7])"
   ]
  },
  {
   "cell_type": "code",
   "execution_count": 82,
   "id": "handmade-vitamin",
   "metadata": {},
   "outputs": [
    {
     "data": {
      "text/plain": [
       "[[5, 2], [9, 1], [8, 8]]"
      ]
     },
     "execution_count": 82,
     "metadata": {},
     "output_type": "execute_result"
    }
   ],
   "source": [
    "pairs([5, 9, 8, 1, 2])"
   ]
  },
  {
   "cell_type": "markdown",
   "id": "relevant-customer",
   "metadata": {},
   "source": [
    "### 4. Write a function that adds two numbers. The catch, however, is that the numbers will be strings.\n",
    "\n",
    "Examples\n",
    "\n",
    "add_str_nums(\"4\", \"5\") ➞ \"9\"\n",
    "\n",
    "add_str_nums(\"abcdefg\", \"3\") ➞ \"-1\"\n",
    "\n",
    "add_str_nums(\"1\", \"\") ➞ \"1\"\n",
    "\n",
    "add_str_nums(\"1874682736267235927359283579235789257\", \"32652983572985729\") ➞ \"1874682736267235927391936562808774986\""
   ]
  },
  {
   "cell_type": "code",
   "execution_count": 102,
   "id": "ethical-operation",
   "metadata": {},
   "outputs": [],
   "source": [
    "def add_str_nums(num1, num2):\n",
    "    try:\n",
    "        return max(0, int(num1 or 0)) + max(0, int(num2 or 0))\n",
    "    except ValueError:\n",
    "        return -1"
   ]
  },
  {
   "cell_type": "code",
   "execution_count": 103,
   "id": "computational-debate",
   "metadata": {},
   "outputs": [
    {
     "data": {
      "text/plain": [
       "1874682736267235927391936562808774986"
      ]
     },
     "execution_count": 103,
     "metadata": {},
     "output_type": "execute_result"
    }
   ],
   "source": [
    "add_str_nums(\"1874682736267235927359283579235789257\", \"32652983572985729\")"
   ]
  },
  {
   "cell_type": "code",
   "execution_count": 106,
   "id": "third-beverage",
   "metadata": {},
   "outputs": [
    {
     "data": {
      "text/plain": [
       "-1"
      ]
     },
     "execution_count": 106,
     "metadata": {},
     "output_type": "execute_result"
    }
   ],
   "source": [
    "add_str_nums(\"abcdefg\", \"3\")"
   ]
  },
  {
   "cell_type": "code",
   "execution_count": 105,
   "id": "hawaiian-evans",
   "metadata": {},
   "outputs": [
    {
     "data": {
      "text/plain": [
       "1"
      ]
     },
     "execution_count": 105,
     "metadata": {},
     "output_type": "execute_result"
    }
   ],
   "source": [
    "add_str_nums(\"1\", \"\")"
   ]
  },
  {
   "cell_type": "markdown",
   "id": "future-rouge",
   "metadata": {},
   "source": [
    "### 5. lPaeesh le pemu mnxit ehess rtnisg! Oh, sorry, that was supposed to say: Please help me unmix these strings!\n",
    "\n",
    "Somehow my strings have all become mixed up; every pair of characters has been swapped. Help me undo this so I can understand my strings again.\n",
    "\n",
    "Examples\n",
    "\n",
    "unmix(\"123456\") ➞ \"214365\"\n",
    "\n",
    "unmix(\"hTsii  s aimex dpus rtni.g\") ➞ \"This is a mixed up string.\"\n",
    "\n",
    "unmix(\"badce\") ➞ \"abcde\""
   ]
  },
  {
   "cell_type": "code",
   "execution_count": 159,
   "id": "incorporate-indian",
   "metadata": {},
   "outputs": [],
   "source": [
    "def unmix(string):\n",
    "    try:\n",
    "        temp = \"\"\n",
    "        length = len(string)//2 * 2\n",
    "        for i in range(0, length, 2):\n",
    "            temp += string[i+1] + string[i]\n",
    "        temp+= string[length:]\n",
    "        return temp\n",
    "    except Exception as e:\n",
    "        return e"
   ]
  },
  {
   "cell_type": "code",
   "execution_count": 160,
   "id": "bound-ending",
   "metadata": {},
   "outputs": [
    {
     "data": {
      "text/plain": [
       "'abcde'"
      ]
     },
     "execution_count": 160,
     "metadata": {},
     "output_type": "execute_result"
    }
   ],
   "source": [
    "unmix(\"badce\")"
   ]
  },
  {
   "cell_type": "code",
   "execution_count": 161,
   "id": "polish-sewing",
   "metadata": {},
   "outputs": [
    {
     "data": {
      "text/plain": [
       "'214365'"
      ]
     },
     "execution_count": 161,
     "metadata": {},
     "output_type": "execute_result"
    }
   ],
   "source": [
    "unmix(\"123456\")"
   ]
  },
  {
   "cell_type": "code",
   "execution_count": 162,
   "id": "agreed-throat",
   "metadata": {},
   "outputs": [
    {
     "data": {
      "text/plain": [
       "'This is a mixed up string.'"
      ]
     },
     "execution_count": 162,
     "metadata": {},
     "output_type": "execute_result"
    }
   ],
   "source": [
    "unmix(\"hTsii  s aimex dpus rtni.g\")"
   ]
  }
 ],
 "metadata": {
  "kernelspec": {
   "display_name": "Python 3",
   "language": "python",
   "name": "python3"
  },
  "language_info": {
   "codemirror_mode": {
    "name": "ipython",
    "version": 3
   },
   "file_extension": ".py",
   "mimetype": "text/x-python",
   "name": "python",
   "nbconvert_exporter": "python",
   "pygments_lexer": "ipython3",
   "version": "3.8.3"
  }
 },
 "nbformat": 4,
 "nbformat_minor": 5
}
