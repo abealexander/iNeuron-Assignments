{
 "cells": [
  {
   "cell_type": "markdown",
   "id": "utility-fundamental",
   "metadata": {},
   "source": [
    "### 1. Create a class Sudoku that takes a string as an argument. The string will contain the numbers of a regular 9x9 sudoku board left to right and top to bottom, with zeros filling up the empty cells.\n",
    "\n",
    "Attributes\n",
    "\n",
    "An instance of the class Sudoku will have one attribute:\n",
    "\n",
    "   - board: a list representing the board, with sublits for each row, with the numbers as integers. Empty cell represented with 0.\n",
    "\n",
    "Methods\n",
    "\n",
    "An instance of the class Sudoku wil have three methods:\n",
    "\n",
    "   - get_row(n): will return the row in position n.\n",
    "   - get_col(n): will return the column in position n.\n",
    "   - get_sqr([n, m]): will return the square in position n if only one argument is given, and the square to which the cell in position (n, m) belongs to if two arguments are given."
   ]
  },
  {
   "cell_type": "raw",
   "id": "honey-sustainability",
   "metadata": {},
   "source": [
    "Example\n",
    "game = Sudoku(\"417950030000000700060007000050009106800600000000003400900005000000430000200701580\")\n",
    "\n",
    "\n",
    "game.board ➞ [\n",
    "  [4, 1, 7, 9, 5, 0, 0, 3, 0],\n",
    "  [0, 0, 0, 0, 0, 0, 7, 0, 0],\n",
    "  [0, 6, 0, 0, 0, 7, 0, 0, 0],\n",
    "  [0, 5, 0, 0, 0, 9, 1, 0, 6],\n",
    "  [8, 0, 0, 6, 0, 0, 0, 0, 0],\n",
    "  [0, 0, 0, 0, 0, 3, 4, 0, 0],\n",
    "  [9, 0, 0, 0, 0, 5, 0, 0, 0],\n",
    "  [0, 0, 0, 4, 3, 0, 0, 0, 0],\n",
    "  [2, 0, 0, 7, 0, 1, 5, 8, 0]\n",
    "]\n",
    "\n",
    "game.get_row(0) ➞ [4, 1, 7, 9, 5, 0, 0, 3, 0]\n",
    "game.get_col(8) ➞ [0, 0, 0, 6, 0, 0, 0, 0, 0]\n",
    "game.get_sqr(1) ➞ [9, 5, 0, 0, 0, 0, 0, 0, 7]\n",
    "game.get_sqr(1, 8) ➞ [0, 3, 0, 7, 0, 0, 0, 0, 0]\n",
    "game.get_sqr(8, 3) ➞ [0, 0, 5, 4, 3, 0, 7, 0, 1]\n"
   ]
  },
  {
   "cell_type": "code",
   "execution_count": 74,
   "id": "absolute-dragon",
   "metadata": {},
   "outputs": [],
   "source": [
    "class Sudoku:\n",
    "    def __init__(self, string):\n",
    "        self.board = []\n",
    "        for i in range(9):\n",
    "            self.board.append([int(string[j]) for j in range(9*i, 9*i + 9)])\n",
    "            \n",
    "    def get_row(self, n):\n",
    "        return self.board[n]\n",
    "    \n",
    "    def get_col(self, n):\n",
    "        return [i[n] for i in self.board]\n",
    "    \n",
    "    # unable to understand this example\n",
    "    def get_sqr(self, n, m):\n",
    "        pass \n",
    "    "
   ]
  },
  {
   "cell_type": "code",
   "execution_count": 75,
   "id": "loaded-destruction",
   "metadata": {},
   "outputs": [],
   "source": [
    "game = Sudoku(\"417950030000000700060007000050009106800600000000003400900005000000430000200701580\")"
   ]
  },
  {
   "cell_type": "code",
   "execution_count": 76,
   "id": "minus-vinyl",
   "metadata": {},
   "outputs": [
    {
     "data": {
      "text/plain": [
       "[[4, 1, 7, 9, 5, 0, 0, 3, 0],\n",
       " [0, 0, 0, 0, 0, 0, 7, 0, 0],\n",
       " [0, 6, 0, 0, 0, 7, 0, 0, 0],\n",
       " [0, 5, 0, 0, 0, 9, 1, 0, 6],\n",
       " [8, 0, 0, 6, 0, 0, 0, 0, 0],\n",
       " [0, 0, 0, 0, 0, 3, 4, 0, 0],\n",
       " [9, 0, 0, 0, 0, 5, 0, 0, 0],\n",
       " [0, 0, 0, 4, 3, 0, 0, 0, 0],\n",
       " [2, 0, 0, 7, 0, 1, 5, 8, 0]]"
      ]
     },
     "execution_count": 76,
     "metadata": {},
     "output_type": "execute_result"
    }
   ],
   "source": [
    "game.board"
   ]
  },
  {
   "cell_type": "code",
   "execution_count": 77,
   "id": "devoted-suicide",
   "metadata": {},
   "outputs": [
    {
     "data": {
      "text/plain": [
       "[4, 1, 7, 9, 5, 0, 0, 3, 0]"
      ]
     },
     "execution_count": 77,
     "metadata": {},
     "output_type": "execute_result"
    }
   ],
   "source": [
    "game.get_row(0)"
   ]
  },
  {
   "cell_type": "code",
   "execution_count": 78,
   "id": "broad-round",
   "metadata": {},
   "outputs": [
    {
     "data": {
      "text/plain": [
       "[0, 0, 0, 6, 0, 0, 0, 0, 0]"
      ]
     },
     "execution_count": 78,
     "metadata": {},
     "output_type": "execute_result"
    }
   ],
   "source": [
    "game.get_col(8)"
   ]
  },
  {
   "cell_type": "markdown",
   "id": "crude-bruce",
   "metadata": {},
   "source": [
    "### 2. The function input is two non-empty linked lists representing two non-negative integers. The digits are stored in reverse order, and each of their nodes contains a single digit. Add the two numbers and return the sum as a linked list, in which the digits are also stored in reversed order. The class ListNode, building block of the linked list, is defined in the Tests tab."
   ]
  },
  {
   "cell_type": "raw",
   "id": "social-environment",
   "metadata": {},
   "source": [
    "Class definition\n",
    "\n",
    "class ListNode:\n",
    "    def __init__(self, val=0, next=None):\n",
    "        self.val = val\n",
    "        self.next = next\n",
    "        \n",
    "Examples\n",
    "\n",
    "lt1 = ListNode(2)\n",
    "lt1.add_data([4, 3])\n",
    "lt2 = ListNode(5)\n",
    "lt2.add_data([6, 4])\n",
    "# print(lt1.get_data())    # [2, 4, 3]\n",
    "# print(lt2.get_data())    # [5, 6, 4]\n",
    "# print(342 + 465)         # 807\n",
    "add_two_numbers(lt1, lt2).get_data() ➞ [7, 0, 8]\n",
    "\n",
    "lt1 = ListNode(0)\n",
    "lt2 = ListNode(0)\n",
    "# print(lt1.get_data())    # [0]\n",
    "# print(lt2.get_data())    # [0]\n",
    "# print(0 + 0)             # 0\n",
    "add_two_numbers(lt1, lt2).get_data() ➞ [0]\n",
    "\n",
    "lt1 = ListNode(9)\n",
    "lt1.add_data([9,9,9,9,9,9])\n",
    "lt2 = ListNode(9)\n",
    "lt2.add_data([9,9,9])\n",
    "# print(lt1.get_data())    # [9, 9, 9, 9, 9, 9, 9]\n",
    "# print(lt2.get_data())    # [9, 9, 9, 9]\n",
    "# print(9999999 + 9999)    # 10009998\n",
    "add_two_numbers(lt1, lt2).get_data() ➞ [8, 9, 9, 9, 0, 0, 0, 1]"
   ]
  },
  {
   "cell_type": "code",
   "execution_count": 131,
   "id": "relative-bailey",
   "metadata": {},
   "outputs": [],
   "source": [
    "class ListNode:\n",
    "    def __init__(self, *val):\n",
    "        self.val = [i for i in val]\n",
    "        \n",
    "    def add_data(self, data):\n",
    "        self.val.extend(data)\n",
    "    \n",
    "    def get_data(self):\n",
    "        return self.val\n",
    "    \n",
    "def add_two_numbers(lt1, lt2):\n",
    "    num1 = int(\"\".join(map(str,lt1.get_data()[::-1])))\n",
    "    num2 = int(\"\".join(map(str,lt2.get_data()[::-1])))\n",
    "    total = num1 + num2\n",
    "    lt3 = ListNode()\n",
    "    lt3.add_data([i for i in str(total)[::-1]])\n",
    "    return lt3"
   ]
  },
  {
   "cell_type": "code",
   "execution_count": 132,
   "id": "spoken-patrol",
   "metadata": {},
   "outputs": [],
   "source": [
    "lt1 = ListNode(2)\n",
    "lt1.add_data([4, 3])\n",
    "lt2 = ListNode(5)\n",
    "lt2.add_data([6, 4])"
   ]
  },
  {
   "cell_type": "code",
   "execution_count": 133,
   "id": "referenced-bidder",
   "metadata": {},
   "outputs": [
    {
     "name": "stdout",
     "output_type": "stream",
     "text": [
      "[2, 4, 3]\n",
      "[5, 6, 4]\n",
      "807\n"
     ]
    },
    {
     "data": {
      "text/plain": [
       "['7', '0', '8']"
      ]
     },
     "execution_count": 133,
     "metadata": {},
     "output_type": "execute_result"
    }
   ],
   "source": [
    "print(lt1.get_data())    # [2, 4, 3]\n",
    "print(lt2.get_data())    # [5, 6, 4]\n",
    "print(342 + 465)         # 807\n",
    "add_two_numbers(lt1, lt2).get_data()"
   ]
  },
  {
   "cell_type": "code",
   "execution_count": 135,
   "id": "spatial-giant",
   "metadata": {},
   "outputs": [
    {
     "data": {
      "text/plain": [
       "['0']"
      ]
     },
     "execution_count": 135,
     "metadata": {},
     "output_type": "execute_result"
    }
   ],
   "source": [
    "lt1 = ListNode(0)\n",
    "lt2 = ListNode(0)\n",
    "add_two_numbers(lt1, lt2).get_data()"
   ]
  },
  {
   "cell_type": "code",
   "execution_count": 138,
   "id": "graphic-precipitation",
   "metadata": {},
   "outputs": [
    {
     "data": {
      "text/plain": [
       "['8', '9', '9', '9', '0', '0', '0', '1']"
      ]
     },
     "execution_count": 138,
     "metadata": {},
     "output_type": "execute_result"
    }
   ],
   "source": [
    "lt1 = ListNode(9)\n",
    "lt1.add_data([9,9,9,9,9,9])\n",
    "lt2 = ListNode(9)\n",
    "lt2.add_data([9,9,9])\n",
    "add_two_numbers(lt1, lt2).get_data()"
   ]
  },
  {
   "cell_type": "markdown",
   "id": "running-allen",
   "metadata": {},
   "source": [
    "### 3. Write a class called CoffeeShop, which has three instance variables:\n",
    "\n",
    "   1. name : a string (basically, of the shop)\n",
    "   2. menu : a list of items (of dict type), with each item containing the item (name of the item), type (whether a food or a drink) and price.\n",
    "   3. orders : an empty list\n",
    "\n",
    "and seven methods:\n",
    "\n",
    "  1. add_order: adds the name of the item to the end of the orders list if it exists on the menu, otherwise, return \"This item is currently unavailable!\"\n",
    "  2. fulfill_order: if the orders list is not empty, return \"The {item} is ready!\". If the orders list is empty, return \"All orders have been fulfilled!\"\n",
    "  3. list_orders: returns the item names of the orders taken, otherwise, an empty list.\n",
    "  4. due_amount: returns the total amount due for the orders taken.\n",
    "  5. cheapest_item: returns the name of the cheapest item on the menu.\n",
    "  6. drinks_only: returns only the item names of type drink from the menu.\n",
    "  7. food_only: returns only the item names of type food from the menu.\n",
    "\n",
    "IMPORTANT: Orders are fulfilled in a FIFO (first-in, first-out) order."
   ]
  },
  {
   "cell_type": "raw",
   "id": "noticed-subject",
   "metadata": {},
   "source": [
    "Examples\n",
    "\n",
    "tcs.add_order(\"hot cocoa\") ➞ \"This item is currently unavailable!\"\n",
    "# Tesha's coffee shop does not sell hot cocoa\n",
    "tcs.add_order(\"iced tea\") ➞ \"This item is currently unavailable!\"\n",
    "# specifying the variant of \"iced tea\" will help the process\n",
    "\n",
    "tcs.add_order(\"cinnamon roll\") ➞  \"Order added!\"\n",
    "tcs.add_order(\"iced coffee\") ➞ \"Order added!\"\n",
    "tcs.list_orders ➞ [\"cinnamon roll\", \"iced coffee\"]\n",
    "# all items of the current order\n",
    "\n",
    "tcs.due_amount() ➞ 2.17\n",
    "\n",
    "tcs.fulfill_order() ➞ \"The cinnamon roll is ready!\"\n",
    "tcs.fulfill_order() ➞ \"The iced coffee is ready!\"\n",
    "tcs.fulfill_order() ➞ \"All orders have been fulfilled!\"\n",
    "# all orders have been presumably served\n",
    "\n",
    "tcs.list_orders() ➞ []\n",
    "# an empty list is returned if all orders have been exhausted\n",
    "\n",
    "tcs.due_amount() ➞ 0.0\n",
    "# no new orders taken, expect a zero payable\n",
    "\n",
    "tcs.cheapest_item() ➞ \"lemonade\"\n",
    "tcs.drinks_only() ➞ [\"orange juice\", \"lemonade\", \"cranberry juice\", \"pineapple juice\", \"lemon iced tea\", \"vanilla chai latte\", \"hot chocolate\", \"iced coffee\"]\n",
    "tcs.food_only() ➞ [\"tuna sandwich\", \"ham and cheese sandwich\", \"bacon and egg\", \"steak\", \"hamburger\", \"cinnamon roll\"]"
   ]
  },
  {
   "cell_type": "code",
   "execution_count": 347,
   "id": "loose-paper",
   "metadata": {},
   "outputs": [],
   "source": [
    "class CoffeeShop:\n",
    "    def __init__(self, name, menu, orders):\n",
    "        self.name = name\n",
    "        self.menu = menu\n",
    "        self.orders = orders\n",
    "        \n",
    "    def add_order(self, order):\n",
    "        if order not in self.menu.keys():\n",
    "            return \"This item is currently unavailable!\"\n",
    "        else: \n",
    "            self.orders.append(order)\n",
    "            return \"Order added!\"\n",
    "    \n",
    "    def list_orders(self):\n",
    "        return self.orders\n",
    "    \n",
    "    def due_amount(self):\n",
    "        return sum([self.menu[i][0] for i in self.orders])\n",
    "    \n",
    "    def fulfill_order(self):\n",
    "        return \"The \" + self.orders.pop(0) + \" is ready!\" if len(self.orders) > 0 else \"All orders have been fulfilled!\"\n",
    "    \n",
    "    def cheapest_item(self):\n",
    "        return [i for i in self.menu.keys() if self.menu[i][0] == min([j[0] for j in self.menu.values()])][0]\n",
    "    \n",
    "    def drinks_only(self):\n",
    "        return [i for i in self.menu.keys() if self.menu[i][1] == \"drink\"]\n",
    "    \n",
    "    def food_only(self):\n",
    "        return [i for i in self.menu.keys() if self.menu[i][1] == \"food\"]"
   ]
  },
  {
   "cell_type": "code",
   "execution_count": 348,
   "id": "choice-breath",
   "metadata": {},
   "outputs": [],
   "source": [
    "tcs = CoffeeShop(\"Ko-Hi!\", \n",
    "                {'orange juice': [1, \"drink\"],\n",
    "                 'lemonade': [2, \"drink\"],\n",
    "                 'cranberry juice': [3, \"drink\"],\n",
    "                 'pineapple juice': [4, \"drink\"],\n",
    "                 'lemon iced tea': [5, \"drink\"],\n",
    "                 'vanilla chai latte': [6, \"drink\"],\n",
    "                 'hot chocolate': [7, \"drink\"],\n",
    "                 'iced coffee': [8, \"drink\"],\n",
    "                 'tuna sandwich': [1, \"food\"],\n",
    "                 'ham and cheese sandwich': [2, \"food\"],\n",
    "                 'bacon and egg': [3, \"food\"],\n",
    "                 'steak': [4, \"food\"],\n",
    "                 'hamburger': [5, \"food\"],\n",
    "                 'cinnamon roll': [6, \"food\"]},\n",
    "                [])"
   ]
  },
  {
   "cell_type": "code",
   "execution_count": 349,
   "id": "outdoor-marketing",
   "metadata": {},
   "outputs": [
    {
     "data": {
      "text/plain": [
       "'This item is currently unavailable!'"
      ]
     },
     "execution_count": 349,
     "metadata": {},
     "output_type": "execute_result"
    }
   ],
   "source": [
    "tcs.add_order(\"hot cocoa\")"
   ]
  },
  {
   "cell_type": "code",
   "execution_count": 350,
   "id": "round-plasma",
   "metadata": {},
   "outputs": [
    {
     "data": {
      "text/plain": [
       "'This item is currently unavailable!'"
      ]
     },
     "execution_count": 350,
     "metadata": {},
     "output_type": "execute_result"
    }
   ],
   "source": [
    "tcs.add_order(\"iced tea\")"
   ]
  },
  {
   "cell_type": "code",
   "execution_count": 351,
   "id": "gorgeous-style",
   "metadata": {},
   "outputs": [
    {
     "data": {
      "text/plain": [
       "'Order added!'"
      ]
     },
     "execution_count": 351,
     "metadata": {},
     "output_type": "execute_result"
    }
   ],
   "source": [
    "tcs.add_order(\"cinnamon roll\")"
   ]
  },
  {
   "cell_type": "code",
   "execution_count": 352,
   "id": "sexual-syndrome",
   "metadata": {},
   "outputs": [
    {
     "data": {
      "text/plain": [
       "'Order added!'"
      ]
     },
     "execution_count": 352,
     "metadata": {},
     "output_type": "execute_result"
    }
   ],
   "source": [
    "tcs.add_order(\"iced coffee\")"
   ]
  },
  {
   "cell_type": "code",
   "execution_count": 353,
   "id": "every-footwear",
   "metadata": {},
   "outputs": [
    {
     "data": {
      "text/plain": [
       "['cinnamon roll', 'iced coffee']"
      ]
     },
     "execution_count": 353,
     "metadata": {},
     "output_type": "execute_result"
    }
   ],
   "source": [
    "tcs.list_orders()"
   ]
  },
  {
   "cell_type": "code",
   "execution_count": 354,
   "id": "dramatic-serum",
   "metadata": {},
   "outputs": [
    {
     "data": {
      "text/plain": [
       "14"
      ]
     },
     "execution_count": 354,
     "metadata": {},
     "output_type": "execute_result"
    }
   ],
   "source": [
    "tcs.due_amount()"
   ]
  },
  {
   "cell_type": "code",
   "execution_count": 355,
   "id": "traditional-trail",
   "metadata": {},
   "outputs": [
    {
     "data": {
      "text/plain": [
       "'The cinnamon roll is ready!'"
      ]
     },
     "execution_count": 355,
     "metadata": {},
     "output_type": "execute_result"
    }
   ],
   "source": [
    "tcs.fulfill_order()"
   ]
  },
  {
   "cell_type": "code",
   "execution_count": 356,
   "id": "optional-product",
   "metadata": {},
   "outputs": [
    {
     "data": {
      "text/plain": [
       "'The iced coffee is ready!'"
      ]
     },
     "execution_count": 356,
     "metadata": {},
     "output_type": "execute_result"
    }
   ],
   "source": [
    "tcs.fulfill_order()"
   ]
  },
  {
   "cell_type": "code",
   "execution_count": 357,
   "id": "respected-block",
   "metadata": {},
   "outputs": [
    {
     "data": {
      "text/plain": [
       "'All orders have been fulfilled!'"
      ]
     },
     "execution_count": 357,
     "metadata": {},
     "output_type": "execute_result"
    }
   ],
   "source": [
    "tcs.fulfill_order()"
   ]
  },
  {
   "cell_type": "code",
   "execution_count": 358,
   "id": "spiritual-multiple",
   "metadata": {},
   "outputs": [
    {
     "data": {
      "text/plain": [
       "[]"
      ]
     },
     "execution_count": 358,
     "metadata": {},
     "output_type": "execute_result"
    }
   ],
   "source": [
    "tcs.list_orders()"
   ]
  },
  {
   "cell_type": "code",
   "execution_count": 359,
   "id": "valued-silence",
   "metadata": {},
   "outputs": [
    {
     "data": {
      "text/plain": [
       "0"
      ]
     },
     "execution_count": 359,
     "metadata": {},
     "output_type": "execute_result"
    }
   ],
   "source": [
    "tcs.due_amount()"
   ]
  },
  {
   "cell_type": "code",
   "execution_count": 360,
   "id": "inside-debut",
   "metadata": {},
   "outputs": [
    {
     "data": {
      "text/plain": [
       "'orange juice'"
      ]
     },
     "execution_count": 360,
     "metadata": {},
     "output_type": "execute_result"
    }
   ],
   "source": [
    "tcs.cheapest_item()"
   ]
  },
  {
   "cell_type": "code",
   "execution_count": 361,
   "id": "consistent-example",
   "metadata": {},
   "outputs": [
    {
     "data": {
      "text/plain": [
       "['orange juice',\n",
       " 'lemonade',\n",
       " 'cranberry juice',\n",
       " 'pineapple juice',\n",
       " 'lemon iced tea',\n",
       " 'vanilla chai latte',\n",
       " 'hot chocolate',\n",
       " 'iced coffee']"
      ]
     },
     "execution_count": 361,
     "metadata": {},
     "output_type": "execute_result"
    }
   ],
   "source": [
    "tcs.drinks_only()"
   ]
  },
  {
   "cell_type": "code",
   "execution_count": 362,
   "id": "surprising-community",
   "metadata": {},
   "outputs": [
    {
     "data": {
      "text/plain": [
       "['tuna sandwich',\n",
       " 'ham and cheese sandwich',\n",
       " 'bacon and egg',\n",
       " 'steak',\n",
       " 'hamburger',\n",
       " 'cinnamon roll']"
      ]
     },
     "execution_count": 362,
     "metadata": {},
     "output_type": "execute_result"
    }
   ],
   "source": [
    "tcs.food_only()"
   ]
  },
  {
   "cell_type": "markdown",
   "id": "hearing-security",
   "metadata": {},
   "source": [
    "### 4. In this challenge, write a funcion loneliest_number to find the last Lonely number inside a sequence. A number is Lonely if the distance from its closest Prime sets a new record of the sequence."
   ]
  },
  {
   "cell_type": "raw",
   "id": "interracial-incidence",
   "metadata": {},
   "source": [
    "Sequence = from 0 to 3\n",
    "\n",
    "# Any number lower than 3 doesn't have a Prime preceeding it...\n",
    "# ...so that you'll consider only its next closest Prime.\n",
    "\n",
    "0 has distance 2 from its closest Prime (2)\n",
    "# It's a new record! 0 It's the first lonely number of the sequence\n",
    "1 has distance 1 from its closest Prime (2)\n",
    "2 has distance 1 from 3\n",
    "3 has distance 1 from 2\n",
    "\n",
    "# The sequence 0 to 3  has only one Lonely number: 0\n",
    "\n",
    "Sequence = Numbers from 5 to 10\n",
    "\n",
    "5 has distance 2 from its closest Prime (3 or 7)\n",
    "# It's a new record! 5 It's the first lonely number of the sequence\n",
    "6 has distance 1 from 5 or 7\n",
    "7 has distance 2 from 5\n",
    "8 has distance 1 from 7\n",
    "9 has distance 2 from 7 or 11\n",
    "10 has distance 1 from 11\n",
    "\n",
    "# The sequence 5 to 10  has only one Lonely number: 5\n",
    "\n",
    "Sequence = Numbers from 19 to 24\n",
    "\n",
    "19 has distance 2 from its closest Prime (17)\n",
    "# It's a new record! 19 It's the first lonely number of the sequence\n",
    "20 has distance 1 from 19\n",
    "21 has distance 2 from 5\n",
    "22 has distance 1 from 23\n",
    "23 has distance 4 from 17 or 29\n",
    "# It's a new record! 23 is the second lonely number of the sequence\n",
    "24 has distance 1 from 23\n",
    "\n",
    "# The sequence 19 to 24  has two Lonely numbers: 19 and 23\n",
    "\n",
    "The function loneliest_number must accept two integers lo and hi being the inclusive bounds of the sequence to analyze, and returns a dictionay (dict) object with the following keys and values:\n",
    "\n",
    "   - number: is the last Lonely number found in the given sequence;\n",
    "   - distance: is the distance of the number from its closest Prime;\n",
    "   - closest: is the Prime closest to number (if two Primes are equally distant from number, return the higher Prime)."
   ]
  },
  {
   "cell_type": "raw",
   "id": "adjusted-eating",
   "metadata": {},
   "source": [
    "Examples\n",
    "\n",
    "loneliest_number(0, 22) ➞ {\n",
    "  number: 0, distance: 2, closest: 2\n",
    "}\n",
    "\n",
    "loneliest_number(8, 123) ➞ {\n",
    "  number: 53, distance: 6, closest: 59\n",
    "}\n",
    "\n",
    "loneliest_number(938, 1190) ➞ {\n",
    "  number: 1140, distance: 11, closest: 1151\n",
    "}\n",
    "\n",
    "loneliest_number(120, 1190) ➞ {\n",
    "  number: 211, distance: 12, closest: 223\n",
    "}"
   ]
  },
  {
   "cell_type": "code",
   "execution_count": 571,
   "id": "drawn-administration",
   "metadata": {},
   "outputs": [],
   "source": [
    "def is_prime(n):\n",
    "    if n <= 1 or n % 1 > 0:\n",
    "        return False\n",
    "    for i in range(2, n//2):\n",
    "        if n % i == 0:\n",
    "            return False\n",
    "    return True\n",
    "\n",
    "def loneliest_number(low, high):\n",
    "    number, distance, closest = 0, 0, 0\n",
    "    p1 = max([i if is_prime(i) else 0 for i in range(0, low+1)]) if not is_prime(low) else low\n",
    "    p2 = min([i for i in range(high, high*2) if is_prime(i)]) if not is_prime(high) else high\n",
    "    primes = [i for i in range(p1, p2+1) if is_prime(i)]\n",
    "    for i in range(low, high+1):\n",
    "        if i < 2:\n",
    "            number, distance, closest = 0, 2, 2\n",
    "            break\n",
    "        for j in range(0, len(primes)-1):\n",
    "            if i > primes[j] and i < primes[j+1]:\n",
    "                if distance < abs(i - primes[j]) and distance < abs(i - primes[j+1]):\n",
    "                    distance = abs(i - primes[j])\n",
    "                    number = i\n",
    "                    closest = primes[j+1]\n",
    "    return {\"number\" : number, \"distance\" : distance, \"closest\" : closest} "
   ]
  },
  {
   "cell_type": "code",
   "execution_count": 572,
   "id": "senior-moses",
   "metadata": {},
   "outputs": [
    {
     "data": {
      "text/plain": [
       "{'number': 0, 'distance': 2, 'closest': 2}"
      ]
     },
     "execution_count": 572,
     "metadata": {},
     "output_type": "execute_result"
    }
   ],
   "source": [
    "loneliest_number(0, 22)"
   ]
  },
  {
   "cell_type": "code",
   "execution_count": 573,
   "id": "split-cause",
   "metadata": {},
   "outputs": [
    {
     "data": {
      "text/plain": [
       "{'number': 120, 'distance': 7, 'closest': 127}"
      ]
     },
     "execution_count": 573,
     "metadata": {},
     "output_type": "execute_result"
    }
   ],
   "source": [
    "loneliest_number(8, 123)"
   ]
  },
  {
   "cell_type": "code",
   "execution_count": 574,
   "id": "logical-manitoba",
   "metadata": {},
   "outputs": [
    {
     "data": {
      "text/plain": [
       "{'number': 1140, 'distance': 11, 'closest': 1151}"
      ]
     },
     "execution_count": 574,
     "metadata": {},
     "output_type": "execute_result"
    }
   ],
   "source": [
    "loneliest_number(938, 1190)"
   ]
  },
  {
   "cell_type": "markdown",
   "id": "norwegian-valentine",
   "metadata": {},
   "source": [
    "### 5. Implement a class Selfie that can store the current state of the object in the form of binary string. It can take multiple pictures and then recover to a state it was before. During testing an object will be provided with new attributes and their values. It will store its state. Then the values will be changed. Then it will be given new attributes. It will store its state again. It will be repeated few times.\n",
    "\n",
    "Later the states of the object will be recovered given an index. The return value should be a new Selfie with the requested historic state and the state history of the new object should be updated with a copy of current object's state history.\n",
    "\n",
    "The object also knows how many states it has stored. If the index is not within the range of stored states, the object stays as is. If the argument is invalid, n < 0 or n >= self.n_states(), the current object (or a copy thereof) should be returned."
   ]
  },
  {
   "cell_type": "raw",
   "id": "prompt-platinum",
   "metadata": {},
   "source": [
    "Examples\n",
    "\n",
    "p = Selfie()\n",
    "p.x = 2\n",
    "p.save_state()\n",
    "p.x = 5\n",
    "p = p.recover_state(0)\n",
    "p.x ➞ 2"
   ]
  },
  {
   "cell_type": "code",
   "execution_count": 61,
   "id": "smooth-links",
   "metadata": {},
   "outputs": [],
   "source": [
    "# Referred a guide to solve this\n",
    "import pickle\n",
    "\n",
    "class Selfie:\n",
    "    def __init__(self):\n",
    "        self.state = []\n",
    "\n",
    "    def save_state(self):\n",
    "        self.state.append(pickle.dumps(self))\n",
    "            \n",
    "    def recover_state(self, n):\n",
    "        if 0 <= n < self.n_states():\n",
    "            temp = pickle.loads(self.state[n])\n",
    "            temp.state = self.state\n",
    "            return temp\n",
    "        else:\n",
    "            return self\n",
    "    \n",
    "    def n_states(self):\n",
    "        return len(self.state)"
   ]
  },
  {
   "cell_type": "code",
   "execution_count": 62,
   "id": "lightweight-dispute",
   "metadata": {},
   "outputs": [],
   "source": [
    "p = Selfie()\n",
    "p.x = 2\n",
    "p.save_state()"
   ]
  },
  {
   "cell_type": "code",
   "execution_count": 63,
   "id": "hundred-beauty",
   "metadata": {},
   "outputs": [
    {
     "data": {
      "text/plain": [
       "1"
      ]
     },
     "execution_count": 63,
     "metadata": {},
     "output_type": "execute_result"
    }
   ],
   "source": [
    "p.x = 5\n",
    "p.n_states()"
   ]
  },
  {
   "cell_type": "code",
   "execution_count": 64,
   "id": "harmful-welsh",
   "metadata": {},
   "outputs": [
    {
     "data": {
      "text/plain": [
       "2"
      ]
     },
     "execution_count": 64,
     "metadata": {},
     "output_type": "execute_result"
    }
   ],
   "source": [
    "p = p.recover_state(0)\n",
    "p.x"
   ]
  }
 ],
 "metadata": {
  "kernelspec": {
   "display_name": "Python 3",
   "language": "python",
   "name": "python3"
  },
  "language_info": {
   "codemirror_mode": {
    "name": "ipython",
    "version": 3
   },
   "file_extension": ".py",
   "mimetype": "text/x-python",
   "name": "python",
   "nbconvert_exporter": "python",
   "pygments_lexer": "ipython3",
   "version": "3.8.3"
  }
 },
 "nbformat": 4,
 "nbformat_minor": 5
}
