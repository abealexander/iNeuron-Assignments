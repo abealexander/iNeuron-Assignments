{
 "cells": [
  {
   "cell_type": "markdown",
   "id": "instant-sherman",
   "metadata": {},
   "source": [
    "### 1. What is the result of the code, and explain?"
   ]
  },
  {
   "cell_type": "code",
   "execution_count": 70,
   "id": "recreational-extra",
   "metadata": {},
   "outputs": [
    {
     "name": "stdout",
     "output_type": "stream",
     "text": [
      "iNeuron\n"
     ]
    }
   ],
   "source": [
    "X = 'iNeuron'\n",
    "def func():\n",
    "    print(X)\n",
    "\n",
    "\n",
    "func()"
   ]
  },
  {
   "cell_type": "markdown",
   "id": "selective-smart",
   "metadata": {},
   "source": [
    "A variable 'X' has been created which stores the string value 'iNeuron'. A function has been created that prints the variable 'X'. The function when called prints the variable 'X'."
   ]
  },
  {
   "cell_type": "markdown",
   "id": "built-profile",
   "metadata": {},
   "source": [
    "### 2. What is the result of the code, and explain?"
   ]
  },
  {
   "cell_type": "code",
   "execution_count": 71,
   "id": "material-intention",
   "metadata": {},
   "outputs": [
    {
     "name": "stdout",
     "output_type": "stream",
     "text": [
      "iNeuron\n"
     ]
    }
   ],
   "source": [
    "X = 'iNeuron'\n",
    "def func():\n",
    "    X = 'NI!'\n",
    "\n",
    "\n",
    "func()\n",
    "print(X)"
   ]
  },
  {
   "cell_type": "markdown",
   "id": "annoying-therapist",
   "metadata": {},
   "source": [
    "A global variable 'X' has been created which stores the string value 'iNeuron'. A function has been created that creates a local variable which stores the string value 'NI!'. The function when called creates a variable in it's local scope and it get's destroyed after the execution of the function. Hence, printing the variable X would give you the string value 'iNeuron' and not 'NI!'."
   ]
  },
  {
   "cell_type": "markdown",
   "id": "committed-submission",
   "metadata": {},
   "source": [
    "### 3. What does this code print, and why?"
   ]
  },
  {
   "cell_type": "code",
   "execution_count": 72,
   "id": "quiet-jumping",
   "metadata": {},
   "outputs": [
    {
     "name": "stdout",
     "output_type": "stream",
     "text": [
      "NI\n",
      "iNeuron\n"
     ]
    }
   ],
   "source": [
    "X = 'iNeuron'\n",
    "def func():\n",
    "    X = 'NI'\n",
    "    print(X)\n",
    "\n",
    "\n",
    "func()\n",
    "print(X)"
   ]
  },
  {
   "cell_type": "markdown",
   "id": "pediatric-paper",
   "metadata": {},
   "source": [
    "The code creates and prints the local variable X within the function. Once the function completes it's execution the local variable is destroyed. Hence, post function execution printing X would give you the string value 'iNeuron' and not 'NI'."
   ]
  },
  {
   "cell_type": "markdown",
   "id": "convinced-valuable",
   "metadata": {},
   "source": [
    "### 4. What output does this code produce? Why?"
   ]
  },
  {
   "cell_type": "code",
   "execution_count": 73,
   "id": "descending-straight",
   "metadata": {},
   "outputs": [
    {
     "name": "stdout",
     "output_type": "stream",
     "text": [
      "NI\n"
     ]
    }
   ],
   "source": [
    "X = 'iNeuron'\n",
    "def func():\n",
    "    global X\n",
    "    X = 'NI'\n",
    "\n",
    "\n",
    "func()\n",
    "print(X)"
   ]
  },
  {
   "cell_type": "markdown",
   "id": "prime-persian",
   "metadata": {},
   "source": [
    "The function uses the global keyword to modify the global variable X in the local scope. Hence, printing X in the global scope gives you the new value assigned within the function."
   ]
  },
  {
   "cell_type": "markdown",
   "id": "neural-prime",
   "metadata": {},
   "source": [
    "### 5. What about this code—what’s the output, and why?"
   ]
  },
  {
   "cell_type": "code",
   "execution_count": 3,
   "id": "institutional-bones",
   "metadata": {},
   "outputs": [
    {
     "name": "stdout",
     "output_type": "stream",
     "text": [
      "NI\n"
     ]
    },
    {
     "data": {
      "text/plain": [
       "'iNeuron'"
      ]
     },
     "execution_count": 3,
     "metadata": {},
     "output_type": "execute_result"
    }
   ],
   "source": [
    "X = 'iNeuron'\n",
    "def func():\n",
    "    X = 'NI'\n",
    "    def nested():\n",
    "        print(X)\n",
    "\n",
    "    nested()\n",
    "\n",
    "\n",
    "func()\n",
    "X"
   ]
  },
  {
   "cell_type": "markdown",
   "id": "burning-handbook",
   "metadata": {},
   "source": [
    "The nested function 'nested' prints the non-local variable from it's previous scope. When calling the function 'nested' we are able to print the local variable from the enclosing function 'func'.\n",
    "\n",
    "The function 'func' when called creates a variable in it's local scope and it get's destroyed after the execution of the function. Hence, post function execution printing X would give you the string value 'iNeuron' and not 'NI'."
   ]
  },
  {
   "cell_type": "markdown",
   "id": "crucial-initial",
   "metadata": {},
   "source": [
    "### 6. How about this code: what is its output in Python 3, and explain?"
   ]
  },
  {
   "cell_type": "code",
   "execution_count": 8,
   "id": "typical-logic",
   "metadata": {},
   "outputs": [
    {
     "name": "stdout",
     "output_type": "stream",
     "text": [
      "Spam\n"
     ]
    }
   ],
   "source": [
    "def func():\n",
    "    X = 'NI'\n",
    "    def nested():\n",
    "        nonlocal X\n",
    "        X = 'Spam'\n",
    "    nested()\n",
    "    print(X)\n",
    "\n",
    "\n",
    "func()"
   ]
  },
  {
   "cell_type": "markdown",
   "id": "abroad-ideal",
   "metadata": {},
   "source": [
    "The 'nonlocal' keyword is used to modify the variable from the previous scope in the 'nested' function. Calling the 'nested' function updates the variable 'X' which was previously assigned in the local scope of the parent function 'func'. "
   ]
  },
  {
   "cell_type": "code",
   "execution_count": 7,
   "id": "confused-celebrity",
   "metadata": {},
   "outputs": [
    {
     "name": "stdout",
     "output_type": "stream",
     "text": [
      "1 NI\n",
      "2 Spam\n"
     ]
    }
   ],
   "source": [
    "def func():\n",
    "    X = 'NI'\n",
    "    print(1, X)\n",
    "    def nested():\n",
    "        nonlocal X\n",
    "        X = 'Spam'\n",
    "        print(2, X)\n",
    "    nested()\n",
    "    \n",
    "\n",
    "func()"
   ]
  }
 ],
 "metadata": {
  "kernelspec": {
   "display_name": "Python 3",
   "language": "python",
   "name": "python3"
  },
  "language_info": {
   "codemirror_mode": {
    "name": "ipython",
    "version": 3
   },
   "file_extension": ".py",
   "mimetype": "text/x-python",
   "name": "python",
   "nbconvert_exporter": "python",
   "pygments_lexer": "ipython3",
   "version": "3.8.3"
  }
 },
 "nbformat": 4,
 "nbformat_minor": 5
}
