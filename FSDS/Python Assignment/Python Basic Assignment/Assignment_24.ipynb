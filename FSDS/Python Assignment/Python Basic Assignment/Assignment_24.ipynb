{
 "cells": [
  {
   "cell_type": "markdown",
   "id": "french-arrest",
   "metadata": {},
   "source": [
    "### 1. What is the relationship between def statements and lambda expressions ?"
   ]
  },
  {
   "cell_type": "markdown",
   "id": "extended-monte",
   "metadata": {},
   "source": [
    "Def statements and lambda expressions create a function to be called later. But lambda returns the function instead of assigning a name to it which is why they are known as anonymous functions. Objects returned by lambda expressions work exactly like those created by def statements. "
   ]
  },
  {
   "cell_type": "markdown",
   "id": "adjusted-seminar",
   "metadata": {},
   "source": [
    "### 2. What is the benefit of lambda?"
   ]
  },
  {
   "cell_type": "markdown",
   "id": "obvious-catalog",
   "metadata": {},
   "source": [
    "Lambda  provides a shortcut to create small anonymous function without a name assigned to it. A benefit of lambda is that it is more readable as it is written where it is being implemented instead of a named function being stored somewhere else. Also for one time use situations we can use lambda instead of creating a named function."
   ]
  },
  {
   "cell_type": "markdown",
   "id": "protective-stylus",
   "metadata": {},
   "source": [
    "### 3. Compare and contrast map, filter, and reduce."
   ]
  },
  {
   "cell_type": "markdown",
   "id": "juvenile-oregon",
   "metadata": {},
   "source": [
    "The map function is used to apply a function on the items in the iterable.\n",
    "The filter function is used to filter the iterables based on certain conditions.\n",
    "The reduce function returns a single value based on the function and iterable passed to it.\n",
    "\n",
    "The map and reduce function returns a list while the reduce function returns a single value.\n",
    "\n",
    "Map can be used when we want to apply a function to each element of iterator, filter can be used to filter elements of iterator by some conditions and reduce can be used to perform certain calculations on the iterator and return a single value."
   ]
  },
  {
   "cell_type": "code",
   "execution_count": 2,
   "id": "cloudy-lightweight",
   "metadata": {},
   "outputs": [
    {
     "data": {
      "text/plain": [
       "[1, 4, 9, 16, 25]"
      ]
     },
     "execution_count": 2,
     "metadata": {},
     "output_type": "execute_result"
    }
   ],
   "source": [
    "a = [1,2,3,4,5]\n",
    "list(map(lambda x:x*x, a))"
   ]
  },
  {
   "cell_type": "code",
   "execution_count": 3,
   "id": "adequate-regard",
   "metadata": {},
   "outputs": [
    {
     "data": {
      "text/plain": [
       "[2, 4]"
      ]
     },
     "execution_count": 3,
     "metadata": {},
     "output_type": "execute_result"
    }
   ],
   "source": [
    "list(filter(lambda x:x%2 == 0, a))"
   ]
  },
  {
   "cell_type": "code",
   "execution_count": 6,
   "id": "naval-cutting",
   "metadata": {},
   "outputs": [
    {
     "data": {
      "text/plain": [
       "15"
      ]
     },
     "execution_count": 6,
     "metadata": {},
     "output_type": "execute_result"
    }
   ],
   "source": [
    "from functools import reduce\n",
    "reduce(lambda x, y:x+y, a)"
   ]
  },
  {
   "cell_type": "markdown",
   "id": "fuzzy-reader",
   "metadata": {},
   "source": [
    "### 4. What are function annotations, and how are they used?"
   ]
  },
  {
   "cell_type": "markdown",
   "id": "ideal-stand",
   "metadata": {},
   "source": [
    "Function annotations allows you to add metadata to function arguments and return value."
   ]
  },
  {
   "cell_type": "code",
   "execution_count": 17,
   "id": "complimentary-flower",
   "metadata": {},
   "outputs": [
    {
     "data": {
      "text/plain": [
       "{'x': 'First value for addition',\n",
       " 'y': 'Second value for addition',\n",
       " 'return': 'Addition of two values'}"
      ]
     },
     "execution_count": 17,
     "metadata": {},
     "output_type": "execute_result"
    }
   ],
   "source": [
    "def func(x: 'First value for addition', y: 'Second value for addition') -> 'Addition of two values':\n",
    "    \n",
    "    return x+y\n",
    "\n",
    "func.__annotations__"
   ]
  },
  {
   "cell_type": "markdown",
   "id": "earlier-bankruptcy",
   "metadata": {},
   "source": [
    "### 5. What are recursive functions, and how are they used?"
   ]
  },
  {
   "cell_type": "markdown",
   "id": "identical-cricket",
   "metadata": {},
   "source": [
    "Recursive functions are functions that call itself. Following is an example of a recursive function to calculate factorial of an integer:"
   ]
  },
  {
   "cell_type": "code",
   "execution_count": 21,
   "id": "beautiful-paris",
   "metadata": {},
   "outputs": [
    {
     "data": {
      "text/plain": [
       "3628800"
      ]
     },
     "execution_count": 21,
     "metadata": {},
     "output_type": "execute_result"
    }
   ],
   "source": [
    "def factorial(x):\n",
    "    if x == 1:\n",
    "        return x\n",
    "    else:\n",
    "        return (x * factorial(x-1))\n",
    "    \n",
    "factorial(10)"
   ]
  },
  {
   "cell_type": "markdown",
   "id": "removable-outdoors",
   "metadata": {},
   "source": [
    "### 6. What are some general design guidelines for coding functions?"
   ]
  },
  {
   "cell_type": "markdown",
   "id": "patient-fleece",
   "metadata": {},
   "source": [
    "* Readability and Maintainability\n",
    "* Proper Structure\n",
    "* Proprer Naming\n",
    "* Avoid repeating code (DRY - Don't Repeat Yourself)\n",
    "* Use of Exception for error handling and logging\n",
    "* Proper code documentation\n",
    "* Limited use of globals"
   ]
  },
  {
   "cell_type": "markdown",
   "id": "endangered-sherman",
   "metadata": {},
   "source": [
    "### 7. Name three or more ways that functions can communicate results to a caller."
   ]
  },
  {
   "cell_type": "markdown",
   "id": "discrete-scout",
   "metadata": {},
   "source": [
    "* return statement\n",
    "* print() function\n",
    "* By assigning result to a list or using global keyword to assign result to a variable."
   ]
  }
 ],
 "metadata": {
  "kernelspec": {
   "display_name": "Python 3",
   "language": "python",
   "name": "python3"
  },
  "language_info": {
   "codemirror_mode": {
    "name": "ipython",
    "version": 3
   },
   "file_extension": ".py",
   "mimetype": "text/x-python",
   "name": "python",
   "nbconvert_exporter": "python",
   "pygments_lexer": "ipython3",
   "version": "3.8.3"
  }
 },
 "nbformat": 4,
 "nbformat_minor": 5
}
