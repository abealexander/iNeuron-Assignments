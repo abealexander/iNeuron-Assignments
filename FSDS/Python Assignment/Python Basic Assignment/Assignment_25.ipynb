{
 "cells": [
  {
   "cell_type": "markdown",
   "id": "second-jewel",
   "metadata": {},
   "source": [
    "### 1. What is the difference between enclosing a list comprehension in square brackets and parentheses?"
   ]
  },
  {
   "cell_type": "markdown",
   "id": "empirical-hundred",
   "metadata": {},
   "source": [
    "Enclosing a list comprehension in square brackets gives you a list while enclosing a list comprehension in parentheses gives you a generator object."
   ]
  },
  {
   "cell_type": "code",
   "execution_count": 8,
   "id": "equipped-marathon",
   "metadata": {},
   "outputs": [
    {
     "data": {
      "text/plain": [
       "[1, 2, 3, 4, 5, 6, 7, 8, 9]"
      ]
     },
     "execution_count": 8,
     "metadata": {},
     "output_type": "execute_result"
    }
   ],
   "source": [
    "[i for i in range(1,10)]"
   ]
  },
  {
   "cell_type": "code",
   "execution_count": 9,
   "id": "ranking-hypothetical",
   "metadata": {},
   "outputs": [
    {
     "data": {
      "text/plain": [
       "<generator object <genexpr> at 0x000001FC0F71C4A0>"
      ]
     },
     "execution_count": 9,
     "metadata": {},
     "output_type": "execute_result"
    }
   ],
   "source": [
    "(i for i in range(1,10))"
   ]
  },
  {
   "cell_type": "markdown",
   "id": "governmental-carter",
   "metadata": {},
   "source": [
    "### 2. What is the relationship between generators and iterators?"
   ]
  },
  {
   "cell_type": "markdown",
   "id": "dying-quarter",
   "metadata": {},
   "source": [
    "We use a function to create a generator while we use iter() and next() functions to create an iterator. Also a generator used a 'yield' keyword while iterator doesn't. The generator function saves the states of the local variable while iterator does not use local variable instead iterates over an interable."
   ]
  },
  {
   "cell_type": "markdown",
   "id": "pressed-mediterranean",
   "metadata": {},
   "source": [
    "### 3. What are the signs that a function is a generator function?"
   ]
  },
  {
   "cell_type": "markdown",
   "id": "uniform-russia",
   "metadata": {},
   "source": [
    "If the function contains the 'yield' keyword then it is a generator function."
   ]
  },
  {
   "cell_type": "markdown",
   "id": "tight-distributor",
   "metadata": {},
   "source": [
    "### 4. What is the purpose of a yield statement?"
   ]
  },
  {
   "cell_type": "markdown",
   "id": "secondary-official",
   "metadata": {},
   "source": [
    "Yield statement is used to return from a function without destroying the states of its local variable. Also when the function is called its execution starts from the last yield statement. Yield statement allows to resume a function to be resumed from where it was paused previously i.e. the last place where yield was used. The main purpose is to produce values when needed instead of execution at once and receiving all values together."
   ]
  },
  {
   "cell_type": "markdown",
   "id": "baking-shadow",
   "metadata": {},
   "source": [
    "### 5. What is the relationship between map calls and list comprehensions? Make a comparison and contrast between the two."
   ]
  },
  {
   "cell_type": "markdown",
   "id": "voluntary-colorado",
   "metadata": {},
   "source": [
    "The map function is used to apply a function on the items in an iterable. List comprehension provides a easier way to create lists. One can use list comprehension to create a new list from an existing list by applying some operations.\n",
    "\n",
    "* A map function can sometimes be confusing to the user whereas list comprehension offers a clear and concise way to create new lists and offers readability to the user.\n",
    "* A list comprehension can also be used to perform filter operations which map function cannot. (We have filter function to perform filter operations.)\n",
    "* A map function is useful when you have a predefined function that you want to apply to items in an iterable unlinke in list comprehension we have to define our operation every time.\n",
    "* A map function returns a map object whereas list comprehension returns a list."
   ]
  }
 ],
 "metadata": {
  "kernelspec": {
   "display_name": "Python 3",
   "language": "python",
   "name": "python3"
  },
  "language_info": {
   "codemirror_mode": {
    "name": "ipython",
    "version": 3
   },
   "file_extension": ".py",
   "mimetype": "text/x-python",
   "name": "python",
   "nbconvert_exporter": "python",
   "pygments_lexer": "ipython3",
   "version": "3.8.3"
  }
 },
 "nbformat": 4,
 "nbformat_minor": 5
}
