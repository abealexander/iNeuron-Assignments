{
 "cells": [
  {
   "cell_type": "markdown",
   "id": "liable-ceremony",
   "metadata": {},
   "source": [
    "### 1. What is the result of the code, and why?"
   ]
  },
  {
   "cell_type": "code",
   "execution_count": 2,
   "id": "appropriate-upset",
   "metadata": {},
   "outputs": [
    {
     "name": "stdout",
     "output_type": "stream",
     "text": [
      "1 2 8\n"
     ]
    }
   ],
   "source": [
    "def func(a, b=6, c=8):\n",
    "    print(a, b, c)\n",
    "func(1, 2)"
   ]
  },
  {
   "cell_type": "markdown",
   "id": "authentic-subscription",
   "metadata": {},
   "source": [
    "While defining the function we have given default function arguments for 'b' and 'c' hence while calling the function passing values to these arguments are optional. Here, upon calling the function we give values for 'a' and 'b' and the function returns the given values for 'a','b' and returns the default value for 'c'."
   ]
  },
  {
   "cell_type": "markdown",
   "id": "reduced-guyana",
   "metadata": {},
   "source": [
    "### 2. What is the result of this code, and why?"
   ]
  },
  {
   "cell_type": "code",
   "execution_count": 4,
   "id": "novel-immunology",
   "metadata": {},
   "outputs": [
    {
     "name": "stdout",
     "output_type": "stream",
     "text": [
      "1 2 3\n"
     ]
    }
   ],
   "source": [
    "def func(a, b, c=5):\n",
    "    print(a, b, c)\n",
    "func(1, c=3, b=2)"
   ]
  },
  {
   "cell_type": "markdown",
   "id": "rocky-mounting",
   "metadata": {},
   "source": [
    "Here we have given default function arguments for 'c'. While calling the function we have send arguments with key = value syntax. This means order of the arguments do not matter."
   ]
  },
  {
   "cell_type": "markdown",
   "id": "through-saver",
   "metadata": {},
   "source": [
    "### 3. How about this code: what is its result, and why?"
   ]
  },
  {
   "cell_type": "code",
   "execution_count": 8,
   "id": "adolescent-synthetic",
   "metadata": {},
   "outputs": [
    {
     "name": "stdout",
     "output_type": "stream",
     "text": [
      "1 (2, 3)\n"
     ]
    }
   ],
   "source": [
    "def func(a, *pargs):\n",
    "    print(a, pargs)\n",
    "func(1, 2, 3)"
   ]
  },
  {
   "cell_type": "markdown",
   "id": "hollow-honduras",
   "metadata": {},
   "source": [
    "Here we have defined a function which accepts positional non-keyword arguments. *args can be used when we have no idea about the number of non-keyword arguments that should be passed into the function. The function when called returns with the initial keyword argument and a tuple of the non-keyword arguments."
   ]
  },
  {
   "cell_type": "markdown",
   "id": "instructional-parent",
   "metadata": {},
   "source": [
    "### 4. What does this code print, and why?"
   ]
  },
  {
   "cell_type": "code",
   "execution_count": 9,
   "id": "portable-orlando",
   "metadata": {},
   "outputs": [
    {
     "name": "stdout",
     "output_type": "stream",
     "text": [
      "1 {'c': 3, 'b': 2}\n"
     ]
    }
   ],
   "source": [
    "def func(a, **kargs):\n",
    "    print(a, kargs)\n",
    "func(a=1, c=3, b=2)"
   ]
  },
  {
   "cell_type": "markdown",
   "id": "pregnant-surrey",
   "metadata": {},
   "source": [
    "Here we have defined a function which accepts keyword arguments. **kargs can be used when we have no idea about the number of non-keywood arguments that should be passed into the function. The function when called returns with the initial keyword argument and a dictionary of the keyword arguments."
   ]
  },
  {
   "cell_type": "markdown",
   "id": "parallel-anime",
   "metadata": {},
   "source": [
    "### 5. What gets printed by this, and explain?"
   ]
  },
  {
   "cell_type": "code",
   "execution_count": 10,
   "id": "electrical-airfare",
   "metadata": {},
   "outputs": [
    {
     "name": "stdout",
     "output_type": "stream",
     "text": [
      "1 5 6 5\n"
     ]
    }
   ],
   "source": [
    "def func(a, b, c=8, d=5): print(a, b, c, d)\n",
    "func(1, *(5, 6))"
   ]
  },
  {
   "cell_type": "markdown",
   "id": "arranged-blanket",
   "metadata": {},
   "source": [
    "While defining the function we have given default function arguments for 'c' and 'd' hence while calling the function passing values to these arguments are optional. Here, upon calling the function we give values for 'a' and *args for 'b','c', the function returns the given values for 'a','b','c' and returns the default value for 'd'."
   ]
  },
  {
   "cell_type": "markdown",
   "id": "endangered-reaction",
   "metadata": {},
   "source": [
    "### 6. What is the result of this, and explain?"
   ]
  },
  {
   "cell_type": "code",
   "execution_count": 25,
   "id": "systematic-louis",
   "metadata": {},
   "outputs": [
    {
     "data": {
      "text/plain": [
       "(1, ['x'], {'a': 'y'})"
      ]
     },
     "execution_count": 25,
     "metadata": {},
     "output_type": "execute_result"
    }
   ],
   "source": [
    "def func(a, b, c):\n",
    "    a = 2; b[0] = 'x'; c['a'] = 'y'\n",
    "l=1; m=[1]; n={'a':0}\n",
    "func(l, m, n)\n",
    "l, m, n"
   ]
  },
  {
   "cell_type": "markdown",
   "id": "honey-copyright",
   "metadata": {},
   "source": [
    "We have previously learnt that changes or modification to a variable in a local scope does not affect the variable in the global scope. Here we see that the function returns 'l', 'm' and 'n'. While the function changed the list in 'm' and the dict in 'n' it did not change the integer in 'l'. This is because of the concept of mutability and immutability. In Python we have data types like integer, floats, strings, booleans and tuples that are immutable and data types like list and dictionaries that are mutable. This means that the list or dict existing in the global scope can be changed within a function in the local scope. Hence, in the function above we were able to change the values of global list('m') and global dict ('n') within the function."
   ]
  }
 ],
 "metadata": {
  "kernelspec": {
   "display_name": "Python 3",
   "language": "python",
   "name": "python3"
  },
  "language_info": {
   "codemirror_mode": {
    "name": "ipython",
    "version": 3
   },
   "file_extension": ".py",
   "mimetype": "text/x-python",
   "name": "python",
   "nbconvert_exporter": "python",
   "pygments_lexer": "ipython3",
   "version": "3.8.3"
  }
 },
 "nbformat": 4,
 "nbformat_minor": 5
}
