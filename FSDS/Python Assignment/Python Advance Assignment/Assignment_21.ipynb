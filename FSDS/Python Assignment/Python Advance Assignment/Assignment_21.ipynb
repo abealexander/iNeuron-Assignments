{
 "cells": [
  {
   "cell_type": "markdown",
   "id": "roman-israeli",
   "metadata": {},
   "source": [
    "### 1. What is a probability distribution, exactly? If the values are meant to be random, how can you predict them at all?"
   ]
  },
  {
   "cell_type": "markdown",
   "id": "bafcb3d8",
   "metadata": {},
   "source": [
    "A probability distribution is the mathematical function that gives the probabilities of occurrence of different possible outcomes for an experiment.\n",
    "Based on historical data of the experiment we can perform a prediction as there may exist a correlation between the outcome and the experiment."
   ]
  },
  {
   "cell_type": "markdown",
   "id": "greek-poster",
   "metadata": {},
   "source": [
    "### 2. Is there a distinction between true random numbers and pseudo-random numbers, if there is one? Why are the latter considered “good enough”?"
   ]
  },
  {
   "cell_type": "markdown",
   "id": "6822b4aa",
   "metadata": {},
   "source": [
    "True Random Number:\n",
    "For truly random numbers, the computer must use some external physical variable that is unpredictable, such as radioactive decay of isotopes or airwave static, rather than by an algorithm. At the quantum level, subatomic particles have completely random behavior, making them ideal variables of an unpredictable system.\n",
    "\n",
    "Pseudo Random Number:\n",
    "Software-generated random numbers only are pseudorandom. They are not truly random because the computer uses an algorithm based on a distribution, and are not secure because they rely on deterministic, predictable algorithms. Since a seed number can be set to replicate the “random” numbers generated, it is possible to predict the numbers if the seed is known. \n",
    "\n",
    "The latter is considered \"good enough\" as the costs to generate a True Random Number is higher."
   ]
  },
  {
   "cell_type": "markdown",
   "id": "healthy-findings",
   "metadata": {},
   "source": [
    "### 3. What are the two main factors that influence the behaviour of a \"normal\" probability distribution?"
   ]
  },
  {
   "cell_type": "markdown",
   "id": "169016bc",
   "metadata": {},
   "source": [
    "Mean and Standard Deviation"
   ]
  },
  {
   "cell_type": "markdown",
   "id": "phantom-masters",
   "metadata": {},
   "source": [
    "### 4. Provide a real-life example of a normal distribution."
   ]
  },
  {
   "cell_type": "markdown",
   "id": "7d399f77",
   "metadata": {},
   "source": [
    "Tossing a coin, rolling a die, blood pressure, etc."
   ]
  },
  {
   "cell_type": "markdown",
   "id": "general-school",
   "metadata": {},
   "source": [
    "### 5. In the short term, how can you expect a probability distribution to behave? What do you think will happen as the number of trials grows?"
   ]
  },
  {
   "cell_type": "markdown",
   "id": "f7872f34",
   "metadata": {},
   "source": [
    "As the number of trials grow the distribution becomes sharper and with relative certainity we can predict the outcome."
   ]
  },
  {
   "cell_type": "markdown",
   "id": "illegal-quarterly",
   "metadata": {},
   "source": [
    "### 6. What kind of object can be shuffled by using random.shuffle?"
   ]
  },
  {
   "cell_type": "markdown",
   "id": "2a9ccbaa",
   "metadata": {},
   "source": [
    "List object can be shuffled by using random.shuffle."
   ]
  },
  {
   "cell_type": "markdown",
   "id": "anticipated-antibody",
   "metadata": {},
   "source": [
    "### 7. Describe the math package's general categories of functions."
   ]
  },
  {
   "cell_type": "markdown",
   "id": "80e91fa3",
   "metadata": {},
   "source": [
    "- Number-theoretic and representation functions\n",
    "- Power and logarithmic functions\n",
    "- Trigonometric functions\n",
    "- Angular conversion\n",
    "- Hyperbolic functions\n",
    "- Special Functions\n",
    "- Constants"
   ]
  },
  {
   "cell_type": "markdown",
   "id": "cardiovascular-siemens",
   "metadata": {},
   "source": [
    "### 8. What is the relationship between exponentiation and logarithms?"
   ]
  },
  {
   "cell_type": "markdown",
   "id": "06bb0395",
   "metadata": {},
   "source": [
    "Inverse relationship as logs undo exponentials."
   ]
  },
  {
   "cell_type": "code",
   "execution_count": 4,
   "id": "55cdd4af",
   "metadata": {},
   "outputs": [
    {
     "data": {
      "text/plain": [
       "22026.465794806718"
      ]
     },
     "execution_count": 4,
     "metadata": {},
     "output_type": "execute_result"
    }
   ],
   "source": [
    "import math\n",
    "math.exp(10)"
   ]
  },
  {
   "cell_type": "code",
   "execution_count": 5,
   "id": "5ed69acf",
   "metadata": {},
   "outputs": [
    {
     "data": {
      "text/plain": [
       "10.0"
      ]
     },
     "execution_count": 5,
     "metadata": {},
     "output_type": "execute_result"
    }
   ],
   "source": [
    "math.log(22026.465794806718)"
   ]
  },
  {
   "cell_type": "markdown",
   "id": "average-fundamentals",
   "metadata": {},
   "source": [
    "### 9. What are the three logarithmic functions that Python supports?"
   ]
  },
  {
   "cell_type": "markdown",
   "id": "e6b03ffa",
   "metadata": {},
   "source": [
    "math.log(x[, base])\n",
    "\n",
    "math.log1p(x)\n",
    "\n",
    "math.log2(x)\n",
    "\n",
    "math.log10(x)"
   ]
  }
 ],
 "metadata": {
  "kernelspec": {
   "display_name": "Python 3",
   "language": "python",
   "name": "python3"
  },
  "language_info": {
   "codemirror_mode": {
    "name": "ipython",
    "version": 3
   },
   "file_extension": ".py",
   "mimetype": "text/x-python",
   "name": "python",
   "nbconvert_exporter": "python",
   "pygments_lexer": "ipython3",
   "version": "3.8.10"
  }
 },
 "nbformat": 4,
 "nbformat_minor": 5
}
