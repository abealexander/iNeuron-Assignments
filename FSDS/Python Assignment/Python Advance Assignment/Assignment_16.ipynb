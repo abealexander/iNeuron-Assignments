{
 "cells": [
  {
   "cell_type": "markdown",
   "id": "illegal-switzerland",
   "metadata": {},
   "source": [
    "### 1. What is the benefit of regular expressions?"
   ]
  },
  {
   "cell_type": "markdown",
   "id": "b51f021f",
   "metadata": {},
   "source": [
    "Regular expressions are mainly used for searching through textual data. They allow you to search for pieces of text that match a certain form, instead of searching for a piece of text identical to the one you supply.\n",
    "They are widely used throughout the Machine Learning Lifecycle."
   ]
  },
  {
   "cell_type": "markdown",
   "id": "protective-peripheral",
   "metadata": {},
   "source": [
    "### 2. Describe the difference between the effects of \"(ab)c+\" and \"a(bc)+.\" Which of these, if any, is the unqualified pattern \"abc+\"?"
   ]
  },
  {
   "cell_type": "code",
   "execution_count": 19,
   "id": "other-crystal",
   "metadata": {},
   "outputs": [
    {
     "name": "stdout",
     "output_type": "stream",
     "text": [
      "Text: ababc  Match: abc\n",
      "Text: abccccccc  Match: abccccccc\n",
      "Text: abccccc  Match: abc\n",
      "Text: abcbc  Match: abcbc\n"
     ]
    }
   ],
   "source": [
    "import re\n",
    "text= \"ababc\"\n",
    "reobj=re.compile(r'(ab)c+')\n",
    "match=reobj.search(text)\n",
    "print(\"Text:\", text, \" Match:\",match.group())\n",
    "\n",
    "text= \"abccccccc\"\n",
    "reobj=re.compile(r'(ab)c+')\n",
    "match=reobj.search(text)\n",
    "print(\"Text:\", text, \" Match:\",match.group())\n",
    "\n",
    "text= \"abccccc\"\n",
    "reobj=re.compile(r'a(bc)+')\n",
    "match=reobj.search(text)\n",
    "print(\"Text:\", text, \" Match:\",match.group())\n",
    "\n",
    "text= \"abcbc\"\n",
    "reobj=re.compile(r'a(bc)+')\n",
    "match=reobj.search(text)\n",
    "print(\"Text:\", text, \" Match:\",match.group())"
   ]
  },
  {
   "cell_type": "markdown",
   "id": "98caf7ef",
   "metadata": {},
   "source": [
    "\"(ab)c+\" matches only one instance of \"(ab)\" and any number of instances of \"c\" as seen in example 1 & 2.\n",
    "\"a(bc)+\" matches only one instances of \"a\" and any number of instances of \"bc\" as seen in example 3 & 4.  "
   ]
  },
  {
   "cell_type": "code",
   "execution_count": 24,
   "id": "8282ee36",
   "metadata": {},
   "outputs": [
    {
     "name": "stdout",
     "output_type": "stream",
     "text": [
      "Text: abcccc  Match: abcccc\n"
     ]
    }
   ],
   "source": [
    "text= \"abcccc\"\n",
    "reobj=re.compile(r'abc+')\n",
    "match=reobj.search(text)\n",
    "print(\"Text:\", text, \" Match:\",match.group())"
   ]
  },
  {
   "cell_type": "markdown",
   "id": "c8a8a4f8",
   "metadata": {},
   "source": [
    "\"(ab)c+ is the unqualified pattern \"abc+\"."
   ]
  },
  {
   "cell_type": "markdown",
   "id": "irish-testimony",
   "metadata": {},
   "source": [
    "### 3. How much do you need to use the following sentence while using regular expressions?\n",
    "\n",
    "import re\n"
   ]
  },
  {
   "cell_type": "markdown",
   "id": "283e6f4b",
   "metadata": {},
   "source": [
    "Once if one needs to start using regual expression."
   ]
  },
  {
   "cell_type": "markdown",
   "id": "living-enlargement",
   "metadata": {},
   "source": [
    "### 4. Which characters have special significance in square brackets when expressing a range, and under what circumstances?"
   ]
  },
  {
   "cell_type": "raw",
   "id": "7c09619c",
   "metadata": {},
   "source": [
    ". * ? ^ or () have special significance when used in square brackets when expressing a range. They need not be escacped by '\\' as in case of patterns texts in raw string."
   ]
  },
  {
   "cell_type": "markdown",
   "id": "searching-queens",
   "metadata": {},
   "source": [
    "### 5. How does compiling a regular-expression object benefit you?"
   ]
  },
  {
   "cell_type": "markdown",
   "id": "7112293e",
   "metadata": {},
   "source": [
    "A benefit of compiling a regular-expression object is not having to rewrite the pattern when needed."
   ]
  },
  {
   "cell_type": "markdown",
   "id": "damaged-boundary",
   "metadata": {},
   "source": [
    "### 6. What are some examples of how to use the match object returned by re.match and re.search?"
   ]
  },
  {
   "cell_type": "markdown",
   "id": "95eca3ce",
   "metadata": {},
   "source": [
    "Both return the first match of a substring found in the string, but re.match() searches only from the beginning of the string and return match object if found. But if a match of substring is found somewhere in the middle of the string, it returns none. \n",
    "While re.search() searches for the whole string even if the string contains multi-lines and tries to find a match of the substring in all the lines of string.\n",
    "\n",
    "Reference: https://www.geeksforgeeks.org/python-re-search-vs-re-match/"
   ]
  },
  {
   "cell_type": "code",
   "execution_count": 36,
   "id": "06012386",
   "metadata": {},
   "outputs": [
    {
     "name": "stdout",
     "output_type": "stream",
     "text": [
      "Match:  None\n",
      "Search:  <re.Match object; span=(8, 11), match='you'>\n",
      "Match:  <re.Match object; span=(0, 3), match='you'>\n",
      "Search:  <re.Match object; span=(0, 3), match='you'>\n"
     ]
    }
   ],
   "source": [
    "substring = \"you\"\n",
    "\n",
    "String1 = \"How are you\"\n",
    "String2 = \"you are caught\"\n",
    "\n",
    "print(\"Match: \", re.match(substring, String1))\n",
    "print(\"Search: \", re.search(substring, String1))\n",
    "\n",
    "print(\"Match: \", re.match(substring, String2))\n",
    "print(\"Search: \", re.search(substring, String2))"
   ]
  },
  {
   "cell_type": "markdown",
   "id": "robust-absence",
   "metadata": {},
   "source": [
    "### 7. What is the difference between using a vertical bar (|) as an alteration and using square brackets as a character set?"
   ]
  },
  {
   "cell_type": "markdown",
   "id": "4e9b8cc2",
   "metadata": {},
   "source": [
    "The vertical bar is a regex \"or\" means \"a or b\"\n",
    "\n",
    "Square brackets are a character class meaning \"any character from a or b\"."
   ]
  },
  {
   "cell_type": "markdown",
   "id": "developmental-technician",
   "metadata": {},
   "source": [
    "### 8. In regular-expression search patterns, why is it necessary to use the raw-string indicator (r)? In   replacement strings?"
   ]
  },
  {
   "cell_type": "raw",
   "id": "f46c6324",
   "metadata": {},
   "source": [
    "The Python docs, 7.2. re — Regular expression operations says, \"Regular expressions use the backslash character ('\\') to indicate special forms or to allow special characters to be used without invoking their special meaning. This collides with Python’s usage of the same character for the same purpose in string literals...\"\n",
    "\n",
    "If you want a Python regular expression object which matches a newline character, then you need a 2-character string, consisting of the backslash character followed by the n character. The following lines of code all set prog to a regular expression object which recognises a newline character:"
   ]
  },
  {
   "cell_type": "code",
   "execution_count": 41,
   "id": "expanded-athens",
   "metadata": {},
   "outputs": [],
   "source": [
    "prog = re.compile(chr(92)+chr(110))\n",
    "prog = re.compile(\"\\\\n\")\n",
    "prog = re.compile(r\"\\n\")"
   ]
  },
  {
   "cell_type": "markdown",
   "id": "8bbb2efc",
   "metadata": {},
   "source": [
    "Reference: https://stackoverflow.com/questions/12871066/what-exactly-is-a-raw-string-regex-and-how-can-you-use-it"
   ]
  },
  {
   "cell_type": "markdown",
   "id": "d3a9064b",
   "metadata": {},
   "source": [
    "As the usage of backslash in Python collides with that of Regular Expressions we use raw-string indicator to avoid such conflicts."
   ]
  }
 ],
 "metadata": {
  "kernelspec": {
   "display_name": "Python 3",
   "language": "python",
   "name": "python3"
  },
  "language_info": {
   "codemirror_mode": {
    "name": "ipython",
    "version": 3
   },
   "file_extension": ".py",
   "mimetype": "text/x-python",
   "name": "python",
   "nbconvert_exporter": "python",
   "pygments_lexer": "ipython3",
   "version": "3.8.10"
  }
 },
 "nbformat": 4,
 "nbformat_minor": 5
}
