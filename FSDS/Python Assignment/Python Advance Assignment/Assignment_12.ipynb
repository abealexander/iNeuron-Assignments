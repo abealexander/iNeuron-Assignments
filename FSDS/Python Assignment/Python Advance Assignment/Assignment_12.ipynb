{
 "cells": [
  {
   "cell_type": "markdown",
   "id": "earlier-worthy",
   "metadata": {},
   "source": [
    "### 1. Does assigning a value to a string's indexed character violate Python's string immutability?"
   ]
  },
  {
   "cell_type": "markdown",
   "id": "73c05bdd",
   "metadata": {},
   "source": [
    "Upon tryin to assign a value to a string's indexed character you will get a type error saying \" 'str' object does not support item assignment\" i.e. when you try to violate Python's string immutability."
   ]
  },
  {
   "cell_type": "code",
   "execution_count": 18,
   "id": "2a3db3a9",
   "metadata": {},
   "outputs": [
    {
     "ename": "TypeError",
     "evalue": "'str' object does not support item assignment",
     "output_type": "error",
     "traceback": [
      "\u001b[1;31m---------------------------------------------------------------------------\u001b[0m",
      "\u001b[1;31mTypeError\u001b[0m                                 Traceback (most recent call last)",
      "\u001b[1;32m<ipython-input-18-122c075dd651>\u001b[0m in \u001b[0;36m<module>\u001b[1;34m\u001b[0m\n\u001b[0;32m      1\u001b[0m \u001b[0ma\u001b[0m \u001b[1;33m=\u001b[0m \u001b[1;34m\"abc\"\u001b[0m\u001b[1;33m\u001b[0m\u001b[1;33m\u001b[0m\u001b[0m\n\u001b[1;32m----> 2\u001b[1;33m \u001b[0ma\u001b[0m\u001b[1;33m[\u001b[0m\u001b[1;36m0\u001b[0m\u001b[1;33m]\u001b[0m \u001b[1;33m=\u001b[0m \u001b[1;36m1\u001b[0m\u001b[1;33m\u001b[0m\u001b[1;33m\u001b[0m\u001b[0m\n\u001b[0m",
      "\u001b[1;31mTypeError\u001b[0m: 'str' object does not support item assignment"
     ]
    }
   ],
   "source": [
    "a = \"abc\"\n",
    "a[0] = 1"
   ]
  },
  {
   "cell_type": "markdown",
   "id": "moved-share",
   "metadata": {},
   "source": [
    "### 2. Does using the += operator to concatenate strings violate Python's string immutability? Why or why not?"
   ]
  },
  {
   "cell_type": "markdown",
   "id": "d73b682c",
   "metadata": {},
   "source": [
    "No using the += operator to conacatenate strings does not violate Python's string immutability as in this case we are not updating or changing the original string. Here a new string is generated."
   ]
  },
  {
   "cell_type": "code",
   "execution_count": 19,
   "id": "842584ce",
   "metadata": {},
   "outputs": [
    {
     "data": {
      "text/plain": [
       "'abcefg'"
      ]
     },
     "execution_count": 19,
     "metadata": {},
     "output_type": "execute_result"
    }
   ],
   "source": [
    "a += 'efg'\n",
    "a"
   ]
  },
  {
   "cell_type": "markdown",
   "id": "arabic-spotlight",
   "metadata": {},
   "source": [
    "### 3. In Python, how many different ways are there to index a character?"
   ]
  },
  {
   "cell_type": "markdown",
   "id": "4bd5b142",
   "metadata": {},
   "source": [
    "Positive and Negative Indexing"
   ]
  },
  {
   "cell_type": "markdown",
   "id": "colored-student",
   "metadata": {},
   "source": [
    "### 4. What is the relationship between indexing and slicing?"
   ]
  },
  {
   "cell_type": "markdown",
   "id": "f3d09d0c",
   "metadata": {},
   "source": [
    "Indexing is used to obtain individual elements based on their index whereas slicing is used to obtain more than one element or a sequence of elements."
   ]
  },
  {
   "cell_type": "markdown",
   "id": "approximate-enforcement",
   "metadata": {},
   "source": [
    "### 5. What is an indexed character's exact data type? What is the data form of a slicing-generated substring?"
   ]
  },
  {
   "cell_type": "markdown",
   "id": "8f0f3d9b",
   "metadata": {},
   "source": [
    "The indexed character's data type depends on the original character's data type."
   ]
  },
  {
   "cell_type": "code",
   "execution_count": 20,
   "id": "05e17625",
   "metadata": {},
   "outputs": [],
   "source": [
    "b = ['123',1,2,3]"
   ]
  },
  {
   "cell_type": "code",
   "execution_count": 21,
   "id": "canadian-wholesale",
   "metadata": {},
   "outputs": [
    {
     "data": {
      "text/plain": [
       "str"
      ]
     },
     "execution_count": 21,
     "metadata": {},
     "output_type": "execute_result"
    }
   ],
   "source": [
    "type(b[0])"
   ]
  },
  {
   "cell_type": "code",
   "execution_count": 22,
   "id": "f56a1eae",
   "metadata": {},
   "outputs": [
    {
     "data": {
      "text/plain": [
       "int"
      ]
     },
     "execution_count": 22,
     "metadata": {},
     "output_type": "execute_result"
    }
   ],
   "source": [
    "type(b[1])"
   ]
  },
  {
   "cell_type": "markdown",
   "id": "6d875fee",
   "metadata": {},
   "source": [
    "Similarly the data form of a slicing-generated substring depends on the original string."
   ]
  },
  {
   "cell_type": "code",
   "execution_count": 23,
   "id": "bf537efd",
   "metadata": {},
   "outputs": [
    {
     "data": {
      "text/plain": [
       "list"
      ]
     },
     "execution_count": 23,
     "metadata": {},
     "output_type": "execute_result"
    }
   ],
   "source": [
    "type(b[0:1])"
   ]
  },
  {
   "cell_type": "code",
   "execution_count": 24,
   "id": "cd60470b",
   "metadata": {},
   "outputs": [
    {
     "data": {
      "text/plain": [
       "str"
      ]
     },
     "execution_count": 24,
     "metadata": {},
     "output_type": "execute_result"
    }
   ],
   "source": [
    "type(b[0][0:2])"
   ]
  },
  {
   "cell_type": "markdown",
   "id": "nearby-staff",
   "metadata": {},
   "source": [
    "### 6. What is the relationship between string and character \"types\" in Python?"
   ]
  },
  {
   "cell_type": "markdown",
   "id": "86fbb439",
   "metadata": {},
   "source": [
    "Strings are arrays of bytes representing unicode characters. However, Python does not have a character data type, a single character is simply a string with a length of 1."
   ]
  },
  {
   "cell_type": "markdown",
   "id": "appropriate-version",
   "metadata": {},
   "source": [
    "### 7. Identify at least two operators and one method that allow you to combine one or more smaller strings to create a larger string."
   ]
  },
  {
   "cell_type": "code",
   "execution_count": 25,
   "id": "devoted-insured",
   "metadata": {},
   "outputs": [
    {
     "name": "stdout",
     "output_type": "stream",
     "text": [
      "ab\n",
      "aaa\n",
      "a b\n"
     ]
    }
   ],
   "source": [
    "# Using '+' operator\n",
    "print('a' + 'b')\n",
    "\n",
    "# Using '*' operator\n",
    "print('a' * 3)\n",
    "\n",
    "# Using join method\n",
    "print(\" \".join(['a', 'b']))"
   ]
  },
  {
   "cell_type": "markdown",
   "id": "artistic-mason",
   "metadata": {},
   "source": [
    "### 8. What is the benefit of first checking the target string with in or not in before using the index method to find a substring?"
   ]
  },
  {
   "cell_type": "markdown",
   "id": "1d572490",
   "metadata": {},
   "source": [
    "We can prevent Index related errors by checking the target string first."
   ]
  },
  {
   "cell_type": "code",
   "execution_count": 29,
   "id": "eace33f4",
   "metadata": {},
   "outputs": [
    {
     "ename": "IndexError",
     "evalue": "string index out of range",
     "output_type": "error",
     "traceback": [
      "\u001b[1;31m---------------------------------------------------------------------------\u001b[0m",
      "\u001b[1;31mIndexError\u001b[0m                                Traceback (most recent call last)",
      "\u001b[1;32m<ipython-input-29-7c7cb9812849>\u001b[0m in \u001b[0;36m<module>\u001b[1;34m\u001b[0m\n\u001b[1;32m----> 1\u001b[1;33m \u001b[0ma\u001b[0m\u001b[1;33m[\u001b[0m\u001b[1;36m10\u001b[0m\u001b[1;33m]\u001b[0m\u001b[1;33m\u001b[0m\u001b[1;33m\u001b[0m\u001b[0m\n\u001b[0m",
      "\u001b[1;31mIndexError\u001b[0m: string index out of range"
     ]
    }
   ],
   "source": [
    "a[10]"
   ]
  },
  {
   "cell_type": "markdown",
   "id": "racial-school",
   "metadata": {},
   "source": [
    "### 9. Which operators and built-in string methods produce simple Boolean (true/false) results?"
   ]
  },
  {
   "cell_type": "code",
   "execution_count": 31,
   "id": "eleven-indiana",
   "metadata": {},
   "outputs": [
    {
     "data": {
      "text/plain": [
       "True"
      ]
     },
     "execution_count": 31,
     "metadata": {},
     "output_type": "execute_result"
    }
   ],
   "source": [
    "# Comparison operators\n",
    "100 > 1"
   ]
  },
  {
   "cell_type": "code",
   "execution_count": 33,
   "id": "bbfdb186",
   "metadata": {},
   "outputs": [
    {
     "data": {
      "text/plain": [
       "False"
      ]
     },
     "execution_count": 33,
     "metadata": {},
     "output_type": "execute_result"
    }
   ],
   "source": [
    "# String Methods\n",
    "'abc123'.isalpha()"
   ]
  }
 ],
 "metadata": {
  "kernelspec": {
   "display_name": "Python 3",
   "language": "python",
   "name": "python3"
  },
  "language_info": {
   "codemirror_mode": {
    "name": "ipython",
    "version": 3
   },
   "file_extension": ".py",
   "mimetype": "text/x-python",
   "name": "python",
   "nbconvert_exporter": "python",
   "pygments_lexer": "ipython3",
   "version": "3.8.10"
  }
 },
 "nbformat": 4,
 "nbformat_minor": 5
}
