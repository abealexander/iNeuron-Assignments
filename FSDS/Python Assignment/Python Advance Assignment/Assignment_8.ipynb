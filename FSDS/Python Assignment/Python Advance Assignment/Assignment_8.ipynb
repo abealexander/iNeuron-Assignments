{
 "cells": [
  {
   "cell_type": "markdown",
   "id": "after-russian",
   "metadata": {},
   "source": [
    "### 1. What are the two latest user-defined exception constraints in Python 3.X?"
   ]
  },
  {
   "cell_type": "markdown",
   "id": "36f0b3b8",
   "metadata": {},
   "source": [
    "* PEP 352: All exceptions must be derived (directly or indirectly) from BaseException.\n",
    "* PEP 3109: Raising exceptions. You must now use raise Exception(args) instead of raise Exception, args."
   ]
  },
  {
   "cell_type": "markdown",
   "id": "latin-surgery",
   "metadata": {},
   "source": [
    "### 2. How are class-based exceptions that have been raised matched to handlers?"
   ]
  },
  {
   "cell_type": "markdown",
   "id": "2f16ea98",
   "metadata": {},
   "source": [
    "Couldn't find an answer."
   ]
  },
  {
   "cell_type": "markdown",
   "id": "recorded-morris",
   "metadata": {},
   "source": [
    "### 3. Describe two methods for attaching context information to exception artefacts."
   ]
  },
  {
   "cell_type": "markdown",
   "id": "31728f44",
   "metadata": {},
   "source": [
    "The following methods can be used to attach context information to exception artifacts:\n",
    "- context\n",
    "- cause\n",
    "- trackback"
   ]
  },
  {
   "cell_type": "markdown",
   "id": "filled-cyprus",
   "metadata": {},
   "source": [
    "### 4. Describe two methods for specifying the text of an exception object's error message."
   ]
  },
  {
   "cell_type": "markdown",
   "id": "7ceb8bac",
   "metadata": {},
   "source": [
    "Two methods for specifying the text of an exception object's error message:"
   ]
  },
  {
   "cell_type": "code",
   "execution_count": 3,
   "id": "567dcef4",
   "metadata": {},
   "outputs": [
    {
     "name": "stdout",
     "output_type": "stream",
     "text": [
      "Not Divisible by Zero\n"
     ]
    }
   ],
   "source": [
    "try:\n",
    "    1/0\n",
    "except Exception as e:\n",
    "    print(\"Not Divisible by Zero\")"
   ]
  },
  {
   "cell_type": "code",
   "execution_count": 4,
   "id": "d516e6b4",
   "metadata": {},
   "outputs": [
    {
     "ename": "Exception",
     "evalue": "Sorry, no numbers below zero",
     "output_type": "error",
     "traceback": [
      "\u001b[1;31m---------------------------------------------------------------------------\u001b[0m",
      "\u001b[1;31mException\u001b[0m                                 Traceback (most recent call last)",
      "\u001b[1;32m<ipython-input-4-2edc57024fbc>\u001b[0m in \u001b[0;36m<module>\u001b[1;34m\u001b[0m\n\u001b[0;32m      2\u001b[0m \u001b[1;33m\u001b[0m\u001b[0m\n\u001b[0;32m      3\u001b[0m \u001b[1;32mif\u001b[0m \u001b[0mx\u001b[0m \u001b[1;33m<\u001b[0m \u001b[1;36m0\u001b[0m\u001b[1;33m:\u001b[0m\u001b[1;33m\u001b[0m\u001b[1;33m\u001b[0m\u001b[0m\n\u001b[1;32m----> 4\u001b[1;33m   \u001b[1;32mraise\u001b[0m \u001b[0mException\u001b[0m\u001b[1;33m(\u001b[0m\u001b[1;34m\"Sorry, no numbers below zero\"\u001b[0m\u001b[1;33m)\u001b[0m\u001b[1;33m\u001b[0m\u001b[1;33m\u001b[0m\u001b[0m\n\u001b[0m",
      "\u001b[1;31mException\u001b[0m: Sorry, no numbers below zero"
     ]
    }
   ],
   "source": [
    "x = -1\n",
    "\n",
    "if x < 0:\n",
    "  raise Exception(\"Sorry, no numbers below zero\")"
   ]
  },
  {
   "cell_type": "markdown",
   "id": "rising-disclaimer",
   "metadata": {},
   "source": [
    "### 5. Why do you no longer use string-based exceptions?"
   ]
  },
  {
   "cell_type": "markdown",
   "id": "3dff6bae",
   "metadata": {},
   "source": [
    "Since class-based exceptions provides an exact error message compared to string-based exceptions."
   ]
  }
 ],
 "metadata": {
  "kernelspec": {
   "display_name": "Python 3",
   "language": "python",
   "name": "python3"
  },
  "language_info": {
   "codemirror_mode": {
    "name": "ipython",
    "version": 3
   },
   "file_extension": ".py",
   "mimetype": "text/x-python",
   "name": "python",
   "nbconvert_exporter": "python",
   "pygments_lexer": "ipython3",
   "version": "3.8.10"
  }
 },
 "nbformat": 4,
 "nbformat_minor": 5
}
