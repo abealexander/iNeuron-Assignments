{
 "cells": [
  {
   "cell_type": "markdown",
   "id": "pleasant-gates",
   "metadata": {},
   "source": [
    "### 1. What are the benefits of the built-in array package, if any?"
   ]
  },
  {
   "cell_type": "markdown",
   "id": "799e82ac",
   "metadata": {},
   "source": [
    "Arrays can store data very compactly and are more efficient for storing large amounts of data.\n",
    "Arrays are great for numerical operations."
   ]
  },
  {
   "cell_type": "markdown",
   "id": "systematic-paraguay",
   "metadata": {},
   "source": [
    "### 2. What are some of the array package's limitations?"
   ]
  },
  {
   "cell_type": "markdown",
   "id": "c5748e61",
   "metadata": {},
   "source": [
    "The array module requires all array elements to be of the same type. Also to create an array, you'll need to specify a value type."
   ]
  },
  {
   "cell_type": "markdown",
   "id": "threaded-compact",
   "metadata": {},
   "source": [
    "### 3. Describe the main differences between the array and numpy packages."
   ]
  },
  {
   "cell_type": "markdown",
   "id": "5c45a268",
   "metadata": {},
   "source": [
    "The array module requires all array elements to be of the same type. Also to create an array, you'll need to specify a value type.\n",
    "\n",
    "On the other hand, NumPy arrays support different data types. To create a NumPy array, you only need to specify the items."
   ]
  },
  {
   "cell_type": "markdown",
   "id": "fleet-necklace",
   "metadata": {},
   "source": [
    "### 4. Explain the distinctions between the empty, ones, and zeros functions."
   ]
  },
  {
   "cell_type": "code",
   "execution_count": 3,
   "id": "atlantic-devil",
   "metadata": {},
   "outputs": [],
   "source": [
    "import numpy as np"
   ]
  },
  {
   "cell_type": "code",
   "execution_count": 5,
   "id": "b71f44a3",
   "metadata": {},
   "outputs": [
    {
     "data": {
      "text/plain": [
       "array([[0., 0., 0.],\n",
       "       [0., 0., 0.],\n",
       "       [0., 0., 0.]])"
      ]
     },
     "execution_count": 5,
     "metadata": {},
     "output_type": "execute_result"
    }
   ],
   "source": [
    "# Return a new array of given shape and type, without initializing entries.\n",
    "np.empty([3,3])"
   ]
  },
  {
   "cell_type": "code",
   "execution_count": 6,
   "id": "2a15921a",
   "metadata": {},
   "outputs": [
    {
     "data": {
      "text/plain": [
       "array([[1., 1., 1.],\n",
       "       [1., 1., 1.],\n",
       "       [1., 1., 1.]])"
      ]
     },
     "execution_count": 6,
     "metadata": {},
     "output_type": "execute_result"
    }
   ],
   "source": [
    "# Return a new array of given shape and type, without initializing entries.\n",
    "np.ones([3,3])"
   ]
  },
  {
   "cell_type": "code",
   "execution_count": 4,
   "id": "5ee0bb4f",
   "metadata": {},
   "outputs": [
    {
     "data": {
      "text/plain": [
       "array([[0., 0., 0.],\n",
       "       [0., 0., 0.],\n",
       "       [0., 0., 0.]])"
      ]
     },
     "execution_count": 4,
     "metadata": {},
     "output_type": "execute_result"
    }
   ],
   "source": [
    "# Return a new array of given shape and type, filled with zeros.\n",
    "np.zeros([3,3])"
   ]
  },
  {
   "cell_type": "markdown",
   "id": "daily-reception",
   "metadata": {},
   "source": [
    "### 5. In the fromfunction function, which is used to construct new arrays, what is the role of the callable argument?"
   ]
  },
  {
   "cell_type": "raw",
   "id": "c097cd9a",
   "metadata": {},
   "source": [
    "np.fromfunction()\n",
    "# function : callable\n",
    "    The function is called with N parameters, where N is the rank of\n",
    "    `shape`.  Each parameter represents the coordinates of the array\n",
    "    varying along a specific axis.  For example, if `shape`\n",
    "    were ``(2, 2)``, then the parameters would be\n",
    "    ``array([[0, 0], [1, 1]])`` and ``array([[0, 1], [0, 1]])``"
   ]
  },
  {
   "cell_type": "markdown",
   "id": "narrow-malta",
   "metadata": {},
   "source": [
    "### 6. What happens when a numpy array is combined with a single-value operand (a scalar, such as an int or a floating-point value) through addition, as in the expression A + n?"
   ]
  },
  {
   "cell_type": "code",
   "execution_count": 13,
   "id": "moderate-relative",
   "metadata": {},
   "outputs": [
    {
     "data": {
      "text/plain": [
       "array([[3., 3., 3.],\n",
       "       [3., 3., 3.],\n",
       "       [3., 3., 3.]])"
      ]
     },
     "execution_count": 13,
     "metadata": {},
     "output_type": "execute_result"
    }
   ],
   "source": [
    "one = np.ones([3,3])\n",
    "one + 2"
   ]
  },
  {
   "cell_type": "markdown",
   "id": "refined-preference",
   "metadata": {},
   "source": [
    "### 7. Can array-to-scalar operations use combined operation-assign operators (such as += or *=)? What is the outcome?"
   ]
  },
  {
   "cell_type": "code",
   "execution_count": 14,
   "id": "greek-spokesman",
   "metadata": {},
   "outputs": [
    {
     "name": "stdout",
     "output_type": "stream",
     "text": [
      "[[11. 11. 11.]\n",
      " [11. 11. 11.]\n",
      " [11. 11. 11.]]\n"
     ]
    }
   ],
   "source": [
    "one += 10\n",
    "print(one)"
   ]
  },
  {
   "cell_type": "code",
   "execution_count": 15,
   "id": "5e9ae6a6",
   "metadata": {},
   "outputs": [
    {
     "name": "stdout",
     "output_type": "stream",
     "text": [
      "[[22. 22. 22.]\n",
      " [22. 22. 22.]\n",
      " [22. 22. 22.]]\n"
     ]
    }
   ],
   "source": [
    "one *= 2\n",
    "print(one)"
   ]
  },
  {
   "cell_type": "markdown",
   "id": "hidden-ghana",
   "metadata": {},
   "source": [
    "### 8. Does a numpy array contain fixed-length strings? What happens if you allocate a longer string to one of these arrays?"
   ]
  },
  {
   "cell_type": "code",
   "execution_count": 16,
   "id": "athletic-primary",
   "metadata": {},
   "outputs": [
    {
     "data": {
      "text/plain": [
       "array(['Hello'], dtype='<U5')"
      ]
     },
     "execution_count": 16,
     "metadata": {},
     "output_type": "execute_result"
    }
   ],
   "source": [
    "np.array(['Hello'])"
   ]
  },
  {
   "cell_type": "code",
   "execution_count": 17,
   "id": "d7f76a5b",
   "metadata": {},
   "outputs": [
    {
     "data": {
      "text/plain": [
       "array(['Hello How'], dtype='<U9')"
      ]
     },
     "execution_count": 17,
     "metadata": {},
     "output_type": "execute_result"
    }
   ],
   "source": [
    "np.array(['Hello How'])"
   ]
  },
  {
   "cell_type": "code",
   "execution_count": 18,
   "id": "eef41486",
   "metadata": {},
   "outputs": [
    {
     "data": {
      "text/plain": [
       "array(['Hello How Are'], dtype='<U13')"
      ]
     },
     "execution_count": 18,
     "metadata": {},
     "output_type": "execute_result"
    }
   ],
   "source": [
    "np.array(['Hello How Are'])"
   ]
  },
  {
   "cell_type": "code",
   "execution_count": 20,
   "id": "3d3a6ac0",
   "metadata": {},
   "outputs": [
    {
     "data": {
      "text/plain": [
       "array(['Hello How Are You?'], dtype='<U18')"
      ]
     },
     "execution_count": 20,
     "metadata": {},
     "output_type": "execute_result"
    }
   ],
   "source": [
    "np.array(['Hello How Are You?'])"
   ]
  },
  {
   "cell_type": "markdown",
   "id": "corporate-inquiry",
   "metadata": {},
   "source": [
    "### 9. What happens when you combine two numpy arrays using an operation like addition (+) or multiplication (*)? What are the conditions for combining two numpy arrays?"
   ]
  },
  {
   "cell_type": "code",
   "execution_count": 28,
   "id": "environmental-scoop",
   "metadata": {},
   "outputs": [],
   "source": [
    "a = np.array([[1,3],[2,4]])"
   ]
  },
  {
   "cell_type": "code",
   "execution_count": 29,
   "id": "6f23bfb5",
   "metadata": {},
   "outputs": [
    {
     "ename": "ValueError",
     "evalue": "operands could not be broadcast together with shapes (3,3) (2,2) ",
     "output_type": "error",
     "traceback": [
      "\u001b[1;31m---------------------------------------------------------------------------\u001b[0m",
      "\u001b[1;31mValueError\u001b[0m                                Traceback (most recent call last)",
      "\u001b[1;32m<ipython-input-29-60162f7e2fd2>\u001b[0m in \u001b[0;36m<module>\u001b[1;34m\u001b[0m\n\u001b[1;32m----> 1\u001b[1;33m \u001b[0mone\u001b[0m \u001b[1;33m+\u001b[0m \u001b[0ma\u001b[0m\u001b[1;33m\u001b[0m\u001b[1;33m\u001b[0m\u001b[0m\n\u001b[0m",
      "\u001b[1;31mValueError\u001b[0m: operands could not be broadcast together with shapes (3,3) (2,2) "
     ]
    }
   ],
   "source": [
    "one + a"
   ]
  },
  {
   "cell_type": "code",
   "execution_count": 33,
   "id": "e9e8fcc5",
   "metadata": {},
   "outputs": [],
   "source": [
    "b = np.array([[1,4,7],[2,5,8],[3,6,9]])"
   ]
  },
  {
   "cell_type": "code",
   "execution_count": 35,
   "id": "f67baa93",
   "metadata": {},
   "outputs": [
    {
     "data": {
      "text/plain": [
       "array([[23., 26., 29.],\n",
       "       [24., 27., 30.],\n",
       "       [25., 28., 31.]])"
      ]
     },
     "execution_count": 35,
     "metadata": {},
     "output_type": "execute_result"
    }
   ],
   "source": [
    "one + b"
   ]
  },
  {
   "cell_type": "markdown",
   "id": "546fd1cc",
   "metadata": {},
   "source": [
    "For operation like addition the dimension of the arrays should be the same. For operation like multiplication the number of columns in the first array must be equal to the number of rows in the second array."
   ]
  },
  {
   "cell_type": "markdown",
   "id": "lonely-floating",
   "metadata": {},
   "source": [
    "### 10. What is the best way to use a Boolean array to mask another array?"
   ]
  },
  {
   "cell_type": "code",
   "execution_count": 42,
   "id": "bibliographic-shepherd",
   "metadata": {},
   "outputs": [
    {
     "data": {
      "text/plain": [
       "array([[False,  True,  True,  True],\n",
       "       [False, False,  True, False],\n",
       "       [ True,  True, False, False]])"
      ]
     },
     "execution_count": 42,
     "metadata": {},
     "output_type": "execute_result"
    }
   ],
   "source": [
    "X = np.array([[5, 0, 3, 3], [7, 9, 3, 5], [2, 4, 7, 6]])\n",
    "X<5"
   ]
  },
  {
   "cell_type": "code",
   "execution_count": 43,
   "id": "f9f29045",
   "metadata": {},
   "outputs": [
    {
     "data": {
      "text/plain": [
       "array([0, 3, 3, 3, 2, 4])"
      ]
     },
     "execution_count": 43,
     "metadata": {},
     "output_type": "execute_result"
    }
   ],
   "source": [
    "X[X<5]"
   ]
  },
  {
   "cell_type": "markdown",
   "id": "twelve-regulation",
   "metadata": {},
   "source": [
    "### 11. What are three different ways to get the standard deviation of a wide collection of data using both standard Python and its packages? Sort the three of them by how quickly they execute."
   ]
  },
  {
   "cell_type": "code",
   "execution_count": 99,
   "id": "bulgarian-sunrise",
   "metadata": {},
   "outputs": [],
   "source": [
    "import time\n",
    "A = np.random.rand(1000000)"
   ]
  },
  {
   "cell_type": "code",
   "execution_count": 101,
   "id": "5c2c4478",
   "metadata": {},
   "outputs": [
    {
     "name": "stdout",
     "output_type": "stream",
     "text": [
      "--- 0.010001659393310547 seconds ---\n"
     ]
    }
   ],
   "source": [
    "from scipy import stats\n",
    "start_time = time.time()\n",
    "stats.tstd(A)\n",
    "print(\"--- %s seconds ---\" % (time.time() - start_time))"
   ]
  },
  {
   "cell_type": "code",
   "execution_count": 103,
   "id": "a9d5cefc",
   "metadata": {},
   "outputs": [
    {
     "name": "stdout",
     "output_type": "stream",
     "text": [
      "--- 0.004003047943115234 seconds ---\n"
     ]
    }
   ],
   "source": [
    "import pandas as pd\n",
    "start_time = time.time()\n",
    "pd.Series(A).std()\n",
    "print(\"--- %s seconds ---\" % (time.time() - start_time))"
   ]
  },
  {
   "cell_type": "code",
   "execution_count": 100,
   "id": "7af1e223",
   "metadata": {},
   "outputs": [
    {
     "name": "stdout",
     "output_type": "stream",
     "text": [
      "--- 0.0060045719146728516 seconds ---\n"
     ]
    }
   ],
   "source": [
    "import numpy as np\n",
    "start_time = time.time()\n",
    "np.std(A)\n",
    "print(\"--- %s seconds ---\" % (time.time() - start_time))"
   ]
  },
  {
   "cell_type": "code",
   "execution_count": 102,
   "id": "743032ab",
   "metadata": {},
   "outputs": [
    {
     "name": "stdout",
     "output_type": "stream",
     "text": [
      "--- 4.862581968307495 seconds ---\n"
     ]
    }
   ],
   "source": [
    "import statistics\n",
    "start_time = time.time()\n",
    "statistics.stdev(A)\n",
    "print(\"--- %s seconds ---\" % (time.time() - start_time))"
   ]
  },
  {
   "cell_type": "markdown",
   "id": "similar-builder",
   "metadata": {},
   "source": [
    "### 12. What is the dimensionality of a Boolean mask-generated array?"
   ]
  },
  {
   "cell_type": "markdown",
   "id": "e1194a07",
   "metadata": {},
   "source": [
    "Same as the original array from where it was generated."
   ]
  }
 ],
 "metadata": {
  "kernelspec": {
   "display_name": "Python 3",
   "language": "python",
   "name": "python3"
  },
  "language_info": {
   "codemirror_mode": {
    "name": "ipython",
    "version": 3
   },
   "file_extension": ".py",
   "mimetype": "text/x-python",
   "name": "python",
   "nbconvert_exporter": "python",
   "pygments_lexer": "ipython3",
   "version": "3.8.10"
  }
 },
 "nbformat": 4,
 "nbformat_minor": 5
}
