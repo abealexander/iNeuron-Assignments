{
 "cells": [
  {
   "cell_type": "markdown",
   "id": "limited-andrew",
   "metadata": {},
   "source": [
    "### 1. What is the purpose of the try statement?"
   ]
  },
  {
   "cell_type": "markdown",
   "id": "disciplinary-attitude",
   "metadata": {},
   "source": [
    "The try statement is used to catch errors in your code as the program executes. In python the program stops running and displays an exception message when an error occurs. To prevent the program from crashing a try statement is used."
   ]
  },
  {
   "cell_type": "markdown",
   "id": "administrative-buffalo",
   "metadata": {},
   "source": [
    "### 2. What are the two most popular try statement variations?"
   ]
  },
  {
   "cell_type": "markdown",
   "id": "fitted-incentive",
   "metadata": {},
   "source": [
    "Following are the variations of the try statment:"
   ]
  },
  {
   "cell_type": "code",
   "execution_count": 5,
   "id": "dutch-board",
   "metadata": {},
   "outputs": [],
   "source": [
    "try:\n",
    "    pass\n",
    "except:\n",
    "    pass"
   ]
  },
  {
   "cell_type": "code",
   "execution_count": 6,
   "id": "diverse-danish",
   "metadata": {},
   "outputs": [
    {
     "name": "stdout",
     "output_type": "stream",
     "text": [
      "Hello\n"
     ]
    }
   ],
   "source": [
    "try:\n",
    "    pass\n",
    "except:\n",
    "    pass\n",
    "else:\n",
    "    print('Hello')"
   ]
  },
  {
   "cell_type": "code",
   "execution_count": 7,
   "id": "funded-shark",
   "metadata": {},
   "outputs": [
    {
     "name": "stdout",
     "output_type": "stream",
     "text": [
      "Hello\n"
     ]
    }
   ],
   "source": [
    "try:\n",
    "    pass\n",
    "except:\n",
    "    pass\n",
    "finally:\n",
    "    print(\"Hello\")"
   ]
  },
  {
   "cell_type": "markdown",
   "id": "southwest-competition",
   "metadata": {},
   "source": [
    "### 3. What is the purpose of the raise statement?"
   ]
  },
  {
   "cell_type": "markdown",
   "id": "numerous-dairy",
   "metadata": {},
   "source": [
    "The purpose of the raise statement is to raise an exception. One can define what kind of exception to raise with a custom message to the user."
   ]
  },
  {
   "cell_type": "code",
   "execution_count": 8,
   "id": "communist-kennedy",
   "metadata": {},
   "outputs": [
    {
     "ename": "ValueError",
     "evalue": "Your own Custom Message",
     "output_type": "error",
     "traceback": [
      "\u001b[1;31m---------------------------------------------------------------------------\u001b[0m",
      "\u001b[1;31mValueError\u001b[0m                                Traceback (most recent call last)",
      "\u001b[1;32m<ipython-input-8-ad1cdeff7a2f>\u001b[0m in \u001b[0;36m<module>\u001b[1;34m\u001b[0m\n\u001b[1;32m----> 1\u001b[1;33m \u001b[1;32mraise\u001b[0m \u001b[0mValueError\u001b[0m\u001b[1;33m(\u001b[0m\u001b[1;34m\"Your own Custom Message\"\u001b[0m\u001b[1;33m)\u001b[0m\u001b[1;33m\u001b[0m\u001b[1;33m\u001b[0m\u001b[0m\n\u001b[0m",
      "\u001b[1;31mValueError\u001b[0m: Your own Custom Message"
     ]
    }
   ],
   "source": [
    "raise ValueError(\"Your own Custom Message\")"
   ]
  },
  {
   "cell_type": "markdown",
   "id": "virgin-settlement",
   "metadata": {},
   "source": [
    "### 4. What does the assert statement do, and what other statement is it like?"
   ]
  },
  {
   "cell_type": "markdown",
   "id": "metropolitan-waterproof",
   "metadata": {},
   "source": [
    "The assert statement is used to debug code where it lets you test if a condition in your code returns True if not the program will raise an AssertionError. A combination of if and else statements and the raise statement can be used as an alternative for assert statement."
   ]
  },
  {
   "cell_type": "code",
   "execution_count": 12,
   "id": "completed-wichita",
   "metadata": {},
   "outputs": [
    {
     "ename": "ValueError",
     "evalue": "",
     "output_type": "error",
     "traceback": [
      "\u001b[1;31m---------------------------------------------------------------------------\u001b[0m",
      "\u001b[1;31mValueError\u001b[0m                                Traceback (most recent call last)",
      "\u001b[1;32m<ipython-input-12-ccdca33fede1>\u001b[0m in \u001b[0;36m<module>\u001b[1;34m\u001b[0m\n\u001b[0;32m      3\u001b[0m     \u001b[1;32mpass\u001b[0m\u001b[1;33m\u001b[0m\u001b[1;33m\u001b[0m\u001b[0m\n\u001b[0;32m      4\u001b[0m \u001b[1;32melse\u001b[0m\u001b[1;33m:\u001b[0m\u001b[1;33m\u001b[0m\u001b[1;33m\u001b[0m\u001b[0m\n\u001b[1;32m----> 5\u001b[1;33m     \u001b[1;32mraise\u001b[0m \u001b[0mValueError\u001b[0m\u001b[1;33m(\u001b[0m\u001b[1;33m)\u001b[0m\u001b[1;33m\u001b[0m\u001b[1;33m\u001b[0m\u001b[0m\n\u001b[0m",
      "\u001b[1;31mValueError\u001b[0m: "
     ]
    }
   ],
   "source": [
    "x = 1\n",
    "if x==0:\n",
    "    pass\n",
    "else:\n",
    "    raise ValueError()"
   ]
  },
  {
   "cell_type": "markdown",
   "id": "vietnamese-premises",
   "metadata": {},
   "source": [
    "### 5. What is the purpose of the with/as argument, and what other statement is it like?"
   ]
  },
  {
   "cell_type": "markdown",
   "id": "valid-yesterday",
   "metadata": {},
   "source": [
    "The with/as argument is useful when working with unmanaged resources like file operations, where certain actions must be performed at the end of the operation like closing a file after read operation."
   ]
  },
  {
   "cell_type": "code",
   "execution_count": null,
   "id": "ceramic-recording",
   "metadata": {},
   "outputs": [],
   "source": [
    "# Use of with/as\n",
    "with open('c:\\\\file') as f:\n",
    "    f.read()\n",
    "\n",
    "# Equivalent Statement\n",
    "f = open('c:\\\\file')\n",
    "f.read()\n",
    "f.close()"
   ]
  }
 ],
 "metadata": {
  "kernelspec": {
   "display_name": "Python 3",
   "language": "python",
   "name": "python3"
  },
  "language_info": {
   "codemirror_mode": {
    "name": "ipython",
    "version": 3
   },
   "file_extension": ".py",
   "mimetype": "text/x-python",
   "name": "python",
   "nbconvert_exporter": "python",
   "pygments_lexer": "ipython3",
   "version": "3.8.3"
  }
 },
 "nbformat": 4,
 "nbformat_minor": 5
}
