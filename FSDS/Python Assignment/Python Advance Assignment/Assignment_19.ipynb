{
 "cells": [
  {
   "cell_type": "markdown",
   "id": "endless-projection",
   "metadata": {},
   "source": [
    "### 1. Define the relationship between a class and its instances. Is it a one-to-one or a one-to-many partnership, for example?"
   ]
  },
  {
   "cell_type": "markdown",
   "id": "e0389ce8",
   "metadata": {},
   "source": [
    "The Class is like a blueprint of a house, the Object are houses built from that blueprint and the given house is an Instance.\n",
    "It is a one-to-many partnership as many houses can be built from the blueprint."
   ]
  },
  {
   "cell_type": "markdown",
   "id": "present-graphics",
   "metadata": {},
   "source": [
    "### 2. What kind of data is held only in an instance?"
   ]
  },
  {
   "cell_type": "markdown",
   "id": "0f48e5ac",
   "metadata": {},
   "source": [
    "Instance Variables are held by an Instance Object specific to that instance."
   ]
  },
  {
   "cell_type": "markdown",
   "id": "banner-channels",
   "metadata": {},
   "source": [
    "### 3. What kind of knowledge is stored in a class?"
   ]
  },
  {
   "cell_type": "markdown",
   "id": "513e123b",
   "metadata": {},
   "source": [
    "A class can hold functions and variables. They can be accessed via a class object. A class is like a blueprint."
   ]
  },
  {
   "cell_type": "markdown",
   "id": "important-pantyhose",
   "metadata": {},
   "source": [
    "### 4. What exactly is a method, and how is it different from a regular function?"
   ]
  },
  {
   "cell_type": "markdown",
   "id": "1321e538",
   "metadata": {},
   "source": [
    "A regular function is not dependent on any other object but a class method is dependent on the class instance or object.\n",
    "A class method is called as below:"
   ]
  },
  {
   "cell_type": "code",
   "execution_count": 1,
   "id": "7812c18b",
   "metadata": {},
   "outputs": [
    {
     "data": {
      "text/plain": [
       "'Hello'"
      ]
     },
     "execution_count": 1,
     "metadata": {},
     "output_type": "execute_result"
    }
   ],
   "source": [
    "class A:\n",
    "    def randomtext():\n",
    "        return \"Hello\"\n",
    "    \n",
    "A.randomtext()"
   ]
  },
  {
   "cell_type": "markdown",
   "id": "a6bdb42e",
   "metadata": {},
   "source": [
    "Whereas a function is used as below:"
   ]
  },
  {
   "cell_type": "code",
   "execution_count": 2,
   "id": "04ab68f0",
   "metadata": {},
   "outputs": [
    {
     "data": {
      "text/plain": [
       "'Hello'"
      ]
     },
     "execution_count": 2,
     "metadata": {},
     "output_type": "execute_result"
    }
   ],
   "source": [
    "def randomtext():\n",
    "        return \"Hello\"\n",
    "randomtext()"
   ]
  },
  {
   "cell_type": "markdown",
   "id": "passing-infection",
   "metadata": {},
   "source": [
    "### 5. Is inheritance supported in Python, and if so, what is the syntax?"
   ]
  },
  {
   "cell_type": "markdown",
   "id": "ed3f49a5",
   "metadata": {},
   "source": [
    "Yes inheritance is supported in Python."
   ]
  },
  {
   "cell_type": "code",
   "execution_count": 9,
   "id": "0706e9c1",
   "metadata": {},
   "outputs": [],
   "source": [
    "class ABC:\n",
    "    def __init__(self, name):  \n",
    "        self.name = name\n",
    "\n",
    "    def printname(self):\n",
    "        print(self.name)\n",
    "        \n",
    "class XYZ(ABC):\n",
    "    pass"
   ]
  },
  {
   "cell_type": "code",
   "execution_count": 10,
   "id": "10f45095",
   "metadata": {},
   "outputs": [
    {
     "name": "stdout",
     "output_type": "stream",
     "text": [
      "Alex\n"
     ]
    }
   ],
   "source": [
    "obj = XYZ('Alex')\n",
    "obj.printname()"
   ]
  },
  {
   "cell_type": "markdown",
   "id": "wrapped-center",
   "metadata": {},
   "source": [
    "### 6. How much encapsulation (making instance or class variables private) does Python support?"
   ]
  },
  {
   "cell_type": "markdown",
   "id": "39e83369",
   "metadata": {},
   "source": [
    "In python we can restrict access to variables and methods by making them protected or private by prefixing _ or __."
   ]
  },
  {
   "cell_type": "markdown",
   "id": "vietnamese-bridge",
   "metadata": {},
   "source": [
    "### 7. How do you distinguish between a class variable and an instance variable?"
   ]
  },
  {
   "cell_type": "markdown",
   "id": "d921bda7",
   "metadata": {},
   "source": [
    "Class variables can only be created when a class has been defined and is available to all the instance objects of that class. However instance variable is independent of the class and is only accessible only to the that instance."
   ]
  },
  {
   "cell_type": "markdown",
   "id": "liable-emergency",
   "metadata": {},
   "source": [
    "### 8. When, if ever, can self be included in a class's method definitions?"
   ]
  },
  {
   "cell_type": "markdown",
   "id": "47fcfbbc",
   "metadata": {},
   "source": [
    "The term \"self\" is a reference to the current instance of the class. Self allows access to the attributes and methods of each object in python."
   ]
  },
  {
   "cell_type": "markdown",
   "id": "drawn-intersection",
   "metadata": {},
   "source": [
    "### 9. What is the difference between the _ _add_ _ and the _ _radd_ _ methods?"
   ]
  },
  {
   "cell_type": "raw",
   "id": "80f3b8b5",
   "metadata": {},
   "source": [
    "_add_ method is used to evaluate the expression x + y, where x is an instance of a class that has an __add__() method.\n",
    "_radd_ is called if the left operand does not support the corresponding operation and the operands are of different types."
   ]
  },
  {
   "cell_type": "markdown",
   "id": "finished-offering",
   "metadata": {},
   "source": [
    "### 10. When is it necessary to use a reflection method? When do you not need it, even though you support the operation in question?"
   ]
  },
  {
   "cell_type": "markdown",
   "id": "dfaef546",
   "metadata": {},
   "source": [
    "When we need a special method or mechanism to access or manipulate the unknown method or variable. This mechanism is called reflection (which in turn lets the object tell us what he is), or introspection.\n",
    "\n",
    "Reference: https://programmer.ink/think/reflection-of-python-advanced-usage.html"
   ]
  },
  {
   "cell_type": "markdown",
   "id": "linear-projector",
   "metadata": {},
   "source": [
    "### 11. What is the _ _iadd_ _ method called?"
   ]
  },
  {
   "cell_type": "raw",
   "id": "abe43c9c",
   "metadata": {},
   "source": [
    "__iadd__method is called when we want to perform an operation like a+=b."
   ]
  },
  {
   "cell_type": "markdown",
   "id": "portuguese-intention",
   "metadata": {},
   "source": [
    "### 12. Is the _ _init_ _ method inherited by subclasses? What do you do if you need to customize its behavior within a subclass?"
   ]
  },
  {
   "cell_type": "raw",
   "id": "3fc67a1d",
   "metadata": {},
   "source": [
    "Yes the __init__ method is inherited by the subclasses. If we need to customize its behaviour within a subclass we can overload it."
   ]
  }
 ],
 "metadata": {
  "kernelspec": {
   "display_name": "Python 3",
   "language": "python",
   "name": "python3"
  },
  "language_info": {
   "codemirror_mode": {
    "name": "ipython",
    "version": 3
   },
   "file_extension": ".py",
   "mimetype": "text/x-python",
   "name": "python",
   "nbconvert_exporter": "python",
   "pygments_lexer": "ipython3",
   "version": "3.8.10"
  }
 },
 "nbformat": 4,
 "nbformat_minor": 5
}
