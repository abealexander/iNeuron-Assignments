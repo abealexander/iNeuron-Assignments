{
 "cells": [
  {
   "cell_type": "markdown",
   "id": "caroline-london",
   "metadata": {},
   "source": [
    "### 1. What is the distinction between a numpy array and a pandas data frame? Is there a way to convert between the two if there is?"
   ]
  },
  {
   "cell_type": "markdown",
   "id": "8897b8e7",
   "metadata": {},
   "source": [
    "DataFrame:\n",
    "- When we have to work on Tabular data, we prefer the pandas module.\n",
    "- Pandas consume more memory.\n",
    "- Pandas has a better performance when number of rows is 500K or more.\n",
    "- Indexing of the pandas series is very slow as compared to numpy arrays.\n",
    "- DataFrame is 2d table object\n",
    "\n",
    "Numpy:\n",
    "- When we have to work on Numerical data, we prefer the numpy module\n",
    "- Numpy is memory efficient\n",
    "- Numpy has a better performance when number of rows is 50K or less.\n",
    "- Indexing of numpy Arrays is very fast.\n",
    "- Numpy is capable of providing multi-dimensional arrays.\n",
    "\n",
    "One can use pandas.DataFrame.to_numpy to convert from pandas to numpy or pandas.DataFrame(numpy.array) to convert from numpy to pandas."
   ]
  },
  {
   "cell_type": "markdown",
   "id": "freelance-opening",
   "metadata": {},
   "source": [
    "### 2. What can go wrong when an user enters in a stock-ticker symbol, and how do you handle it?"
   ]
  },
  {
   "cell_type": "markdown",
   "id": "e9921b94",
   "metadata": {},
   "source": [
    "If the stock-ticker symbol isn't as per the required pattern, we can handle it by using the try-except clause."
   ]
  },
  {
   "cell_type": "markdown",
   "id": "velvet-laptop",
   "metadata": {},
   "source": [
    "### 3. Identify some of the plotting techniques that are used to produce a stock-market chart."
   ]
  },
  {
   "cell_type": "markdown",
   "id": "8145be39",
   "metadata": {},
   "source": [
    "Line, Bar, Candle Sitck are some of the ways to produce a stock-market charts."
   ]
  },
  {
   "cell_type": "markdown",
   "id": "arbitrary-feeding",
   "metadata": {},
   "source": [
    "### 4. Why is it essential to print a legend on a stock market chart?"
   ]
  },
  {
   "cell_type": "markdown",
   "id": "706bf335",
   "metadata": {},
   "source": [
    "Since different line plots, indicators, etc are plotted on the same stock market chart it is essential to print a legend for better identification and understanding."
   ]
  },
  {
   "cell_type": "markdown",
   "id": "grateful-partition",
   "metadata": {},
   "source": [
    "### 5. What is the best way to limit the length of a pandas data frame to less than a year?"
   ]
  },
  {
   "cell_type": "markdown",
   "id": "aebc5639",
   "metadata": {},
   "source": [
    "We can use Pandas to restrict data for a particular year or less than a year."
   ]
  },
  {
   "cell_type": "code",
   "execution_count": null,
   "id": "50522e8d",
   "metadata": {},
   "outputs": [],
   "source": [
    "df['date'] = pd.to_datetime(df['date'])\n",
    "df[df['date'].dt.year == year]"
   ]
  },
  {
   "cell_type": "markdown",
   "id": "inclusive-injury",
   "metadata": {},
   "source": [
    "### 6. What is the definition of a 180-day moving average?"
   ]
  },
  {
   "cell_type": "markdown",
   "id": "ec011a04",
   "metadata": {},
   "source": [
    "Moving Average is a trend indicator which is an average of closing prices in a time frame that can help identify a trading opportunity. In 180-day moving average the time frame is 180 days."
   ]
  },
  {
   "cell_type": "markdown",
   "id": "limiting-structure",
   "metadata": {},
   "source": [
    "### 7. Did the chapter's final example use \"indirect\" importing? If so, how exactly do you do it?"
   ]
  },
  {
   "cell_type": "markdown",
   "id": "18524f5b",
   "metadata": {},
   "source": [
    "Unable to understand the question since no reference to chapter is provided."
   ]
  }
 ],
 "metadata": {
  "kernelspec": {
   "display_name": "Python 3",
   "language": "python",
   "name": "python3"
  },
  "language_info": {
   "codemirror_mode": {
    "name": "ipython",
    "version": 3
   },
   "file_extension": ".py",
   "mimetype": "text/x-python",
   "name": "python",
   "nbconvert_exporter": "python",
   "pygments_lexer": "ipython3",
   "version": "3.8.10"
  }
 },
 "nbformat": 4,
 "nbformat_minor": 5
}
