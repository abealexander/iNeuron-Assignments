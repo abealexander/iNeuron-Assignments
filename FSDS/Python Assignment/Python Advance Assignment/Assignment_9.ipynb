{
 "cells": [
  {
   "cell_type": "markdown",
   "id": "dangerous-track",
   "metadata": {},
   "source": [
    "### 1. In Python 3.X, what are the names and functions of string object types?"
   ]
  },
  {
   "cell_type": "markdown",
   "id": "650425ca",
   "metadata": {},
   "source": [
    "Some of the names and functions of string object types are as follows:"
   ]
  },
  {
   "cell_type": "raw",
   "id": "4ce8ef2c",
   "metadata": {},
   "source": [
    "str.capitalize()\n",
    "Return a copy of the string with its first character capitalized and the rest lowercased.\n",
    "\n",
    "str.casefold()\n",
    "Return a casefolded copy of the string. Casefolded strings may be used for caseless matching.\n",
    "\n",
    "str.center(width[, fillchar])\n",
    "Return centered in a string of length width. Padding is done using the specified fillchar (default is an ASCII space). The original string is returned if width is less than or equal to len(s).\n",
    "\n",
    "str.count(sub[, start[, end]])\n",
    "Return the number of non-overlapping occurrences of substring sub in the range [start, end]. Optional arguments start and end are interpreted as in slice notation.\n",
    "\n",
    "str.encode(encoding=\"utf-8\", errors=\"strict\")\n",
    "Return an encoded version of the string as a bytes object. Default encoding is 'utf-8'. errors may be given to set a different error handling scheme. The default for errors is 'strict', meaning that encoding errors raise a UnicodeError. Other possible values are 'ignore', 'replace', 'xmlcharrefreplace', 'backslashreplace' and any other name registered via codecs.register_error(), see section Error Handlers. For a list of possible encodings, see section Standard Encodings.\n",
    "\n",
    "str.endswith(suffix[, start[, end]])\n",
    "Return True if the string ends with the specified suffix, otherwise return False. suffix can also be a tuple of suffixes to look for. With optional start, test beginning at that position. With optional end, stop comparing at that position."
   ]
  },
  {
   "cell_type": "markdown",
   "id": "accepted-spain",
   "metadata": {},
   "source": [
    "### 2. How do the string forms in Python 3.X vary in terms of operations?"
   ]
  },
  {
   "cell_type": "markdown",
   "id": "74597bc3",
   "metadata": {},
   "source": [
    "Python 2 has ASCII str() types, separate unicode(), but no byte type whereas in Python 3, we have Unicode (utf-8) strings, and 2 byte classes: byte and bytearrays."
   ]
  },
  {
   "cell_type": "markdown",
   "id": "harmful-colleague",
   "metadata": {},
   "source": [
    "### 3. In 3.X, how do you put non-ASCII Unicode characters in a string?"
   ]
  },
  {
   "cell_type": "code",
   "execution_count": 3,
   "id": "chubby-least",
   "metadata": {},
   "outputs": [
    {
     "name": "stdout",
     "output_type": "stream",
     "text": [
      "aa«aàç±ç²£çñññ¤¿\n"
     ]
    }
   ],
   "source": [
    "unicode_string = u\"aa«aàç±ç²£çñññ¤¿\"\n",
    "\n",
    "print(unicode_string)"
   ]
  },
  {
   "cell_type": "markdown",
   "id": "sunset-touch",
   "metadata": {},
   "source": [
    "### 4. In Python 3.X, what are the key differences between text-mode and binary-mode files?"
   ]
  },
  {
   "cell_type": "markdown",
   "id": "f466c49b",
   "metadata": {},
   "source": [
    "The key difference between text-mode and binary-mode files in Python 3.X is that\n",
    "- text-mode files assume their file content is Unicode text and automatically decodes when reading and encodes when writing even if it's in ASCII\n",
    "- binary-mode files the bytes are read and written without any decoding or encoding i.e. it remains unchanged"
   ]
  },
  {
   "cell_type": "markdown",
   "id": "plain-monaco",
   "metadata": {},
   "source": [
    "### 5. How can you interpret a Unicode text file containing text encoded in a different encoding than your platform's default?"
   ]
  },
  {
   "cell_type": "markdown",
   "id": "02bb559d",
   "metadata": {},
   "source": [
    "By using a Unicode based encoding such as UTF-8 we can interpret a Unicode text file containing text encoded in a different encoding than your platform's default."
   ]
  },
  {
   "cell_type": "markdown",
   "id": "agreed-struggle",
   "metadata": {},
   "source": [
    "### 6. What is the best way to make a Unicode text file in a particular encoding format?"
   ]
  },
  {
   "cell_type": "markdown",
   "id": "07cd172a",
   "metadata": {},
   "source": [
    "Using str.encode() and writing it to a file is a way to make a UNicode text file in a particular encoding format."
   ]
  },
  {
   "cell_type": "markdown",
   "id": "encouraging-church",
   "metadata": {},
   "source": [
    "### 7. What qualifies ASCII text as a form of Unicode text?"
   ]
  },
  {
   "cell_type": "markdown",
   "id": "fd288556",
   "metadata": {},
   "source": [
    "ASCII defines 128 characters, which map to the numbers 0–127. Unicode defines (less than) 221 characters, which, similarly, map to numbers 0–221 (though not all numbers are currently assigned, and some are reserved).\n",
    "\n",
    "Unicode is a superset of ASCII, and the numbers 0–127 have the same meaning in ASCII as they have in Unicode. For example, the number 65 means \"Latin capital 'A'\".\n",
    "\n",
    "Because Unicode characters don't generally fit into one 8-bit byte, there are numerous ways of storing Unicode characters in byte sequences, such as UTF-32 and UTF-8.\n",
    "\n",
    "Reference: https://stackoverflow.com/questions/19212306/whats-the-difference-between-ascii-and-unicode"
   ]
  },
  {
   "cell_type": "markdown",
   "id": "mature-bride",
   "metadata": {},
   "source": [
    "### 8. How much of an effect does the change in string types in Python 3.X have on your code?"
   ]
  },
  {
   "cell_type": "markdown",
   "id": "92e2c091",
   "metadata": {},
   "source": [
    "Unsure since I haven't coded in Python 2."
   ]
  }
 ],
 "metadata": {
  "kernelspec": {
   "display_name": "Python 3",
   "language": "python",
   "name": "python3"
  },
  "language_info": {
   "codemirror_mode": {
    "name": "ipython",
    "version": 3
   },
   "file_extension": ".py",
   "mimetype": "text/x-python",
   "name": "python",
   "nbconvert_exporter": "python",
   "pygments_lexer": "ipython3",
   "version": "3.8.10"
  }
 },
 "nbformat": 4,
 "nbformat_minor": 5
}
