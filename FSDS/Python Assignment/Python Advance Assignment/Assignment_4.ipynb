{
 "cells": [
  {
   "cell_type": "markdown",
   "id": "handy-pointer",
   "metadata": {},
   "source": [
    "### 1. Which two operator overloading methods can you use in your classes to support iteration?"
   ]
  },
  {
   "cell_type": "raw",
   "id": "gorgeous-avatar",
   "metadata": {},
   "source": [
    "__iter__ and __next__ are two operator overloading methods in classes to support iteration."
   ]
  },
  {
   "cell_type": "markdown",
   "id": "anticipated-titanium",
   "metadata": {},
   "source": [
    "### 2. In what contexts do the two operator overloading methods manage printing?"
   ]
  },
  {
   "cell_type": "raw",
   "id": "following-relaxation",
   "metadata": {},
   "source": [
    "__repr__ is mainly used for debugging and development. The main goal of __repr__ is to be unambiguous.\n",
    "__str__ is mainly used for creating output for end user. The main goal of __str__ is readability."
   ]
  },
  {
   "cell_type": "markdown",
   "id": "confused-savings",
   "metadata": {},
   "source": [
    "### 3. In a class, how do you intercept slice operations?"
   ]
  },
  {
   "cell_type": "raw",
   "id": "opponent-nashville",
   "metadata": {},
   "source": [
    "By using __getitem__ we can perform intercept slice operations in a class."
   ]
  },
  {
   "cell_type": "code",
   "execution_count": 4,
   "id": "military-minneapolis",
   "metadata": {},
   "outputs": [
    {
     "data": {
      "text/plain": [
       "[1, 3, 5, 7, 9]"
      ]
     },
     "execution_count": 4,
     "metadata": {},
     "output_type": "execute_result"
    }
   ],
   "source": [
    "class Sliced:\n",
    "    def __init__(self, temp):\n",
    "        self.temp = temp\n",
    "    \n",
    "    def __getitem__(self, key):\n",
    "        l = self.temp[key]\n",
    "        return l\n",
    "    \n",
    "obj = Sliced([1,2,3,4,5,6,7,8,9,10])\n",
    "obj[0:9:2]"
   ]
  },
  {
   "cell_type": "markdown",
   "id": "mediterranean-powell",
   "metadata": {},
   "source": [
    "### 4. In a class, how do you capture in-place addition?"
   ]
  },
  {
   "cell_type": "markdown",
   "id": "hindu-forty",
   "metadata": {},
   "source": [
    "By using iadd() we can perform in-place addition in a class."
   ]
  },
  {
   "cell_type": "markdown",
   "id": "simplified-rescue",
   "metadata": {},
   "source": [
    "### 5. When is it appropriate to use operator overloading?"
   ]
  },
  {
   "cell_type": "markdown",
   "id": "australian-intake",
   "metadata": {},
   "source": [
    "When we are seeking code reusability instead of writing multiple methods, operator overloading is appropriate. It also helps to eliminate complexity and improves clarity."
   ]
  }
 ],
 "metadata": {
  "kernelspec": {
   "display_name": "Python 3",
   "language": "python",
   "name": "python3"
  },
  "language_info": {
   "codemirror_mode": {
    "name": "ipython",
    "version": 3
   },
   "file_extension": ".py",
   "mimetype": "text/x-python",
   "name": "python",
   "nbconvert_exporter": "python",
   "pygments_lexer": "ipython3",
   "version": "3.8.3"
  }
 },
 "nbformat": 4,
 "nbformat_minor": 5
}
