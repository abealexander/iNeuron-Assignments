{
 "cells": [
  {
   "cell_type": "markdown",
   "id": "unknown-catch",
   "metadata": {},
   "source": [
    "### 1. Can you create a programme or function that employs both positive and negative indexing? Is there any repercussion if you do so?"
   ]
  },
  {
   "cell_type": "code",
   "execution_count": 7,
   "id": "virgin-apache",
   "metadata": {},
   "outputs": [],
   "source": [
    "def posneg(string):\n",
    "    return string[0:], string[::-1]"
   ]
  },
  {
   "cell_type": "code",
   "execution_count": 11,
   "id": "ab6bcb51",
   "metadata": {},
   "outputs": [
    {
     "data": {
      "text/plain": [
       "('Racecar', 'racecaR')"
      ]
     },
     "execution_count": 11,
     "metadata": {},
     "output_type": "execute_result"
    }
   ],
   "source": [
    "posneg(\"Racecar\")"
   ]
  },
  {
   "cell_type": "markdown",
   "id": "stopped-secret",
   "metadata": {},
   "source": [
    "### 2. What is the most effective way of starting with 1,000 elements in a Python list? Assume that all elements should be set to the same value."
   ]
  },
  {
   "cell_type": "raw",
   "id": "942c6a2e",
   "metadata": {},
   "source": [
    "There may be better ways to do this, one of which is as follows:\n",
    "[0 for i in range(1000)]"
   ]
  },
  {
   "cell_type": "markdown",
   "id": "excited-highway",
   "metadata": {},
   "source": [
    "### 3. How do you slice a list to get any other part while missing the rest? (For example, suppose you want to make a new list with the elements first, third, fifth, seventh, and so on.)"
   ]
  },
  {
   "cell_type": "code",
   "execution_count": 16,
   "id": "serious-portsmouth",
   "metadata": {},
   "outputs": [
    {
     "data": {
      "text/plain": [
       "'ace'"
      ]
     },
     "execution_count": 16,
     "metadata": {},
     "output_type": "execute_result"
    }
   ],
   "source": [
    "a = 'abcde'\n",
    "a[::2]"
   ]
  },
  {
   "cell_type": "markdown",
   "id": "strategic-classic",
   "metadata": {},
   "source": [
    "### 4. Explain the distinctions between indexing and slicing."
   ]
  },
  {
   "cell_type": "markdown",
   "id": "fa1cb10f",
   "metadata": {},
   "source": [
    "Indexing is used to obtain individual elements based on their index whereas slicing is used to obtain more than one element or a sequence of elements."
   ]
  },
  {
   "cell_type": "markdown",
   "id": "premier-space",
   "metadata": {},
   "source": [
    "### 5. What happens if one of the slicing expression's indexes is out of range?"
   ]
  },
  {
   "cell_type": "markdown",
   "id": "6d2be09a",
   "metadata": {},
   "source": [
    "We still get a return value of indexes within the range."
   ]
  },
  {
   "cell_type": "code",
   "execution_count": 17,
   "id": "c4440f73",
   "metadata": {},
   "outputs": [
    {
     "data": {
      "text/plain": [
       "'bcde'"
      ]
     },
     "execution_count": 17,
     "metadata": {},
     "output_type": "execute_result"
    }
   ],
   "source": [
    "a[1:100]"
   ]
  },
  {
   "cell_type": "markdown",
   "id": "composite-german",
   "metadata": {},
   "source": [
    "### 6. If you pass a list to a function, and if you want the function to be able to change the values of the list—so that the list is different after the function returns—what action should you avoid?"
   ]
  },
  {
   "cell_type": "markdown",
   "id": "65f7ee53",
   "metadata": {},
   "source": [
    "Avoid actions that would cause an error."
   ]
  },
  {
   "cell_type": "markdown",
   "id": "encouraging-celebration",
   "metadata": {},
   "source": [
    "### 7. What is the concept of an unbalanced matrix?"
   ]
  },
  {
   "cell_type": "markdown",
   "id": "00c880f8",
   "metadata": {},
   "source": [
    "A matrix that isn't a square matrix (number of rows = number of columns) is an unbalanced matrix."
   ]
  },
  {
   "cell_type": "markdown",
   "id": "heard-pontiac",
   "metadata": {},
   "source": [
    "### 8. Why is it necessary to use either list comprehension or a loop to create arbitrarily large matrices?"
   ]
  },
  {
   "cell_type": "markdown",
   "id": "0b52f570",
   "metadata": {},
   "source": [
    "Because List comprehension is faster since it is optimized for the Python interpreter to spot a predictable pattern during looping."
   ]
  }
 ],
 "metadata": {
  "kernelspec": {
   "display_name": "Python 3",
   "language": "python",
   "name": "python3"
  },
  "language_info": {
   "codemirror_mode": {
    "name": "ipython",
    "version": 3
   },
   "file_extension": ".py",
   "mimetype": "text/x-python",
   "name": "python",
   "nbconvert_exporter": "python",
   "pygments_lexer": "ipython3",
   "version": "3.8.10"
  }
 },
 "nbformat": 4,
 "nbformat_minor": 5
}
