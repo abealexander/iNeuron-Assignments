{
 "cells": [
  {
   "cell_type": "markdown",
   "id": "becoming-index",
   "metadata": {},
   "source": [
    "### 1. What is the relationship between classes and modules?"
   ]
  },
  {
   "cell_type": "markdown",
   "id": "liable-digest",
   "metadata": {},
   "source": [
    "Classes are like blueprints that allow you to create instances with attributes. Modules are a simple way to organize the code, it can contain classes or functions. Modules allow code reusability since you can import it in your program."
   ]
  },
  {
   "cell_type": "markdown",
   "id": "comparable-springfield",
   "metadata": {},
   "source": [
    "### 2. How do you make instances and classes?"
   ]
  },
  {
   "cell_type": "markdown",
   "id": "cellular-cheat",
   "metadata": {},
   "source": [
    "By using the class keyword you can create a class and by calling the created class and pass arguments that it accepts you can create an instance of the class."
   ]
  },
  {
   "cell_type": "code",
   "execution_count": 6,
   "id": "paperback-saturday",
   "metadata": {},
   "outputs": [
    {
     "data": {
      "text/plain": [
       "'Hello'"
      ]
     },
     "execution_count": 6,
     "metadata": {},
     "output_type": "execute_result"
    }
   ],
   "source": [
    "class Temp:\n",
    "    def __init__(self, string):\n",
    "        self.string = string\n",
    "    \n",
    "a = Temp(\"Hello\")\n",
    "a.string"
   ]
  },
  {
   "cell_type": "markdown",
   "id": "economic-monday",
   "metadata": {},
   "source": [
    "### 3. Where and how should be class attributes created?"
   ]
  },
  {
   "cell_type": "markdown",
   "id": "experienced-devices",
   "metadata": {},
   "source": [
    "Class attributes are attributes that are owned by the class itself. Class attributes are created by defining it right below the class header."
   ]
  },
  {
   "cell_type": "code",
   "execution_count": 9,
   "id": "missing-portland",
   "metadata": {},
   "outputs": [
    {
     "data": {
      "text/plain": [
       "100"
      ]
     },
     "execution_count": 9,
     "metadata": {},
     "output_type": "execute_result"
    }
   ],
   "source": [
    "class Hello:\n",
    "    a = 100\n",
    "    \n",
    "Hello.a"
   ]
  },
  {
   "cell_type": "markdown",
   "id": "olympic-intensity",
   "metadata": {},
   "source": [
    "### 4. Where and how are instance attributes created?"
   ]
  },
  {
   "cell_type": "markdown",
   "id": "reasonable-venice",
   "metadata": {},
   "source": [
    "An instance attribute is created and belongs to an object and is only accessible within the scope of that object. By creating an object and giving it arguments that it accepts we can create an instance attribute."
   ]
  },
  {
   "cell_type": "code",
   "execution_count": 14,
   "id": "assured-observer",
   "metadata": {},
   "outputs": [
    {
     "data": {
      "text/plain": [
       "'This is an instance attribute'"
      ]
     },
     "execution_count": 14,
     "metadata": {},
     "output_type": "execute_result"
    }
   ],
   "source": [
    "class Test:\n",
    "    a = \"This is a class attribute\"\n",
    "    \n",
    "    def __init__(self, name):\n",
    "        self.name = name\n",
    "\n",
    "X = Test(\"This is an instance attribute\")\n",
    "X.name"
   ]
  },
  {
   "cell_type": "code",
   "execution_count": 13,
   "id": "classified-mouth",
   "metadata": {},
   "outputs": [
    {
     "data": {
      "text/plain": [
       "'This is a class attribute'"
      ]
     },
     "execution_count": 13,
     "metadata": {},
     "output_type": "execute_result"
    }
   ],
   "source": [
    "Test.a"
   ]
  },
  {
   "cell_type": "markdown",
   "id": "wound-peeing",
   "metadata": {},
   "source": [
    "### 5. What does the term \"self\" in a Python class mean?"
   ]
  },
  {
   "cell_type": "markdown",
   "id": "satisfied-waste",
   "metadata": {},
   "source": [
    "The term \"self\" is a reference to the current instance of the class.  Self allows access to the attributes and methods of each object in python."
   ]
  },
  {
   "cell_type": "markdown",
   "id": "steady-absence",
   "metadata": {},
   "source": [
    "### 6. How does a Python class handle operator overloading?"
   ]
  },
  {
   "cell_type": "markdown",
   "id": "democratic-hunger",
   "metadata": {},
   "source": [
    "Python class handles operator overoading with the help of special functions such as \"\\_\\_add\\_\\_\", \"\\_\\_sub\\_\\_\", \"\\_\\_mul\\_\\_\", etc."
   ]
  },
  {
   "cell_type": "code",
   "execution_count": 7,
   "id": "interstate-victory",
   "metadata": {},
   "outputs": [
    {
     "data": {
      "text/plain": [
       "'Hello World'"
      ]
     },
     "execution_count": 7,
     "metadata": {},
     "output_type": "execute_result"
    }
   ],
   "source": [
    "class Addition:\n",
    "    def __init__(self, x=0):\n",
    "        self.x = x\n",
    "        \n",
    "    def __add__(self, y):\n",
    "        z = self.x + y\n",
    "        return z\n",
    "\n",
    "    \n",
    "p1 = Addition(\"Hello\")\n",
    "p1 + \" World\""
   ]
  },
  {
   "cell_type": "markdown",
   "id": "ignored-milton",
   "metadata": {},
   "source": [
    "### 7. When do you consider allowing operator overloading of your classes?"
   ]
  },
  {
   "cell_type": "markdown",
   "id": "verbal-annex",
   "metadata": {},
   "source": [
    "When the purpose or meaning of the operation is clear we can consider allowing operator overloading."
   ]
  },
  {
   "cell_type": "markdown",
   "id": "tamil-transformation",
   "metadata": {},
   "source": [
    "### 8. What is the most popular form of operator overloading?"
   ]
  },
  {
   "cell_type": "markdown",
   "id": "hired-suggestion",
   "metadata": {},
   "source": [
    "Addition, Subtraction are some of the most popular form of operator overloading."
   ]
  },
  {
   "cell_type": "markdown",
   "id": "virtual-regulation",
   "metadata": {},
   "source": [
    "### 9. What are the two most important concepts to grasp in order to comprehend Python OOP code?"
   ]
  },
  {
   "cell_type": "markdown",
   "id": "according-attempt",
   "metadata": {},
   "source": [
    "Inheritance, Encapsulation, Polymorphism and Data Abstraction are some of the most important concepts to grasp in order to comprehend Python OOP code."
   ]
  }
 ],
 "metadata": {
  "kernelspec": {
   "display_name": "Python 3",
   "language": "python",
   "name": "python3"
  },
  "language_info": {
   "codemirror_mode": {
    "name": "ipython",
    "version": 3
   },
   "file_extension": ".py",
   "mimetype": "text/x-python",
   "name": "python",
   "nbconvert_exporter": "python",
   "pygments_lexer": "ipython3",
   "version": "3.8.10"
  }
 },
 "nbformat": 4,
 "nbformat_minor": 5
}
