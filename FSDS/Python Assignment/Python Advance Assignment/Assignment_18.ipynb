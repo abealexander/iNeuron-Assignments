{
 "cells": [
  {
   "cell_type": "markdown",
   "id": "recorded-parallel",
   "metadata": {},
   "source": [
    "### 1. Describe the differences between text and binary files in a single paragraph."
   ]
  },
  {
   "cell_type": "markdown",
   "id": "ae67586d",
   "metadata": {},
   "source": [
    "A file whose contents can be viewed using a text editor is called a text file. A text file is simply a sequence of ASCII or Unicode characters. Python programs, contents written in text editors are some of the example of\n",
    "text files. A binary file stores the data in the same way as as stored in the memory. The .exe files, mp3 file, image files, word documents are some of the examples of binary files. We can’t read a binary file using a text editor."
   ]
  },
  {
   "cell_type": "markdown",
   "id": "looking-sewing",
   "metadata": {},
   "source": [
    "### 2. What are some scenarios where using text files will be the better option? When would you like to use binary files instead of text files?"
   ]
  },
  {
   "cell_type": "markdown",
   "id": "a1e19234",
   "metadata": {},
   "source": [
    "If we want the file to be readable and interpretable by humans then text file is a better option.\n",
    "\n",
    "If we want the file to be stored in a Non ASCII format and save on memory a binary file is a better option."
   ]
  },
  {
   "cell_type": "markdown",
   "id": "alternate-oxide",
   "metadata": {},
   "source": [
    "### 3. What are some of the issues with using binary operations to read and write a Python integer directly to disc?"
   ]
  },
  {
   "cell_type": "markdown",
   "id": "0843af6c",
   "metadata": {},
   "source": [
    "To write a Python integer to a binary file we will have to first use the bin function to write it into a string of 0s and 1s."
   ]
  },
  {
   "cell_type": "markdown",
   "id": "recreational-original",
   "metadata": {},
   "source": [
    "### 4. Describe a benefit of using the with keyword instead of explicitly opening a file."
   ]
  },
  {
   "cell_type": "markdown",
   "id": "376f73b6",
   "metadata": {},
   "source": [
    "The benefit of using the with keyword is that the file is closed as soon as we leave the block which is beneficial as closing a file is something that is usually forgotten and the tied up resources are now available."
   ]
  },
  {
   "cell_type": "markdown",
   "id": "ethical-kennedy",
   "metadata": {},
   "source": [
    "### 5. Does Python have the trailing newline while reading a line of text? Does Python append a newline when you write a line of text?"
   ]
  },
  {
   "cell_type": "markdown",
   "id": "193f7074",
   "metadata": {},
   "source": [
    "Yes Python has a trailing newline while reading a line of text. However Python does not automatically append a newline while writing a line of text, it has to be explicitly mentioned."
   ]
  },
  {
   "cell_type": "markdown",
   "id": "faced-pioneer",
   "metadata": {},
   "source": [
    "### 6. What file operations enable for random-access operation?"
   ]
  },
  {
   "cell_type": "markdown",
   "id": "bd0b4f2c",
   "metadata": {},
   "source": [
    "File operations like seek enable for random-access operation."
   ]
  },
  {
   "cell_type": "markdown",
   "id": "narrative-circumstances",
   "metadata": {},
   "source": [
    "### 7. When do you think you'll use the struct package the most?"
   ]
  },
  {
   "cell_type": "markdown",
   "id": "d2cc7921",
   "metadata": {},
   "source": [
    "Stuct package can be used to convert native python data types to bytes and vice versa."
   ]
  },
  {
   "cell_type": "markdown",
   "id": "analyzed-intensity",
   "metadata": {},
   "source": [
    "### 8. When is pickling the best option?"
   ]
  },
  {
   "cell_type": "markdown",
   "id": "004b0d95",
   "metadata": {},
   "source": [
    "Pickling is the best option when one has to send complex object heirarchies over a network or save it for later use. We use a process called serialization which can be done via the Python Pickle Module."
   ]
  },
  {
   "cell_type": "markdown",
   "id": "sublime-belief",
   "metadata": {},
   "source": [
    "### 9. When will it be best to use the shelve package?"
   ]
  },
  {
   "cell_type": "markdown",
   "id": "6fdfaf6b",
   "metadata": {},
   "source": [
    "The shelve module can be used as a simple persistent storage option for Python objects when a relational database is overkill.\n",
    "\n",
    "Reference: https://pymotw.com/2/shelve/"
   ]
  },
  {
   "cell_type": "markdown",
   "id": "representative-priority",
   "metadata": {},
   "source": [
    "### 10. What is a special restriction when using the shelve package, as opposed to using other data dictionaries?"
   ]
  },
  {
   "cell_type": "markdown",
   "id": "d4f83ee3",
   "metadata": {},
   "source": [
    "A restriction when using the shelve package is that only string data type can be used as a key in the special dictionary object whereas any picklable Python object can be used as value."
   ]
  }
 ],
 "metadata": {
  "kernelspec": {
   "display_name": "Python 3",
   "language": "python",
   "name": "python3"
  },
  "language_info": {
   "codemirror_mode": {
    "name": "ipython",
    "version": 3
   },
   "file_extension": ".py",
   "mimetype": "text/x-python",
   "name": "python",
   "nbconvert_exporter": "python",
   "pygments_lexer": "ipython3",
   "version": "3.8.10"
  }
 },
 "nbformat": 4,
 "nbformat_minor": 5
}
