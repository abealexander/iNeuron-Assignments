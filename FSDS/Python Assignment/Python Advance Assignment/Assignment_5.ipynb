{
 "cells": [
  {
   "cell_type": "markdown",
   "id": "dependent-samba",
   "metadata": {},
   "source": [
    "### 1. What is the meaning of multiple inheritance?"
   ]
  },
  {
   "cell_type": "markdown",
   "id": "acknowledged-bandwidth",
   "metadata": {},
   "source": [
    "When a class is derived from more than one base class it is called as multiple inheritance."
   ]
  },
  {
   "cell_type": "code",
   "execution_count": 8,
   "id": "indirect-pressure",
   "metadata": {},
   "outputs": [],
   "source": [
    "class Eggs:\n",
    "    def __init__(self):\n",
    "        self.egg = \"Scrambled Eggs\"\n",
    "\n",
    "class Spam:\n",
    "    spam = \"SpamSpam\"\n",
    "        \n",
    "class EggsSpam(Eggs, Spam):\n",
    "    pass\n",
    "\n",
    "obj = EggsSpam()"
   ]
  },
  {
   "cell_type": "code",
   "execution_count": 9,
   "id": "attended-tunnel",
   "metadata": {},
   "outputs": [
    {
     "data": {
      "text/plain": [
       "'Scrambled Eggs'"
      ]
     },
     "execution_count": 9,
     "metadata": {},
     "output_type": "execute_result"
    }
   ],
   "source": [
    "obj.egg"
   ]
  },
  {
   "cell_type": "code",
   "execution_count": 10,
   "id": "liberal-arrival",
   "metadata": {},
   "outputs": [
    {
     "data": {
      "text/plain": [
       "'SpamSpam'"
      ]
     },
     "execution_count": 10,
     "metadata": {},
     "output_type": "execute_result"
    }
   ],
   "source": [
    "obj.spam"
   ]
  },
  {
   "cell_type": "markdown",
   "id": "latter-credit",
   "metadata": {},
   "source": [
    "### 2. What is the concept of delegation?"
   ]
  },
  {
   "cell_type": "markdown",
   "id": "rubber-chart",
   "metadata": {},
   "source": [
    "Defining methods which the host class will delegate to some other class is called Delegation. A technique used to pass on the work to another class is called delegation."
   ]
  },
  {
   "cell_type": "markdown",
   "id": "featured-jimmy",
   "metadata": {},
   "source": [
    "### 3. What is the concept of composition?"
   ]
  },
  {
   "cell_type": "markdown",
   "id": "pharmaceutical-plate",
   "metadata": {},
   "source": [
    "In Composition we will describe a class that references to one or more objects of other classes as an Instance variable. Under composition, a class Composite can contain an object of another class. Composition is to be used when one needs to use the class as it is without any modification."
   ]
  },
  {
   "cell_type": "markdown",
   "id": "perceived-jacket",
   "metadata": {},
   "source": [
    "### 4. What are bound methods and how do we use them?"
   ]
  },
  {
   "cell_type": "markdown",
   "id": "alternative-tiger",
   "metadata": {},
   "source": [
    "Bound methods also called as instance methods are dependent on the instace of classes, i.e. if a function is an attribute of a class and is accessed via the instances then it is called as a bound method. The first argument is a reference to the instance itself."
   ]
  },
  {
   "cell_type": "code",
   "execution_count": 1,
   "id": "imported-monitoring",
   "metadata": {},
   "outputs": [
    {
     "data": {
      "text/plain": [
       "<bound method AA.func of <__main__.AA object at 0x0000022FA5A03520>>"
      ]
     },
     "execution_count": 1,
     "metadata": {},
     "output_type": "execute_result"
    }
   ],
   "source": [
    "class AA:\n",
    "    def func(self): # Bound Method\n",
    "        pass\n",
    "\n",
    "obj = AA()\n",
    "obj.func"
   ]
  },
  {
   "cell_type": "markdown",
   "id": "through-smooth",
   "metadata": {},
   "source": [
    "### 5. What is the purpose of pseudoprivate attributes?"
   ]
  },
  {
   "cell_type": "markdown",
   "id": "absolute-fisher",
   "metadata": {},
   "source": [
    "The purpose of pseudoprivate attributes is to avoid namespace collisions in instances rather than to restrict access to names in general unlike other programming languages."
   ]
  }
 ],
 "metadata": {
  "kernelspec": {
   "display_name": "Python 3",
   "language": "python",
   "name": "python3"
  },
  "language_info": {
   "codemirror_mode": {
    "name": "ipython",
    "version": 3
   },
   "file_extension": ".py",
   "mimetype": "text/x-python",
   "name": "python",
   "nbconvert_exporter": "python",
   "pygments_lexer": "ipython3",
   "version": "3.8.3"
  }
 },
 "nbformat": 4,
 "nbformat_minor": 5
}
