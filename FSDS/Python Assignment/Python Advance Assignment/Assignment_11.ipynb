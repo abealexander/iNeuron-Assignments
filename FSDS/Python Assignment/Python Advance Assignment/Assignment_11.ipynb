{
 "cells": [
  {
   "cell_type": "markdown",
   "id": "actual-chosen",
   "metadata": {},
   "source": [
    "### 1. What is the concept of a metaclass?"
   ]
  },
  {
   "cell_type": "markdown",
   "id": "adb38988",
   "metadata": {},
   "source": [
    "A metaclass is the class of a class. A class defines how an instance of the class (i.e. an object) behaves while a metaclass defines how a class behaves. A class is an instance of a metaclass."
   ]
  },
  {
   "cell_type": "markdown",
   "id": "opponent-respondent",
   "metadata": {},
   "source": [
    "### 2. What is the best way to declare a class's metaclass?"
   ]
  },
  {
   "cell_type": "raw",
   "id": "ed7a3d42",
   "metadata": {},
   "source": [
    "By using __metaclass__ one can declare a class's metaclass."
   ]
  },
  {
   "cell_type": "markdown",
   "id": "amino-laser",
   "metadata": {},
   "source": [
    "### 3. How do class decorators overlap with metaclasses for handling classes?"
   ]
  },
  {
   "cell_type": "markdown",
   "id": "5a6cad71",
   "metadata": {},
   "source": [
    "Couldn't find a correct answer.\n",
    "\n",
    "However a difference is decorator only affects the current class while the metaclass affects its children classes.\n",
    "\n",
    "Anything you can do with a class decorator, you can of course do with a custom metaclass (just apply the functionality of the \"decorator function\", i.e., the one that takes a class object and modifies it, in the course of the metaclass's __new__ or __init__ that make the class object!-).\n",
    "\n",
    "Reference: https://stackoverflow.com/questions/1779372/python-metaclasses-vs-class-decorators"
   ]
  },
  {
   "cell_type": "markdown",
   "id": "generous-trust",
   "metadata": {},
   "source": [
    "### 4. How do class decorators overlap with metaclasses for handling instances?"
   ]
  },
  {
   "cell_type": "markdown",
   "id": "e55b4384",
   "metadata": {},
   "source": [
    "Couldn't find an appropriate answer."
   ]
  }
 ],
 "metadata": {
  "kernelspec": {
   "display_name": "Python 3",
   "language": "python",
   "name": "python3"
  },
  "language_info": {
   "codemirror_mode": {
    "name": "ipython",
    "version": 3
   },
   "file_extension": ".py",
   "mimetype": "text/x-python",
   "name": "python",
   "nbconvert_exporter": "python",
   "pygments_lexer": "ipython3",
   "version": "3.8.10"
  }
 },
 "nbformat": 4,
 "nbformat_minor": 5
}
