{
 "cells": [
  {
   "cell_type": "markdown",
   "id": "driving-allen",
   "metadata": {},
   "source": [
    "### 1. What is the difference between __getattr__ and __getattribute__?"
   ]
  },
  {
   "cell_type": "raw",
   "id": "0edfb1bf",
   "metadata": {},
   "source": [
    "__getattribute__  is used to find an attribute of a class. If it fails, it will raise an AttributeError. If it fails then __getattr__ is used. The difference being that __getattr__ is called for attributes that don't exist on a class and is dynamically generated."
   ]
  },
  {
   "cell_type": "markdown",
   "id": "brown-kingston",
   "metadata": {},
   "source": [
    "### 2. What is the difference between properties and descriptors?"
   ]
  },
  {
   "cell_type": "markdown",
   "id": "47281a78",
   "metadata": {},
   "source": [
    "Properties: We can bind getter, setter (and deleter) functions with an attribute name, using the built-in property function. When we do this, each reference to an attribute looks like simple, direct access, but invokes the appropriate function of the object. For example, anObject.price= someValue; anObject.value.\n",
    "\n",
    "Descriptors: We can bind getter, setter (and deleter) functions into a separate class. We then assign an object of this class to the attribute name. When we do this, each reference to an attribute looks like simple, direct access, but invokes an appropriate function of the Descriptor object. For example, anObject.price= someValue; anObject.value.\n",
    "\n",
    "Referemce: https://www.linuxtopia.org/online_books/programming_books/python_programming/python_ch25.html"
   ]
  },
  {
   "cell_type": "markdown",
   "id": "continental-istanbul",
   "metadata": {},
   "source": [
    "### 3. What are the key differences in functionality between __getattr__ and __getattribute__, as well as properties and descriptors?"
   ]
  },
  {
   "cell_type": "raw",
   "id": "94917121",
   "metadata": {},
   "source": [
    "The __getattr__ and __getattribute__ methods acan be used to catch arbitrarily many attributes whereas property or descriptor provides access interception for only one specific attribute, we can’t catch every attribute fetch with a single property or descriptor. "
   ]
  }
 ],
 "metadata": {
  "kernelspec": {
   "display_name": "Python 3",
   "language": "python",
   "name": "python3"
  },
  "language_info": {
   "codemirror_mode": {
    "name": "ipython",
    "version": 3
   },
   "file_extension": ".py",
   "mimetype": "text/x-python",
   "name": "python",
   "nbconvert_exporter": "python",
   "pygments_lexer": "ipython3",
   "version": "3.8.10"
  }
 },
 "nbformat": 4,
 "nbformat_minor": 5
}
