{
 "cells": [
  {
   "cell_type": "markdown",
   "id": "light-bennett",
   "metadata": {},
   "source": [
    "### 1. Describe three applications for exception processing."
   ]
  },
  {
   "cell_type": "markdown",
   "id": "personalized-crazy",
   "metadata": {},
   "source": [
    "Some of the standard applications for exception processing are:\n",
    "1. To prevent NameError when a name is not found\n",
    "2. To prevent IOError when Input Output Operation fails\n",
    "3. To prevent ZeroDivisionError when a number is divided by zero"
   ]
  },
  {
   "cell_type": "markdown",
   "id": "heated-seating",
   "metadata": {},
   "source": [
    "### 2. What happens if you don't do something extra to treat an exception?"
   ]
  },
  {
   "cell_type": "markdown",
   "id": "otherwise-forty",
   "metadata": {},
   "source": [
    "If you don't do something extra to treat an exception, the runtime system will abort the program and an exception message will print to the console."
   ]
  },
  {
   "cell_type": "markdown",
   "id": "extra-adelaide",
   "metadata": {},
   "source": [
    "### 3. What are your options for recovering from an exception in your script?"
   ]
  },
  {
   "cell_type": "markdown",
   "id": "technical-prefix",
   "metadata": {},
   "source": [
    "Try Except and Finally block are options for recovering from an exception in your script."
   ]
  },
  {
   "cell_type": "markdown",
   "id": "still-squad",
   "metadata": {},
   "source": [
    "### 4. Describe two methods for triggering exceptions in your script."
   ]
  },
  {
   "cell_type": "markdown",
   "id": "static-analysis",
   "metadata": {},
   "source": [
    "By using raise and assert methods exceptions can be triggered in a script."
   ]
  },
  {
   "cell_type": "code",
   "execution_count": 1,
   "id": "located-pierre",
   "metadata": {},
   "outputs": [
    {
     "ename": "AssertionError",
     "evalue": "",
     "output_type": "error",
     "traceback": [
      "\u001b[1;31m---------------------------------------------------------------------------\u001b[0m",
      "\u001b[1;31mAssertionError\u001b[0m                            Traceback (most recent call last)",
      "\u001b[1;32m<ipython-input-1-ca54984b34e2>\u001b[0m in \u001b[0;36m<module>\u001b[1;34m\u001b[0m\n\u001b[0;32m      1\u001b[0m \u001b[0mx\u001b[0m \u001b[1;33m=\u001b[0m \u001b[1;36m0\u001b[0m\u001b[1;33m\u001b[0m\u001b[1;33m\u001b[0m\u001b[0m\n\u001b[1;32m----> 2\u001b[1;33m \u001b[1;32massert\u001b[0m \u001b[0mx\u001b[0m\u001b[1;33m>\u001b[0m\u001b[1;36m0\u001b[0m\u001b[1;33m\u001b[0m\u001b[1;33m\u001b[0m\u001b[0m\n\u001b[0m",
      "\u001b[1;31mAssertionError\u001b[0m: "
     ]
    }
   ],
   "source": [
    "x = 0\n",
    "assert x>0"
   ]
  },
  {
   "cell_type": "code",
   "execution_count": 7,
   "id": "exciting-governor",
   "metadata": {},
   "outputs": [
    {
     "ename": "ValueError",
     "evalue": "Your own Custom Message",
     "output_type": "error",
     "traceback": [
      "\u001b[1;31m---------------------------------------------------------------------------\u001b[0m",
      "\u001b[1;31mValueError\u001b[0m                                Traceback (most recent call last)",
      "\u001b[1;32m<ipython-input-7-ad1cdeff7a2f>\u001b[0m in \u001b[0;36m<module>\u001b[1;34m\u001b[0m\n\u001b[1;32m----> 1\u001b[1;33m \u001b[1;32mraise\u001b[0m \u001b[0mValueError\u001b[0m\u001b[1;33m(\u001b[0m\u001b[1;34m\"Your own Custom Message\"\u001b[0m\u001b[1;33m)\u001b[0m\u001b[1;33m\u001b[0m\u001b[1;33m\u001b[0m\u001b[0m\n\u001b[0m",
      "\u001b[1;31mValueError\u001b[0m: Your own Custom Message"
     ]
    }
   ],
   "source": [
    "raise ValueError(\"Your own Custom Message\")"
   ]
  },
  {
   "cell_type": "markdown",
   "id": "hungry-edwards",
   "metadata": {},
   "source": [
    "### 5. Identify two methods for specifying actions to be executed at termination time, regardless of whether or not an exception exists."
   ]
  },
  {
   "cell_type": "markdown",
   "id": "structured-motion",
   "metadata": {},
   "source": [
    "Following are the two methods for specifying actions to be executed at termination time, regardless of whether or not an exception exists.\n",
    "1. By passing a statement after the except block\n",
    "2. By using the finally block"
   ]
  },
  {
   "cell_type": "code",
   "execution_count": 10,
   "id": "weighted-bacon",
   "metadata": {},
   "outputs": [
    {
     "name": "stdout",
     "output_type": "stream",
     "text": [
      "division by zero\n"
     ]
    },
    {
     "data": {
      "text/plain": [
       "10.0"
      ]
     },
     "execution_count": 10,
     "metadata": {},
     "output_type": "execute_result"
    }
   ],
   "source": [
    "# with an exception\n",
    "try:\n",
    "    1/0\n",
    "except Exception as e:\n",
    "    print(e)\n",
    "100/10"
   ]
  },
  {
   "cell_type": "code",
   "execution_count": 11,
   "id": "fundamental-globe",
   "metadata": {},
   "outputs": [
    {
     "data": {
      "text/plain": [
       "10.0"
      ]
     },
     "execution_count": 11,
     "metadata": {},
     "output_type": "execute_result"
    }
   ],
   "source": [
    "# without an exception\n",
    "try:\n",
    "    1/1\n",
    "except Exception as e:\n",
    "    print(e)\n",
    "100/10"
   ]
  },
  {
   "cell_type": "code",
   "execution_count": 16,
   "id": "charged-enough",
   "metadata": {},
   "outputs": [
    {
     "name": "stdout",
     "output_type": "stream",
     "text": [
      "division by zero\n",
      "10.0\n"
     ]
    }
   ],
   "source": [
    "# with an exception \n",
    "try:\n",
    "    1/0\n",
    "except Exception as e:\n",
    "    print(e)\n",
    "finally:\n",
    "    print(100/10)"
   ]
  },
  {
   "cell_type": "code",
   "execution_count": 19,
   "id": "nearby-inside",
   "metadata": {},
   "outputs": [
    {
     "name": "stdout",
     "output_type": "stream",
     "text": [
      "10.0\n"
     ]
    }
   ],
   "source": [
    "# without an exception \n",
    "try:\n",
    "    1/1\n",
    "except Exception as e:\n",
    "    print(e)\n",
    "finally:\n",
    "    print(100/10)"
   ]
  }
 ],
 "metadata": {
  "kernelspec": {
   "display_name": "Python 3",
   "language": "python",
   "name": "python3"
  },
  "language_info": {
   "codemirror_mode": {
    "name": "ipython",
    "version": 3
   },
   "file_extension": ".py",
   "mimetype": "text/x-python",
   "name": "python",
   "nbconvert_exporter": "python",
   "pygments_lexer": "ipython3",
   "version": "3.8.3"
  }
 },
 "nbformat": 4,
 "nbformat_minor": 5
}
