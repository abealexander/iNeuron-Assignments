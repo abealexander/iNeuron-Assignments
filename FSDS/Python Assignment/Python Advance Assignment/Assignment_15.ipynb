{
 "cells": [
  {
   "cell_type": "markdown",
   "id": "bizarre-printer",
   "metadata": {},
   "source": [
    "### 1.\tWhat are the new features added in Python 3.8 version?"
   ]
  },
  {
   "cell_type": "raw",
   "id": "9444a525",
   "metadata": {},
   "source": [
    "1. PEP 572 (Assignment Expressions) – The walrus operator (:=)\n",
    "2. PEP 570 (Positional only arguments)\n",
    "3. PEP 590 (Vectorcall)\n",
    "4. PEP 574 (Pickle Protocol 5 with out-of-band data)\n",
    "5. F-strings now support = (Easy debugging)\n",
    "6.1 PEP 591 (Final qualifier)\n",
    "6.2 PEP 586 (Literal types)"
   ]
  },
  {
   "cell_type": "markdown",
   "id": "senior-sacramento",
   "metadata": {},
   "source": [
    "### 2.\tWhat is monkey patching in Python?"
   ]
  },
  {
   "cell_type": "raw",
   "id": "6a23e270",
   "metadata": {},
   "source": [
    "Monkey patching is the dynamic replacement of attributes at runtime.\n",
    "Example:\n",
    "from SomeOtherProduct.SomeModule import SomeClass\n",
    "\n",
    "def speak(self):\n",
    "    return \"ook ook eee eee eee!\"\n",
    "\n",
    "SomeClass.speak = speak"
   ]
  },
  {
   "cell_type": "markdown",
   "id": "found-father",
   "metadata": {},
   "source": [
    "### 3.\tWhat is the difference between a shallow copy and deep copy?"
   ]
  },
  {
   "cell_type": "markdown",
   "id": "da43d767",
   "metadata": {},
   "source": [
    "A shallow copy instead of creating an actual copy merely references to the original source whereas deep copy performs an actual copy."
   ]
  },
  {
   "cell_type": "code",
   "execution_count": 2,
   "id": "initial-publisher",
   "metadata": {},
   "outputs": [
    {
     "name": "stdout",
     "output_type": "stream",
     "text": [
      "[1, 2, [3, 5], 4] Original List\n",
      "[1, 2, [7, 5], 4] Changes in copy list reflected in original list\n"
     ]
    }
   ],
   "source": [
    "import copy\n",
    "li1 = [1, 2, [3,5], 4] \n",
    "\n",
    "li2 = copy.copy(li1) \n",
    "\n",
    "print(li1, \"Original List\")\n",
    " \n",
    "li2[2][0] = 7\n",
    "\n",
    "print(li1, \"Changes in copy list reflected in original list\")"
   ]
  },
  {
   "cell_type": "markdown",
   "id": "bulgarian-gentleman",
   "metadata": {},
   "source": [
    "### 4.\tWhat is the maximum possible length of an identifier?"
   ]
  },
  {
   "cell_type": "markdown",
   "id": "649e973f",
   "metadata": {},
   "source": [
    "79"
   ]
  },
  {
   "cell_type": "markdown",
   "id": "concerned-affect",
   "metadata": {},
   "source": [
    "### 5.\tWhat is generator comprehension?"
   ]
  },
  {
   "cell_type": "markdown",
   "id": "53403500",
   "metadata": {},
   "source": [
    "A generator comprehension is similar to list comprehension but the former doesn't construct list object. Instead of creating a list and keeping the whole sequence in the memory, the generator generates the next element in demand."
   ]
  }
 ],
 "metadata": {
  "kernelspec": {
   "display_name": "Python 3",
   "language": "python",
   "name": "python3"
  },
  "language_info": {
   "codemirror_mode": {
    "name": "ipython",
    "version": 3
   },
   "file_extension": ".py",
   "mimetype": "text/x-python",
   "name": "python",
   "nbconvert_exporter": "python",
   "pygments_lexer": "ipython3",
   "version": "3.8.10"
  }
 },
 "nbformat": 4,
 "nbformat_minor": 5
}
