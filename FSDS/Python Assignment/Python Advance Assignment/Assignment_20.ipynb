{
 "cells": [
  {
   "cell_type": "markdown",
   "id": "ongoing-intro",
   "metadata": {},
   "source": [
    "### 1. Compare and contrast the float and Decimal classes' benefits and drawbacks."
   ]
  },
  {
   "cell_type": "markdown",
   "id": "c9b28255",
   "metadata": {},
   "source": [
    "Float is beneficial when precision isn't important as using decimal operations are slower than float. Also the decimal class is much harder to use compared to float.\n",
    "\n",
    "Decimal is beneficial when precision is important as float works on approximation and this approximation when compounded can lead to quite a significant difference."
   ]
  },
  {
   "cell_type": "markdown",
   "id": "concerned-matrix",
   "metadata": {},
   "source": [
    "### 2. Decimal('1.200') and Decimal('1.2') are two objects to consider. In what sense are these the same object? Are these just two ways of representing the exact same value, or do they correspond to different internal states?"
   ]
  },
  {
   "cell_type": "code",
   "execution_count": 14,
   "id": "diagnostic-covering",
   "metadata": {},
   "outputs": [
    {
     "data": {
      "text/plain": [
       "Decimal('1.200')"
      ]
     },
     "execution_count": 14,
     "metadata": {},
     "output_type": "execute_result"
    }
   ],
   "source": [
    "from decimal import Decimal\n",
    "Decimal('1.200')"
   ]
  },
  {
   "cell_type": "code",
   "execution_count": 13,
   "id": "a4facf3e",
   "metadata": {},
   "outputs": [
    {
     "data": {
      "text/plain": [
       "Decimal('1.2')"
      ]
     },
     "execution_count": 13,
     "metadata": {},
     "output_type": "execute_result"
    }
   ],
   "source": [
    "Decimal('1.2')"
   ]
  },
  {
   "cell_type": "code",
   "execution_count": 16,
   "id": "8107ac74",
   "metadata": {},
   "outputs": [
    {
     "data": {
      "text/plain": [
       "True"
      ]
     },
     "execution_count": 16,
     "metadata": {},
     "output_type": "execute_result"
    }
   ],
   "source": [
    "Decimal('1.200')==Decimal('1.2')"
   ]
  },
  {
   "cell_type": "markdown",
   "id": "d3a11d51",
   "metadata": {},
   "source": [
    "Value wise these are identical whereas representation wise they have different decimal values.However they are stored at two different addresses."
   ]
  },
  {
   "cell_type": "markdown",
   "id": "olympic-daniel",
   "metadata": {},
   "source": [
    "### 3. What happens if the equality of Decimal('1.200') and Decimal('1.2') is checked?"
   ]
  },
  {
   "cell_type": "code",
   "execution_count": 17,
   "id": "infectious-potato",
   "metadata": {},
   "outputs": [
    {
     "data": {
      "text/plain": [
       "True"
      ]
     },
     "execution_count": 17,
     "metadata": {},
     "output_type": "execute_result"
    }
   ],
   "source": [
    "Decimal('1.200')==Decimal('1.2')"
   ]
  },
  {
   "cell_type": "markdown",
   "id": "center-seating",
   "metadata": {},
   "source": [
    "### 4. Why is it preferable to start a Decimal object with a string rather than a floating-point value?"
   ]
  },
  {
   "cell_type": "code",
   "execution_count": 18,
   "id": "noticed-figure",
   "metadata": {},
   "outputs": [
    {
     "data": {
      "text/plain": [
       "Decimal('1.2')"
      ]
     },
     "execution_count": 18,
     "metadata": {},
     "output_type": "execute_result"
    }
   ],
   "source": [
    "Decimal('1.2')"
   ]
  },
  {
   "cell_type": "code",
   "execution_count": 19,
   "id": "a11c408f",
   "metadata": {},
   "outputs": [
    {
     "data": {
      "text/plain": [
       "Decimal('1.1999999999999999555910790149937383830547332763671875')"
      ]
     },
     "execution_count": 19,
     "metadata": {},
     "output_type": "execute_result"
    }
   ],
   "source": [
    "Decimal(1.2)"
   ]
  },
  {
   "cell_type": "markdown",
   "id": "b14b194e",
   "metadata": {},
   "source": [
    "Since a floating point value already has an approximation error, when converted to decimal it retains that error. Why is why it is preferable to start a Decimal object with a string rather than a floating-point value."
   ]
  },
  {
   "cell_type": "markdown",
   "id": "matched-health",
   "metadata": {},
   "source": [
    "### 5. In an arithmetic phrase, how simple is it to combine Decimal objects with integers?"
   ]
  },
  {
   "cell_type": "code",
   "execution_count": 23,
   "id": "tamil-qualification",
   "metadata": {},
   "outputs": [
    {
     "data": {
      "text/plain": [
       "Decimal('11.2')"
      ]
     },
     "execution_count": 23,
     "metadata": {},
     "output_type": "execute_result"
    }
   ],
   "source": [
    "a = Decimal('1.2')\n",
    "a + 10"
   ]
  },
  {
   "cell_type": "markdown",
   "id": "growing-circus",
   "metadata": {},
   "source": [
    "### 6. Can Decimal objects and floating-point values be combined easily?"
   ]
  },
  {
   "cell_type": "code",
   "execution_count": 24,
   "id": "minute-implementation",
   "metadata": {},
   "outputs": [
    {
     "ename": "TypeError",
     "evalue": "unsupported operand type(s) for +: 'decimal.Decimal' and 'float'",
     "output_type": "error",
     "traceback": [
      "\u001b[1;31m---------------------------------------------------------------------------\u001b[0m",
      "\u001b[1;31mTypeError\u001b[0m                                 Traceback (most recent call last)",
      "\u001b[1;32m<ipython-input-24-d8a454ac7fa0>\u001b[0m in \u001b[0;36m<module>\u001b[1;34m\u001b[0m\n\u001b[1;32m----> 1\u001b[1;33m \u001b[0ma\u001b[0m \u001b[1;33m+\u001b[0m \u001b[1;36m1.2\u001b[0m\u001b[1;33m\u001b[0m\u001b[1;33m\u001b[0m\u001b[0m\n\u001b[0m",
      "\u001b[1;31mTypeError\u001b[0m: unsupported operand type(s) for +: 'decimal.Decimal' and 'float'"
     ]
    }
   ],
   "source": [
    "a + 1.2"
   ]
  },
  {
   "cell_type": "markdown",
   "id": "83c6b2ba",
   "metadata": {},
   "source": [
    "When Decimal objects and floating-point values are combined it causes an error. To perform this operation one has to first convert the float to a decimal object."
   ]
  },
  {
   "cell_type": "markdown",
   "id": "alternative-shakespeare",
   "metadata": {},
   "source": [
    "### 7. Using the Fraction class but not the Decimal class, give an example of a quantity that can be expressed with absolute precision."
   ]
  },
  {
   "cell_type": "code",
   "execution_count": 68,
   "id": "subjective-transmission",
   "metadata": {},
   "outputs": [
    {
     "name": "stdout",
     "output_type": "stream",
     "text": [
      "3602879701896397/18014398509481984\n"
     ]
    }
   ],
   "source": [
    "from fractions import Fraction\n",
    "print(Fraction(0.2))"
   ]
  },
  {
   "cell_type": "markdown",
   "id": "humanitarian-burton",
   "metadata": {},
   "source": [
    "### 8. Describe a quantity that can be accurately expressed by the Decimal or Fraction classes but not by a floating-point value."
   ]
  },
  {
   "cell_type": "code",
   "execution_count": 53,
   "id": "annual-carol",
   "metadata": {},
   "outputs": [
    {
     "name": "stdout",
     "output_type": "stream",
     "text": [
      "0.200000000000000011102230246251565404236316680908203125\n"
     ]
    }
   ],
   "source": [
    "print(Decimal(1/5))"
   ]
  },
  {
   "cell_type": "code",
   "execution_count": 54,
   "id": "14a6ae9e",
   "metadata": {},
   "outputs": [
    {
     "name": "stdout",
     "output_type": "stream",
     "text": [
      "0.2\n"
     ]
    }
   ],
   "source": [
    "print(Decimal(1)/Decimal(5))"
   ]
  },
  {
   "cell_type": "code",
   "execution_count": 56,
   "id": "2002aa3e",
   "metadata": {},
   "outputs": [
    {
     "name": "stdout",
     "output_type": "stream",
     "text": [
      "1/5\n"
     ]
    }
   ],
   "source": [
    "print(Fraction(1)/Fraction(5))"
   ]
  },
  {
   "cell_type": "markdown",
   "id": "executed-matter",
   "metadata": {},
   "source": [
    "### 9.Consider the following two fraction objects: Fraction(1, 2) and Fraction(1, 2). (5, 10). Is the internal state of these two objects the same? Why do you think that is?"
   ]
  },
  {
   "cell_type": "code",
   "execution_count": 60,
   "id": "acceptable-python",
   "metadata": {},
   "outputs": [],
   "source": [
    "x = Fraction(1, 2)"
   ]
  },
  {
   "cell_type": "code",
   "execution_count": 61,
   "id": "9d798d32",
   "metadata": {},
   "outputs": [],
   "source": [
    "y = Fraction(5, 10)"
   ]
  },
  {
   "cell_type": "code",
   "execution_count": 62,
   "id": "5cccaf93",
   "metadata": {},
   "outputs": [
    {
     "data": {
      "text/plain": [
       "False"
      ]
     },
     "execution_count": 62,
     "metadata": {},
     "output_type": "execute_result"
    }
   ],
   "source": [
    "id(x) == id(y)"
   ]
  },
  {
   "cell_type": "markdown",
   "id": "00c04317",
   "metadata": {},
   "source": [
    "Although they represent the same value they are stored at two different locations."
   ]
  },
  {
   "cell_type": "markdown",
   "id": "preliminary-cornwall",
   "metadata": {},
   "source": [
    "### 10. How do the Fraction class and the integer type (int) relate to each other? Containment or inheritance?"
   ]
  },
  {
   "cell_type": "markdown",
   "id": "45f984e2",
   "metadata": {},
   "source": [
    "As per the source code, the Fraction class inherits from numbers.Rational.\n",
    "\n",
    "Reference: https://github.com/python/cpython/blob/3.9/Lib/fractions.py"
   ]
  }
 ],
 "metadata": {
  "kernelspec": {
   "display_name": "Python 3",
   "language": "python",
   "name": "python3"
  },
  "language_info": {
   "codemirror_mode": {
    "name": "ipython",
    "version": 3
   },
   "file_extension": ".py",
   "mimetype": "text/x-python",
   "name": "python",
   "nbconvert_exporter": "python",
   "pygments_lexer": "ipython3",
   "version": "3.8.10"
  }
 },
 "nbformat": 4,
 "nbformat_minor": 5
}
