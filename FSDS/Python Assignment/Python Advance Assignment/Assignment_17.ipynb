{
 "cells": [
  {
   "cell_type": "markdown",
   "id": "distributed-signal",
   "metadata": {},
   "source": [
    "### 1. Explain the difference between greedy and non-greedy syntax with visual terms in as few words as possible. What is the bare minimum effort required to transform a greedy pattern into a non-greedy one? What characters or characters can you introduce or change?"
   ]
  },
  {
   "cell_type": "markdown",
   "id": "1ddb066d",
   "metadata": {},
   "source": [
    "Greediness refers to the quantity of times the regex engine will try to match certain set of characters. The way to state the \"greediness\" of a regex expression is using the special characters *, +, ? and {}.\n",
    "\n",
    "Consider"
   ]
  },
  {
   "cell_type": "code",
   "execution_count": null,
   "id": "bdea3834",
   "metadata": {},
   "outputs": [],
   "source": [
    "str = \"asdfasdfbbbb\"\n",
    "r1 = /b/\n",
    "r2 = /(asdf)*/\n",
    "r3 = /b{3}/\n",
    "r4 = /.*/"
   ]
  },
  {
   "cell_type": "raw",
   "id": "b5f5e9ef",
   "metadata": {},
   "source": [
    "Matching these regex against str will result in:\n",
    "\n",
    "r1 matching \"asdfasdf b bbb\" (non-greedy, tries to match b just once)\n",
    "r2 matching \"asdfasdf bbbb\" (greedy, tries to match asdf as many times as possible)\n",
    "r3 matching \"asdfasdf bbb b\" (non-greedy, matches b exactly 3 times)\n",
    "r4 matching \"asdfasdfbbbb\" (ULTRA-greedy, matches almost any character as many times as possible)"
   ]
  },
  {
   "cell_type": "markdown",
   "id": "activated-liverpool",
   "metadata": {},
   "source": [
    "### 2. When exactly does greedy versus non-greedy make a difference?  What if you're looking for a non-greedy match but the only one available is greedy?"
   ]
  },
  {
   "cell_type": "markdown",
   "id": "e2b1effa",
   "metadata": {},
   "source": [
    "Greedy match tries to match as many repetitions of the pattern whereas the non-greedy match will try to match as few repetitions of the pattern."
   ]
  },
  {
   "cell_type": "markdown",
   "id": "metric-edmonton",
   "metadata": {},
   "source": [
    "### 3. In a simple match of a string, which looks only for one match and does not do any replacement, is the use of a nontagged group likely to make any practical difference?"
   ]
  },
  {
   "cell_type": "markdown",
   "id": "3e22bb63",
   "metadata": {},
   "source": [
    "There is no difference in the use of a nontagged group in this case."
   ]
  },
  {
   "cell_type": "markdown",
   "id": "starting-father",
   "metadata": {},
   "source": [
    "### 4. Describe a scenario in which using a nontagged category would have a significant impact on the program's outcomes."
   ]
  },
  {
   "cell_type": "markdown",
   "id": "e2fc4967",
   "metadata": {},
   "source": [
    "Some scenarios where a nontagged category is useful:\n",
    "- Separating dashes and hyphens between a phone number or text\n",
    "- Pulling only relevant information from a url"
   ]
  },
  {
   "cell_type": "markdown",
   "id": "advance-native",
   "metadata": {},
   "source": [
    "### 5. Unlike a normal regex pattern, a look-ahead condition does not consume the characters it examines. Describe a situation in which this could make a difference in the results of your programme."
   ]
  },
  {
   "cell_type": "markdown",
   "id": "eff62414",
   "metadata": {},
   "source": [
    "Look-ahead condition does not consume characters in the string, but only assert whether a match is possible or not.\n",
    "\n",
    "Lets suppose you want to match all those USD characters which are followed by some digits. Simply you want to match all those USD characters which are immediately followed by numbers for example you want to match\n",
    "- USD 100\n",
    "- USD 350\n",
    "- USD 12,345\n",
    "\n",
    "but you don't want to match \n",
    "- USD currency\n",
    "- USD rate\n",
    "\n",
    "Reference: https://www.regextutorial.org/positive-and-negative-lookahead-assertions.php"
   ]
  },
  {
   "cell_type": "markdown",
   "id": "alone-thanksgiving",
   "metadata": {},
   "source": [
    "### 6. In standard expressions, what is the difference between positive look-ahead and negative look-ahead?"
   ]
  },
  {
   "cell_type": "markdown",
   "id": "4ec6de56",
   "metadata": {},
   "source": [
    "Positive look ahead is an assertion that will succeed if the passed non-consuming expression does match against the forthcoming input.\n",
    "\n",
    "Negative look ahead is also an assertion that will succeed if the passed non-consuming expression does not match against the forthcoming input."
   ]
  },
  {
   "cell_type": "markdown",
   "id": "manufactured-scope",
   "metadata": {},
   "source": [
    "### 7. What is the benefit of referring to groups by name rather than by number in a standard expression?"
   ]
  },
  {
   "cell_type": "markdown",
   "id": "4180df9b",
   "metadata": {},
   "source": [
    "Named groups helps makes it easier to extract information when many groups exist."
   ]
  },
  {
   "cell_type": "markdown",
   "id": "creative-probe",
   "metadata": {},
   "source": [
    "### 8. Can you identify repeated items within a target string using named groups, as in \"The cow jumped over the moon\"?"
   ]
  },
  {
   "cell_type": "code",
   "execution_count": 54,
   "id": "adolescent-correlation",
   "metadata": {},
   "outputs": [
    {
     "name": "stdout",
     "output_type": "stream",
     "text": [
      "['the', 'the']\n"
     ]
    }
   ],
   "source": [
    "import re\n",
    "text = \"the cow jumped over the moon\"\n",
    "pattern = re.compile(r'\\b(?:(The)\\s??\\b){1}', re.IGNORECASE)\n",
    "print(pattern.findall(text))"
   ]
  },
  {
   "cell_type": "markdown",
   "id": "canadian-moldova",
   "metadata": {},
   "source": [
    "### 9. When parsing a string, what is at least one thing that the Scanner interface does for you that the re.findall feature does not?"
   ]
  },
  {
   "cell_type": "markdown",
   "id": "b8480c79",
   "metadata": {},
   "source": [
    "scanner stops after the first match whereas re.findall returns all matches."
   ]
  },
  {
   "cell_type": "markdown",
   "id": "dominant-ambassador",
   "metadata": {},
   "source": [
    "### 10. Does a scanner object have to be named scanner?"
   ]
  },
  {
   "cell_type": "markdown",
   "id": "791b505f",
   "metadata": {},
   "source": [
    "The scanner seems to have been removed from newer versions of Python."
   ]
  }
 ],
 "metadata": {
  "kernelspec": {
   "display_name": "Python 3",
   "language": "python",
   "name": "python3"
  },
  "language_info": {
   "codemirror_mode": {
    "name": "ipython",
    "version": 3
   },
   "file_extension": ".py",
   "mimetype": "text/x-python",
   "name": "python",
   "nbconvert_exporter": "python",
   "pygments_lexer": "ipython3",
   "version": "3.8.10"
  }
 },
 "nbformat": 4,
 "nbformat_minor": 5
}
