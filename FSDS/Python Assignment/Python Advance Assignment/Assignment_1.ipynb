{
 "cells": [
  {
   "cell_type": "markdown",
   "id": "equivalent-series",
   "metadata": {},
   "source": [
    "### 1. What is the purpose of Python's OOP?"
   ]
  },
  {
   "cell_type": "markdown",
   "id": "raised-rhythm",
   "metadata": {},
   "source": [
    "OOPs in Python uses objects and classes to solve a programming problem. The purpose of Python's OOP is to create reusable code also known as DRY (Don't Repeat Yourself)."
   ]
  },
  {
   "cell_type": "markdown",
   "id": "corporate-recycling",
   "metadata": {},
   "source": [
    "### 2. Where does an inheritance search look for an attribute?"
   ]
  },
  {
   "cell_type": "markdown",
   "id": "behind-springfield",
   "metadata": {},
   "source": [
    "Inheritance search looks for an attribute at or above the object for the first attribute it can find. Python searches upward in it's tree from instances to superclasses."
   ]
  },
  {
   "cell_type": "markdown",
   "id": "adjusted-employee",
   "metadata": {},
   "source": [
    "### 3. How do you distinguish between a class object and an instance object?"
   ]
  },
  {
   "cell_type": "markdown",
   "id": "mathematical-islam",
   "metadata": {},
   "source": [
    "The Class is like a blueprint of a house, the Object are houses built from that blueprint and the given house is an Instance.\n",
    "A object is a copy of the class while the instance holds the memory address of the object."
   ]
  },
  {
   "cell_type": "markdown",
   "id": "alike-alexandria",
   "metadata": {},
   "source": [
    "### 4. What makes the first argument in a class’s method function special?"
   ]
  },
  {
   "cell_type": "markdown",
   "id": "consistent-australian",
   "metadata": {},
   "source": [
    "The first argument in a class method is the class itself."
   ]
  },
  {
   "cell_type": "markdown",
   "id": "fitted-refund",
   "metadata": {},
   "source": [
    "### 5. What is the purpose of the __init__ method?"
   ]
  },
  {
   "cell_type": "markdown",
   "id": "closed-ratio",
   "metadata": {},
   "source": [
    "The \"\\_\\_init\\_\\_\" method is used to initialize the attributes of the class."
   ]
  },
  {
   "cell_type": "markdown",
   "id": "spatial-malaysia",
   "metadata": {},
   "source": [
    "### 6. What is the process for creating a class instance?"
   ]
  },
  {
   "cell_type": "markdown",
   "id": "indian-bacon",
   "metadata": {},
   "source": [
    "By calling the class name and passing the arguments the \"\\_\\_init\\_\\_\" method accepts we can create a class instance."
   ]
  },
  {
   "cell_type": "markdown",
   "id": "adjustable-judges",
   "metadata": {},
   "source": [
    "### 7. What is the process for creating a class?"
   ]
  },
  {
   "cell_type": "markdown",
   "id": "durable-reviewer",
   "metadata": {},
   "source": [
    "We can create a class by using the \"class\" keyword. Also the class name shold be captitalized, this helps differentiating class from normal variables or function names. Further we can also give a brief description about the class by passing a string called the docstring."
   ]
  },
  {
   "cell_type": "code",
   "execution_count": 2,
   "id": "announced-understanding",
   "metadata": {},
   "outputs": [],
   "source": [
    "class NewClass:\n",
    "    '''A brief description'''\n",
    "    pass"
   ]
  },
  {
   "cell_type": "markdown",
   "id": "planned-roommate",
   "metadata": {},
   "source": [
    "### 8. How would you define the superclasses of a class?"
   ]
  },
  {
   "cell_type": "markdown",
   "id": "pressing-timeline",
   "metadata": {},
   "source": [
    "Upon creation of a subclass or by inheriting from a parent class, the parent class becomes the superclass."
   ]
  }
 ],
 "metadata": {
  "kernelspec": {
   "display_name": "Python 3",
   "language": "python",
   "name": "python3"
  },
  "language_info": {
   "codemirror_mode": {
    "name": "ipython",
    "version": 3
   },
   "file_extension": ".py",
   "mimetype": "text/x-python",
   "name": "python",
   "nbconvert_exporter": "python",
   "pygments_lexer": "ipython3",
   "version": "3.8.3"
  }
 },
 "nbformat": 4,
 "nbformat_minor": 5
}
