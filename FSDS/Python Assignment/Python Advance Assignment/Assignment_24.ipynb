{
 "cells": [
  {
   "cell_type": "markdown",
   "id": "likely-blair",
   "metadata": {},
   "source": [
    "### 1. Is it permissible to use several import statements to import the same module? What would the goal be? Can you think of a situation where it would be beneficial?"
   ]
  },
  {
   "cell_type": "markdown",
   "id": "b29968ff",
   "metadata": {},
   "source": [
    "If a module has already been imported, it's not loaded again. However you would be able to import the same module twice by using the alias feature. But I cannot think of a situation where this would be beneficial neither can I understand the user's goals."
   ]
  },
  {
   "cell_type": "code",
   "execution_count": 8,
   "id": "e76d8717",
   "metadata": {},
   "outputs": [
    {
     "name": "stdout",
     "output_type": "stream",
     "text": [
      "   0\n",
      "0  1\n",
      "1  2\n",
      "2  3\n",
      "   0\n",
      "0  1\n",
      "1  2\n",
      "2  3\n"
     ]
    }
   ],
   "source": [
    "import pandas\n",
    "import pandas as pd\n",
    "df = pandas.DataFrame([1,2,3])\n",
    "df1 = pd.DataFrame([1,2,3])\n",
    "print(df)\n",
    "print(df1)"
   ]
  },
  {
   "cell_type": "markdown",
   "id": "ordered-james",
   "metadata": {},
   "source": [
    "### 2. What are some of a module's characteristics? (Name at least one.)"
   ]
  },
  {
   "cell_type": "markdown",
   "id": "00912d7a",
   "metadata": {},
   "source": [
    "A module allows you to logically organize your Python code. Grouping related code into a module makes the code easier to understand and use."
   ]
  },
  {
   "cell_type": "markdown",
   "id": "fleet-discussion",
   "metadata": {},
   "source": [
    "### 3. Circular importing, such as when two modules import each other, can lead to dependencies and bugs that aren't visible. How can you go about creating a program that avoids mutual importing?"
   ]
  },
  {
   "cell_type": "markdown",
   "id": "c7b3c62a",
   "metadata": {},
   "source": [
    "One way is to merge the two modules but this may make the code too large. Another way is to import the dependency only when required."
   ]
  },
  {
   "cell_type": "markdown",
   "id": "quick-costume",
   "metadata": {},
   "source": [
    "### 4. Why is  _ _all_ _ in Python?"
   ]
  },
  {
   "cell_type": "markdown",
   "id": "4bd34991",
   "metadata": {},
   "source": [
    "It's a list of public objects of that module, as interpreted by import *. It overrides the default of hiding everything that begins with an underscore.\n",
    "\n",
    "Reference: https://stackoverflow.com/questions/44834/can-someone-explain-all-in-python#:~:text=In%20short%2C%20__all__,us%20use%20from%20package%20import%20*%20."
   ]
  },
  {
   "cell_type": "markdown",
   "id": "general-franchise",
   "metadata": {},
   "source": [
    "### 5. In what situation is it useful to refer to the _ _name_ _ attribute or the string '_ _main_ _'?"
   ]
  },
  {
   "cell_type": "raw",
   "id": "c083ba12",
   "metadata": {},
   "source": [
    "Anything that comes after if __name__ == '__main__': will be run only when you explicitly run your file. It is useful when you want to prevent the script to run during import."
   ]
  },
  {
   "cell_type": "markdown",
   "id": "serial-enclosure",
   "metadata": {},
   "source": [
    "### 6. What are some of the benefits of attaching a program counter to the RPN interpreter application, which interprets an RPN script line by line?"
   ]
  },
  {
   "cell_type": "markdown",
   "id": "cb3f828a",
   "metadata": {},
   "source": [
    "A benefit of attaching a program counter to the RPN interpreter application, which interprets an RPN script line by line is that issues like operator precendence does not arise."
   ]
  },
  {
   "cell_type": "markdown",
   "id": "nominated-extreme",
   "metadata": {},
   "source": [
    "### 7. What are the minimum expressions or statements (or both) that you'd need to render a basic programming language like RPN primitive but complete— that is, capable of carrying out any computerised task theoretically possible?"
   ]
  },
  {
   "cell_type": "markdown",
   "id": "896901e5",
   "metadata": {},
   "source": [
    "Couldn't understand nor find a proper answer."
   ]
  }
 ],
 "metadata": {
  "kernelspec": {
   "display_name": "Python 3",
   "language": "python",
   "name": "python3"
  },
  "language_info": {
   "codemirror_mode": {
    "name": "ipython",
    "version": 3
   },
   "file_extension": ".py",
   "mimetype": "text/x-python",
   "name": "python",
   "nbconvert_exporter": "python",
   "pygments_lexer": "ipython3",
   "version": "3.8.10"
  }
 },
 "nbformat": 4,
 "nbformat_minor": 5
}
