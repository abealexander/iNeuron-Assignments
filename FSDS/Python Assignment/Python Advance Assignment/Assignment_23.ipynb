{
 "cells": [
  {
   "cell_type": "markdown",
   "id": "vocational-yugoslavia",
   "metadata": {},
   "source": [
    "### 1. If you have any, what are your choices for increasing the comparison between different figures on the same graph?"
   ]
  },
  {
   "cell_type": "markdown",
   "id": "8bc8ff25",
   "metadata": {},
   "source": [
    "Since we want to compare different figures on the same graph, one can color code the different figures with a proper legend for better understanding."
   ]
  },
  {
   "cell_type": "markdown",
   "id": "fewer-saint",
   "metadata": {},
   "source": [
    "### 2. Can you explain the benefit of compound interest over a higher rate of interest that does not compound after reading this chapter?"
   ]
  },
  {
   "cell_type": "code",
   "execution_count": 3,
   "id": "incredible-vatican",
   "metadata": {},
   "outputs": [],
   "source": [
    "p = 10000\n",
    "t = 5\n",
    "\n",
    "def simple_interest(p,t,r):\n",
    "    print('The principal is', p)\n",
    "    print('The time period is', t)\n",
    "    print('The rate of interest is',r)\n",
    "      \n",
    "    si = (p * t * r)/100\n",
    "      \n",
    "    print('The Simple Interest is', si)\n",
    "    return si\n",
    "\n",
    "def compound_interest(p, t, r):\n",
    "    print('The principal is', p)\n",
    "    print('The time period is', t)\n",
    "    print('The rate of interest is',r)\n",
    "    Amount = p * (pow((1 + r / 100), t))\n",
    "    CI = Amount - p\n",
    "    print(\"The Compound interest is\", CI)"
   ]
  },
  {
   "cell_type": "code",
   "execution_count": 7,
   "id": "649033fe",
   "metadata": {},
   "outputs": [
    {
     "name": "stdout",
     "output_type": "stream",
     "text": [
      "The principal is 10000\n",
      "The time period is 5\n",
      "The rate of interest is 10\n",
      "The Simple Interest is 5000.0\n"
     ]
    },
    {
     "data": {
      "text/plain": [
       "5000.0"
      ]
     },
     "execution_count": 7,
     "metadata": {},
     "output_type": "execute_result"
    }
   ],
   "source": [
    "# Simple Interest with Higher Rate\n",
    "simple_interest(p, t, 10)"
   ]
  },
  {
   "cell_type": "code",
   "execution_count": 10,
   "id": "9d40a7a4",
   "metadata": {},
   "outputs": [
    {
     "name": "stdout",
     "output_type": "stream",
     "text": [
      "The principal is 10000\n",
      "The time period is 5\n",
      "The rate of interest is 9\n",
      "The Compound interest is 5386.239549000005\n"
     ]
    }
   ],
   "source": [
    "# Compound Interest with Lower Rate\n",
    "compound_interest(p,t, 9)"
   ]
  },
  {
   "cell_type": "markdown",
   "id": "27655aac",
   "metadata": {},
   "source": [
    "As you can see the Compound Interest rate of 9% generated higher interest compared to the Simple Interest rate of 10%. The compounding i.e. interest on interest is much beneficial compared to a higher Simple Interest Rate."
   ]
  },
  {
   "cell_type": "markdown",
   "id": "unknown-authority",
   "metadata": {},
   "source": [
    "### 3. What is a histogram, exactly? Name a numpy method for creating such a graph."
   ]
  },
  {
   "cell_type": "markdown",
   "id": "5fcc0480",
   "metadata": {},
   "source": [
    "A histogram is a graphical representation that organizes a group of data points into user-specified ranges. numpy.histogram compute the histogram of a dataset."
   ]
  },
  {
   "cell_type": "markdown",
   "id": "ancient-somerset",
   "metadata": {},
   "source": [
    "### 4. If necessary, how do you change the aspect ratios between the X and Y axes?"
   ]
  },
  {
   "cell_type": "code",
   "execution_count": null,
   "id": "personalized-broadway",
   "metadata": {},
   "outputs": [],
   "source": [
    "axis.set_aspect()"
   ]
  },
  {
   "cell_type": "markdown",
   "id": "exceptional-costa",
   "metadata": {},
   "source": [
    "### 5. Compare and contrast the three types of array multiplication between two numpy arrays: dot product, outer product, and regular multiplication of two numpy arrays."
   ]
  },
  {
   "cell_type": "code",
   "execution_count": 11,
   "id": "floating-month",
   "metadata": {},
   "outputs": [],
   "source": [
    "import numpy as np\n",
    "a = np.array([1,2,3])\n",
    "b = np.array([4,5,6])"
   ]
  },
  {
   "cell_type": "code",
   "execution_count": 15,
   "id": "d8924907",
   "metadata": {},
   "outputs": [
    {
     "data": {
      "text/plain": [
       "32"
      ]
     },
     "execution_count": 15,
     "metadata": {},
     "output_type": "execute_result"
    }
   ],
   "source": [
    "# Dot Product\n",
    "a.dot(b)"
   ]
  },
  {
   "cell_type": "code",
   "execution_count": 16,
   "id": "5434e3f2",
   "metadata": {},
   "outputs": [
    {
     "data": {
      "text/plain": [
       "array([[ 4,  5,  6],\n",
       "       [ 8, 10, 12],\n",
       "       [12, 15, 18]])"
      ]
     },
     "execution_count": 16,
     "metadata": {},
     "output_type": "execute_result"
    }
   ],
   "source": [
    "# Outer Product\n",
    "np.outer(a, b)"
   ]
  },
  {
   "cell_type": "code",
   "execution_count": 17,
   "id": "68d51058",
   "metadata": {},
   "outputs": [
    {
     "data": {
      "text/plain": [
       "array([ 4, 10, 18])"
      ]
     },
     "execution_count": 17,
     "metadata": {},
     "output_type": "execute_result"
    }
   ],
   "source": [
    "# Regular Multiplication\n",
    "a*b"
   ]
  },
  {
   "cell_type": "markdown",
   "id": "damaged-effectiveness",
   "metadata": {},
   "source": [
    "### 6. Before you buy a home, which numpy function will you use to measure your monthly mortgage payment?"
   ]
  },
  {
   "cell_type": "code",
   "execution_count": 27,
   "id": "global-judges",
   "metadata": {},
   "outputs": [
    {
     "data": {
      "text/plain": [
       "3815.134597756099"
      ]
     },
     "execution_count": 27,
     "metadata": {},
     "output_type": "execute_result"
    }
   ],
   "source": [
    "import numpy_financial as npf\n",
    "\n",
    "# rate = The periodic (monthly) interest rate\n",
    "rate = ((1 + (3.75/100/12))**12)-1\n",
    "# nper = The number of payment periods (months) in the lifespan of the mortgage loan\n",
    "nper = 30*12\n",
    "# pv = The total value of the mortgage loan\n",
    "pv = 100000\n",
    "\n",
    "npf.pmt(rate, nper, pv)*-1"
   ]
  },
  {
   "cell_type": "markdown",
   "id": "adjustable-serial",
   "metadata": {},
   "source": [
    "### 7. Can string data be stored in numpy arrays? If so, list at least one restriction that applies to this data."
   ]
  },
  {
   "cell_type": "markdown",
   "id": "fc57fc0d",
   "metadata": {},
   "source": [
    "Yes string data can be stored in numpy arrays."
   ]
  },
  {
   "cell_type": "code",
   "execution_count": 42,
   "id": "03ebf9af",
   "metadata": {},
   "outputs": [
    {
     "data": {
      "text/plain": [
       "array(['USA', 'Japan', 'UK', 'New Z', 'India', 'China'], dtype='<U5')"
      ]
     },
     "execution_count": 42,
     "metadata": {},
     "output_type": "execute_result"
    }
   ],
   "source": [
    "country = np.array(['USA', 'Japan', 'UK', '', 'India', 'China'])"
   ]
  },
  {
   "cell_type": "markdown",
   "id": "54d9e849",
   "metadata": {},
   "source": [
    "However there is a restriction where once a array has been created it will not be able to store new strings having length not more than the maximum length at the time of the creation. f we try to reassign some another string value having length greater than the maximum length of the existing elements, it simply discards all the values beyond the maximum length."
   ]
  },
  {
   "cell_type": "code",
   "execution_count": 44,
   "id": "4681212e",
   "metadata": {},
   "outputs": [
    {
     "name": "stdout",
     "output_type": "stream",
     "text": [
      "['USA' 'Japan' 'UK' 'New Z' 'India' 'China']\n"
     ]
    }
   ],
   "source": [
    "country[country == ''] = 'New Zealand'\n",
    "print(country)"
   ]
  }
 ],
 "metadata": {
  "kernelspec": {
   "display_name": "Python 3",
   "language": "python",
   "name": "python3"
  },
  "language_info": {
   "codemirror_mode": {
    "name": "ipython",
    "version": 3
   },
   "file_extension": ".py",
   "mimetype": "text/x-python",
   "name": "python",
   "nbconvert_exporter": "python",
   "pygments_lexer": "ipython3",
   "version": "3.8.10"
  }
 },
 "nbformat": 4,
 "nbformat_minor": 5
}
