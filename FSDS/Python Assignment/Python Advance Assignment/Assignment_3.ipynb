{
 "cells": [
  {
   "cell_type": "markdown",
   "id": "public-accommodation",
   "metadata": {},
   "source": [
    "### 1. What is the concept of an abstract superclass?"
   ]
  },
  {
   "cell_type": "markdown",
   "id": "national-feelings",
   "metadata": {},
   "source": [
    "An abstract class is a blueprint for other classes. It contains one or more abstract methods. It allows you to create a set of methods within child classes built from the abstract class. An abstract method is a method that is declared but contains no implementation. With the use of abc module we can use this functionality. "
   ]
  },
  {
   "cell_type": "markdown",
   "id": "adult-omega",
   "metadata": {},
   "source": [
    "### 2. What happens when a class statement's top level contains a basic assignment statement?"
   ]
  },
  {
   "cell_type": "markdown",
   "id": "challenging-latest",
   "metadata": {},
   "source": [
    "When a class statement's top level contains a basic assignment statement we can call this class attribute without create an object."
   ]
  },
  {
   "cell_type": "code",
   "execution_count": 2,
   "id": "saving-yellow",
   "metadata": {},
   "outputs": [
    {
     "data": {
      "text/plain": [
       "100"
      ]
     },
     "execution_count": 2,
     "metadata": {},
     "output_type": "execute_result"
    }
   ],
   "source": [
    "class Temp:\n",
    "    a = 100 # class attribute\n",
    "Temp.a"
   ]
  },
  {
   "cell_type": "markdown",
   "id": "opposite-driving",
   "metadata": {},
   "source": [
    "### 3. Why does a class need to manually call a superclass's __init__ method?"
   ]
  },
  {
   "cell_type": "markdown",
   "id": "floating-telescope",
   "metadata": {},
   "source": [
    "If you add attributes to the superclass's init method and need those in your sub class then you will have to manually call a superclass's init method. This is because a Class is simply a function repository and is available automatically but variables created in the class are not available until created explicitly."
   ]
  },
  {
   "cell_type": "code",
   "execution_count": 6,
   "id": "consistent-figure",
   "metadata": {},
   "outputs": [],
   "source": [
    "class Class(object):\n",
    "    \n",
    "    def __init__(self):\n",
    "        self.a = 10\n",
    "\n",
    "class Subclass(Class):\n",
    "   \n",
    "    def __init__(self):\n",
    "        Class.__init__(self)\n",
    "        self.b = 20\n",
    "\n",
    "# Creating Subclass object        \n",
    "B = Subclass()"
   ]
  },
  {
   "cell_type": "code",
   "execution_count": 8,
   "id": "renewable-supervisor",
   "metadata": {},
   "outputs": [
    {
     "data": {
      "text/plain": [
       "20"
      ]
     },
     "execution_count": 8,
     "metadata": {},
     "output_type": "execute_result"
    }
   ],
   "source": [
    "# Subclass attribute\n",
    "B.b"
   ]
  },
  {
   "cell_type": "code",
   "execution_count": 9,
   "id": "finished-financing",
   "metadata": {},
   "outputs": [
    {
     "data": {
      "text/plain": [
       "10"
      ]
     },
     "execution_count": 9,
     "metadata": {},
     "output_type": "execute_result"
    }
   ],
   "source": [
    "# Parent Class attribute\n",
    "B.a"
   ]
  },
  {
   "cell_type": "markdown",
   "id": "contemporary-disease",
   "metadata": {},
   "source": [
    "### 4. How can you augment, instead of completely replacing, an inherited method?"
   ]
  },
  {
   "cell_type": "markdown",
   "id": "dirty-forty",
   "metadata": {},
   "source": [
    "One can augment an inherited method as below:"
   ]
  },
  {
   "cell_type": "code",
   "execution_count": 9,
   "id": "adult-cyprus",
   "metadata": {},
   "outputs": [],
   "source": [
    "class Spam():\n",
    "    def hello(self):\n",
    "        print(\"Main Spam\")\n",
    "    \n",
    "class subSpam(Spam):\n",
    "    def hello(self):\n",
    "        super().hello()\n",
    "        print(\"Sub Spam\")"
   ]
  },
  {
   "cell_type": "code",
   "execution_count": 10,
   "id": "sustained-purpose",
   "metadata": {},
   "outputs": [
    {
     "name": "stdout",
     "output_type": "stream",
     "text": [
      "Main Spam\n",
      "Sub Spam\n"
     ]
    }
   ],
   "source": [
    "sub = subSpam()\n",
    "sub.hello()"
   ]
  },
  {
   "cell_type": "markdown",
   "id": "wound-ebony",
   "metadata": {},
   "source": [
    "Instead of monkey patching one can use Mixin Approach and Multiple Inheritence."
   ]
  },
  {
   "cell_type": "markdown",
   "id": "enhanced-spray",
   "metadata": {},
   "source": [
    "### 5. How is the local scope of a class different from that of a function?"
   ]
  },
  {
   "cell_type": "markdown",
   "id": "significant-sandwich",
   "metadata": {},
   "source": [
    "A variable created within the local scope of a function only exists within the function's local scope and can only be used by the function whereas a variable created within a class is accessible by all both within and outside the class."
   ]
  }
 ],
 "metadata": {
  "kernelspec": {
   "display_name": "Python 3",
   "language": "python",
   "name": "python3"
  },
  "language_info": {
   "codemirror_mode": {
    "name": "ipython",
    "version": 3
   },
   "file_extension": ".py",
   "mimetype": "text/x-python",
   "name": "python",
   "nbconvert_exporter": "python",
   "pygments_lexer": "ipython3",
   "version": "3.8.3"
  }
 },
 "nbformat": 4,
 "nbformat_minor": 5
}
