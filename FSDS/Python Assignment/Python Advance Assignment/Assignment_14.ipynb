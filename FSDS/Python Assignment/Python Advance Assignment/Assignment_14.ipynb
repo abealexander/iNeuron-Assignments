{
 "cells": [
  {
   "cell_type": "markdown",
   "id": "previous-avatar",
   "metadata": {},
   "source": [
    "### 1. Is an assignment operator like += only for show? Is it possible that it would lead to faster results at the runtime?"
   ]
  },
  {
   "cell_type": "markdown",
   "id": "6ed23e40",
   "metadata": {},
   "source": [
    "Unsure but one could say as there is less code to run results could be faster at runtime."
   ]
  },
  {
   "cell_type": "markdown",
   "id": "unsigned-thong",
   "metadata": {},
   "source": [
    "### 2. What is the smallest number of statements you'd have to write in most programming languages to replace the Python expression a, b = a + b, a?"
   ]
  },
  {
   "cell_type": "markdown",
   "id": "bd6f57e4",
   "metadata": {},
   "source": [
    "In python we will have to write atleast five statements to replicate the above expression."
   ]
  },
  {
   "cell_type": "code",
   "execution_count": 4,
   "id": "bb8bf00d",
   "metadata": {},
   "outputs": [],
   "source": [
    "a = 1\n",
    "b = 2\n",
    "temp = a\n",
    "a = a + b\n",
    "b = temp"
   ]
  },
  {
   "cell_type": "code",
   "execution_count": 6,
   "id": "f7efdc96",
   "metadata": {},
   "outputs": [
    {
     "data": {
      "text/plain": [
       "3"
      ]
     },
     "execution_count": 6,
     "metadata": {},
     "output_type": "execute_result"
    }
   ],
   "source": [
    "a"
   ]
  },
  {
   "cell_type": "code",
   "execution_count": 5,
   "id": "449b1d87",
   "metadata": {},
   "outputs": [
    {
     "data": {
      "text/plain": [
       "1"
      ]
     },
     "execution_count": 5,
     "metadata": {},
     "output_type": "execute_result"
    }
   ],
   "source": [
    "b"
   ]
  },
  {
   "cell_type": "markdown",
   "id": "comprehensive-underwear",
   "metadata": {},
   "source": [
    "### 3. In Python, what is the most effective way to set a list of 100 integers to 0?"
   ]
  },
  {
   "cell_type": "markdown",
   "id": "8e3b22c7",
   "metadata": {},
   "source": [
    "There are many ways like list comprehension, for loops, indexing and slicing, map and lambda functions to set a list of 100 integers to 0.\n",
    "\n",
    "The below seems like the most effective way."
   ]
  },
  {
   "cell_type": "code",
   "execution_count": 15,
   "id": "incorporate-repository",
   "metadata": {},
   "outputs": [],
   "source": [
    "# List of 100 integers\n",
    "int100 = [i for i in range(100)]"
   ]
  },
  {
   "cell_type": "code",
   "execution_count": 22,
   "id": "44342561",
   "metadata": {},
   "outputs": [],
   "source": [
    "# Setting it to 0\n",
    "int100 = [0 for i in int100]"
   ]
  },
  {
   "cell_type": "markdown",
   "id": "compound-canal",
   "metadata": {},
   "source": [
    "### 4. What is the most effective way to initialise a list of 99 integers that repeats the sequence 1, 2, 3? S If necessary, show step-by-step instructions on how to accomplish this."
   ]
  },
  {
   "cell_type": "code",
   "execution_count": 27,
   "id": "extra-vector",
   "metadata": {},
   "outputs": [],
   "source": [
    "int99 = [1,2,3]*33"
   ]
  },
  {
   "cell_type": "markdown",
   "id": "available-onion",
   "metadata": {},
   "source": [
    "### 5. If you're using IDLE to run a Python application, explain how to print a multidimensional list as efficiently?"
   ]
  },
  {
   "cell_type": "markdown",
   "id": "0c9cc144",
   "metadata": {},
   "source": [
    "You can try the following:"
   ]
  },
  {
   "cell_type": "code",
   "execution_count": 31,
   "id": "29a088a5",
   "metadata": {},
   "outputs": [
    {
     "name": "stdout",
     "output_type": "stream",
     "text": [
      " A  B \n",
      " C  D \n"
     ]
    }
   ],
   "source": [
    "from prettytable import PrettyTable\n",
    "\n",
    "x = [[\"A\", \"B\"], [\"C\", \"D\"]]\n",
    "\n",
    "p = PrettyTable()\n",
    "for row in x:\n",
    "    p.add_row(row)\n",
    "\n",
    "print(p.get_string(header=False, border=False))"
   ]
  },
  {
   "cell_type": "markdown",
   "id": "supreme-print",
   "metadata": {},
   "source": [
    "### 6. Is it possible to use list comprehension with a string? If so, how can you go about doing it?"
   ]
  },
  {
   "cell_type": "code",
   "execution_count": 32,
   "id": "increasing-speed",
   "metadata": {},
   "outputs": [
    {
     "data": {
      "text/plain": [
       "['s', 't', 'r', 'i', 'n', 'g']"
      ]
     },
     "execution_count": 32,
     "metadata": {},
     "output_type": "execute_result"
    }
   ],
   "source": [
    "[i for i in \"string\"]"
   ]
  },
  {
   "cell_type": "markdown",
   "id": "constitutional-female",
   "metadata": {},
   "source": [
    "### 7. From the command line, how do you get support with a user-written Python programme? Is this possible from inside IDLE?"
   ]
  },
  {
   "cell_type": "markdown",
   "id": "f4b34644",
   "metadata": {},
   "source": [
    "If the user-written Python programme has a docstring you can view it by using the built-in help function. It is possible from both via the command line and inside IDLE."
   ]
  },
  {
   "cell_type": "code",
   "execution_count": 37,
   "id": "12783690",
   "metadata": {},
   "outputs": [],
   "source": [
    "def test():\n",
    "    \"Simply pass\"\n",
    "    pass"
   ]
  },
  {
   "cell_type": "code",
   "execution_count": 38,
   "id": "4ea95c73",
   "metadata": {},
   "outputs": [
    {
     "name": "stdout",
     "output_type": "stream",
     "text": [
      "Help on function test in module __main__:\n",
      "\n",
      "test()\n",
      "    Simply pass\n",
      "\n"
     ]
    }
   ],
   "source": [
    "help(test)"
   ]
  },
  {
   "cell_type": "markdown",
   "id": "universal-chain",
   "metadata": {},
   "source": [
    "### 8. Functions are said to be “first-class objects” in Python but not in most other languages, such as C++ or Java. What can you do in Python with a function (callable object) that you can't do in C or C++?"
   ]
  },
  {
   "cell_type": "markdown",
   "id": "1aaac97c",
   "metadata": {},
   "source": [
    "In Python you can use functions as arguments to other functions, store functions as dictionary values, or return a function from another function. Unsure about C or C++ since I haven't worked on it."
   ]
  },
  {
   "cell_type": "markdown",
   "id": "ranging-difficulty",
   "metadata": {},
   "source": [
    "### 9. How do you distinguish between a wrapper, a wrapped feature, and a decorator?"
   ]
  },
  {
   "cell_type": "markdown",
   "id": "e0d813e4",
   "metadata": {},
   "source": [
    "A wrapper is something that wraps a function usually adding some additional behaviour to it.\n",
    "\n",
    "A decorator is something that takes a function as an input, and returns a new function, one that (usually) wraps the original one."
   ]
  },
  {
   "cell_type": "markdown",
   "id": "ultimate-locator",
   "metadata": {},
   "source": [
    "### 10. If a function is a generator function, what does it return?"
   ]
  },
  {
   "cell_type": "markdown",
   "id": "2c11ca71",
   "metadata": {},
   "source": [
    "A generator function returns a generator object."
   ]
  },
  {
   "cell_type": "markdown",
   "id": "resident-corporation",
   "metadata": {},
   "source": [
    "### 11. What is the one improvement that must be made to a function in order for it to become a generator function in the Python language?"
   ]
  },
  {
   "cell_type": "markdown",
   "id": "80fc0c0e",
   "metadata": {},
   "source": [
    "The yield function is used in order for it to become a generator function in the Python language."
   ]
  },
  {
   "cell_type": "markdown",
   "id": "caroline-coating",
   "metadata": {},
   "source": [
    "### 12. Identify at least one benefit of generators."
   ]
  },
  {
   "cell_type": "markdown",
   "id": "be75c4e1",
   "metadata": {},
   "source": [
    "Saving of memory since the generator calls the next value when needed instead of storing the whole range of values in its memory."
   ]
  }
 ],
 "metadata": {
  "kernelspec": {
   "display_name": "Python 3",
   "language": "python",
   "name": "python3"
  },
  "language_info": {
   "codemirror_mode": {
    "name": "ipython",
    "version": 3
   },
   "file_extension": ".py",
   "mimetype": "text/x-python",
   "name": "python",
   "nbconvert_exporter": "python",
   "pygments_lexer": "ipython3",
   "version": "3.8.10"
  }
 },
 "nbformat": 4,
 "nbformat_minor": 5
}
